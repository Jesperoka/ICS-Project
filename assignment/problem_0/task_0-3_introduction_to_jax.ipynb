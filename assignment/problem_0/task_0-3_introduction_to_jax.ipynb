{
 "cells": [
  {
   "cell_type": "markdown",
   "id": "ac408b5e",
   "metadata": {
    "deletable": false,
    "editable": false,
    "nbgrader": {
     "cell_type": "markdown",
     "checksum": "a96d02d6346fa7399cf6da0111ce0937",
     "grade": false,
     "grade_id": "cell-b00828259c8e42e8",
     "locked": true,
     "schema_version": 3,
     "solution": false,
     "task": false
    }
   },
   "source": [
    "# RO47019: Intelligent Control Systems Practical Assignment\n",
    "* Period: 2022-2023, Q3\n",
    "* Course homepage: https://brightspace.tudelft.nl/d2l/home/500969\n",
    "* Instructor: Cosimo Della Santina (C.DellaSantina@tudelft.nl)\n",
    "* Teaching assistant: Ruben Martin Rodriguez (R.MartinRodriguez@student.tudelft.nl)\n",
    "* (c) TU Delft, 2023\n",
    "\n",
    "Make sure you fill in any place that says `YOUR CODE HERE` or `YOUR ANSWER HERE`. Remove `raise NotImplementedError()` afterwards. Moreover, if you see an empty cell, please DO NOT delete it, instead run that cell as you would run all other cells. Please fill in your name(s) and other required details below:"
   ]
  },
  {
   "cell_type": "code",
   "execution_count": 1,
   "id": "4f9e220c",
   "metadata": {},
   "outputs": [],
   "source": [
    "# Please fill in your names, student numbers, netID, and emails below.\n",
    "STUDENT_1_NAME = \"Jesper Ekstrøm\"\n",
    "STUDENT_1_STUDENT_NUMBER = \"5900468\"\n",
    "STUDENT_1_NETID = \"jekstrom\"\n",
    "STUDENT_1_EMAIL = \"J.Ekstrom@student.tudelft.nl\""
   ]
  },
  {
   "cell_type": "code",
   "execution_count": 2,
   "id": "8ba32571",
   "metadata": {
    "deletable": false,
    "editable": false,
    "nbgrader": {
     "cell_type": "code",
     "checksum": "042927213b84aa368aa3ea72caa4cb60",
     "grade": true,
     "grade_id": "cell-9f148ec62e0de49c",
     "locked": true,
     "points": 0,
     "schema_version": 3,
     "solution": false,
     "task": false
    }
   },
   "outputs": [],
   "source": [
    "# Note: this block is a check that you have filled in the above information.\n",
    "# It will throw an AssertionError until all fields are filled\n",
    "assert STUDENT_1_NAME != \"\"\n",
    "assert STUDENT_1_STUDENT_NUMBER != \"\"\n",
    "assert STUDENT_1_NETID != \"\"\n",
    "assert STUDENT_1_EMAIL != \"\""
   ]
  },
  {
   "cell_type": "markdown",
   "id": "af317a94",
   "metadata": {
    "deletable": false,
    "editable": false,
    "nbgrader": {
     "cell_type": "markdown",
     "checksum": "e76ef40fcc3f08a0484661497162a1a9",
     "grade": false,
     "grade_id": "cell-4ea391677951116c",
     "locked": true,
     "schema_version": 3,
     "solution": false,
     "task": false
    }
   },
   "source": [
    "### General announcements\n",
    "\n",
    "* Do *not* share your solutions, and do *not* copy solutions from others. By submitting your solutions, you claim that you alone are responsible for this code.\n",
    "\n",
    "* Do *not* email questions directly, since we want to provide everybody with the same information and avoid repeating the same answers. Instead, please post your questions regarding this assignment in the correct support forum on Brightspace, this way everybody can benefit from the response. If you do have a particular question that you want to ask directly, please use the scheduled Q&A hours to ask the TA.\n",
    "\n",
    "* There is a strict deadline for each assignment. Students are responsible to ensure that they have uploaded their work in time. So, please double check that your upload succeeded to the Brightspace and avoid any late penalties.\n",
    "\n",
    "* This [Jupyter notebook](https://jupyter.org/) uses `nbgrader` to help us with automated tests. `nbgrader` will make various cells in this notebook \"uneditable\" or \"unremovable\" and gives them a special id in the cell metadata. This way, when we run our checks, the system will check the existence of the cell ids and verify the number of points and which checks must be run. While there are ways that you can edit the metadata and work around the restrictions to delete or modify these special cells, you should not do that since then our nbgrader backend will not be able to parse your notebook and give you points for the assignment. You are free to add additional cells, but if you find a cell that you cannot modify or remove, please know that this is on purpose.\n",
    "\n",
    "* This notebook will have in various places a line that throws a `NotImplementedError` exception. These are locations where the assignment requires you to adapt the code! These lines are just there as a reminder for youthat you have not yet adapted that particular piece of code, especially when you execute all the cells. Once your solution code replaced these lines, it should accordingly *not* throw any exceptions anymore.\n",
    "\n",
    "Before you turn this problem in, make sure everything runs as expected. First, **restart the kernel** (in the menubar, select Kernel$\\rightarrow$Restart) and then **run all cells** (in the menubar, select Cell$\\rightarrow$Run All)."
   ]
  },
  {
   "cell_type": "code",
   "execution_count": null,
   "id": "3c956945",
   "metadata": {},
   "outputs": [],
   "source": []
  },
  {
   "cell_type": "markdown",
   "id": "bfe18e81",
   "metadata": {},
   "source": [
    "# Task 0.3 - Introduction to JAX + Flax (0p)\n",
    "  \n",
    "**Author:** Phillip Lippe, University of Amsterdam\n",
    "\n",
    "**The completion of this assignment is completely voluntarily and you will not be graded for any of the contents in this notebook.**\n",
    "\n",
    "This notebook is adapted from the [JAX tutorial](https://uvadlc-notebooks.readthedocs.io/en/latest/tutorial_notebooks/JAX/tutorial2/Introduction_to_JAX.html) for the Deep Learning course at the University of Amsterdam. Copyright belongs to Phillip Lippe / University of Amsterdam."
   ]
  },
  {
   "cell_type": "markdown",
   "id": "db2b100c",
   "metadata": {},
   "source": [
    "Welcome to our JAX tutorial for the Deep Learning course at the University of Amsterdam! The following notebook is meant to give a short introduction to JAX, including writing and training your own neural networks with [Flax](https://flax.readthedocs.io/en/latest/). But why should you learn JAX, if there are already so many other deep learning frameworks like [PyTorch](https://pytorch.org/) and [TensorFlow](https://www.tensorflow.org/)? The short answer: because it can be extremely fast. For instance, a small GoogleNet on CIFAR10, which we discuss in detail in [Tutorial 5](https://uvadlc-notebooks.readthedocs.io/en/latest/tutorial_notebooks/JAX/tutorial5/Inception_ResNet_DenseNet.html), can be trained in JAX 3x faster than in PyTorch with a similar setup. Note that for larger models, larger batch sizes, or smaller GPUs, a considerably smaller speedup is expected, and the code has not been designed for benchmarking. Nonetheless, JAX enables this speedup by compiling functions and numerical programs for accelerators (GPU/TPU) *just in time*, finding the optimal utilization of the hardware. Frameworks with dynamic computation graphs like PyTorch cannot achieve the same efficiency, since they cannot anticipate the next operations before the user calls them. For example, in an Inception block of GoogleNet, we apply multiple convolutional layers in parallel on the same input. JAX can optimize the execution of this layer by compiling the whole forward pass for the available accelerator and fusing operations where possible, reducing memory access and speeding up execution. In contrast, when calling the first convolutional layer in PyTorch, the framework does not know that multiple convolutions on the same feature map will follow. It sends each operation one by one to the GPU, and can only adapt the execution after seeing the next Python calls. Hence, JAX can make more efficient use of the GPU than, for instance, PyTorch. \n",
    "\n",
    "However, everything comes with a price. In order to efficiently compile programs just-in-time in JAX, the functions need to be written with certain constraints. Firstly, the functions are not allowed to have side-effects, meaning that they are not allowed to affect any variable outside of their namespaces. For instance, in-place operations affect a variable even outside of the function. Moreover, stochastic operations such as `torch.rand(...)` change the global state of pseudo random number generators, which is not allowed in functional JAX (we will see later how JAX handles random number generation). Secondly, JAX compiles the functions based on anticipated shapes of all arrays/tensors in the function. This becomes problematic if the shapes or the program flow within the function depends on the values of the tensor. For instance, in the operation `y = x[x>3]`, the shape of `y` depends on how many values of `x` are greater than 3. We will discuss more of these constraints in this notebook. Still, in most common cases of training neural networks, it is straightforward to write functions within these constraints.\n",
    "\n",
    "This tutorial is heavily inspired by many great JAX tutorials before, and a (non-exclusive) list of them are:\n",
    "\n",
    "* [JAX 101](https://jax.readthedocs.io/en/latest/jax-101/index.html) with many subtutorials on individual parts of JAX\n",
    "* [JAX - The Sharp Bits](https://jax.readthedocs.io/en/latest/notebooks/Common_Gotchas_in_JAX.html) discusses the constraints of JAX and how to overcome them\n",
    "* [Jax for the Impatient](https://flax.readthedocs.io/en/latest/notebooks/jax_for_the_impatient.html) for a quick intro to JAX with focus on deep learning\n",
    "* [Flax Basics](https://flax.readthedocs.io/en/latest/notebooks/flax_basics.html) as introduction to the Flax framework\n",
    "\n",
    "Throughout this tutorial, we will draw comparisons to PyTorch and also use its data loading library (see our [PyTorch tutorial](https://uvadlc-notebooks.readthedocs.io/en/latest/tutorial_notebooks/tutorial2/Introduction_to_PyTorch.html) for a refresher). JAX is not meant to 'redefine the wheel', so we can combine it framework-agnostic parts from PyTorch (e.g., data loading) and TensorFlow (e.g., logging in TensorBoard). Further, we use [Flax](https://flax.readthedocs.io/en/latest/) as a neural network library in JAX, and [Optax](https://optax.readthedocs.io/en/latest/index.html) to implement common deep learning optimizers. More on them later in the notebook. First, let's get started with some basic JAX operations."
   ]
  },
  {
   "cell_type": "code",
   "execution_count": 3,
   "id": "27bcf9b4",
   "metadata": {},
   "outputs": [],
   "source": [
    "## Standard libraries\n",
    "import os\n",
    "import math\n",
    "import numpy as np\n",
    "import time\n",
    "\n",
    "## Imports for plotting\n",
    "import matplotlib.pyplot as plt\n",
    "\n",
    "%matplotlib inline\n",
    "import matplotlib_inline.backend_inline\n",
    "\n",
    "matplotlib_inline.backend_inline.set_matplotlib_formats(\"svg\", \"pdf\")  # For export\n",
    "from matplotlib.colors import to_rgba\n",
    "import seaborn as sns\n",
    "\n",
    "sns.set()\n",
    "\n",
    "## Progress bar\n",
    "from tqdm.auto import tqdm"
   ]
  },
  {
   "cell_type": "markdown",
   "id": "596fdb56",
   "metadata": {},
   "source": [
    "## JAX as NumPy on accelerators\n",
    "\n",
    "Every deep learning framework has its own API for dealing with data arrays. For example, PyTorch uses `torch.Tensor` as data arrays on which it defines several operations like matrix multiplication, taking the mean of the elements, etc. In JAX, this basic API strongly resembles the one of [NumPy](https://numpy.org/), and even has the same name in JAX (`jax.numpy`). So, for now, let's think of JAX as NumPy that runs on accelerators. As a first step, let's import JAX and its NumPy API:"
   ]
  },
  {
   "cell_type": "code",
   "execution_count": 4,
   "id": "49e7ef6d",
   "metadata": {},
   "outputs": [
    {
     "name": "stdout",
     "output_type": "stream",
     "text": [
      "Using jax 0.4.5\n"
     ]
    }
   ],
   "source": [
    "import jax\n",
    "import jax.numpy as jnp\n",
    "\n",
    "print(\"Using jax\", jax.__version__)"
   ]
  },
  {
   "cell_type": "markdown",
   "id": "ef489888",
   "metadata": {},
   "source": [
    "At the current time of writing (January 2023), the newest JAX version is `0.4.x` which supports most of the common NumPy functionalities. The NumPy API of JAX is usually imported as `jnp`, to keep a resemblance to NumPy's import as `np`. In the following subsections, we will discuss the main differences between the classical NumPy API and the one of JAX."
   ]
  },
  {
   "cell_type": "markdown",
   "id": "59bc5499",
   "metadata": {},
   "source": [
    "### Device Arrays\n",
    "\n",
    "As a first test, let's create some arbitrary arrays like we would do in NumPy. For instance, let's create an array of zeros with shape `[2,5]`:"
   ]
  },
  {
   "cell_type": "code",
   "execution_count": 5,
   "id": "c564f925",
   "metadata": {},
   "outputs": [
    {
     "name": "stdout",
     "output_type": "stream",
     "text": [
      "[[0. 0. 0. 0. 0.]\n",
      " [0. 0. 0. 0. 0.]]\n"
     ]
    }
   ],
   "source": [
    "a = jnp.zeros((2, 5), dtype=jnp.float32)\n",
    "print(a)"
   ]
  },
  {
   "cell_type": "markdown",
   "id": "516bc6fe",
   "metadata": {},
   "source": [
    "Similarly, we can create an array with values of 0 to 5 by using `arange`:"
   ]
  },
  {
   "cell_type": "code",
   "execution_count": 6,
   "id": "ee5bd836",
   "metadata": {},
   "outputs": [
    {
     "name": "stdout",
     "output_type": "stream",
     "text": [
      "[0 1 2 3 4 5]\n"
     ]
    }
   ],
   "source": [
    "b = jnp.arange(6)\n",
    "print(b)"
   ]
  },
  {
   "cell_type": "markdown",
   "id": "77f8dab4",
   "metadata": {},
   "source": [
    "You might now wonder whether the arrays `a` and `b` are simply NumPy arrays. To check that, let's print out the class of `b`:"
   ]
  },
  {
   "cell_type": "code",
   "execution_count": 7,
   "id": "72ecee4a",
   "metadata": {},
   "outputs": [
    {
     "data": {
      "text/plain": [
       "jaxlib.xla_extension.Array"
      ]
     },
     "execution_count": 7,
     "metadata": {},
     "output_type": "execute_result"
    }
   ],
   "source": [
    "b.__class__"
   ]
  },
  {
   "cell_type": "markdown",
   "id": "759b97ec",
   "metadata": {},
   "source": [
    "Instead of a simple NumPy array, it shows the type `DeviceArray` which is what JAX uses to represent arrays. In contrast to NumPy, JAX can execute the same code on different backends – CPU, GPU and TPU. A `DeviceArray` therefore represents an array which is on one of the backends. Similar to PyTorch, we can check the device of an array by calling `.device()`:"
   ]
  },
  {
   "cell_type": "code",
   "execution_count": 9,
   "id": "1830458e",
   "metadata": {},
   "outputs": [
    {
     "data": {
      "text/plain": [
       "StreamExecutorGpuDevice(id=0, process_index=0, slice_index=0)"
      ]
     },
     "execution_count": 9,
     "metadata": {},
     "output_type": "execute_result"
    }
   ],
   "source": [
    "b.device()"
   ]
  },
  {
   "cell_type": "markdown",
   "id": "426ebefc",
   "metadata": {},
   "source": [
    "As you can see, the array `b` is already natively on a GPU although we did not specify this explicitly as you would do in PyTorch (on Colab, remember to select a GPU in your runtime environment). In order to change the device of an array, we can use `jax.device_get`:"
   ]
  },
  {
   "cell_type": "code",
   "execution_count": 10,
   "id": "b96105d4",
   "metadata": {},
   "outputs": [
    {
     "name": "stdout",
     "output_type": "stream",
     "text": [
      "<class 'numpy.ndarray'>\n"
     ]
    }
   ],
   "source": [
    "b_cpu = jax.device_get(b)\n",
    "print(b_cpu.__class__)"
   ]
  },
  {
   "cell_type": "markdown",
   "id": "1e768a4d",
   "metadata": {},
   "source": [
    "Unsurprisingly, a simple CPU-based array is nothing else than a NumPy array, which allows for a simple conversion between the two frameworks! To explicitly push a NumPy array to the accelerator, you can use `jax.device_put`:"
   ]
  },
  {
   "cell_type": "code",
   "execution_count": 11,
   "id": "dd15f4ba",
   "metadata": {},
   "outputs": [
    {
     "name": "stdout",
     "output_type": "stream",
     "text": [
      "Device put: <class 'jaxlib.xla_extension.Array'> on gpu:0\n"
     ]
    }
   ],
   "source": [
    "b_gpu = jax.device_put(b_cpu)\n",
    "print(f\"Device put: {b_gpu.__class__} on {b_gpu.device()}\")"
   ]
  },
  {
   "cell_type": "markdown",
   "id": "7db34d2f",
   "metadata": {},
   "source": [
    "Nicely enough, JAX will handle any device clash itself when you try to perform operations on a NumPy array and a DeviceArray by modeling the output as DeviceArray again:"
   ]
  },
  {
   "cell_type": "code",
   "execution_count": 12,
   "id": "3828e734",
   "metadata": {},
   "outputs": [
    {
     "data": {
      "text/plain": [
       "Array([ 0,  2,  4,  6,  8, 10], dtype=int32)"
      ]
     },
     "execution_count": 12,
     "metadata": {},
     "output_type": "execute_result"
    }
   ],
   "source": [
    "b_cpu + b_gpu"
   ]
  },
  {
   "cell_type": "markdown",
   "id": "13dcc6f1",
   "metadata": {},
   "source": [
    "Finally, we can also print all our available devices using `jax.devices()`:"
   ]
  },
  {
   "cell_type": "code",
   "execution_count": 13,
   "id": "1e7f736d",
   "metadata": {},
   "outputs": [
    {
     "data": {
      "text/plain": [
       "[StreamExecutorGpuDevice(id=0, process_index=0, slice_index=0)]"
      ]
     },
     "execution_count": 13,
     "metadata": {},
     "output_type": "execute_result"
    }
   ],
   "source": [
    "jax.devices()"
   ]
  },
  {
   "cell_type": "markdown",
   "id": "dc77f50e",
   "metadata": {},
   "source": [
    "A technical detail of running operations on DeviceArrays is that when a JAX function is called, the corresponding operation takes place asynchronously on the accelerator when possible. For instance, if we call `out = jnp.matmul(b, b)`, JAX first returns a placeholder array for `out` which may not be filled with the values as soon as the function calls finishes. This way, Python will not block the execution of follow-up statements, but instead only does it whenever we strictly need the value of `out`, for instance for printing or putting it on CPU. PyTorch uses a very similar principle to allow asynchronous computation. For more details, see [JAX - Asynchronous Dispatch](https://jax.readthedocs.io/en/latest/async_dispatch.html)."
   ]
  },
  {
   "cell_type": "markdown",
   "id": "1f1d99b6",
   "metadata": {},
   "source": [
    "### Immutable tensors\n",
    "\n",
    "When we would like to change a NumPy array in-place, like replacing the first element of `b` with `1` instead of `0`, we could simply write `b[0]=1`. However, in JAX, this is not possible. A `DeviceArray` object is *immutable*, which means that no in-place operations are possible. The reason for this goes back to our discussion in the introduction: JAX requires programs to be \"pure\" functions, i.e. no effects on variables outside of the function are allowed. Allowing in-place operations of variables would make the program analysis for JAX's just-in-time compilation difficult. Instead, we can use the expression `b.at[0].set(1)` which, analogous to the in-place operation, returns a new array which is identical to `b`, except that its value at the first position is 1. Let's try that out below:"
   ]
  },
  {
   "cell_type": "code",
   "execution_count": 14,
   "id": "e857ecdd",
   "metadata": {},
   "outputs": [
    {
     "name": "stdout",
     "output_type": "stream",
     "text": [
      "Original array: [0 1 2 3 4 5]\n",
      "Changed array: [1 1 2 3 4 5]\n"
     ]
    }
   ],
   "source": [
    "b_new = b.at[0].set(1)\n",
    "print(\"Original array:\", b)\n",
    "print(\"Changed array:\", b_new)"
   ]
  },
  {
   "cell_type": "markdown",
   "id": "350bbb40",
   "metadata": {},
   "source": [
    "However, we said that JAX is very efficient. Isn't creating a new array in this case the opposite? While it is indeed less efficient, it can made much more efficient with JAX's just-in-time compilation. The compiler can recognize unnecessary array duplications, and replace them with in-place operations again. More on the just-in-time compilation later! "
   ]
  },
  {
   "cell_type": "markdown",
   "id": "0910f0a3",
   "metadata": {},
   "source": [
    "### Pseudo Random Numbers in JAX\n",
    "\n",
    "In machine learning, we come across several situations where we need to generate pseudo random numbers: randomly shuffling a dataset, sampling a dropout mask for regularization, training a VAE by sampling from the approximate posterior, etc. In libraries like NumPy and PyTorch, the random number generator are controlled by a seed, which we set initially to obtain the same samples every time we run the code (this is why the numbers are not truly random, hence \"pseudo\"-random). However, if we call `np.random.normal()` 5 times consecutively, we will get 5 different numbers since every execution changes the state/seed of the pseudo random number generation (PRNG). In JAX, if we would try to generate a random number with this approach, a function creating pseudo-random number would have an effect outside of it. To prevent this, JAX takes a different approach by explicitly passing and iterating the PRNG state. First, let's create a PRNG for the seed 42:"
   ]
  },
  {
   "cell_type": "code",
   "execution_count": 15,
   "id": "d64c5f0b",
   "metadata": {},
   "outputs": [],
   "source": [
    "rng = jax.random.PRNGKey(42)"
   ]
  },
  {
   "cell_type": "markdown",
   "id": "775949c4",
   "metadata": {},
   "source": [
    "Now, we can use this PRNG state to generate random numbers. Since with this state, the random number generation becomes deterministic, we sample the same number every time. This is not the case in NumPy if we set the seed once before both operations:"
   ]
  },
  {
   "cell_type": "code",
   "execution_count": 16,
   "id": "88ddffce",
   "metadata": {},
   "outputs": [
    {
     "name": "stdout",
     "output_type": "stream",
     "text": [
      "JAX - Random number 1: -0.18471177\n",
      "JAX - Random number 2: -0.18471177\n",
      "NumPy - Random number 1: 0.4967141530112327\n",
      "NumPy - Random number 2: -0.13826430117118466\n"
     ]
    }
   ],
   "source": [
    "# A non-desirable way of generating pseudo-random numbers...\n",
    "jax_random_number_1 = jax.random.normal(rng)\n",
    "jax_random_number_2 = jax.random.normal(rng)\n",
    "print(\"JAX - Random number 1:\", jax_random_number_1)\n",
    "print(\"JAX - Random number 2:\", jax_random_number_2)\n",
    "\n",
    "# Typical random numbers in NumPy\n",
    "np.random.seed(42)\n",
    "np_random_number_1 = np.random.normal()\n",
    "np_random_number_2 = np.random.normal()\n",
    "print(\"NumPy - Random number 1:\", np_random_number_1)\n",
    "print(\"NumPy - Random number 2:\", np_random_number_2)"
   ]
  },
  {
   "cell_type": "markdown",
   "id": "d60e59d3",
   "metadata": {},
   "source": [
    "Usually, we want to have a behavior like NumPy where we get a different random number every time we sample. To achieve this, we can *split* the PRNG state to get usable subkeys every time we need a new pseudo-random number. We can do this with `jax.random.split(...)`:"
   ]
  },
  {
   "cell_type": "code",
   "execution_count": 17,
   "id": "be3d64de",
   "metadata": {},
   "outputs": [
    {
     "name": "stdout",
     "output_type": "stream",
     "text": [
      "JAX new - Random number 1: 0.107961535\n",
      "JAX new - Random number 2: -1.2226542\n"
     ]
    }
   ],
   "source": [
    "rng, subkey1, subkey2 = jax.random.split(rng, num=3)  # We create 3 new keys\n",
    "jax_random_number_1 = jax.random.normal(subkey1)\n",
    "jax_random_number_2 = jax.random.normal(subkey2)\n",
    "print(\"JAX new - Random number 1:\", jax_random_number_1)\n",
    "print(\"JAX new - Random number 2:\", jax_random_number_2)"
   ]
  },
  {
   "cell_type": "markdown",
   "id": "aebc39d0",
   "metadata": {},
   "source": [
    "Every time you run this cell, you will obtain different random numbers for both operations since we create new PRNG states before sampling. In general, you want to split the PRNG key every time before generating a pseudo-number, to prevent accidentally obtaining the exact same numbers (for instance, sampling the exact same dropout mask every time you run the network makes dropout itself quite useless...). For a deeper dive into the ideas behind the random number generation in JAX, see JAX's tutorial on [Pseudo Random Numbers](https://jax.readthedocs.io/en/latest/jax-101/05-random-numbers.html)."
   ]
  },
  {
   "cell_type": "markdown",
   "id": "b4543cda",
   "metadata": {},
   "source": [
    "## Function transformations with Jaxpr\n",
    "\n",
    "Rosalia Schneider and Vladimir Mikulik summarize the key points of JAX in the [JAX 101 tutorial](https://jax.readthedocs.io/en/latest/jax-101/01-jax-basics.html) as follows: \n",
    "\n",
    "> The most important difference, and in some sense the root of all the rest, is that JAX is designed to be functional, as in functional programming. The reason behind this is that the kinds of program transformations that JAX enables are much more feasible in functional-style programs. [...] The important feature of functional programming to grok when working with JAX is very simple: don’t write code with side-effects.\n",
    "\n",
    "Essentially, we want to write our main code of JAX in functions that do not affect anything else besides its outputs. For instance, we do not want to change input arrays in-place, or access global variables. While this might seem limiting at first, you get used to this quite quickly and most JAX functions that need to fulfill these constraints can be written this way without problems. Note that not all possible functions in training a neural network need to fulfill the constraints. For instance, loading or saving of models, the logging, or the data generation can be done in naive functions. Only the network execution, which we want to do very efficiently on our accelerator (GPU or TPU), should strictly follow these constraints.\n",
    "\n",
    "What does make JAX functions so special, and how can we think about them? A good way of gaining understanding in how JAX handles function is to understand its intermediate representation: jaxpr. Conceptually, you can think of any operation that JAX does on a function, as first trace-specializing the Python function to be transformed into a small and well-behaved intermediate form. This means that we check which operations are performed on which array, and what shapes the arrays are. Based on this representation, JAX then interprets the function with transformation-specific interpretation rules, which includes automatic differentiation or compiling a function in XLA to efficiently use the accelerator.\n",
    "\n",
    "To illustrate this intermediate representation, let's consider the same simple function we used in the [PyTorch tutorial](https://uvadlc-notebooks.readthedocs.io/en/latest/tutorial_notebooks/tutorial2/Introduction_to_PyTorch.html) to discuss the concept of dynamic computation graphs:\n",
    "\n",
    "$$ y = \\frac{1}{|x|}\\sum_{i}\\left[\\left(x_i+2\\right)^2+3\\right]$$\n",
    "\n",
    "Using common NumPy operations in JAX, we can write it as follows:"
   ]
  },
  {
   "cell_type": "code",
   "execution_count": 18,
   "id": "71064b84",
   "metadata": {},
   "outputs": [
    {
     "name": "stdout",
     "output_type": "stream",
     "text": [
      "Input [0. 1. 2.]\n",
      "Output 12.666667\n"
     ]
    }
   ],
   "source": [
    "def simple_graph(x):\n",
    "    x = x + 2\n",
    "    x = x**2\n",
    "    x = x + 3\n",
    "    y = x.mean()\n",
    "    return y\n",
    "\n",
    "\n",
    "inp = jnp.arange(3, dtype=jnp.float32)\n",
    "print(\"Input\", inp)\n",
    "print(\"Output\", simple_graph(inp))"
   ]
  },
  {
   "cell_type": "markdown",
   "id": "bad49df6",
   "metadata": {},
   "source": [
    "To view the jaxpr representation of this function, we can use `jax.make_jaxpr`. Since the tracing depends on the shape of the input, we need to pass an input to the function (here of shape `[3]`):"
   ]
  },
  {
   "cell_type": "code",
   "execution_count": 19,
   "id": "a0323430",
   "metadata": {},
   "outputs": [
    {
     "data": {
      "text/plain": [
       "{ lambda ; a:f32[3]. let\n",
       "    b:f32[3] = add a 2.0\n",
       "    c:f32[3] = integer_pow[y=2] b\n",
       "    d:f32[3] = add c 3.0\n",
       "    e:f32[] = reduce_sum[axes=(0,)] d\n",
       "    f:f32[] = div e 3.0\n",
       "  in (f,) }"
      ]
     },
     "execution_count": 19,
     "metadata": {},
     "output_type": "execute_result"
    }
   ],
   "source": [
    "jax.make_jaxpr(simple_graph)(inp)"
   ]
  },
  {
   "cell_type": "markdown",
   "id": "d5409ffb",
   "metadata": {},
   "source": [
    "A jaxpr representation follows the structure:\n",
    "\n",
    "```python\n",
    "jaxpr ::= { lambda Var* ; Var+.\n",
    "            let Eqn*\n",
    "            in  [Expr+] }\n",
    "```\n",
    "where `Var*` are constants and `Var+` are input arguments. In the cell above, this is `a:f32[3]`, i.e. an array of shape 3 with type `jnp.float32` (`inp`). The list of equations, `Eqn*`, define the intermediate results of the function. You can see that each operation in `simple_graph` is translated to a corresponding equation, like `x = x + 2` is translated to `b:f32[3] = add a 2.0`. Furthermore, you see the specialization of the operations on the input shape, like `x.mean()` being replacing in `e` and `f` with summing and dividing by 3. Finally, `Expr+` in the jaxpr representation are the outputs of the functions. In the example, this is `f`, i.e. the final result of the function.\n",
    "Based on these atomic operations, JAX offers all kind of function transformations, of which we will discuss the most important ones later in this section. \n",
    "Hence, you can consider the jaxpr representation is an intermediate compilation stage of JAX. What happens if we actually try to look at the jaxpr representation of a function with side-effect? Let's consider the following function, which, as an illustrative example, appends the input to a global list:"
   ]
  },
  {
   "cell_type": "code",
   "execution_count": 20,
   "id": "a714bb61",
   "metadata": {},
   "outputs": [
    {
     "data": {
      "text/plain": [
       "{ lambda ; a:f32[3]. let\n",
       "    b:f32[3] = integer_pow[y=2] a\n",
       "    c:f32[] = reduce_sum[axes=(0,)] b\n",
       "    d:f32[] = sqrt c\n",
       "  in (d,) }"
      ]
     },
     "execution_count": 20,
     "metadata": {},
     "output_type": "execute_result"
    }
   ],
   "source": [
    "global_list = []\n",
    "\n",
    "\n",
    "# Invalid function with side-effect\n",
    "def norm(x):\n",
    "    global_list.append(x)\n",
    "    x = x**2\n",
    "    n = x.sum()\n",
    "    n = jnp.sqrt(n)\n",
    "    return n\n",
    "\n",
    "\n",
    "jax.make_jaxpr(norm)(inp)"
   ]
  },
  {
   "cell_type": "markdown",
   "id": "3dd631c2",
   "metadata": {},
   "source": [
    "As you can see, the jaxpr representation of the function does not contain any operation for `global_list.append(x)`. This is because jaxpr only understand side-effect-free code, and cannot represent such effects. Thus, we need to stick with pure functions without any side effects, to prevent any unwanted errors in our functions. If you are interested in learning more about the jaxpr representation, check out the JAX [documentation](https://jax.readthedocs.io/en/latest/jaxpr.html) on it. But for this tutorial, we just need the basics as discussed above."
   ]
  },
  {
   "cell_type": "markdown",
   "id": "1ccd928e",
   "metadata": {},
   "source": [
    "### Automatic differentiation\n",
    "\n",
    "The intermediate jaxpr representation defines a computation graph, on which we can perform an essential operation of deep learning framework: automatic differentiation. In frameworks like PyTorch with a dynamic computation graph, we would compute the gradients based on the loss tensor itself, e.g. by calling `loss.backward()`. However, JAX directly works with functions. Instead of backpropagating gradients through tensors, JAX takes as input a function, and outputs another function which directly calculates the gradients for it. While this might seem quite different to what you are used to from other frameworks, it is quite intuitive: your gradient of parameters is really a function of parameters and data.\n",
    "\n",
    "The transformation that allows us to do this is `jax.grad`, which takes as input the function, and returns another function representing the gradient calculation of the (first) input with respect to the output:"
   ]
  },
  {
   "cell_type": "code",
   "execution_count": 21,
   "id": "fd3f3ba9",
   "metadata": {},
   "outputs": [
    {
     "name": "stdout",
     "output_type": "stream",
     "text": [
      "Gradient [1.3333334 2.        2.6666667]\n"
     ]
    }
   ],
   "source": [
    "grad_function = jax.grad(simple_graph)\n",
    "gradients = grad_function(inp)\n",
    "print(\"Gradient\", gradients)"
   ]
  },
  {
   "cell_type": "markdown",
   "id": "7951a63f",
   "metadata": {},
   "source": [
    "The gradient we get here is exactly the one we would obtain when doing the calculation by hand. Moreover, we can also print the jaxpr representation of the gradient function:"
   ]
  },
  {
   "cell_type": "code",
   "execution_count": 22,
   "id": "cc3d85b0",
   "metadata": {},
   "outputs": [
    {
     "data": {
      "text/plain": [
       "{ lambda ; a:f32[3]. let\n",
       "    b:f32[3] = add a 2.0\n",
       "    c:f32[3] = integer_pow[y=2] b\n",
       "    d:f32[3] = integer_pow[y=1] b\n",
       "    e:f32[3] = mul 2.0 d\n",
       "    f:f32[3] = add c 3.0\n",
       "    g:f32[] = reduce_sum[axes=(0,)] f\n",
       "    _:f32[] = div g 3.0\n",
       "    h:f32[] = div 1.0 3.0\n",
       "    i:f32[3] = broadcast_in_dim[broadcast_dimensions=() shape=(3,)] h\n",
       "    j:f32[3] = mul i e\n",
       "  in (j,) }"
      ]
     },
     "execution_count": 22,
     "metadata": {},
     "output_type": "execute_result"
    }
   ],
   "source": [
    "jax.make_jaxpr(grad_function)(inp)"
   ]
  },
  {
   "cell_type": "markdown",
   "id": "fb8ee5ae",
   "metadata": {},
   "source": [
    "This shows an unique property of JAX: we can print out the exact computation graph for determining the gradients. Compared to the original function, you can see new equations like `d:f32[3] = integer_pow[y=1] b` and `e:f32[3] = mul 2.0 d`, which model the intermediate gradient of $\\partial b_i^2/\\partial b_i = 2b_i$. Furthermore, the return value `j` is the multiplication of `e` with $1/3$, which maps to the gradient being:\n",
    "\n",
    "$$ \\frac{\\partial y}{\\partial x_i} = \\frac{2}{3}(x_i + 2)$$\n",
    "\n",
    "Hence, we can not only use JAX to estimate the gradients at a certain input value, but actually return the analytical gradient function which is quite a nice feature and highlights the properties of JAX!"
   ]
  },
  {
   "cell_type": "markdown",
   "id": "07ca4428",
   "metadata": {},
   "source": [
    "Often, we do not only want the gradients, but also the actual output of the function, for instance for logging the loss. This can be efficiently done using `jax.value_and_grad`:"
   ]
  },
  {
   "cell_type": "code",
   "execution_count": 23,
   "id": "bf220dd8",
   "metadata": {},
   "outputs": [
    {
     "data": {
      "text/plain": [
       "(Array(12.666667, dtype=float32),\n",
       " Array([1.3333334, 2.       , 2.6666667], dtype=float32))"
      ]
     },
     "execution_count": 23,
     "metadata": {},
     "output_type": "execute_result"
    }
   ],
   "source": [
    "val_grad_function = jax.value_and_grad(simple_graph)\n",
    "val_grad_function(inp)"
   ]
  },
  {
   "cell_type": "markdown",
   "id": "a6f9fe03",
   "metadata": {},
   "source": [
    "Further, we can specialize the gradient function to consider multiple input arguments, and add extra outputs that we may not want to differentiate (for instance the accuracy in classification). We will visit the most important ones in the network training later in this section, and refer to other great resources for more details ([JAX Quickstart](https://jax.readthedocs.io/en/latest/notebooks/quickstart.html#taking-derivatives-with-grad), [Autodiff cookbook](https://jax.readthedocs.io/en/latest/notebooks/autodiff_cookbook.html), [Advanced autodiff](https://jax.readthedocs.io/en/latest/jax-101/04-advanced-autodiff.html)).\n",
    "\n",
    "To train neural networks, we need to determine the gradient for every parameter in the network with respect to the loss. Listing all parameters as input arguments quickly gets annoying and infeasible. JAX offers an elegant data structure to summarize all parameters: a pytree ([documentation](https://jax.readthedocs.io/en/latest/pytrees.html)). A pytree is a container-like object which structures its elements as a tree. For instance, a linear neural network might have its parameters organized similar to:\n",
    "\n",
    "```python\n",
    "params = {\n",
    "    'linear1': {\n",
    "        'weights': ...,\n",
    "        'bias': ...\n",
    "    },\n",
    "    ...\n",
    "}\n",
    "```\n",
    "JAX offers functions to process pytrees efficiently, such as obtaining all leafs (i.e. all parameters in a network) or applying a function on each element. We will come back to these structures when training a full network."
   ]
  },
  {
   "cell_type": "markdown",
   "id": "ba40a111",
   "metadata": {},
   "source": [
    "### Speeding up computation with Just-In-Time compilation\n",
    "\n",
    "Interestingly, from the previous code cell, you can see in the jaxpr representation of the gradient function that calculating the array `f` and scalar `g` are unnecessary. Intuitively, the gradient of taking the mean is independent of the actual output of the mean, hence we could drop `f` and `g` without any drawback. Finding such cases to improve efficiency and optimizing the code to take full advantage of the available accelerator hardware is one of the big selling points of JAX. It achieves that by *compiling functions just-in-time* with [XLA](https://www.tensorflow.org/xla) (Accelerated Linear Algebra), using their jaxpr representation. Thereby, XLA fuses operations to reduce execution time of short-lived operations and eliminates intermediate storage buffers where not needed. For more details, see the [XLA documentation](https://docs.w3cub.com/tensorflow~guide/performance/xla/index). \n",
    "\n",
    "To compile a function, JAX provides the `jax.jit` transformation. We can either apply the transformation directly on a function (as we will do in the next cell), or use the decorator `@jax.jit` before a function."
   ]
  },
  {
   "cell_type": "code",
   "execution_count": 24,
   "id": "861f1cfb",
   "metadata": {},
   "outputs": [],
   "source": [
    "jitted_function = jax.jit(simple_graph)"
   ]
  },
  {
   "cell_type": "markdown",
   "id": "b482467e",
   "metadata": {},
   "source": [
    "The `jitted_function` takes the same input arguments as the original function `simple_graph`. Since the jaxpr representation of a function depends on the input shape, the compilation is started once we put the first input in. However, note that this also means that for every different shape we want to run the function, a new XLA compilation is needed. This is why it is recommended to use padding in cases where your input shape strongly varies (we revisit this topic in the final section of this tutorial). For now, let's create an array with 1000 random values, on which we apply the jitted function:"
   ]
  },
  {
   "cell_type": "code",
   "execution_count": 25,
   "id": "f568e7ae",
   "metadata": {},
   "outputs": [],
   "source": [
    "# Create a new random subkey for generating new random values\n",
    "rng, normal_rng = jax.random.split(rng)\n",
    "large_input = jax.random.normal(normal_rng, (1000,))\n",
    "# Run the jitted function once to start compilation\n",
    "_ = jitted_function(large_input)"
   ]
  },
  {
   "cell_type": "markdown",
   "id": "fdfcfabe",
   "metadata": {},
   "source": [
    "The output is not any different from what you would get from the non-jitted function. However, how is it about the runtime? Let's time both the original and the jitted function. Due to the asynchronous execution on the GPU, we add `.block_until_ready()` on the output, which blocks the Python execution until the accelerator (here GPU) finished computing the result and hence get an accurate time estimate."
   ]
  },
  {
   "cell_type": "code",
   "execution_count": 26,
   "id": "5115b24d",
   "metadata": {},
   "outputs": [
    {
     "name": "stdout",
     "output_type": "stream",
     "text": [
      "1.34 ms ± 439 µs per loop (mean ± std. dev. of 7 runs, 1 loop each)\n"
     ]
    }
   ],
   "source": [
    "%%timeit\n",
    "simple_graph(large_input).block_until_ready()"
   ]
  },
  {
   "cell_type": "code",
   "execution_count": 27,
   "id": "593fae73",
   "metadata": {},
   "outputs": [
    {
     "name": "stdout",
     "output_type": "stream",
     "text": [
      "212 µs ± 58.4 µs per loop (mean ± std. dev. of 7 runs, 1,000 loops each)\n"
     ]
    }
   ],
   "source": [
    "%%timeit\n",
    "jitted_function(large_input).block_until_ready()"
   ]
  },
  {
   "cell_type": "markdown",
   "id": "dc0d7d8d",
   "metadata": {},
   "source": [
    "We see that the compiled function is almost 10-15x faster! This is quite an improvement in performance, and shows the potential of compiling functions with XLA. Furthermore, we can also apply multiple transformations on the same function in JAX, such as applying `jax.jit` on a gradient function:"
   ]
  },
  {
   "cell_type": "code",
   "execution_count": 28,
   "id": "ac7991b2",
   "metadata": {},
   "outputs": [],
   "source": [
    "jitted_grad_function = jax.jit(grad_function)\n",
    "_ = jitted_grad_function(large_input)  # Apply once to compile"
   ]
  },
  {
   "cell_type": "markdown",
   "id": "aeec0d3d",
   "metadata": {},
   "source": [
    "Let's time the functions once more:"
   ]
  },
  {
   "cell_type": "code",
   "execution_count": 29,
   "id": "84e68aa8",
   "metadata": {},
   "outputs": [
    {
     "name": "stdout",
     "output_type": "stream",
     "text": [
      "5.09 ms ± 491 µs per loop (mean ± std. dev. of 7 runs, 1 loop each)\n"
     ]
    }
   ],
   "source": [
    "%%timeit\n",
    "grad_function(large_input).block_until_ready()"
   ]
  },
  {
   "cell_type": "code",
   "execution_count": 30,
   "id": "14388264",
   "metadata": {},
   "outputs": [
    {
     "name": "stdout",
     "output_type": "stream",
     "text": [
      "282 µs ± 17.9 µs per loop (mean ± std. dev. of 7 runs, 1,000 loops each)\n"
     ]
    }
   ],
   "source": [
    "%%timeit\n",
    "jitted_grad_function(large_input).block_until_ready()"
   ]
  },
  {
   "cell_type": "markdown",
   "id": "04e7e67e",
   "metadata": {},
   "source": [
    "Once more, the jitted function is much faster than the original one. Intuitively, this shows the potential speed up we can gain by using `jax.jit` to compile the whole training step of a network. Generally, we want to jit the largest possible chunk of computation to give the compiler maximum freedom. \n",
    "\n",
    "There are situations in which applying jit to a function is not straight-forward, for instance, if an input argument cannot be traced, or you need to use loops that depend on input arguments. To keep the tutorial simple, and since most neural network training functions do not run into these issues, we do not discuss such special cases here. Instead, we refer to the section on just-in-time compilation in the great tutorials of [JAX 101 Tutorial](https://jax.readthedocs.io/en/latest/jax-101/02-jitting.html), [JAX Quickstart](https://jax.readthedocs.io/en/latest/notebooks/quickstart.html#using-jit-to-speed-up-functions), and [Thinking in JAX](https://jax.readthedocs.io/en/latest/notebooks/thinking_in_jax.html#to-jit-or-not-to-jit)."
   ]
  },
  {
   "cell_type": "markdown",
   "id": "b82f544e",
   "metadata": {},
   "source": [
    "## Implementing a Neural Network with Flax\n",
    "\n",
    "With having reviewed the basics of JAX, we are now ready to implement our own neural network. Technically, we could implement our own neural network from scratch with JAX (see [here](https://jax.readthedocs.io/en/latest/notebooks/Neural_Network_and_Data_Loading.html) for an example), but we do not really want to do that every time. Similarly to PyTorch's `torch.nn` package, there exist neural network libraries based on JAX which provide such basic functionality. A (non-exclusive) collection of them are:\n",
    "\n",
    "* [Flax](https://flax.readthedocs.io/en/latest/index.html), started by the Google Brain Team, focuses on flexibility and clarity.\n",
    "* [Haiku](https://dm-haiku.readthedocs.io/en/latest/), from DeepMind, focuses on simplicity and compositionality.\n",
    "* [Trax](https://github.com/google/trax), maintained by the Google Brain Team, provides solutions for common training tasks\n",
    "* [Equinox](https://github.com/patrick-kidger/equinox), created by Patrick Kidger and Cristian Garcia, implements neural networks as callable PyTrees\n",
    "* [Jraph](https://github.com/deepmind/jraph), from DeepMind, is a graph neural network library (similar to PyTorch Geometric)\n",
    "\n",
    "For this tutorial series, we will use Flax due to its flexibility, intuitive API, and larger community. However, this should not mean that the other libraries are necessarily worse, and we recommend giving them a try as well to find the best library for yourself!\n",
    "\n",
    "We will introduce the libraries and all additional parts you might need to train a neural network in Flax, using a simple example classifier on a simple yet well known example: XOR. Given two binary inputs $x_1$ and $x_2$, the label to predict is $1$ if either $x_1$ or $x_2$ is $1$ while the other is $0$, or the label is $0$ in all other cases. The example became famous by the fact that a single neuron, i.e. a linear classifier, cannot learn this simple function. Hence, we will learn how to build a small neural network that can learn this function. \n",
    "To make it a little bit more interesting, we move the XOR into continuous space and introduce some gaussian noise on the binary inputs. Our desired separation of an XOR dataset could look as follows:\n",
    "\n",
    "<center style=\"width: 100%\"><img src=\"assets/continuous_xor.svg\" width=\"350px\"></center>"
   ]
  },
  {
   "cell_type": "markdown",
   "id": "507f9a04",
   "metadata": {},
   "source": [
    "### The model\n",
    "\n",
    "The package `flax.linen` defines a series of useful classes like linear networks layers, convolutions, activation functions etc. A full list can be found [here](https://flax.readthedocs.io/en/latest/flax.linen.html). In case you need a certain network layer, check the documentation of the package first before writing the layer yourself as the package likely contains the code for it already. We import it below:"
   ]
  },
  {
   "cell_type": "code",
   "execution_count": 31,
   "id": "5ae8e998",
   "metadata": {},
   "outputs": [],
   "source": [
    "try:\n",
    "    import flax\n",
    "except ModuleNotFoundError:  # Install flax if missing\n",
    "    !pip install --quiet flax\n",
    "    import flax\n",
    "\n",
    "from flax import linen as nn"
   ]
  },
  {
   "cell_type": "markdown",
   "id": "b63429e0",
   "metadata": {},
   "source": [
    "#### nn.Module\n",
    "\n",
    "Similar to PyTorch, a neural network is built up out of modules. Modules can contain other modules, and a neural network is considered to be a module itself as well. The basic template of a module is as follows:"
   ]
  },
  {
   "cell_type": "code",
   "execution_count": 32,
   "id": "55fcd52c",
   "metadata": {},
   "outputs": [],
   "source": [
    "class MyModule(nn.Module):\n",
    "    # Some dataclass attributes, like hidden dimension, number of layers, etc. of the form:\n",
    "    # varname : vartype\n",
    "\n",
    "    def setup(self):\n",
    "        # Flax uses \"lazy\" initialization. This function is called once before you\n",
    "        # call the model, or try to access attributes. In here, define your submodules etc.\n",
    "        pass\n",
    "\n",
    "    def __call__(self, x):\n",
    "        # Function for performing the calculation of the module.\n",
    "        pass"
   ]
  },
  {
   "cell_type": "markdown",
   "id": "315c8cf3",
   "metadata": {},
   "source": [
    "The main, obvious difference to PyTorch is that Flax uses lazy initialization. The function `setup` is called once on a module instance before any other methods are called, or when you try to access a attribute of *self* defined in setup. Additional object attributes are defined below the class name. However, in contrast to PyTorch, the parameters are not part of the module. Instead, we can create a set of parameters of the module by calling its `init()` function. This function takes as input a PRNG state for sampling pseudo-random numbers and an example input to the model, and returns a set of parameters for the module as a pytree. Further, since the init function requires an input to the network, we can infer the input shape for all modules and do not need to explicitly define it during the module creation. This becomes more clear in the example we show in a second.\n",
    "\n",
    "The `__call__` method represents the `forward` function in PyTorch, and performs the actual computation of the module. It can take additional arguments if needed, like whether we are training or validation."
   ]
  },
  {
   "cell_type": "markdown",
   "id": "140a1566",
   "metadata": {},
   "source": [
    "#### Simple classifier\n",
    "\n",
    "To get an intuition behind how we work with modules in Flax, let's define our own small neural network. We will use a minimal network with a input layer, one hidden layer with tanh as activation function, and a output layer. In other words, our networks should look something like this:\n",
    "\n",
    "<center width=\"100%\"><img src=\"assets/small_neural_network.svg\" width=\"300px\"></center>\n",
    "\n",
    "The input neurons are shown in blue, which represent the coordinates $x_1$ and $x_2$ of a data point. The hidden neurons including a tanh activation are shown in white, and the output neuron in red.\n",
    "In Flax, we can define this as follows:"
   ]
  },
  {
   "cell_type": "code",
   "execution_count": 33,
   "id": "f0709370",
   "metadata": {},
   "outputs": [],
   "source": [
    "class SimpleClassifier(nn.Module):\n",
    "    num_hidden: int  # Number of hidden neurons\n",
    "    num_outputs: int  # Number of output neurons\n",
    "\n",
    "    def setup(self):\n",
    "        # Create the modules we need to build the network\n",
    "        # nn.Dense is a linear layer\n",
    "        self.linear1 = nn.Dense(features=self.num_hidden)\n",
    "        self.linear2 = nn.Dense(features=self.num_outputs)\n",
    "\n",
    "    def __call__(self, x):\n",
    "        # Perform the calculation of the model to determine the prediction\n",
    "        x = self.linear1(x)\n",
    "        x = nn.tanh(x)\n",
    "        x = self.linear2(x)\n",
    "        return x"
   ]
  },
  {
   "cell_type": "markdown",
   "id": "c9c5062b",
   "metadata": {},
   "source": [
    "One thing you may notice is that usually, all layers that we define in `setup` are also used in the `__call__` function. To reduce the code overhead, Flax provides an alternative, more compact network creation with `nn.compact`. With that, we can remove the setup function and instead our model as:"
   ]
  },
  {
   "cell_type": "code",
   "execution_count": 34,
   "id": "c68c1706",
   "metadata": {},
   "outputs": [],
   "source": [
    "class SimpleClassifierCompact(nn.Module):\n",
    "    num_hidden: int  # Number of hidden neurons\n",
    "    num_outputs: int  # Number of output neurons\n",
    "\n",
    "    @nn.compact  # Tells Flax to look for defined submodules\n",
    "    def __call__(self, x):\n",
    "        # Perform the calculation of the model to determine the prediction\n",
    "        # while defining necessary layers\n",
    "        x = nn.Dense(features=self.num_hidden)(x)\n",
    "        x = nn.tanh(x)\n",
    "        x = nn.Dense(features=self.num_outputs)(x)\n",
    "        return x"
   ]
  },
  {
   "cell_type": "markdown",
   "id": "8835db24",
   "metadata": {},
   "source": [
    "The `nn.compact` annotation of the `__call__` method signals Flax to look for submodules that we define in the forward pass. These are automatically recognized as such, so that we can use them for initialization etc. Which of the two model definition you use is often up to you (see the [Flax documentation](https://flax.readthedocs.io/en/latest/design_notes/setup_or_nncompact.html) for some pros and cons for both methods). In the following tutorials, we will mostly use the compact version, but occasionally come back to the explicit setup function where necessary. For instance, if we define more functions on a module besides `__call__` and want to reuse some modules, it is recommended to use the setup version."
   ]
  },
  {
   "cell_type": "markdown",
   "id": "c8096c54",
   "metadata": {},
   "source": [
    "For the examples in this notebook, we will use a tiny neural network with two input neurons and eight hidden neurons. As we perform binary classification, we will use a single output neuron. Note that we do not apply a sigmoid on the output yet. This is because other functions, especially the loss, are more efficient and precise to calculate on the original outputs instead of the sigmoid output. We will discuss the detailed reason later.\n",
    "\n",
    "Now, let's create an instance of this network:"
   ]
  },
  {
   "cell_type": "code",
   "execution_count": 35,
   "id": "f3773927",
   "metadata": {},
   "outputs": [
    {
     "name": "stdout",
     "output_type": "stream",
     "text": [
      "SimpleClassifier(\n",
      "    # attributes\n",
      "    num_hidden = 8\n",
      "    num_outputs = 1\n",
      ")\n"
     ]
    }
   ],
   "source": [
    "model = SimpleClassifier(num_hidden=8, num_outputs=1)\n",
    "# Printing the model shows its attributes\n",
    "print(model)"
   ]
  },
  {
   "cell_type": "markdown",
   "id": "3e828055",
   "metadata": {},
   "source": [
    "At this stage, the model has no parameters initialized. To do this, let's create a random input of our dataset, and apply the init function:"
   ]
  },
  {
   "cell_type": "code",
   "execution_count": 36,
   "id": "5cde7905",
   "metadata": {},
   "outputs": [
    {
     "name": "stdout",
     "output_type": "stream",
     "text": [
      "FrozenDict({\n",
      "    params: {\n",
      "        linear1: {\n",
      "            kernel: Array([[ 0.31476864, -0.4647768 , -0.7862042 , -0.48842615, -0.65373844,\n",
      "                     0.3892545 ,  0.3038056 ,  0.04179859],\n",
      "                   [-0.3298236 ,  1.1110363 ,  0.54909396, -0.8168818 ,  0.40057245,\n",
      "                    -0.8665987 ,  1.2087964 ,  1.0364622 ]], dtype=float32),\n",
      "            bias: Array([0., 0., 0., 0., 0., 0., 0., 0.], dtype=float32),\n",
      "        },\n",
      "        linear2: {\n",
      "            kernel: Array([[-0.27971813],\n",
      "                   [-0.7466775 ],\n",
      "                   [ 0.29791608],\n",
      "                   [-0.26267236],\n",
      "                   [-0.5084385 ],\n",
      "                   [ 0.04573093],\n",
      "                   [-0.47257012],\n",
      "                   [ 0.50458497]], dtype=float32),\n",
      "            bias: Array([0.], dtype=float32),\n",
      "        },\n",
      "    },\n",
      "})\n"
     ]
    }
   ],
   "source": [
    "rng, inp_rng, init_rng = jax.random.split(rng, 3)\n",
    "inp = jax.random.normal(inp_rng, (8, 2))  # Batch size 8, input size 2\n",
    "# Initialize the model\n",
    "params = model.init(init_rng, inp)\n",
    "print(params)"
   ]
  },
  {
   "cell_type": "markdown",
   "id": "8c8fbfc7",
   "metadata": {},
   "source": [
    "Now, we have parameters with which we can apply the network. We see that the parameters follow the same structure as defined in our module, and each linear layer contains one `kernel`, i.e. the weights, and a bias parameter. With this, we could apply the model on an input using the `apply` function:"
   ]
  },
  {
   "cell_type": "code",
   "execution_count": 37,
   "id": "bd41972d",
   "metadata": {},
   "outputs": [
    {
     "data": {
      "text/plain": [
       "Array([[-0.48368204],\n",
       "       [ 0.04365468],\n",
       "       [ 0.0666853 ],\n",
       "       [-0.34203652],\n",
       "       [ 0.48351473],\n",
       "       [ 0.3742488 ],\n",
       "       [ 0.14232656],\n",
       "       [-0.5916511 ]], dtype=float32)"
      ]
     },
     "execution_count": 37,
     "metadata": {},
     "output_type": "execute_result"
    }
   ],
   "source": [
    "model.apply(params, inp)"
   ]
  },
  {
   "cell_type": "markdown",
   "id": "e15dfa58",
   "metadata": {},
   "source": [
    "The model returns an output array of shape `[8,1]`, which corresponds to the one output neuron in the model for all 8 batch elements. With that, we now know how to initialize a model, and run a model. Next, let's look at the data."
   ]
  },
  {
   "cell_type": "markdown",
   "id": "aa45f48d",
   "metadata": {},
   "source": [
    "### The data\n",
    "\n",
    "As mentioned before, JAX is not meant to 'reinvent the wheel' for every part of the deep learning pipeline. Hence, JAX and Flax do not natively provide a data loading functionality, but instead refer to other available libraries like Tensorflow and PyTorch. Here, let's use again the package `torch.utils.data` library."
   ]
  },
  {
   "cell_type": "code",
   "execution_count": 38,
   "id": "50d8c7c8",
   "metadata": {},
   "outputs": [],
   "source": [
    "import torch.utils.data as data"
   ]
  },
  {
   "cell_type": "markdown",
   "id": "59d418ec",
   "metadata": {},
   "source": [
    "The data package defines two classes which are the standard interface for handling data in PyTorch: `data.Dataset`, and `data.DataLoader`. The dataset class provides an uniform interface to access the training/test data, while the data loader makes sure to efficiently load and stack the data points from the dataset into batches during training."
   ]
  },
  {
   "cell_type": "markdown",
   "id": "c28a204c",
   "metadata": {},
   "source": [
    "#### The dataset class\n",
    "\n",
    "The dataset class summarizes the basic functionality of a dataset in a natural way. To define a dataset in PyTorch, we simply specify two functions: `__getitem__`, and `__len__`. The get-item function has to return the $i$-th data point in the dataset, while the len function returns the size of the dataset. For the XOR dataset, we can define the dataset class as follows:"
   ]
  },
  {
   "cell_type": "code",
   "execution_count": 39,
   "id": "22c49212",
   "metadata": {},
   "outputs": [],
   "source": [
    "class XORDataset(data.Dataset):\n",
    "    def __init__(self, size, seed, std=0.1):\n",
    "        \"\"\"\n",
    "        Inputs:\n",
    "            size - Number of data points we want to generate\n",
    "            seed - The seed to use to create the PRNG state with which we want to generate the data points\n",
    "            std - Standard deviation of the noise (see generate_continuous_xor function)\n",
    "        \"\"\"\n",
    "        super().__init__()\n",
    "        self.size = size\n",
    "        self.np_rng = np.random.RandomState(seed=seed)\n",
    "        self.std = std\n",
    "        self.generate_continuous_xor()\n",
    "\n",
    "    def generate_continuous_xor(self):\n",
    "        # Each data point in the XOR dataset has two variables, x and y, that can be either 0 or 1\n",
    "        # The label is their XOR combination, i.e. 1 if only x or only y is 1 while the other is 0.\n",
    "        # If x=y, the label is 0.\n",
    "        data = self.np_rng.randint(low=0, high=2, size=(self.size, 2)).astype(\n",
    "            np.float32\n",
    "        )\n",
    "        label = (data.sum(axis=1) == 1).astype(np.int32)\n",
    "        # To make it slightly more challenging, we add a bit of gaussian noise to the data points.\n",
    "        data += self.np_rng.normal(loc=0.0, scale=self.std, size=data.shape)\n",
    "\n",
    "        self.data = data\n",
    "        self.label = label\n",
    "\n",
    "    def __len__(self):\n",
    "        # Number of data point we have. Alternatively self.data.shape[0], or self.label.shape[0]\n",
    "        return self.size\n",
    "\n",
    "    def __getitem__(self, idx):\n",
    "        # Return the idx-th data point of the dataset\n",
    "        # If we have multiple things to return (data point and label), we can return them as tuple\n",
    "        data_point = self.data[idx]\n",
    "        data_label = self.label[idx]\n",
    "        return data_point, data_label"
   ]
  },
  {
   "cell_type": "markdown",
   "id": "34a8769a",
   "metadata": {},
   "source": [
    "Note that in contrast to our [PyTorch tutorial](https://uvadlc-notebooks.readthedocs.io/en/latest/tutorial_notebooks/tutorial2/Introduction_to_PyTorch.html#The-data), we use NumPy to generate the random data. Similar to JAX, NumPy also allows the pseudo-number generation based on a PRNG state. Hence, for better reproducibility, we are doing the same here. Let's try to create such a dataset and inspect it:"
   ]
  },
  {
   "cell_type": "code",
   "execution_count": 40,
   "id": "de1d5448",
   "metadata": {},
   "outputs": [
    {
     "name": "stdout",
     "output_type": "stream",
     "text": [
      "Size of dataset: 200\n",
      "Data point 0: (array([-0.06800247,  1.0232254 ], dtype=float32), 1)\n"
     ]
    }
   ],
   "source": [
    "dataset = XORDataset(size=200, seed=42)\n",
    "print(\"Size of dataset:\", len(dataset))\n",
    "print(\"Data point 0:\", dataset[0])"
   ]
  },
  {
   "cell_type": "markdown",
   "id": "c49d37c0",
   "metadata": {},
   "source": [
    "To better relate to the dataset, we visualize the samples below. "
   ]
  },
  {
   "cell_type": "code",
   "execution_count": 41,
   "id": "4a133ca4",
   "metadata": {},
   "outputs": [],
   "source": [
    "def visualize_samples(data, label):\n",
    "    data_0 = data[label == 0]\n",
    "    data_1 = data[label == 1]\n",
    "\n",
    "    plt.figure(figsize=(4, 4))\n",
    "    plt.scatter(data_0[:, 0], data_0[:, 1], edgecolor=\"#333\", label=\"Class 0\")\n",
    "    plt.scatter(data_1[:, 0], data_1[:, 1], edgecolor=\"#333\", label=\"Class 1\")\n",
    "    plt.title(\"Dataset samples\")\n",
    "    plt.ylabel(r\"$x_2$\")\n",
    "    plt.xlabel(r\"$x_1$\")\n",
    "    plt.legend()"
   ]
  },
  {
   "cell_type": "code",
   "execution_count": 42,
   "id": "b6783615",
   "metadata": {},
   "outputs": [
    {
     "data": {
      "application/pdf": "[encoded data removed]",
      "image/svg+xml": [
       "<?xml version=\"1.0\" encoding=\"utf-8\" standalone=\"no\"?>\n",
       "<!DOCTYPE svg PUBLIC \"-//W3C//DTD SVG 1.1//EN\"\n",
       "  \"http://www.w3.org/Graphics/SVG/1.1/DTD/svg11.dtd\">\n",
       "<svg xmlns:xlink=\"http://www.w3.org/1999/xlink\" width=\"289.424844pt\" height=\"287.037813pt\" viewBox=\"0 0 289.424844 287.037813\" xmlns=\"http://www.w3.org/2000/svg\" version=\"1.1\">\n",
       " <metadata>\n",
       "  <rdf:RDF xmlns:dc=\"http://purl.org/dc/elements/1.1/\" xmlns:cc=\"http://creativecommons.org/ns#\" xmlns:rdf=\"http://www.w3.org/1999/02/22-rdf-syntax-ns#\">\n",
       "   <cc:Work>\n",
       "    <dc:type rdf:resource=\"http://purl.org/dc/dcmitype/StillImage\"/>\n",
       "    <dc:date>2023-03-06T00:00:24.079001</dc:date>\n",
       "    <dc:format>image/svg+xml</dc:format>\n",
       "    <dc:creator>\n",
       "     <cc:Agent>\n",
       "      <dc:title>Matplotlib v3.7.1, https://matplotlib.org/</dc:title>\n",
       "     </cc:Agent>\n",
       "    </dc:creator>\n",
       "   </cc:Work>\n",
       "  </rdf:RDF>\n",
       " </metadata>\n",
       " <defs>\n",
       "  <style type=\"text/css\">*{stroke-linejoin: round; stroke-linecap: butt}</style>\n",
       " </defs>\n",
       " <g id=\"figure_1\">\n",
       "  <g id=\"patch_1\">\n",
       "   <path d=\"M 0 287.037813 \n",
       "L 289.424844 287.037813 \n",
       "L 289.424844 0 \n",
       "L 0 0 \n",
       "z\n",
       "\" style=\"fill: #ffffff\"/>\n",
       "  </g>\n",
       "  <g id=\"axes_1\">\n",
       "   <g id=\"patch_2\">\n",
       "    <path d=\"M 59.024844 244.078125 \n",
       "L 282.224844 244.078125 \n",
       "L 282.224844 22.318125 \n",
       "L 59.024844 22.318125 \n",
       "z\n",
       "\" style=\"fill: #eaeaf2\"/>\n",
       "   </g>\n",
       "   <g id=\"matplotlib.axis_1\">\n",
       "    <g id=\"xtick_1\">\n",
       "     <g id=\"line2d_1\">\n",
       "      <path d=\"M 98.338694 244.078125 \n",
       "L 98.338694 22.318125 \n",
       "\" clip-path=\"url(#p4fdac1081a)\" style=\"fill: none; stroke: #ffffff; stroke-linecap: round\"/>\n",
       "     </g>\n",
       "     <g id=\"text_1\">\n",
       "      <!-- 0.0 -->\n",
       "      <g style=\"fill: #262626\" transform=\"translate(89.591975 261.936406) scale(0.11 -0.11)\">\n",
       "       <defs>\n",
       "        <path id=\"DejaVuSans-30\" d=\"M 2034 4250 \n",
       "Q 1547 4250 1301 3770 \n",
       "Q 1056 3291 1056 2328 \n",
       "Q 1056 1369 1301 889 \n",
       "Q 1547 409 2034 409 \n",
       "Q 2525 409 2770 889 \n",
       "Q 3016 1369 3016 2328 \n",
       "Q 3016 3291 2770 3770 \n",
       "Q 2525 4250 2034 4250 \n",
       "z\n",
       "M 2034 4750 \n",
       "Q 2819 4750 3233 4129 \n",
       "Q 3647 3509 3647 2328 \n",
       "Q 3647 1150 3233 529 \n",
       "Q 2819 -91 2034 -91 \n",
       "Q 1250 -91 836 529 \n",
       "Q 422 1150 422 2328 \n",
       "Q 422 3509 836 4129 \n",
       "Q 1250 4750 2034 4750 \n",
       "z\n",
       "\" transform=\"scale(0.015625)\"/>\n",
       "        <path id=\"DejaVuSans-2e\" d=\"M 684 794 \n",
       "L 1344 794 \n",
       "L 1344 0 \n",
       "L 684 0 \n",
       "L 684 794 \n",
       "z\n",
       "\" transform=\"scale(0.015625)\"/>\n",
       "       </defs>\n",
       "       <use xlink:href=\"#DejaVuSans-30\"/>\n",
       "       <use xlink:href=\"#DejaVuSans-2e\" x=\"63.623047\"/>\n",
       "       <use xlink:href=\"#DejaVuSans-30\" x=\"95.410156\"/>\n",
       "      </g>\n",
       "     </g>\n",
       "    </g>\n",
       "    <g id=\"xtick_2\">\n",
       "     <g id=\"line2d_2\">\n",
       "      <path d=\"M 168.880926 244.078125 \n",
       "L 168.880926 22.318125 \n",
       "\" clip-path=\"url(#p4fdac1081a)\" style=\"fill: none; stroke: #ffffff; stroke-linecap: round\"/>\n",
       "     </g>\n",
       "     <g id=\"text_2\">\n",
       "      <!-- 0.5 -->\n",
       "      <g style=\"fill: #262626\" transform=\"translate(160.134208 261.936406) scale(0.11 -0.11)\">\n",
       "       <defs>\n",
       "        <path id=\"DejaVuSans-35\" d=\"M 691 4666 \n",
       "L 3169 4666 \n",
       "L 3169 4134 \n",
       "L 1269 4134 \n",
       "L 1269 2991 \n",
       "Q 1406 3038 1543 3061 \n",
       "Q 1681 3084 1819 3084 \n",
       "Q 2600 3084 3056 2656 \n",
       "Q 3513 2228 3513 1497 \n",
       "Q 3513 744 3044 326 \n",
       "Q 2575 -91 1722 -91 \n",
       "Q 1428 -91 1123 -41 \n",
       "Q 819 9 494 109 \n",
       "L 494 744 \n",
       "Q 775 591 1075 516 \n",
       "Q 1375 441 1709 441 \n",
       "Q 2250 441 2565 725 \n",
       "Q 2881 1009 2881 1497 \n",
       "Q 2881 1984 2565 2268 \n",
       "Q 2250 2553 1709 2553 \n",
       "Q 1456 2553 1204 2497 \n",
       "Q 953 2441 691 2322 \n",
       "L 691 4666 \n",
       "z\n",
       "\" transform=\"scale(0.015625)\"/>\n",
       "       </defs>\n",
       "       <use xlink:href=\"#DejaVuSans-30\"/>\n",
       "       <use xlink:href=\"#DejaVuSans-2e\" x=\"63.623047\"/>\n",
       "       <use xlink:href=\"#DejaVuSans-35\" x=\"95.410156\"/>\n",
       "      </g>\n",
       "     </g>\n",
       "    </g>\n",
       "    <g id=\"xtick_3\">\n",
       "     <g id=\"line2d_3\">\n",
       "      <path d=\"M 239.423158 244.078125 \n",
       "L 239.423158 22.318125 \n",
       "\" clip-path=\"url(#p4fdac1081a)\" style=\"fill: none; stroke: #ffffff; stroke-linecap: round\"/>\n",
       "     </g>\n",
       "     <g id=\"text_3\">\n",
       "      <!-- 1.0 -->\n",
       "      <g style=\"fill: #262626\" transform=\"translate(230.67644 261.936406) scale(0.11 -0.11)\">\n",
       "       <defs>\n",
       "        <path id=\"DejaVuSans-31\" d=\"M 794 531 \n",
       "L 1825 531 \n",
       "L 1825 4091 \n",
       "L 703 3866 \n",
       "L 703 4441 \n",
       "L 1819 4666 \n",
       "L 2450 4666 \n",
       "L 2450 531 \n",
       "L 3481 531 \n",
       "L 3481 0 \n",
       "L 794 0 \n",
       "L 794 531 \n",
       "z\n",
       "\" transform=\"scale(0.015625)\"/>\n",
       "       </defs>\n",
       "       <use xlink:href=\"#DejaVuSans-31\"/>\n",
       "       <use xlink:href=\"#DejaVuSans-2e\" x=\"63.623047\"/>\n",
       "       <use xlink:href=\"#DejaVuSans-30\" x=\"95.410156\"/>\n",
       "      </g>\n",
       "     </g>\n",
       "    </g>\n",
       "    <g id=\"text_4\">\n",
       "     <!-- $x_1$ -->\n",
       "     <g style=\"fill: #262626\" transform=\"translate(164.204844 277.342188) scale(0.12 -0.12)\">\n",
       "      <defs>\n",
       "       <path id=\"DejaVuSans-Oblique-78\" d=\"M 3841 3500 \n",
       "L 2234 1784 \n",
       "L 3219 0 \n",
       "L 2559 0 \n",
       "L 1819 1388 \n",
       "L 531 0 \n",
       "L -166 0 \n",
       "L 1556 1844 \n",
       "L 641 3500 \n",
       "L 1300 3500 \n",
       "L 1972 2234 \n",
       "L 3144 3500 \n",
       "L 3841 3500 \n",
       "z\n",
       "\" transform=\"scale(0.015625)\"/>\n",
       "      </defs>\n",
       "      <use xlink:href=\"#DejaVuSans-Oblique-78\" transform=\"translate(0 0.3125)\"/>\n",
       "      <use xlink:href=\"#DejaVuSans-31\" transform=\"translate(59.179688 -16.09375) scale(0.7)\"/>\n",
       "     </g>\n",
       "    </g>\n",
       "   </g>\n",
       "   <g id=\"matplotlib.axis_2\">\n",
       "    <g id=\"ytick_1\">\n",
       "     <g id=\"line2d_4\">\n",
       "      <path d=\"M 59.024844 234.65645 \n",
       "L 282.224844 234.65645 \n",
       "\" clip-path=\"url(#p4fdac1081a)\" style=\"fill: none; stroke: #ffffff; stroke-linecap: round\"/>\n",
       "     </g>\n",
       "     <g id=\"text_5\">\n",
       "      <!-- −0.2 -->\n",
       "      <g style=\"fill: #262626\" transform=\"translate(22.81375 238.835591) scale(0.11 -0.11)\">\n",
       "       <defs>\n",
       "        <path id=\"DejaVuSans-2212\" d=\"M 678 2272 \n",
       "L 4684 2272 \n",
       "L 4684 1741 \n",
       "L 678 1741 \n",
       "L 678 2272 \n",
       "z\n",
       "\" transform=\"scale(0.015625)\"/>\n",
       "        <path id=\"DejaVuSans-32\" d=\"M 1228 531 \n",
       "L 3431 531 \n",
       "L 3431 0 \n",
       "L 469 0 \n",
       "L 469 531 \n",
       "Q 828 903 1448 1529 \n",
       "Q 2069 2156 2228 2338 \n",
       "Q 2531 2678 2651 2914 \n",
       "Q 2772 3150 2772 3378 \n",
       "Q 2772 3750 2511 3984 \n",
       "Q 2250 4219 1831 4219 \n",
       "Q 1534 4219 1204 4116 \n",
       "Q 875 4013 500 3803 \n",
       "L 500 4441 \n",
       "Q 881 4594 1212 4672 \n",
       "Q 1544 4750 1819 4750 \n",
       "Q 2544 4750 2975 4387 \n",
       "Q 3406 4025 3406 3419 \n",
       "Q 3406 3131 3298 2873 \n",
       "Q 3191 2616 2906 2266 \n",
       "Q 2828 2175 2409 1742 \n",
       "Q 1991 1309 1228 531 \n",
       "z\n",
       "\" transform=\"scale(0.015625)\"/>\n",
       "       </defs>\n",
       "       <use xlink:href=\"#DejaVuSans-2212\"/>\n",
       "       <use xlink:href=\"#DejaVuSans-30\" x=\"83.789062\"/>\n",
       "       <use xlink:href=\"#DejaVuSans-2e\" x=\"147.412109\"/>\n",
       "       <use xlink:href=\"#DejaVuSans-32\" x=\"179.199219\"/>\n",
       "      </g>\n",
       "     </g>\n",
       "    </g>\n",
       "    <g id=\"ytick_2\">\n",
       "     <g id=\"line2d_5\">\n",
       "      <path d=\"M 59.024844 207.176015 \n",
       "L 282.224844 207.176015 \n",
       "\" clip-path=\"url(#p4fdac1081a)\" style=\"fill: none; stroke: #ffffff; stroke-linecap: round\"/>\n",
       "     </g>\n",
       "     <g id=\"text_6\">\n",
       "      <!-- 0.0 -->\n",
       "      <g style=\"fill: #262626\" transform=\"translate(32.031406 211.355155) scale(0.11 -0.11)\">\n",
       "       <use xlink:href=\"#DejaVuSans-30\"/>\n",
       "       <use xlink:href=\"#DejaVuSans-2e\" x=\"63.623047\"/>\n",
       "       <use xlink:href=\"#DejaVuSans-30\" x=\"95.410156\"/>\n",
       "      </g>\n",
       "     </g>\n",
       "    </g>\n",
       "    <g id=\"ytick_3\">\n",
       "     <g id=\"line2d_6\">\n",
       "      <path d=\"M 59.024844 179.695579 \n",
       "L 282.224844 179.695579 \n",
       "\" clip-path=\"url(#p4fdac1081a)\" style=\"fill: none; stroke: #ffffff; stroke-linecap: round\"/>\n",
       "     </g>\n",
       "     <g id=\"text_7\">\n",
       "      <!-- 0.2 -->\n",
       "      <g style=\"fill: #262626\" transform=\"translate(32.031406 183.87472) scale(0.11 -0.11)\">\n",
       "       <use xlink:href=\"#DejaVuSans-30\"/>\n",
       "       <use xlink:href=\"#DejaVuSans-2e\" x=\"63.623047\"/>\n",
       "       <use xlink:href=\"#DejaVuSans-32\" x=\"95.410156\"/>\n",
       "      </g>\n",
       "     </g>\n",
       "    </g>\n",
       "    <g id=\"ytick_4\">\n",
       "     <g id=\"line2d_7\">\n",
       "      <path d=\"M 59.024844 152.215144 \n",
       "L 282.224844 152.215144 \n",
       "\" clip-path=\"url(#p4fdac1081a)\" style=\"fill: none; stroke: #ffffff; stroke-linecap: round\"/>\n",
       "     </g>\n",
       "     <g id=\"text_8\">\n",
       "      <!-- 0.4 -->\n",
       "      <g style=\"fill: #262626\" transform=\"translate(32.031406 156.394284) scale(0.11 -0.11)\">\n",
       "       <defs>\n",
       "        <path id=\"DejaVuSans-34\" d=\"M 2419 4116 \n",
       "L 825 1625 \n",
       "L 2419 1625 \n",
       "L 2419 4116 \n",
       "z\n",
       "M 2253 4666 \n",
       "L 3047 4666 \n",
       "L 3047 1625 \n",
       "L 3713 1625 \n",
       "L 3713 1100 \n",
       "L 3047 1100 \n",
       "L 3047 0 \n",
       "L 2419 0 \n",
       "L 2419 1100 \n",
       "L 313 1100 \n",
       "L 313 1709 \n",
       "L 2253 4666 \n",
       "z\n",
       "\" transform=\"scale(0.015625)\"/>\n",
       "       </defs>\n",
       "       <use xlink:href=\"#DejaVuSans-30\"/>\n",
       "       <use xlink:href=\"#DejaVuSans-2e\" x=\"63.623047\"/>\n",
       "       <use xlink:href=\"#DejaVuSans-34\" x=\"95.410156\"/>\n",
       "      </g>\n",
       "     </g>\n",
       "    </g>\n",
       "    <g id=\"ytick_5\">\n",
       "     <g id=\"line2d_8\">\n",
       "      <path d=\"M 59.024844 124.734708 \n",
       "L 282.224844 124.734708 \n",
       "\" clip-path=\"url(#p4fdac1081a)\" style=\"fill: none; stroke: #ffffff; stroke-linecap: round\"/>\n",
       "     </g>\n",
       "     <g id=\"text_9\">\n",
       "      <!-- 0.6 -->\n",
       "      <g style=\"fill: #262626\" transform=\"translate(32.031406 128.913849) scale(0.11 -0.11)\">\n",
       "       <defs>\n",
       "        <path id=\"DejaVuSans-36\" d=\"M 2113 2584 \n",
       "Q 1688 2584 1439 2293 \n",
       "Q 1191 2003 1191 1497 \n",
       "Q 1191 994 1439 701 \n",
       "Q 1688 409 2113 409 \n",
       "Q 2538 409 2786 701 \n",
       "Q 3034 994 3034 1497 \n",
       "Q 3034 2003 2786 2293 \n",
       "Q 2538 2584 2113 2584 \n",
       "z\n",
       "M 3366 4563 \n",
       "L 3366 3988 \n",
       "Q 3128 4100 2886 4159 \n",
       "Q 2644 4219 2406 4219 \n",
       "Q 1781 4219 1451 3797 \n",
       "Q 1122 3375 1075 2522 \n",
       "Q 1259 2794 1537 2939 \n",
       "Q 1816 3084 2150 3084 \n",
       "Q 2853 3084 3261 2657 \n",
       "Q 3669 2231 3669 1497 \n",
       "Q 3669 778 3244 343 \n",
       "Q 2819 -91 2113 -91 \n",
       "Q 1303 -91 875 529 \n",
       "Q 447 1150 447 2328 \n",
       "Q 447 3434 972 4092 \n",
       "Q 1497 4750 2381 4750 \n",
       "Q 2619 4750 2861 4703 \n",
       "Q 3103 4656 3366 4563 \n",
       "z\n",
       "\" transform=\"scale(0.015625)\"/>\n",
       "       </defs>\n",
       "       <use xlink:href=\"#DejaVuSans-30\"/>\n",
       "       <use xlink:href=\"#DejaVuSans-2e\" x=\"63.623047\"/>\n",
       "       <use xlink:href=\"#DejaVuSans-36\" x=\"95.410156\"/>\n",
       "      </g>\n",
       "     </g>\n",
       "    </g>\n",
       "    <g id=\"ytick_6\">\n",
       "     <g id=\"line2d_9\">\n",
       "      <path d=\"M 59.024844 97.254273 \n",
       "L 282.224844 97.254273 \n",
       "\" clip-path=\"url(#p4fdac1081a)\" style=\"fill: none; stroke: #ffffff; stroke-linecap: round\"/>\n",
       "     </g>\n",
       "     <g id=\"text_10\">\n",
       "      <!-- 0.8 -->\n",
       "      <g style=\"fill: #262626\" transform=\"translate(32.031406 101.433413) scale(0.11 -0.11)\">\n",
       "       <defs>\n",
       "        <path id=\"DejaVuSans-38\" d=\"M 2034 2216 \n",
       "Q 1584 2216 1326 1975 \n",
       "Q 1069 1734 1069 1313 \n",
       "Q 1069 891 1326 650 \n",
       "Q 1584 409 2034 409 \n",
       "Q 2484 409 2743 651 \n",
       "Q 3003 894 3003 1313 \n",
       "Q 3003 1734 2745 1975 \n",
       "Q 2488 2216 2034 2216 \n",
       "z\n",
       "M 1403 2484 \n",
       "Q 997 2584 770 2862 \n",
       "Q 544 3141 544 3541 \n",
       "Q 544 4100 942 4425 \n",
       "Q 1341 4750 2034 4750 \n",
       "Q 2731 4750 3128 4425 \n",
       "Q 3525 4100 3525 3541 \n",
       "Q 3525 3141 3298 2862 \n",
       "Q 3072 2584 2669 2484 \n",
       "Q 3125 2378 3379 2068 \n",
       "Q 3634 1759 3634 1313 \n",
       "Q 3634 634 3220 271 \n",
       "Q 2806 -91 2034 -91 \n",
       "Q 1263 -91 848 271 \n",
       "Q 434 634 434 1313 \n",
       "Q 434 1759 690 2068 \n",
       "Q 947 2378 1403 2484 \n",
       "z\n",
       "M 1172 3481 \n",
       "Q 1172 3119 1398 2916 \n",
       "Q 1625 2713 2034 2713 \n",
       "Q 2441 2713 2670 2916 \n",
       "Q 2900 3119 2900 3481 \n",
       "Q 2900 3844 2670 4047 \n",
       "Q 2441 4250 2034 4250 \n",
       "Q 1625 4250 1398 4047 \n",
       "Q 1172 3844 1172 3481 \n",
       "z\n",
       "\" transform=\"scale(0.015625)\"/>\n",
       "       </defs>\n",
       "       <use xlink:href=\"#DejaVuSans-30\"/>\n",
       "       <use xlink:href=\"#DejaVuSans-2e\" x=\"63.623047\"/>\n",
       "       <use xlink:href=\"#DejaVuSans-38\" x=\"95.410156\"/>\n",
       "      </g>\n",
       "     </g>\n",
       "    </g>\n",
       "    <g id=\"ytick_7\">\n",
       "     <g id=\"line2d_10\">\n",
       "      <path d=\"M 59.024844 69.773837 \n",
       "L 282.224844 69.773837 \n",
       "\" clip-path=\"url(#p4fdac1081a)\" style=\"fill: none; stroke: #ffffff; stroke-linecap: round\"/>\n",
       "     </g>\n",
       "     <g id=\"text_11\">\n",
       "      <!-- 1.0 -->\n",
       "      <g style=\"fill: #262626\" transform=\"translate(32.031406 73.952978) scale(0.11 -0.11)\">\n",
       "       <use xlink:href=\"#DejaVuSans-31\"/>\n",
       "       <use xlink:href=\"#DejaVuSans-2e\" x=\"63.623047\"/>\n",
       "       <use xlink:href=\"#DejaVuSans-30\" x=\"95.410156\"/>\n",
       "      </g>\n",
       "     </g>\n",
       "    </g>\n",
       "    <g id=\"ytick_8\">\n",
       "     <g id=\"line2d_11\">\n",
       "      <path d=\"M 59.024844 42.293402 \n",
       "L 282.224844 42.293402 \n",
       "\" clip-path=\"url(#p4fdac1081a)\" style=\"fill: none; stroke: #ffffff; stroke-linecap: round\"/>\n",
       "     </g>\n",
       "     <g id=\"text_12\">\n",
       "      <!-- 1.2 -->\n",
       "      <g style=\"fill: #262626\" transform=\"translate(32.031406 46.472542) scale(0.11 -0.11)\">\n",
       "       <use xlink:href=\"#DejaVuSans-31\"/>\n",
       "       <use xlink:href=\"#DejaVuSans-2e\" x=\"63.623047\"/>\n",
       "       <use xlink:href=\"#DejaVuSans-32\" x=\"95.410156\"/>\n",
       "      </g>\n",
       "     </g>\n",
       "    </g>\n",
       "    <g id=\"text_13\">\n",
       "     <!-- $x_2$ -->\n",
       "     <g style=\"fill: #262626\" transform=\"translate(16.318125 139.618125) rotate(-90) scale(0.12 -0.12)\">\n",
       "      <use xlink:href=\"#DejaVuSans-Oblique-78\" transform=\"translate(0 0.3125)\"/>\n",
       "      <use xlink:href=\"#DejaVuSans-32\" transform=\"translate(59.179688 -16.09375) scale(0.7)\"/>\n",
       "     </g>\n",
       "    </g>\n",
       "   </g>\n",
       "   <g id=\"PathCollection_1\">\n",
       "    <defs>\n",
       "     <path id=\"m9e5ab45b6e\" d=\"M 0 3 \n",
       "C 0.795609 3 1.55874 2.683901 2.12132 2.12132 \n",
       "C 2.683901 1.55874 3 0.795609 3 0 \n",
       "C 3 -0.795609 2.683901 -1.55874 2.12132 -2.12132 \n",
       "C 1.55874 -2.683901 0.795609 -3 0 -3 \n",
       "C -0.795609 -3 -1.55874 -2.683901 -2.12132 -2.12132 \n",
       "C -2.683901 -1.55874 -3 -0.795609 -3 0 \n",
       "C -3 0.795609 -2.683901 1.55874 -2.12132 2.12132 \n",
       "C -1.55874 2.683901 -0.795609 3 0 3 \n",
       "z\n",
       "\" style=\"stroke: #333333\"/>\n",
       "    </defs>\n",
       "    <g clip-path=\"url(#p4fdac1081a)\">\n",
       "     <use xlink:href=\"#m9e5ab45b6e\" x=\"102.473492\" y=\"216.991358\" style=\"fill: #4c72b0; stroke: #333333\"/>\n",
       "     <use xlink:href=\"#m9e5ab45b6e\" x=\"81.531253\" y=\"198.154825\" style=\"fill: #4c72b0; stroke: #333333\"/>\n",
       "     <use xlink:href=\"#m9e5ab45b6e\" x=\"114.684678\" y=\"218.452369\" style=\"fill: #4c72b0; stroke: #333333\"/>\n",
       "     <use xlink:href=\"#m9e5ab45b6e\" x=\"111.930435\" y=\"201.504315\" style=\"fill: #4c72b0; stroke: #333333\"/>\n",
       "     <use xlink:href=\"#m9e5ab45b6e\" x=\"235.961113\" y=\"80.130332\" style=\"fill: #4c72b0; stroke: #333333\"/>\n",
       "     <use xlink:href=\"#m9e5ab45b6e\" x=\"243.326835\" y=\"58.408153\" style=\"fill: #4c72b0; stroke: #333333\"/>\n",
       "     <use xlink:href=\"#m9e5ab45b6e\" x=\"239.606599\" y=\"49.801958\" style=\"fill: #4c72b0; stroke: #333333\"/>\n",
       "     <use xlink:href=\"#m9e5ab45b6e\" x=\"235.689266\" y=\"32.398125\" style=\"fill: #4c72b0; stroke: #333333\"/>\n",
       "     <use xlink:href=\"#m9e5ab45b6e\" x=\"248.250356\" y=\"81.551371\" style=\"fill: #4c72b0; stroke: #333333\"/>\n",
       "     <use xlink:href=\"#m9e5ab45b6e\" x=\"83.230065\" y=\"200.546739\" style=\"fill: #4c72b0; stroke: #333333\"/>\n",
       "     <use xlink:href=\"#m9e5ab45b6e\" x=\"236.270449\" y=\"59.963315\" style=\"fill: #4c72b0; stroke: #333333\"/>\n",
       "     <use xlink:href=\"#m9e5ab45b6e\" x=\"92.039062\" y=\"195.408909\" style=\"fill: #4c72b0; stroke: #333333\"/>\n",
       "     <use xlink:href=\"#m9e5ab45b6e\" x=\"101.359224\" y=\"224.292737\" style=\"fill: #4c72b0; stroke: #333333\"/>\n",
       "     <use xlink:href=\"#m9e5ab45b6e\" x=\"241.866478\" y=\"64.479487\" style=\"fill: #4c72b0; stroke: #333333\"/>\n",
       "     <use xlink:href=\"#m9e5ab45b6e\" x=\"226.953301\" y=\"67.66162\" style=\"fill: #4c72b0; stroke: #333333\"/>\n",
       "     <use xlink:href=\"#m9e5ab45b6e\" x=\"244.470986\" y=\"62.068538\" style=\"fill: #4c72b0; stroke: #333333\"/>\n",
       "     <use xlink:href=\"#m9e5ab45b6e\" x=\"106.393072\" y=\"191.573095\" style=\"fill: #4c72b0; stroke: #333333\"/>\n",
       "     <use xlink:href=\"#m9e5ab45b6e\" x=\"111.798177\" y=\"198.225757\" style=\"fill: #4c72b0; stroke: #333333\"/>\n",
       "     <use xlink:href=\"#m9e5ab45b6e\" x=\"93.890735\" y=\"196.747613\" style=\"fill: #4c72b0; stroke: #333333\"/>\n",
       "     <use xlink:href=\"#m9e5ab45b6e\" x=\"272.079389\" y=\"95.430466\" style=\"fill: #4c72b0; stroke: #333333\"/>\n",
       "     <use xlink:href=\"#m9e5ab45b6e\" x=\"249.105227\" y=\"91.932902\" style=\"fill: #4c72b0; stroke: #333333\"/>\n",
       "     <use xlink:href=\"#m9e5ab45b6e\" x=\"229.331339\" y=\"60.436015\" style=\"fill: #4c72b0; stroke: #333333\"/>\n",
       "     <use xlink:href=\"#m9e5ab45b6e\" x=\"69.767078\" y=\"204.614092\" style=\"fill: #4c72b0; stroke: #333333\"/>\n",
       "     <use xlink:href=\"#m9e5ab45b6e\" x=\"228.241923\" y=\"71.350342\" style=\"fill: #4c72b0; stroke: #333333\"/>\n",
       "     <use xlink:href=\"#m9e5ab45b6e\" x=\"246.547744\" y=\"57.878174\" style=\"fill: #4c72b0; stroke: #333333\"/>\n",
       "     <use xlink:href=\"#m9e5ab45b6e\" x=\"222.488843\" y=\"74.369957\" style=\"fill: #4c72b0; stroke: #333333\"/>\n",
       "     <use xlink:href=\"#m9e5ab45b6e\" x=\"232.722418\" y=\"78.750727\" style=\"fill: #4c72b0; stroke: #333333\"/>\n",
       "     <use xlink:href=\"#m9e5ab45b6e\" x=\"264.330969\" y=\"64.209305\" style=\"fill: #4c72b0; stroke: #333333\"/>\n",
       "     <use xlink:href=\"#m9e5ab45b6e\" x=\"217.987207\" y=\"76.427319\" style=\"fill: #4c72b0; stroke: #333333\"/>\n",
       "     <use xlink:href=\"#m9e5ab45b6e\" x=\"257.297305\" y=\"79.497367\" style=\"fill: #4c72b0; stroke: #333333\"/>\n",
       "     <use xlink:href=\"#m9e5ab45b6e\" x=\"245.684766\" y=\"59.130199\" style=\"fill: #4c72b0; stroke: #333333\"/>\n",
       "     <use xlink:href=\"#m9e5ab45b6e\" x=\"235.859815\" y=\"86.918651\" style=\"fill: #4c72b0; stroke: #333333\"/>\n",
       "     <use xlink:href=\"#m9e5ab45b6e\" x=\"241.024708\" y=\"60.676025\" style=\"fill: #4c72b0; stroke: #333333\"/>\n",
       "     <use xlink:href=\"#m9e5ab45b6e\" x=\"128.432482\" y=\"233.998125\" style=\"fill: #4c72b0; stroke: #333333\"/>\n",
       "     <use xlink:href=\"#m9e5ab45b6e\" x=\"96.197242\" y=\"199.092408\" style=\"fill: #4c72b0; stroke: #333333\"/>\n",
       "     <use xlink:href=\"#m9e5ab45b6e\" x=\"102.303053\" y=\"215.732042\" style=\"fill: #4c72b0; stroke: #333333\"/>\n",
       "     <use xlink:href=\"#m9e5ab45b6e\" x=\"95.402413\" y=\"213.949955\" style=\"fill: #4c72b0; stroke: #333333\"/>\n",
       "     <use xlink:href=\"#m9e5ab45b6e\" x=\"244.460087\" y=\"79.294563\" style=\"fill: #4c72b0; stroke: #333333\"/>\n",
       "     <use xlink:href=\"#m9e5ab45b6e\" x=\"109.806916\" y=\"198.524777\" style=\"fill: #4c72b0; stroke: #333333\"/>\n",
       "     <use xlink:href=\"#m9e5ab45b6e\" x=\"108.881846\" y=\"198.789394\" style=\"fill: #4c72b0; stroke: #333333\"/>\n",
       "     <use xlink:href=\"#m9e5ab45b6e\" x=\"98.043805\" y=\"205.563911\" style=\"fill: #4c72b0; stroke: #333333\"/>\n",
       "     <use xlink:href=\"#m9e5ab45b6e\" x=\"109.984037\" y=\"195.998214\" style=\"fill: #4c72b0; stroke: #333333\"/>\n",
       "     <use xlink:href=\"#m9e5ab45b6e\" x=\"257.841436\" y=\"69.485245\" style=\"fill: #4c72b0; stroke: #333333\"/>\n",
       "     <use xlink:href=\"#m9e5ab45b6e\" x=\"255.762307\" y=\"58.896216\" style=\"fill: #4c72b0; stroke: #333333\"/>\n",
       "     <use xlink:href=\"#m9e5ab45b6e\" x=\"107.144055\" y=\"198.54241\" style=\"fill: #4c72b0; stroke: #333333\"/>\n",
       "     <use xlink:href=\"#m9e5ab45b6e\" x=\"98.165911\" y=\"219.504485\" style=\"fill: #4c72b0; stroke: #333333\"/>\n",
       "     <use xlink:href=\"#m9e5ab45b6e\" x=\"99.408179\" y=\"216.480364\" style=\"fill: #4c72b0; stroke: #333333\"/>\n",
       "     <use xlink:href=\"#m9e5ab45b6e\" x=\"86.692211\" y=\"211.591926\" style=\"fill: #4c72b0; stroke: #333333\"/>\n",
       "     <use xlink:href=\"#m9e5ab45b6e\" x=\"101.794792\" y=\"214.141524\" style=\"fill: #4c72b0; stroke: #333333\"/>\n",
       "     <use xlink:href=\"#m9e5ab45b6e\" x=\"91.693076\" y=\"203.987598\" style=\"fill: #4c72b0; stroke: #333333\"/>\n",
       "     <use xlink:href=\"#m9e5ab45b6e\" x=\"229.28703\" y=\"72.706648\" style=\"fill: #4c72b0; stroke: #333333\"/>\n",
       "     <use xlink:href=\"#m9e5ab45b6e\" x=\"102.725117\" y=\"186.904299\" style=\"fill: #4c72b0; stroke: #333333\"/>\n",
       "     <use xlink:href=\"#m9e5ab45b6e\" x=\"98.070405\" y=\"220.950986\" style=\"fill: #4c72b0; stroke: #333333\"/>\n",
       "     <use xlink:href=\"#m9e5ab45b6e\" x=\"243.976217\" y=\"81.140168\" style=\"fill: #4c72b0; stroke: #333333\"/>\n",
       "     <use xlink:href=\"#m9e5ab45b6e\" x=\"96.804258\" y=\"201.656408\" style=\"fill: #4c72b0; stroke: #333333\"/>\n",
       "     <use xlink:href=\"#m9e5ab45b6e\" x=\"108.075554\" y=\"212.688871\" style=\"fill: #4c72b0; stroke: #333333\"/>\n",
       "     <use xlink:href=\"#m9e5ab45b6e\" x=\"101.500291\" y=\"207.002992\" style=\"fill: #4c72b0; stroke: #333333\"/>\n",
       "     <use xlink:href=\"#m9e5ab45b6e\" x=\"118.812076\" y=\"193.995425\" style=\"fill: #4c72b0; stroke: #333333\"/>\n",
       "     <use xlink:href=\"#m9e5ab45b6e\" x=\"269.801212\" y=\"80.317363\" style=\"fill: #4c72b0; stroke: #333333\"/>\n",
       "     <use xlink:href=\"#m9e5ab45b6e\" x=\"251.730254\" y=\"67.254685\" style=\"fill: #4c72b0; stroke: #333333\"/>\n",
       "     <use xlink:href=\"#m9e5ab45b6e\" x=\"86.491523\" y=\"215.4118\" style=\"fill: #4c72b0; stroke: #333333\"/>\n",
       "     <use xlink:href=\"#m9e5ab45b6e\" x=\"209.458287\" y=\"76.997829\" style=\"fill: #4c72b0; stroke: #333333\"/>\n",
       "     <use xlink:href=\"#m9e5ab45b6e\" x=\"228.712978\" y=\"67.707401\" style=\"fill: #4c72b0; stroke: #333333\"/>\n",
       "     <use xlink:href=\"#m9e5ab45b6e\" x=\"244.24481\" y=\"43.994844\" style=\"fill: #4c72b0; stroke: #333333\"/>\n",
       "     <use xlink:href=\"#m9e5ab45b6e\" x=\"252.832157\" y=\"77.700621\" style=\"fill: #4c72b0; stroke: #333333\"/>\n",
       "     <use xlink:href=\"#m9e5ab45b6e\" x=\"96.722715\" y=\"190.168149\" style=\"fill: #4c72b0; stroke: #333333\"/>\n",
       "     <use xlink:href=\"#m9e5ab45b6e\" x=\"75.843797\" y=\"215.411558\" style=\"fill: #4c72b0; stroke: #333333\"/>\n",
       "     <use xlink:href=\"#m9e5ab45b6e\" x=\"83.276228\" y=\"209.13234\" style=\"fill: #4c72b0; stroke: #333333\"/>\n",
       "     <use xlink:href=\"#m9e5ab45b6e\" x=\"103.027129\" y=\"217.460382\" style=\"fill: #4c72b0; stroke: #333333\"/>\n",
       "     <use xlink:href=\"#m9e5ab45b6e\" x=\"256.061207\" y=\"68.846112\" style=\"fill: #4c72b0; stroke: #333333\"/>\n",
       "     <use xlink:href=\"#m9e5ab45b6e\" x=\"127.412645\" y=\"183.057249\" style=\"fill: #4c72b0; stroke: #333333\"/>\n",
       "     <use xlink:href=\"#m9e5ab45b6e\" x=\"235.910657\" y=\"56.424237\" style=\"fill: #4c72b0; stroke: #333333\"/>\n",
       "     <use xlink:href=\"#m9e5ab45b6e\" x=\"248.528417\" y=\"50.968547\" style=\"fill: #4c72b0; stroke: #333333\"/>\n",
       "     <use xlink:href=\"#m9e5ab45b6e\" x=\"235.622244\" y=\"59.914651\" style=\"fill: #4c72b0; stroke: #333333\"/>\n",
       "     <use xlink:href=\"#m9e5ab45b6e\" x=\"74.306614\" y=\"207.939252\" style=\"fill: #4c72b0; stroke: #333333\"/>\n",
       "     <use xlink:href=\"#m9e5ab45b6e\" x=\"69.170298\" y=\"208.400543\" style=\"fill: #4c72b0; stroke: #333333\"/>\n",
       "     <use xlink:href=\"#m9e5ab45b6e\" x=\"244.595292\" y=\"82.687993\" style=\"fill: #4c72b0; stroke: #333333\"/>\n",
       "     <use xlink:href=\"#m9e5ab45b6e\" x=\"84.431631\" y=\"200.250305\" style=\"fill: #4c72b0; stroke: #333333\"/>\n",
       "     <use xlink:href=\"#m9e5ab45b6e\" x=\"231.61203\" y=\"86.232943\" style=\"fill: #4c72b0; stroke: #333333\"/>\n",
       "     <use xlink:href=\"#m9e5ab45b6e\" x=\"267.14238\" y=\"69.289312\" style=\"fill: #4c72b0; stroke: #333333\"/>\n",
       "     <use xlink:href=\"#m9e5ab45b6e\" x=\"90.854147\" y=\"215.087882\" style=\"fill: #4c72b0; stroke: #333333\"/>\n",
       "     <use xlink:href=\"#m9e5ab45b6e\" x=\"262.631098\" y=\"73.195645\" style=\"fill: #4c72b0; stroke: #333333\"/>\n",
       "     <use xlink:href=\"#m9e5ab45b6e\" x=\"247.557481\" y=\"65.497185\" style=\"fill: #4c72b0; stroke: #333333\"/>\n",
       "     <use xlink:href=\"#m9e5ab45b6e\" x=\"141.776921\" y=\"191.792812\" style=\"fill: #4c72b0; stroke: #333333\"/>\n",
       "     <use xlink:href=\"#m9e5ab45b6e\" x=\"237.618441\" y=\"82.903172\" style=\"fill: #4c72b0; stroke: #333333\"/>\n",
       "     <use xlink:href=\"#m9e5ab45b6e\" x=\"75.674232\" y=\"204.38038\" style=\"fill: #4c72b0; stroke: #333333\"/>\n",
       "     <use xlink:href=\"#m9e5ab45b6e\" x=\"230.301022\" y=\"84.634538\" style=\"fill: #4c72b0; stroke: #333333\"/>\n",
       "     <use xlink:href=\"#m9e5ab45b6e\" x=\"122.141642\" y=\"195.062092\" style=\"fill: #4c72b0; stroke: #333333\"/>\n",
       "     <use xlink:href=\"#m9e5ab45b6e\" x=\"239.310676\" y=\"49.439084\" style=\"fill: #4c72b0; stroke: #333333\"/>\n",
       "     <use xlink:href=\"#m9e5ab45b6e\" x=\"83.704763\" y=\"209.791309\" style=\"fill: #4c72b0; stroke: #333333\"/>\n",
       "     <use xlink:href=\"#m9e5ab45b6e\" x=\"240.107725\" y=\"81.191273\" style=\"fill: #4c72b0; stroke: #333333\"/>\n",
       "     <use xlink:href=\"#m9e5ab45b6e\" x=\"102.15442\" y=\"207.866297\" style=\"fill: #4c72b0; stroke: #333333\"/>\n",
       "     <use xlink:href=\"#m9e5ab45b6e\" x=\"105.405857\" y=\"220.607836\" style=\"fill: #4c72b0; stroke: #333333\"/>\n",
       "     <use xlink:href=\"#m9e5ab45b6e\" x=\"240.824583\" y=\"59.449618\" style=\"fill: #4c72b0; stroke: #333333\"/>\n",
       "     <use xlink:href=\"#m9e5ab45b6e\" x=\"74.78598\" y=\"199.710127\" style=\"fill: #4c72b0; stroke: #333333\"/>\n",
       "     <use xlink:href=\"#m9e5ab45b6e\" x=\"230.074568\" y=\"61.933685\" style=\"fill: #4c72b0; stroke: #333333\"/>\n",
       "     <use xlink:href=\"#m9e5ab45b6e\" x=\"228.654761\" y=\"94.573313\" style=\"fill: #4c72b0; stroke: #333333\"/>\n",
       "     <use xlink:href=\"#m9e5ab45b6e\" x=\"238.490871\" y=\"86.413463\" style=\"fill: #4c72b0; stroke: #333333\"/>\n",
       "     <use xlink:href=\"#m9e5ab45b6e\" x=\"112.535922\" y=\"215.102634\" style=\"fill: #4c72b0; stroke: #333333\"/>\n",
       "     <use xlink:href=\"#m9e5ab45b6e\" x=\"110.129012\" y=\"222.698433\" style=\"fill: #4c72b0; stroke: #333333\"/>\n",
       "     <use xlink:href=\"#m9e5ab45b6e\" x=\"105.813408\" y=\"187.368548\" style=\"fill: #4c72b0; stroke: #333333\"/>\n",
       "     <use xlink:href=\"#m9e5ab45b6e\" x=\"204.552098\" y=\"80.723348\" style=\"fill: #4c72b0; stroke: #333333\"/>\n",
       "     <use xlink:href=\"#m9e5ab45b6e\" x=\"244.659455\" y=\"78.072725\" style=\"fill: #4c72b0; stroke: #333333\"/>\n",
       "    </g>\n",
       "   </g>\n",
       "   <g id=\"PathCollection_2\">\n",
       "    <defs>\n",
       "     <path id=\"m81f43886d3\" d=\"M 0 3 \n",
       "C 0.795609 3 1.55874 2.683901 2.12132 2.12132 \n",
       "C 2.683901 1.55874 3 0.795609 3 0 \n",
       "C 3 -0.795609 2.683901 -1.55874 2.12132 -2.12132 \n",
       "C 1.55874 -2.683901 0.795609 -3 0 -3 \n",
       "C -0.795609 -3 -1.55874 -2.683901 -2.12132 -2.12132 \n",
       "C -2.683901 -1.55874 -3 -0.795609 -3 0 \n",
       "C -3 0.795609 -2.683901 1.55874 -2.12132 2.12132 \n",
       "C -1.55874 2.683901 -0.795609 3 0 3 \n",
       "z\n",
       "\" style=\"stroke: #333333\"/>\n",
       "    </defs>\n",
       "    <g clip-path=\"url(#p4fdac1081a)\">\n",
       "     <use xlink:href=\"#m81f43886d3\" x=\"88.744602\" y=\"66.582613\" style=\"fill: #dd8452; stroke: #333333\"/>\n",
       "     <use xlink:href=\"#m81f43886d3\" x=\"124.661874\" y=\"63.263267\" style=\"fill: #dd8452; stroke: #333333\"/>\n",
       "     <use xlink:href=\"#m81f43886d3\" x=\"84.58745\" y=\"58.95913\" style=\"fill: #dd8452; stroke: #333333\"/>\n",
       "     <use xlink:href=\"#m81f43886d3\" x=\"251.021149\" y=\"181.113666\" style=\"fill: #dd8452; stroke: #333333\"/>\n",
       "     <use xlink:href=\"#m81f43886d3\" x=\"226.873488\" y=\"218.385425\" style=\"fill: #dd8452; stroke: #333333\"/>\n",
       "     <use xlink:href=\"#m81f43886d3\" x=\"238.335375\" y=\"202.488512\" style=\"fill: #dd8452; stroke: #333333\"/>\n",
       "     <use xlink:href=\"#m81f43886d3\" x=\"246.099798\" y=\"208.1767\" style=\"fill: #dd8452; stroke: #333333\"/>\n",
       "     <use xlink:href=\"#m81f43886d3\" x=\"227.476216\" y=\"227.990346\" style=\"fill: #dd8452; stroke: #333333\"/>\n",
       "     <use xlink:href=\"#m81f43886d3\" x=\"240.244393\" y=\"222.880676\" style=\"fill: #dd8452; stroke: #333333\"/>\n",
       "     <use xlink:href=\"#m81f43886d3\" x=\"113.618865\" y=\"55.294371\" style=\"fill: #dd8452; stroke: #333333\"/>\n",
       "     <use xlink:href=\"#m81f43886d3\" x=\"78.901919\" y=\"82.659755\" style=\"fill: #dd8452; stroke: #333333\"/>\n",
       "     <use xlink:href=\"#m81f43886d3\" x=\"105.605042\" y=\"62.714304\" style=\"fill: #dd8452; stroke: #333333\"/>\n",
       "     <use xlink:href=\"#m81f43886d3\" x=\"246.689676\" y=\"154.238644\" style=\"fill: #dd8452; stroke: #333333\"/>\n",
       "     <use xlink:href=\"#m81f43886d3\" x=\"87.435332\" y=\"73.027779\" style=\"fill: #dd8452; stroke: #333333\"/>\n",
       "     <use xlink:href=\"#m81f43886d3\" x=\"232.575432\" y=\"206.051046\" style=\"fill: #dd8452; stroke: #333333\"/>\n",
       "     <use xlink:href=\"#m81f43886d3\" x=\"91.680469\" y=\"54.811418\" style=\"fill: #dd8452; stroke: #333333\"/>\n",
       "     <use xlink:href=\"#m81f43886d3\" x=\"99.245585\" y=\"84.582287\" style=\"fill: #dd8452; stroke: #333333\"/>\n",
       "     <use xlink:href=\"#m81f43886d3\" x=\"88.034356\" y=\"66.799643\" style=\"fill: #dd8452; stroke: #333333\"/>\n",
       "     <use xlink:href=\"#m81f43886d3\" x=\"98.981642\" y=\"78.726968\" style=\"fill: #dd8452; stroke: #333333\"/>\n",
       "     <use xlink:href=\"#m81f43886d3\" x=\"128.586414\" y=\"61.063649\" style=\"fill: #dd8452; stroke: #333333\"/>\n",
       "     <use xlink:href=\"#m81f43886d3\" x=\"230.086383\" y=\"195.463394\" style=\"fill: #dd8452; stroke: #333333\"/>\n",
       "     <use xlink:href=\"#m81f43886d3\" x=\"221.634047\" y=\"194.564391\" style=\"fill: #dd8452; stroke: #333333\"/>\n",
       "     <use xlink:href=\"#m81f43886d3\" x=\"128.279021\" y=\"55.587534\" style=\"fill: #dd8452; stroke: #333333\"/>\n",
       "     <use xlink:href=\"#m81f43886d3\" x=\"226.345612\" y=\"207.993906\" style=\"fill: #dd8452; stroke: #333333\"/>\n",
       "     <use xlink:href=\"#m81f43886d3\" x=\"193.693914\" y=\"221.251324\" style=\"fill: #dd8452; stroke: #333333\"/>\n",
       "     <use xlink:href=\"#m81f43886d3\" x=\"121.369482\" y=\"89.42429\" style=\"fill: #dd8452; stroke: #333333\"/>\n",
       "     <use xlink:href=\"#m81f43886d3\" x=\"92.13035\" y=\"67.977435\" style=\"fill: #dd8452; stroke: #333333\"/>\n",
       "     <use xlink:href=\"#m81f43886d3\" x=\"259.757291\" y=\"226.905074\" style=\"fill: #dd8452; stroke: #333333\"/>\n",
       "     <use xlink:href=\"#m81f43886d3\" x=\"255.833584\" y=\"207.03541\" style=\"fill: #dd8452; stroke: #333333\"/>\n",
       "     <use xlink:href=\"#m81f43886d3\" x=\"225.575598\" y=\"200.826612\" style=\"fill: #dd8452; stroke: #333333\"/>\n",
       "     <use xlink:href=\"#m81f43886d3\" x=\"101.147117\" y=\"78.020949\" style=\"fill: #dd8452; stroke: #333333\"/>\n",
       "     <use xlink:href=\"#m81f43886d3\" x=\"240.407954\" y=\"212.470307\" style=\"fill: #dd8452; stroke: #333333\"/>\n",
       "     <use xlink:href=\"#m81f43886d3\" x=\"261.799386\" y=\"224.183869\" style=\"fill: #dd8452; stroke: #333333\"/>\n",
       "     <use xlink:href=\"#m81f43886d3\" x=\"231.108137\" y=\"195.502297\" style=\"fill: #dd8452; stroke: #333333\"/>\n",
       "     <use xlink:href=\"#m81f43886d3\" x=\"252.115114\" y=\"202.953652\" style=\"fill: #dd8452; stroke: #333333\"/>\n",
       "     <use xlink:href=\"#m81f43886d3\" x=\"86.642862\" y=\"77.470848\" style=\"fill: #dd8452; stroke: #333333\"/>\n",
       "     <use xlink:href=\"#m81f43886d3\" x=\"116.364561\" y=\"77.902156\" style=\"fill: #dd8452; stroke: #333333\"/>\n",
       "     <use xlink:href=\"#m81f43886d3\" x=\"106.057388\" y=\"72.552008\" style=\"fill: #dd8452; stroke: #333333\"/>\n",
       "     <use xlink:href=\"#m81f43886d3\" x=\"95.267551\" y=\"54.676401\" style=\"fill: #dd8452; stroke: #333333\"/>\n",
       "     <use xlink:href=\"#m81f43886d3\" x=\"249.044462\" y=\"211.439147\" style=\"fill: #dd8452; stroke: #333333\"/>\n",
       "     <use xlink:href=\"#m81f43886d3\" x=\"243.996635\" y=\"208.964208\" style=\"fill: #dd8452; stroke: #333333\"/>\n",
       "     <use xlink:href=\"#m81f43886d3\" x=\"99.707157\" y=\"61.596248\" style=\"fill: #dd8452; stroke: #333333\"/>\n",
       "     <use xlink:href=\"#m81f43886d3\" x=\"227.879332\" y=\"178.426158\" style=\"fill: #dd8452; stroke: #333333\"/>\n",
       "     <use xlink:href=\"#m81f43886d3\" x=\"84.145352\" y=\"86.457049\" style=\"fill: #dd8452; stroke: #333333\"/>\n",
       "     <use xlink:href=\"#m81f43886d3\" x=\"253.180588\" y=\"209.196615\" style=\"fill: #dd8452; stroke: #333333\"/>\n",
       "     <use xlink:href=\"#m81f43886d3\" x=\"245.24898\" y=\"214.921713\" style=\"fill: #dd8452; stroke: #333333\"/>\n",
       "     <use xlink:href=\"#m81f43886d3\" x=\"86.738442\" y=\"66.425516\" style=\"fill: #dd8452; stroke: #333333\"/>\n",
       "     <use xlink:href=\"#m81f43886d3\" x=\"77.908473\" y=\"89.112693\" style=\"fill: #dd8452; stroke: #333333\"/>\n",
       "     <use xlink:href=\"#m81f43886d3\" x=\"110.43894\" y=\"71.971425\" style=\"fill: #dd8452; stroke: #333333\"/>\n",
       "     <use xlink:href=\"#m81f43886d3\" x=\"239.161966\" y=\"211.142247\" style=\"fill: #dd8452; stroke: #333333\"/>\n",
       "     <use xlink:href=\"#m81f43886d3\" x=\"246.750324\" y=\"186.115848\" style=\"fill: #dd8452; stroke: #333333\"/>\n",
       "     <use xlink:href=\"#m81f43886d3\" x=\"240.801222\" y=\"217.797338\" style=\"fill: #dd8452; stroke: #333333\"/>\n",
       "     <use xlink:href=\"#m81f43886d3\" x=\"239.768965\" y=\"200.333409\" style=\"fill: #dd8452; stroke: #333333\"/>\n",
       "     <use xlink:href=\"#m81f43886d3\" x=\"129.233412\" y=\"80.880027\" style=\"fill: #dd8452; stroke: #333333\"/>\n",
       "     <use xlink:href=\"#m81f43886d3\" x=\"85.663459\" y=\"63.014756\" style=\"fill: #dd8452; stroke: #333333\"/>\n",
       "     <use xlink:href=\"#m81f43886d3\" x=\"220.796717\" y=\"182.011372\" style=\"fill: #dd8452; stroke: #333333\"/>\n",
       "     <use xlink:href=\"#m81f43886d3\" x=\"256.063225\" y=\"213.62259\" style=\"fill: #dd8452; stroke: #333333\"/>\n",
       "     <use xlink:href=\"#m81f43886d3\" x=\"74.169028\" y=\"51.171343\" style=\"fill: #dd8452; stroke: #333333\"/>\n",
       "     <use xlink:href=\"#m81f43886d3\" x=\"239.497143\" y=\"206.530491\" style=\"fill: #dd8452; stroke: #333333\"/>\n",
       "     <use xlink:href=\"#m81f43886d3\" x=\"233.07343\" y=\"198.617921\" style=\"fill: #dd8452; stroke: #333333\"/>\n",
       "     <use xlink:href=\"#m81f43886d3\" x=\"100.035879\" y=\"62.705328\" style=\"fill: #dd8452; stroke: #333333\"/>\n",
       "     <use xlink:href=\"#m81f43886d3\" x=\"249.462942\" y=\"222.628842\" style=\"fill: #dd8452; stroke: #333333\"/>\n",
       "     <use xlink:href=\"#m81f43886d3\" x=\"76.694727\" y=\"52.218279\" style=\"fill: #dd8452; stroke: #333333\"/>\n",
       "     <use xlink:href=\"#m81f43886d3\" x=\"120.223039\" y=\"68.184441\" style=\"fill: #dd8452; stroke: #333333\"/>\n",
       "     <use xlink:href=\"#m81f43886d3\" x=\"84.725124\" y=\"60.347335\" style=\"fill: #dd8452; stroke: #333333\"/>\n",
       "     <use xlink:href=\"#m81f43886d3\" x=\"113.271419\" y=\"93.939299\" style=\"fill: #dd8452; stroke: #333333\"/>\n",
       "     <use xlink:href=\"#m81f43886d3\" x=\"81.644755\" y=\"97.793332\" style=\"fill: #dd8452; stroke: #333333\"/>\n",
       "     <use xlink:href=\"#m81f43886d3\" x=\"260.619075\" y=\"206.157936\" style=\"fill: #dd8452; stroke: #333333\"/>\n",
       "     <use xlink:href=\"#m81f43886d3\" x=\"262.400398\" y=\"226.138909\" style=\"fill: #dd8452; stroke: #333333\"/>\n",
       "     <use xlink:href=\"#m81f43886d3\" x=\"103.757261\" y=\"70.223073\" style=\"fill: #dd8452; stroke: #333333\"/>\n",
       "     <use xlink:href=\"#m81f43886d3\" x=\"79.934655\" y=\"60.572391\" style=\"fill: #dd8452; stroke: #333333\"/>\n",
       "     <use xlink:href=\"#m81f43886d3\" x=\"232.173291\" y=\"221.729839\" style=\"fill: #dd8452; stroke: #333333\"/>\n",
       "     <use xlink:href=\"#m81f43886d3\" x=\"97.45439\" y=\"56.649981\" style=\"fill: #dd8452; stroke: #333333\"/>\n",
       "     <use xlink:href=\"#m81f43886d3\" x=\"90.857583\" y=\"80.668083\" style=\"fill: #dd8452; stroke: #333333\"/>\n",
       "     <use xlink:href=\"#m81f43886d3\" x=\"237.913128\" y=\"221.400469\" style=\"fill: #dd8452; stroke: #333333\"/>\n",
       "     <use xlink:href=\"#m81f43886d3\" x=\"229.551115\" y=\"204.235884\" style=\"fill: #dd8452; stroke: #333333\"/>\n",
       "     <use xlink:href=\"#m81f43886d3\" x=\"237.838386\" y=\"210.212185\" style=\"fill: #dd8452; stroke: #333333\"/>\n",
       "     <use xlink:href=\"#m81f43886d3\" x=\"107.003632\" y=\"59.365508\" style=\"fill: #dd8452; stroke: #333333\"/>\n",
       "     <use xlink:href=\"#m81f43886d3\" x=\"94.458142\" y=\"101.402736\" style=\"fill: #dd8452; stroke: #333333\"/>\n",
       "     <use xlink:href=\"#m81f43886d3\" x=\"218.046165\" y=\"188.394864\" style=\"fill: #dd8452; stroke: #333333\"/>\n",
       "     <use xlink:href=\"#m81f43886d3\" x=\"228.752224\" y=\"226.71809\" style=\"fill: #dd8452; stroke: #333333\"/>\n",
       "     <use xlink:href=\"#m81f43886d3\" x=\"99.430241\" y=\"81.608069\" style=\"fill: #dd8452; stroke: #333333\"/>\n",
       "     <use xlink:href=\"#m81f43886d3\" x=\"119.827609\" y=\"62.369088\" style=\"fill: #dd8452; stroke: #333333\"/>\n",
       "     <use xlink:href=\"#m81f43886d3\" x=\"85.985081\" y=\"88.773807\" style=\"fill: #dd8452; stroke: #333333\"/>\n",
       "     <use xlink:href=\"#m81f43886d3\" x=\"252.490084\" y=\"180.940214\" style=\"fill: #dd8452; stroke: #333333\"/>\n",
       "     <use xlink:href=\"#m81f43886d3\" x=\"219.691543\" y=\"199.440695\" style=\"fill: #dd8452; stroke: #333333\"/>\n",
       "     <use xlink:href=\"#m81f43886d3\" x=\"89.159138\" y=\"76.467048\" style=\"fill: #dd8452; stroke: #333333\"/>\n",
       "     <use xlink:href=\"#m81f43886d3\" x=\"231.065401\" y=\"219.047436\" style=\"fill: #dd8452; stroke: #333333\"/>\n",
       "     <use xlink:href=\"#m81f43886d3\" x=\"236.051975\" y=\"219.646137\" style=\"fill: #dd8452; stroke: #333333\"/>\n",
       "     <use xlink:href=\"#m81f43886d3\" x=\"90.201347\" y=\"59.394599\" style=\"fill: #dd8452; stroke: #333333\"/>\n",
       "     <use xlink:href=\"#m81f43886d3\" x=\"75.3766\" y=\"69.113132\" style=\"fill: #dd8452; stroke: #333333\"/>\n",
       "     <use xlink:href=\"#m81f43886d3\" x=\"243.087439\" y=\"219.601522\" style=\"fill: #dd8452; stroke: #333333\"/>\n",
       "     <use xlink:href=\"#m81f43886d3\" x=\"248.432703\" y=\"230.005661\" style=\"fill: #dd8452; stroke: #333333\"/>\n",
       "     <use xlink:href=\"#m81f43886d3\" x=\"230.22676\" y=\"206.524746\" style=\"fill: #dd8452; stroke: #333333\"/>\n",
       "     <use xlink:href=\"#m81f43886d3\" x=\"86.199598\" y=\"75.057713\" style=\"fill: #dd8452; stroke: #333333\"/>\n",
       "     <use xlink:href=\"#m81f43886d3\" x=\"106.480285\" y=\"72.563728\" style=\"fill: #dd8452; stroke: #333333\"/>\n",
       "     <use xlink:href=\"#m81f43886d3\" x=\"240.64481\" y=\"209.315054\" style=\"fill: #dd8452; stroke: #333333\"/>\n",
       "    </g>\n",
       "   </g>\n",
       "   <g id=\"patch_3\">\n",
       "    <path d=\"M 59.024844 244.078125 \n",
       "L 59.024844 22.318125 \n",
       "\" style=\"fill: none; stroke: #ffffff; stroke-width: 1.25; stroke-linejoin: miter; stroke-linecap: square\"/>\n",
       "   </g>\n",
       "   <g id=\"patch_4\">\n",
       "    <path d=\"M 282.224844 244.078125 \n",
       "L 282.224844 22.318125 \n",
       "\" style=\"fill: none; stroke: #ffffff; stroke-width: 1.25; stroke-linejoin: miter; stroke-linecap: square\"/>\n",
       "   </g>\n",
       "   <g id=\"patch_5\">\n",
       "    <path d=\"M 59.024844 244.078125 \n",
       "L 282.224844 244.078125 \n",
       "\" style=\"fill: none; stroke: #ffffff; stroke-width: 1.25; stroke-linejoin: miter; stroke-linecap: square\"/>\n",
       "   </g>\n",
       "   <g id=\"patch_6\">\n",
       "    <path d=\"M 59.024844 22.318125 \n",
       "L 282.224844 22.318125 \n",
       "\" style=\"fill: none; stroke: #ffffff; stroke-width: 1.25; stroke-linejoin: miter; stroke-linecap: square\"/>\n",
       "   </g>\n",
       "   <g id=\"text_14\">\n",
       "    <!-- Dataset samples -->\n",
       "    <g style=\"fill: #262626\" transform=\"translate(120.282031 16.318125) scale(0.12 -0.12)\">\n",
       "     <defs>\n",
       "      <path id=\"DejaVuSans-44\" d=\"M 1259 4147 \n",
       "L 1259 519 \n",
       "L 2022 519 \n",
       "Q 2988 519 3436 956 \n",
       "Q 3884 1394 3884 2338 \n",
       "Q 3884 3275 3436 3711 \n",
       "Q 2988 4147 2022 4147 \n",
       "L 1259 4147 \n",
       "z\n",
       "M 628 4666 \n",
       "L 1925 4666 \n",
       "Q 3281 4666 3915 4102 \n",
       "Q 4550 3538 4550 2338 \n",
       "Q 4550 1131 3912 565 \n",
       "Q 3275 0 1925 0 \n",
       "L 628 0 \n",
       "L 628 4666 \n",
       "z\n",
       "\" transform=\"scale(0.015625)\"/>\n",
       "      <path id=\"DejaVuSans-61\" d=\"M 2194 1759 \n",
       "Q 1497 1759 1228 1600 \n",
       "Q 959 1441 959 1056 \n",
       "Q 959 750 1161 570 \n",
       "Q 1363 391 1709 391 \n",
       "Q 2188 391 2477 730 \n",
       "Q 2766 1069 2766 1631 \n",
       "L 2766 1759 \n",
       "L 2194 1759 \n",
       "z\n",
       "M 3341 1997 \n",
       "L 3341 0 \n",
       "L 2766 0 \n",
       "L 2766 531 \n",
       "Q 2569 213 2275 61 \n",
       "Q 1981 -91 1556 -91 \n",
       "Q 1019 -91 701 211 \n",
       "Q 384 513 384 1019 \n",
       "Q 384 1609 779 1909 \n",
       "Q 1175 2209 1959 2209 \n",
       "L 2766 2209 \n",
       "L 2766 2266 \n",
       "Q 2766 2663 2505 2880 \n",
       "Q 2244 3097 1772 3097 \n",
       "Q 1472 3097 1187 3025 \n",
       "Q 903 2953 641 2809 \n",
       "L 641 3341 \n",
       "Q 956 3463 1253 3523 \n",
       "Q 1550 3584 1831 3584 \n",
       "Q 2591 3584 2966 3190 \n",
       "Q 3341 2797 3341 1997 \n",
       "z\n",
       "\" transform=\"scale(0.015625)\"/>\n",
       "      <path id=\"DejaVuSans-74\" d=\"M 1172 4494 \n",
       "L 1172 3500 \n",
       "L 2356 3500 \n",
       "L 2356 3053 \n",
       "L 1172 3053 \n",
       "L 1172 1153 \n",
       "Q 1172 725 1289 603 \n",
       "Q 1406 481 1766 481 \n",
       "L 2356 481 \n",
       "L 2356 0 \n",
       "L 1766 0 \n",
       "Q 1100 0 847 248 \n",
       "Q 594 497 594 1153 \n",
       "L 594 3053 \n",
       "L 172 3053 \n",
       "L 172 3500 \n",
       "L 594 3500 \n",
       "L 594 4494 \n",
       "L 1172 4494 \n",
       "z\n",
       "\" transform=\"scale(0.015625)\"/>\n",
       "      <path id=\"DejaVuSans-73\" d=\"M 2834 3397 \n",
       "L 2834 2853 \n",
       "Q 2591 2978 2328 3040 \n",
       "Q 2066 3103 1784 3103 \n",
       "Q 1356 3103 1142 2972 \n",
       "Q 928 2841 928 2578 \n",
       "Q 928 2378 1081 2264 \n",
       "Q 1234 2150 1697 2047 \n",
       "L 1894 2003 \n",
       "Q 2506 1872 2764 1633 \n",
       "Q 3022 1394 3022 966 \n",
       "Q 3022 478 2636 193 \n",
       "Q 2250 -91 1575 -91 \n",
       "Q 1294 -91 989 -36 \n",
       "Q 684 19 347 128 \n",
       "L 347 722 \n",
       "Q 666 556 975 473 \n",
       "Q 1284 391 1588 391 \n",
       "Q 1994 391 2212 530 \n",
       "Q 2431 669 2431 922 \n",
       "Q 2431 1156 2273 1281 \n",
       "Q 2116 1406 1581 1522 \n",
       "L 1381 1569 \n",
       "Q 847 1681 609 1914 \n",
       "Q 372 2147 372 2553 \n",
       "Q 372 3047 722 3315 \n",
       "Q 1072 3584 1716 3584 \n",
       "Q 2034 3584 2315 3537 \n",
       "Q 2597 3491 2834 3397 \n",
       "z\n",
       "\" transform=\"scale(0.015625)\"/>\n",
       "      <path id=\"DejaVuSans-65\" d=\"M 3597 1894 \n",
       "L 3597 1613 \n",
       "L 953 1613 \n",
       "Q 991 1019 1311 708 \n",
       "Q 1631 397 2203 397 \n",
       "Q 2534 397 2845 478 \n",
       "Q 3156 559 3463 722 \n",
       "L 3463 178 \n",
       "Q 3153 47 2828 -22 \n",
       "Q 2503 -91 2169 -91 \n",
       "Q 1331 -91 842 396 \n",
       "Q 353 884 353 1716 \n",
       "Q 353 2575 817 3079 \n",
       "Q 1281 3584 2069 3584 \n",
       "Q 2775 3584 3186 3129 \n",
       "Q 3597 2675 3597 1894 \n",
       "z\n",
       "M 3022 2063 \n",
       "Q 3016 2534 2758 2815 \n",
       "Q 2500 3097 2075 3097 \n",
       "Q 1594 3097 1305 2825 \n",
       "Q 1016 2553 972 2059 \n",
       "L 3022 2063 \n",
       "z\n",
       "\" transform=\"scale(0.015625)\"/>\n",
       "      <path id=\"DejaVuSans-20\" transform=\"scale(0.015625)\"/>\n",
       "      <path id=\"DejaVuSans-6d\" d=\"M 3328 2828 \n",
       "Q 3544 3216 3844 3400 \n",
       "Q 4144 3584 4550 3584 \n",
       "Q 5097 3584 5394 3201 \n",
       "Q 5691 2819 5691 2113 \n",
       "L 5691 0 \n",
       "L 5113 0 \n",
       "L 5113 2094 \n",
       "Q 5113 2597 4934 2840 \n",
       "Q 4756 3084 4391 3084 \n",
       "Q 3944 3084 3684 2787 \n",
       "Q 3425 2491 3425 1978 \n",
       "L 3425 0 \n",
       "L 2847 0 \n",
       "L 2847 2094 \n",
       "Q 2847 2600 2669 2842 \n",
       "Q 2491 3084 2119 3084 \n",
       "Q 1678 3084 1418 2786 \n",
       "Q 1159 2488 1159 1978 \n",
       "L 1159 0 \n",
       "L 581 0 \n",
       "L 581 3500 \n",
       "L 1159 3500 \n",
       "L 1159 2956 \n",
       "Q 1356 3278 1631 3431 \n",
       "Q 1906 3584 2284 3584 \n",
       "Q 2666 3584 2933 3390 \n",
       "Q 3200 3197 3328 2828 \n",
       "z\n",
       "\" transform=\"scale(0.015625)\"/>\n",
       "      <path id=\"DejaVuSans-70\" d=\"M 1159 525 \n",
       "L 1159 -1331 \n",
       "L 581 -1331 \n",
       "L 581 3500 \n",
       "L 1159 3500 \n",
       "L 1159 2969 \n",
       "Q 1341 3281 1617 3432 \n",
       "Q 1894 3584 2278 3584 \n",
       "Q 2916 3584 3314 3078 \n",
       "Q 3713 2572 3713 1747 \n",
       "Q 3713 922 3314 415 \n",
       "Q 2916 -91 2278 -91 \n",
       "Q 1894 -91 1617 61 \n",
       "Q 1341 213 1159 525 \n",
       "z\n",
       "M 3116 1747 \n",
       "Q 3116 2381 2855 2742 \n",
       "Q 2594 3103 2138 3103 \n",
       "Q 1681 3103 1420 2742 \n",
       "Q 1159 2381 1159 1747 \n",
       "Q 1159 1113 1420 752 \n",
       "Q 1681 391 2138 391 \n",
       "Q 2594 391 2855 752 \n",
       "Q 3116 1113 3116 1747 \n",
       "z\n",
       "\" transform=\"scale(0.015625)\"/>\n",
       "      <path id=\"DejaVuSans-6c\" d=\"M 603 4863 \n",
       "L 1178 4863 \n",
       "L 1178 0 \n",
       "L 603 0 \n",
       "L 603 4863 \n",
       "z\n",
       "\" transform=\"scale(0.015625)\"/>\n",
       "     </defs>\n",
       "     <use xlink:href=\"#DejaVuSans-44\"/>\n",
       "     <use xlink:href=\"#DejaVuSans-61\" x=\"77.001953\"/>\n",
       "     <use xlink:href=\"#DejaVuSans-74\" x=\"138.28125\"/>\n",
       "     <use xlink:href=\"#DejaVuSans-61\" x=\"177.490234\"/>\n",
       "     <use xlink:href=\"#DejaVuSans-73\" x=\"238.769531\"/>\n",
       "     <use xlink:href=\"#DejaVuSans-65\" x=\"290.869141\"/>\n",
       "     <use xlink:href=\"#DejaVuSans-74\" x=\"352.392578\"/>\n",
       "     <use xlink:href=\"#DejaVuSans-20\" x=\"391.601562\"/>\n",
       "     <use xlink:href=\"#DejaVuSans-73\" x=\"423.388672\"/>\n",
       "     <use xlink:href=\"#DejaVuSans-61\" x=\"475.488281\"/>\n",
       "     <use xlink:href=\"#DejaVuSans-6d\" x=\"536.767578\"/>\n",
       "     <use xlink:href=\"#DejaVuSans-70\" x=\"634.179688\"/>\n",
       "     <use xlink:href=\"#DejaVuSans-6c\" x=\"697.65625\"/>\n",
       "     <use xlink:href=\"#DejaVuSans-65\" x=\"725.439453\"/>\n",
       "     <use xlink:href=\"#DejaVuSans-73\" x=\"786.962891\"/>\n",
       "    </g>\n",
       "   </g>\n",
       "   <g id=\"legend_1\">\n",
       "    <g id=\"patch_7\">\n",
       "     <path d=\"M 199.891562 150.994063 \n",
       "L 274.524844 150.994063 \n",
       "Q 276.724844 150.994063 276.724844 148.794063 \n",
       "L 276.724844 117.602188 \n",
       "Q 276.724844 115.402188 274.524844 115.402188 \n",
       "L 199.891562 115.402188 \n",
       "Q 197.691562 115.402188 197.691562 117.602188 \n",
       "L 197.691562 148.794063 \n",
       "Q 197.691562 150.994063 199.891562 150.994063 \n",
       "z\n",
       "\" style=\"fill: #eaeaf2; opacity: 0.8; stroke: #cccccc; stroke-linejoin: miter\"/>\n",
       "    </g>\n",
       "    <g id=\"PathCollection_3\">\n",
       "     <g>\n",
       "      <use xlink:href=\"#m9e5ab45b6e\" x=\"213.091562\" y=\"125.272969\" style=\"fill: #4c72b0; stroke: #333333\"/>\n",
       "     </g>\n",
       "    </g>\n",
       "    <g id=\"text_15\">\n",
       "     <!-- Class 0 -->\n",
       "     <g style=\"fill: #262626\" transform=\"translate(232.891562 128.160469) scale(0.11 -0.11)\">\n",
       "      <defs>\n",
       "       <path id=\"DejaVuSans-43\" d=\"M 4122 4306 \n",
       "L 4122 3641 \n",
       "Q 3803 3938 3442 4084 \n",
       "Q 3081 4231 2675 4231 \n",
       "Q 1875 4231 1450 3742 \n",
       "Q 1025 3253 1025 2328 \n",
       "Q 1025 1406 1450 917 \n",
       "Q 1875 428 2675 428 \n",
       "Q 3081 428 3442 575 \n",
       "Q 3803 722 4122 1019 \n",
       "L 4122 359 \n",
       "Q 3791 134 3420 21 \n",
       "Q 3050 -91 2638 -91 \n",
       "Q 1578 -91 968 557 \n",
       "Q 359 1206 359 2328 \n",
       "Q 359 3453 968 4101 \n",
       "Q 1578 4750 2638 4750 \n",
       "Q 3056 4750 3426 4639 \n",
       "Q 3797 4528 4122 4306 \n",
       "z\n",
       "\" transform=\"scale(0.015625)\"/>\n",
       "      </defs>\n",
       "      <use xlink:href=\"#DejaVuSans-43\"/>\n",
       "      <use xlink:href=\"#DejaVuSans-6c\" x=\"69.824219\"/>\n",
       "      <use xlink:href=\"#DejaVuSans-61\" x=\"97.607422\"/>\n",
       "      <use xlink:href=\"#DejaVuSans-73\" x=\"158.886719\"/>\n",
       "      <use xlink:href=\"#DejaVuSans-73\" x=\"210.986328\"/>\n",
       "      <use xlink:href=\"#DejaVuSans-20\" x=\"263.085938\"/>\n",
       "      <use xlink:href=\"#DejaVuSans-30\" x=\"294.873047\"/>\n",
       "     </g>\n",
       "    </g>\n",
       "    <g id=\"PathCollection_4\">\n",
       "     <g>\n",
       "      <use xlink:href=\"#m81f43886d3\" x=\"213.091562\" y=\"141.418906\" style=\"fill: #dd8452; stroke: #333333\"/>\n",
       "     </g>\n",
       "    </g>\n",
       "    <g id=\"text_16\">\n",
       "     <!-- Class 1 -->\n",
       "     <g style=\"fill: #262626\" transform=\"translate(232.891562 144.306406) scale(0.11 -0.11)\">\n",
       "      <use xlink:href=\"#DejaVuSans-43\"/>\n",
       "      <use xlink:href=\"#DejaVuSans-6c\" x=\"69.824219\"/>\n",
       "      <use xlink:href=\"#DejaVuSans-61\" x=\"97.607422\"/>\n",
       "      <use xlink:href=\"#DejaVuSans-73\" x=\"158.886719\"/>\n",
       "      <use xlink:href=\"#DejaVuSans-73\" x=\"210.986328\"/>\n",
       "      <use xlink:href=\"#DejaVuSans-20\" x=\"263.085938\"/>\n",
       "      <use xlink:href=\"#DejaVuSans-31\" x=\"294.873047\"/>\n",
       "     </g>\n",
       "    </g>\n",
       "   </g>\n",
       "  </g>\n",
       " </g>\n",
       " <defs>\n",
       "  <clipPath id=\"p4fdac1081a\">\n",
       "   <rect x=\"59.024844\" y=\"22.318125\" width=\"223.2\" height=\"221.76\"/>\n",
       "  </clipPath>\n",
       " </defs>\n",
       "</svg>\n"
      ],
      "text/plain": [
       "<Figure size 400x400 with 1 Axes>"
      ]
     },
     "metadata": {},
     "output_type": "display_data"
    }
   ],
   "source": [
    "visualize_samples(dataset.data, dataset.label)\n",
    "plt.show()"
   ]
  },
  {
   "cell_type": "markdown",
   "id": "dcc14f55",
   "metadata": {},
   "source": [
    "#### The data loader class\n",
    "\n",
    "The class `torch.utils.data.DataLoader` represents a Python iterable over a dataset with support for automatic batching, multi-process data loading and many more features. The data loader communicates with the dataset using the function `__getitem__`, and stacks its outputs as tensors over the first dimension to form a batch.\n",
    "In contrast to the dataset class, we usually don't have to define our own data loader class, but can just create an object of it with the dataset as input. Additionally, we can configure our data loader with the following input arguments (only a selection, see full list [here](https://pytorch.org/docs/stable/data.html#torch.utils.data.DataLoader)):\n",
    "\n",
    "* `batch_size`: Number of samples to stack per batch\n",
    "* `shuffle`: If True, the data is returned in a random order. This is important during training for introducing stochasticity. \n",
    "* `num_workers`: Number of subprocesses to use for data loading. The default, 0, means that the data will be loaded in the main process which can slow down training for datasets where loading a data point takes a considerable amount of time (e.g. large images). More workers are recommended for those, but can cause issues on Windows computers. For tiny datasets as ours, 0 workers are usually faster.\n",
    "* `persistent_workers`: If True, workers will not be shutdown after an iteration over the dataset has finished. This can be useful if the time per epoch is small, or if you face issues with workers being killed during training. \n",
    "* `drop_last`: If True, the last batch is dropped in case it is smaller than the specified batch size. This occurs when the dataset size is not a multiple of the batch size. Only potentially helpful during training to keep a consistent batch size.\n",
    "* `collate_fn`: A function that defines how the elements per batch are combined. By default, PyTorch stacks them as PyTorch tensors. For JAX, we will change it to NumPy arrays.\n",
    "\n",
    "Let's create a simple data loader below with a function that stacks batch elements as NumPy array instead of PyTorch Tensors:"
   ]
  },
  {
   "cell_type": "code",
   "execution_count": 43,
   "id": "73a2f9ae",
   "metadata": {},
   "outputs": [],
   "source": [
    "# This collate function is taken from the JAX tutorial with PyTorch Data Loading\n",
    "# https://jax.readthedocs.io/en/latest/notebooks/Neural_Network_and_Data_Loading.html\n",
    "def numpy_collate(batch):\n",
    "    if isinstance(batch[0], np.ndarray):\n",
    "        return np.stack(batch)\n",
    "    elif isinstance(batch[0], (tuple, list)):\n",
    "        transposed = zip(*batch)\n",
    "        return [numpy_collate(samples) for samples in transposed]\n",
    "    else:\n",
    "        return np.array(batch)\n",
    "\n",
    "\n",
    "data_loader = data.DataLoader(\n",
    "    dataset, batch_size=8, shuffle=True, collate_fn=numpy_collate\n",
    ")"
   ]
  },
  {
   "cell_type": "code",
   "execution_count": 44,
   "id": "05c00219",
   "metadata": {},
   "outputs": [
    {
     "name": "stdout",
     "output_type": "stream",
     "text": [
      "Data inputs (8, 2) \n",
      " [[ 0.97510356  1.0971571 ]\n",
      " [ 1.0519346   0.1532739 ]\n",
      " [ 0.15231241  1.0538911 ]\n",
      " [ 0.16324113  0.85698587]\n",
      " [-0.13044696  1.0669672 ]\n",
      " [ 0.90184915  0.04621035]\n",
      " [ 0.02930725 -0.07143514]\n",
      " [ 0.95146364  0.00818741]]\n",
      "Data labels (8,) \n",
      " [0 1 1 1 1 1 0 1]\n"
     ]
    }
   ],
   "source": [
    "# next(iter(...)) catches the first batch of the data loader\n",
    "# If shuffle is True, this will return a different batch every time we run this cell\n",
    "# For iterating over the whole dataset, we can simple use \"for batch in data_loader: ...\"\n",
    "data_inputs, data_labels = next(iter(data_loader))\n",
    "\n",
    "# The shape of the outputs are [batch_size, d_1,...,d_N] where d_1,...,d_N are the\n",
    "# dimensions of the data point returned from the dataset class\n",
    "print(\"Data inputs\", data_inputs.shape, \"\\n\", data_inputs)\n",
    "print(\"Data labels\", data_labels.shape, \"\\n\", data_labels)"
   ]
  },
  {
   "cell_type": "markdown",
   "id": "65a6c190",
   "metadata": {},
   "source": [
    "### Optimization\n",
    "\n",
    "After defining the model and the dataset, it is time to prepare the optimization of the model. During training, we will perform the following steps:\n",
    "\n",
    "1. Get a batch from the data loader\n",
    "2. Obtain the predictions from the model for the batch\n",
    "3. Calculate the loss based on the difference between predictions and labels\n",
    "4. Backpropagation: calculate the gradients for every parameter with respect to the loss\n",
    "5. Update the parameters of the model in the direction of the gradients\n",
    "\n",
    "We have seen how we can do step 1, 2 and 4 in JAX and Flax. Now, we will look at step 3 and 5."
   ]
  },
  {
   "cell_type": "markdown",
   "id": "6f70ea1c",
   "metadata": {},
   "source": [
    "#### Stochastic Gradient Descent\n",
    "\n",
    "For updating the parameters, Flax does not directly provide support for optimizers, but instead refers to another package called `optax` ([documentation](https://optax.readthedocs.io/en/latest/index.html)). Optax is an optimization library for JAX, which offers most common deep learning optimizers (SGD, Adam, Adagrad, RMSProp, etc.) and utilities (gradient clipping, weight decay, etc.)."
   ]
  },
  {
   "cell_type": "code",
   "execution_count": 46,
   "id": "b8706e3f",
   "metadata": {},
   "outputs": [],
   "source": [
    "try:\n",
    "    import optax\n",
    "except ModuleNotFoundError:  # Install optax if missing\n",
    "    #!pip install --quiet optax\n",
    "    #import optax\n",
    "    print(\"hey, you need optax\")"
   ]
  },
  {
   "cell_type": "markdown",
   "id": "12cac2ef",
   "metadata": {},
   "source": [
    "For now, we will use the simplest optimizer, namely `optax.sgd`. Stochastic Gradient Descent updates parameters by multiplying the gradients with a small constant, called learning rate, and subtracting those from the parameters (hence minimizing the loss). Therefore, we slowly move towards the direction of minimizing the loss. A good default value of the learning rate for a small network as ours is 0.1. Remember that we again aim to write functional code. Hence, the optimizer does not take as input the parameters, but only the optimizer hyperparameters."
   ]
  },
  {
   "cell_type": "code",
   "execution_count": 47,
   "id": "d9cf2212",
   "metadata": {},
   "outputs": [],
   "source": [
    "# Input to the optimizer are optimizer settings like learning rate\n",
    "optimizer = optax.sgd(learning_rate=0.1)"
   ]
  },
  {
   "cell_type": "markdown",
   "id": "9a7a01f3",
   "metadata": {},
   "source": [
    "Since JAX calculates gradients via function transformations, we do not have functions like `backward()`, `optimizer.step()` or `optimizer.backward()` as in PyTorch. Instead, a optimizer is a function on the parameters and gradients. To simplify this step and bundle important parts of the training procedure, Flax offers the `flax.training` package. As a first step, we can create a `TrainState` which bundles the parameters, the optimizer, and the forward step of the model:"
   ]
  },
  {
   "cell_type": "code",
   "execution_count": 48,
   "id": "40aecbc6",
   "metadata": {},
   "outputs": [],
   "source": [
    "from flax.training import train_state\n",
    "\n",
    "model_state = train_state.TrainState.create(\n",
    "    apply_fn=model.apply, params=params, tx=optimizer\n",
    ")"
   ]
  },
  {
   "cell_type": "markdown",
   "id": "1c303b3a",
   "metadata": {},
   "source": [
    "With this state object, it is easier to handle the training."
   ]
  },
  {
   "cell_type": "markdown",
   "id": "83850de5",
   "metadata": {},
   "source": [
    "#### Loss function\n",
    "\n",
    "For performing gradient updates, we need a function that can calculate the loss for a batch. Afterwards, we can apply JAX's gradient transformation to obtain a gradient function of it. In our setting, which is binary classification, we can use Binary Cross Entropy (BCE) which is defined as follows:\n",
    "\n",
    "$$\\mathcal{L}_{BCE} = -\\sum_i \\left[ y_i \\log x_i + (1 - y_i) \\log (1 - x_i) \\right]$$\n",
    "\n",
    "where $y$ are our labels, and $x$ our predictions, both in the range of $[0,1]$. Similar to PyTorch, Optax already provides a function for this: `optax.sigmoid_binary_cross_entropy(logits, labels)`. We calculate the loss on the logits instead of the sigmoid outputs for numerical stability. Let's write a function that takes as input a state (for the forward function), parameters, and a batch, and return the binary cross entropy loss and accuracy: "
   ]
  },
  {
   "cell_type": "code",
   "execution_count": 49,
   "id": "609fb4b3",
   "metadata": {},
   "outputs": [],
   "source": [
    "def calculate_loss_acc(state, params, batch):\n",
    "    data_input, labels = batch\n",
    "    # Obtain the logits and predictions of the model for the input data\n",
    "    logits = state.apply_fn(params, data_input).squeeze(axis=-1)\n",
    "    pred_labels = (logits > 0).astype(jnp.float32)\n",
    "    # Calculate the loss and accuracy\n",
    "    loss = optax.sigmoid_binary_cross_entropy(logits, labels).mean()\n",
    "    acc = (pred_labels == labels).mean()\n",
    "    return loss, acc"
   ]
  },
  {
   "cell_type": "markdown",
   "id": "4c47e776",
   "metadata": {},
   "source": [
    "Note that we explicitly add the parameters here as an input argument since we want to calculate the gradients with respect to them later. An example execution of the function would look like:"
   ]
  },
  {
   "cell_type": "code",
   "execution_count": 50,
   "id": "237b08e7",
   "metadata": {},
   "outputs": [
    {
     "data": {
      "text/plain": [
       "(Array(0.76720595, dtype=float32), Array(0.375, dtype=float32))"
      ]
     },
     "execution_count": 50,
     "metadata": {},
     "output_type": "execute_result"
    }
   ],
   "source": [
    "batch = next(iter(data_loader))\n",
    "calculate_loss_acc(model_state, model_state.params, batch)"
   ]
  },
  {
   "cell_type": "markdown",
   "id": "979978ba",
   "metadata": {},
   "source": [
    "### Creating an efficient training and validation step\n",
    "\n",
    "With this loss function and the optimizer, we are now ready to create an efficient training and validation/test step. First, let's consider the training. As input to each training step, we have a training state and a batch. We then want to calculate the loss for the input and take the gradients of it. Finally, we update the parameters with our optimizer and return the new state. All this can be summarized in the following function:"
   ]
  },
  {
   "cell_type": "code",
   "execution_count": 51,
   "id": "348a627f",
   "metadata": {},
   "outputs": [],
   "source": [
    "@jax.jit  # Jit the function for efficiency\n",
    "def train_step(state, batch):\n",
    "    # Gradient function\n",
    "    grad_fn = jax.value_and_grad(\n",
    "        calculate_loss_acc,  # Function to calculate the loss\n",
    "        argnums=1,  # Parameters are second argument of the function\n",
    "        has_aux=True,  # Function has additional outputs, here accuracy\n",
    "    )\n",
    "    # Determine gradients for current model, parameters and batch\n",
    "    (loss, acc), grads = grad_fn(state, state.params, batch)\n",
    "    # Perform parameter update with gradients and optimizer\n",
    "    state = state.apply_gradients(grads=grads)\n",
    "    # Return state and any other value we might want\n",
    "    return state, loss, acc"
   ]
  },
  {
   "cell_type": "markdown",
   "id": "37d8a0bb",
   "metadata": {},
   "source": [
    "By using the transformation `jax.jit`, the whole gradient calculation and application is optimized in XLA, providing an efficient function for updating the model.\n",
    "\n",
    "Next, let's look at the evaluation function. Here, we do not need to calculate gradients, but only want to get the accuracy of the model for the batch. This becomes a simpler version of the training step:"
   ]
  },
  {
   "cell_type": "code",
   "execution_count": 52,
   "id": "85205245",
   "metadata": {},
   "outputs": [],
   "source": [
    "@jax.jit  # Jit the function for efficiency\n",
    "def eval_step(state, batch):\n",
    "    # Determine the accuracy\n",
    "    _, acc = calculate_loss_acc(state, state.params, batch)\n",
    "    return acc"
   ]
  },
  {
   "cell_type": "markdown",
   "id": "4ebd224e",
   "metadata": {},
   "source": [
    "These two functions provide us now efficient utilities to train our model."
   ]
  },
  {
   "cell_type": "markdown",
   "id": "df0b91f6",
   "metadata": {},
   "source": [
    "### Training\n",
    "\n",
    "Finally, we are ready to train our model. As a first step, we create a slightly larger dataset and specify a data loader with a larger batch size. "
   ]
  },
  {
   "cell_type": "code",
   "execution_count": 53,
   "id": "ec924160",
   "metadata": {},
   "outputs": [],
   "source": [
    "train_dataset = XORDataset(size=2500, seed=42)\n",
    "train_data_loader = data.DataLoader(\n",
    "    train_dataset, batch_size=128, shuffle=True, collate_fn=numpy_collate\n",
    ")"
   ]
  },
  {
   "cell_type": "markdown",
   "id": "f074d1a0",
   "metadata": {},
   "source": [
    "Now, we can write a small training function. In contrast to PyTorch, we do not need to explicitly push our model to GPU, since the parameters are already automatically created on GPU. Further, since the model itself is stateless, we do not have a `train()` or `eval()` function to switch between modes of e.g. dropout. When necessary, we can add an argument `train : bool` to the model forward pass. For this simple network here, however, this is not necessary.\n",
    "\n",
    "Following the PyTorch tutorial, let's write a function here that trains a model for several epochs:"
   ]
  },
  {
   "cell_type": "code",
   "execution_count": 54,
   "id": "afdc0424",
   "metadata": {},
   "outputs": [],
   "source": [
    "def train_model(state, data_loader, num_epochs=100):\n",
    "    # Training loop\n",
    "    for epoch in tqdm(range(num_epochs)):\n",
    "        for batch in data_loader:\n",
    "            state, loss, acc = train_step(state, batch)\n",
    "            # We could use the loss and accuracy for logging here, e.g. in TensorBoard\n",
    "            # For simplicity, we skip this part here\n",
    "    return state"
   ]
  },
  {
   "cell_type": "code",
   "execution_count": 55,
   "id": "5eb65c92",
   "metadata": {},
   "outputs": [
    {
     "data": {
      "application/vnd.jupyter.widget-view+json": {
       "model_id": "450887e9c42f47c680a258223f9ded97",
       "version_major": 2,
       "version_minor": 0
      },
      "text/plain": [
       "  0%|          | 0/100 [00:00<?, ?it/s]"
      ]
     },
     "metadata": {},
     "output_type": "display_data"
    }
   ],
   "source": [
    "trained_model_state = train_model(model_state, train_data_loader, num_epochs=100)"
   ]
  },
  {
   "cell_type": "markdown",
   "id": "0dd18970",
   "metadata": {},
   "source": [
    "Training this model for 100 epochs does take barely a second... This shows the impressive speed JAX can reach, especially for small models!"
   ]
  },
  {
   "cell_type": "markdown",
   "id": "d93c37e6",
   "metadata": {},
   "source": [
    "#### Saving a model\n",
    "\n",
    "After we finished training a model, we save the model to disk so that we can load the same weights at a later time. In JAX, this means we want to save the `state.params` dictionary. Luckily, the `flax.training` package again provides us with nice utilities for that, which uses TensorFlow as underlying framework."
   ]
  },
  {
   "cell_type": "code",
   "execution_count": 56,
   "id": "dba666a2",
   "metadata": {},
   "outputs": [
    {
     "name": "stderr",
     "output_type": "stream",
     "text": [
      "WARNING:absl:Tensorflow library not found, tensorflow.io.gfile operations will use native shim calls. GCS paths (i.e. 'gs://...') cannot be accessed.\n"
     ]
    }
   ],
   "source": [
    "from flax.training import checkpoints\n",
    "from pathlib import Path"
   ]
  },
  {
   "cell_type": "markdown",
   "id": "1b83eab5",
   "metadata": {},
   "source": [
    "To save the whole model state, we can write:"
   ]
  },
  {
   "cell_type": "code",
   "execution_count": 57,
   "id": "a50e8ded",
   "metadata": {},
   "outputs": [
    {
     "data": {
      "text/plain": [
       "'statedicts/my_jax_model100'"
      ]
     },
     "execution_count": 57,
     "metadata": {},
     "output_type": "execute_result"
    }
   ],
   "source": [
    "# define where to save model checkpoints\n",
    "statedicts_folder = Path(\"statedicts\")\n",
    "\n",
    "# create statedicts folder if it does not already exist\n",
    "statedicts_folder.mkdir(parents=True, exist_ok=True)\n",
    "\n",
    "checkpoints.save_checkpoint(\n",
    "    ckpt_dir=str(statedicts_folder),  # Folder to save checkpoint in\n",
    "    target=trained_model_state,  # What to save. To only save parameters, use model_state.params\n",
    "    step=100,  # Training step or other metric to save best model on\n",
    "    prefix=\"my_jax_model\",  # Checkpoint file name prefix\n",
    "    overwrite=True,  # Overwrite existing checkpoint files\n",
    ")"
   ]
  },
  {
   "cell_type": "markdown",
   "id": "ad255da8",
   "metadata": {},
   "source": [
    "To load this state dict again, we can use `checkpoints.restore_checkpoint`:"
   ]
  },
  {
   "cell_type": "code",
   "execution_count": 58,
   "id": "4254ffa7",
   "metadata": {},
   "outputs": [],
   "source": [
    "loaded_model_state = checkpoints.restore_checkpoint(\n",
    "    ckpt_dir=\"my_checkpoints/\",  # Folder with the checkpoints\n",
    "    target=model_state,  # (optional) matching object to rebuild state in\n",
    "    prefix=\"my_model\",  # Checkpoint file name prefix\n",
    ")"
   ]
  },
  {
   "cell_type": "markdown",
   "id": "20e4f27b",
   "metadata": {},
   "source": [
    "The states `loaded_model_state` and `trained_model_state` have the identical parameter values."
   ]
  },
  {
   "cell_type": "markdown",
   "id": "e7be32dc",
   "metadata": {},
   "source": [
    "### Evaluation\n",
    "\n",
    "Once we have trained a model, it is time to evaluate it on a held-out test set. As our dataset consist of randomly generated data points, we need to first create a test set with a corresponding data loader."
   ]
  },
  {
   "cell_type": "code",
   "execution_count": 59,
   "id": "9ef9eeca",
   "metadata": {},
   "outputs": [],
   "source": [
    "test_dataset = XORDataset(size=500, seed=123)\n",
    "# drop_last -> Don't drop the last batch although it is smaller than 128\n",
    "test_data_loader = data.DataLoader(\n",
    "    test_dataset,\n",
    "    batch_size=128,\n",
    "    shuffle=False,\n",
    "    drop_last=False,\n",
    "    collate_fn=numpy_collate,\n",
    ")"
   ]
  },
  {
   "cell_type": "markdown",
   "id": "c4310486",
   "metadata": {},
   "source": [
    "We can use our `eval_step` function to efficiently evaluate our model:"
   ]
  },
  {
   "cell_type": "code",
   "execution_count": 60,
   "id": "4e860561",
   "metadata": {},
   "outputs": [],
   "source": [
    "def eval_model(state, data_loader):\n",
    "    all_accs, batch_sizes = [], []\n",
    "    for batch in data_loader:\n",
    "        batch_acc = eval_step(state, batch)\n",
    "        all_accs.append(batch_acc)\n",
    "        batch_sizes.append(batch[0].shape[0])\n",
    "    # Weighted average since some batches might be smaller\n",
    "    acc = sum([a * b for a, b in zip(all_accs, batch_sizes)]) / sum(batch_sizes)\n",
    "    print(f\"Accuracy of the model: {100.0*acc:4.2f}%\")"
   ]
  },
  {
   "cell_type": "code",
   "execution_count": 61,
   "id": "cf27466c",
   "metadata": {},
   "outputs": [
    {
     "name": "stdout",
     "output_type": "stream",
     "text": [
      "Accuracy of the model: 100.00%\n"
     ]
    }
   ],
   "source": [
    "eval_model(trained_model_state, test_data_loader)"
   ]
  },
  {
   "cell_type": "markdown",
   "id": "277e4ff5",
   "metadata": {},
   "source": [
    "If we trained our model correctly, we should see a score close to 100% accuracy. However, this is only possible because of our simple task, and unfortunately, we usually don't get such high scores on test sets of more complex tasks."
   ]
  },
  {
   "cell_type": "markdown",
   "id": "279eeb39",
   "metadata": {},
   "source": [
    "#### Binding model parameters\n",
    "\n",
    "Once we have trained the model, we might want to do multiple application of the same model and parameters. It can get a bit annoying to always write `model.apply(params, ...)` and keep track of the model and parameters separately. To prevent this, Flax's module can be bound to specific parameters to simplify our application. Specifically, we can bind the instance `model` of our `SimpleClassifier` class to our trained parameter as follows:"
   ]
  },
  {
   "cell_type": "code",
   "execution_count": 62,
   "id": "e56bdbb2",
   "metadata": {},
   "outputs": [],
   "source": [
    "trained_model = model.bind(trained_model_state.params)"
   ]
  },
  {
   "cell_type": "markdown",
   "id": "3fab4544",
   "metadata": {},
   "source": [
    "With the model being binded to the parameters, we can use it as we would any PyTorch module. For instance, to apply it to an input array, we can simply run:"
   ]
  },
  {
   "cell_type": "code",
   "execution_count": 63,
   "id": "43470946",
   "metadata": {},
   "outputs": [
    {
     "data": {
      "text/plain": [
       "(8, 1)"
      ]
     },
     "execution_count": 63,
     "metadata": {},
     "output_type": "execute_result"
    }
   ],
   "source": [
    "data_input, labels = next(iter(data_loader))\n",
    "out = trained_model(data_input)  # No explicit parameter passing necessary anymore\n",
    "out.shape"
   ]
  },
  {
   "cell_type": "markdown",
   "id": "0adebac4",
   "metadata": {},
   "source": [
    "This can simplify the analysis of models, and provide a more familiar interface to PyTorch users."
   ]
  },
  {
   "cell_type": "markdown",
   "id": "d9ae9f5a",
   "metadata": {},
   "source": [
    "#### Visualizing classification boundaries\n",
    "\n",
    "To visualize what our model has learned, we can perform a prediction for every data point in a range of $[-0.5, 1.5]$, and visualize the predicted class as in the sample figure at the beginning of this section. This shows where the model has created decision boundaries, and which points would be classified as $0$, and which as $1$. We therefore get a background image out of blue (class 0) and orange (class 1). The spots where the model is uncertain we will see a blurry overlap. The specific code is less relevant compared to the output figure which should hopefully show us a clear separation of classes:"
   ]
  },
  {
   "cell_type": "code",
   "execution_count": 64,
   "id": "3402ee4c",
   "metadata": {},
   "outputs": [
    {
     "data": {
      "application/pdf": "[encoded data removed]",
      "image/svg+xml": [
       "<?xml version=\"1.0\" encoding=\"utf-8\" standalone=\"no\"?>\n",
       "<!DOCTYPE svg PUBLIC \"-//W3C//DTD SVG 1.1//EN\"\n",
       "  \"http://www.w3.org/Graphics/SVG/1.1/DTD/svg11.dtd\">\n",
       "<svg xmlns:xlink=\"http://www.w3.org/1999/xlink\" width=\"303.730313pt\" height=\"287.037813pt\" viewBox=\"0 0 303.730313 287.037813\" xmlns=\"http://www.w3.org/2000/svg\" version=\"1.1\">\n",
       " <metadata>\n",
       "  <rdf:RDF xmlns:dc=\"http://purl.org/dc/elements/1.1/\" xmlns:cc=\"http://creativecommons.org/ns#\" xmlns:rdf=\"http://www.w3.org/1999/02/22-rdf-syntax-ns#\">\n",
       "   <cc:Work>\n",
       "    <dc:type rdf:resource=\"http://purl.org/dc/dcmitype/StillImage\"/>\n",
       "    <dc:date>2023-03-06T00:08:39.479903</dc:date>\n",
       "    <dc:format>image/svg+xml</dc:format>\n",
       "    <dc:creator>\n",
       "     <cc:Agent>\n",
       "      <dc:title>Matplotlib v3.7.1, https://matplotlib.org/</dc:title>\n",
       "     </cc:Agent>\n",
       "    </dc:creator>\n",
       "   </cc:Work>\n",
       "  </rdf:RDF>\n",
       " </metadata>\n",
       " <defs>\n",
       "  <style type=\"text/css\">*{stroke-linejoin: round; stroke-linecap: butt}</style>\n",
       " </defs>\n",
       " <g id=\"figure_1\">\n",
       "  <g id=\"patch_1\">\n",
       "   <path d=\"M 0 287.037813 \n",
       "L 303.730313 287.037813 \n",
       "L 303.730313 0 \n",
       "L 0 0 \n",
       "z\n",
       "\" style=\"fill: #ffffff\"/>\n",
       "  </g>\n",
       "  <g id=\"axes_1\">\n",
       "   <g id=\"patch_2\">\n",
       "    <path d=\"M 66.023594 244.078125 \n",
       "L 287.783594 244.078125 \n",
       "L 287.783594 22.318125 \n",
       "L 66.023594 22.318125 \n",
       "z\n",
       "\" style=\"fill: #eaeaf2\"/>\n",
       "   </g>\n",
       "   <g clip-path=\"url(#p1258ac88ed)\">\n",
       "    <image xlink:href=\"data:image/png;base64,\n",
       "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\" id=\"image4a8b295e66\" transform=\"scale(1 -1) translate(0 -221.904)\" x=\"66.023594\" y=\"-22.174125\" width=\"221.904\" height=\"221.904\"/>\n",
       "   </g>\n",
       "   <g id=\"matplotlib.axis_1\">\n",
       "    <g id=\"xtick_1\">\n",
       "     <g id=\"text_1\">\n",
       "      <!-- −0.5 -->\n",
       "      <g style=\"fill: #262626\" transform=\"translate(52.668047 261.936406) scale(0.11 -0.11)\">\n",
       "       <defs>\n",
       "        <path id=\"DejaVuSans-2212\" d=\"M 678 2272 \n",
       "L 4684 2272 \n",
       "L 4684 1741 \n",
       "L 678 1741 \n",
       "L 678 2272 \n",
       "z\n",
       "\" transform=\"scale(0.015625)\"/>\n",
       "        <path id=\"DejaVuSans-30\" d=\"M 2034 4250 \n",
       "Q 1547 4250 1301 3770 \n",
       "Q 1056 3291 1056 2328 \n",
       "Q 1056 1369 1301 889 \n",
       "Q 1547 409 2034 409 \n",
       "Q 2525 409 2770 889 \n",
       "Q 3016 1369 3016 2328 \n",
       "Q 3016 3291 2770 3770 \n",
       "Q 2525 4250 2034 4250 \n",
       "z\n",
       "M 2034 4750 \n",
       "Q 2819 4750 3233 4129 \n",
       "Q 3647 3509 3647 2328 \n",
       "Q 3647 1150 3233 529 \n",
       "Q 2819 -91 2034 -91 \n",
       "Q 1250 -91 836 529 \n",
       "Q 422 1150 422 2328 \n",
       "Q 422 3509 836 4129 \n",
       "Q 1250 4750 2034 4750 \n",
       "z\n",
       "\" transform=\"scale(0.015625)\"/>\n",
       "        <path id=\"DejaVuSans-2e\" d=\"M 684 794 \n",
       "L 1344 794 \n",
       "L 1344 0 \n",
       "L 684 0 \n",
       "L 684 794 \n",
       "z\n",
       "\" transform=\"scale(0.015625)\"/>\n",
       "        <path id=\"DejaVuSans-35\" d=\"M 691 4666 \n",
       "L 3169 4666 \n",
       "L 3169 4134 \n",
       "L 1269 4134 \n",
       "L 1269 2991 \n",
       "Q 1406 3038 1543 3061 \n",
       "Q 1681 3084 1819 3084 \n",
       "Q 2600 3084 3056 2656 \n",
       "Q 3513 2228 3513 1497 \n",
       "Q 3513 744 3044 326 \n",
       "Q 2575 -91 1722 -91 \n",
       "Q 1428 -91 1123 -41 \n",
       "Q 819 9 494 109 \n",
       "L 494 744 \n",
       "Q 775 591 1075 516 \n",
       "Q 1375 441 1709 441 \n",
       "Q 2250 441 2565 725 \n",
       "Q 2881 1009 2881 1497 \n",
       "Q 2881 1984 2565 2268 \n",
       "Q 2250 2553 1709 2553 \n",
       "Q 1456 2553 1204 2497 \n",
       "Q 953 2441 691 2322 \n",
       "L 691 4666 \n",
       "z\n",
       "\" transform=\"scale(0.015625)\"/>\n",
       "       </defs>\n",
       "       <use xlink:href=\"#DejaVuSans-2212\"/>\n",
       "       <use xlink:href=\"#DejaVuSans-30\" x=\"83.789062\"/>\n",
       "       <use xlink:href=\"#DejaVuSans-2e\" x=\"147.412109\"/>\n",
       "       <use xlink:href=\"#DejaVuSans-35\" x=\"179.199219\"/>\n",
       "      </g>\n",
       "     </g>\n",
       "    </g>\n",
       "    <g id=\"xtick_2\">\n",
       "     <g id=\"text_2\">\n",
       "      <!-- 0.0 -->\n",
       "      <g style=\"fill: #262626\" transform=\"translate(112.716875 261.936406) scale(0.11 -0.11)\">\n",
       "       <use xlink:href=\"#DejaVuSans-30\"/>\n",
       "       <use xlink:href=\"#DejaVuSans-2e\" x=\"63.623047\"/>\n",
       "       <use xlink:href=\"#DejaVuSans-30\" x=\"95.410156\"/>\n",
       "      </g>\n",
       "     </g>\n",
       "    </g>\n",
       "    <g id=\"xtick_3\">\n",
       "     <g id=\"text_3\">\n",
       "      <!-- 0.5 -->\n",
       "      <g style=\"fill: #262626\" transform=\"translate(168.156875 261.936406) scale(0.11 -0.11)\">\n",
       "       <use xlink:href=\"#DejaVuSans-30\"/>\n",
       "       <use xlink:href=\"#DejaVuSans-2e\" x=\"63.623047\"/>\n",
       "       <use xlink:href=\"#DejaVuSans-35\" x=\"95.410156\"/>\n",
       "      </g>\n",
       "     </g>\n",
       "    </g>\n",
       "    <g id=\"xtick_4\">\n",
       "     <g id=\"text_4\">\n",
       "      <!-- 1.0 -->\n",
       "      <g style=\"fill: #262626\" transform=\"translate(223.596875 261.936406) scale(0.11 -0.11)\">\n",
       "       <defs>\n",
       "        <path id=\"DejaVuSans-31\" d=\"M 794 531 \n",
       "L 1825 531 \n",
       "L 1825 4091 \n",
       "L 703 3866 \n",
       "L 703 4441 \n",
       "L 1819 4666 \n",
       "L 2450 4666 \n",
       "L 2450 531 \n",
       "L 3481 531 \n",
       "L 3481 0 \n",
       "L 794 0 \n",
       "L 794 531 \n",
       "z\n",
       "\" transform=\"scale(0.015625)\"/>\n",
       "       </defs>\n",
       "       <use xlink:href=\"#DejaVuSans-31\"/>\n",
       "       <use xlink:href=\"#DejaVuSans-2e\" x=\"63.623047\"/>\n",
       "       <use xlink:href=\"#DejaVuSans-30\" x=\"95.410156\"/>\n",
       "      </g>\n",
       "     </g>\n",
       "    </g>\n",
       "    <g id=\"xtick_5\">\n",
       "     <g id=\"text_5\">\n",
       "      <!-- 1.5 -->\n",
       "      <g style=\"fill: #262626\" transform=\"translate(279.036875 261.936406) scale(0.11 -0.11)\">\n",
       "       <use xlink:href=\"#DejaVuSans-31\"/>\n",
       "       <use xlink:href=\"#DejaVuSans-2e\" x=\"63.623047\"/>\n",
       "       <use xlink:href=\"#DejaVuSans-35\" x=\"95.410156\"/>\n",
       "      </g>\n",
       "     </g>\n",
       "    </g>\n",
       "    <g id=\"text_6\">\n",
       "     <!-- $x_1$ -->\n",
       "     <g style=\"fill: #262626\" transform=\"translate(170.483594 277.342188) scale(0.12 -0.12)\">\n",
       "      <defs>\n",
       "       <path id=\"DejaVuSans-Oblique-78\" d=\"M 3841 3500 \n",
       "L 2234 1784 \n",
       "L 3219 0 \n",
       "L 2559 0 \n",
       "L 1819 1388 \n",
       "L 531 0 \n",
       "L -166 0 \n",
       "L 1556 1844 \n",
       "L 641 3500 \n",
       "L 1300 3500 \n",
       "L 1972 2234 \n",
       "L 3144 3500 \n",
       "L 3841 3500 \n",
       "z\n",
       "\" transform=\"scale(0.015625)\"/>\n",
       "      </defs>\n",
       "      <use xlink:href=\"#DejaVuSans-Oblique-78\" transform=\"translate(0 0.3125)\"/>\n",
       "      <use xlink:href=\"#DejaVuSans-31\" transform=\"translate(59.179688 -16.09375) scale(0.7)\"/>\n",
       "     </g>\n",
       "    </g>\n",
       "   </g>\n",
       "   <g id=\"matplotlib.axis_2\">\n",
       "    <g id=\"ytick_1\">\n",
       "     <g id=\"text_7\">\n",
       "      <!-- −0.50 -->\n",
       "      <g style=\"fill: #262626\" transform=\"translate(22.81375 248.257266) scale(0.11 -0.11)\">\n",
       "       <use xlink:href=\"#DejaVuSans-2212\"/>\n",
       "       <use xlink:href=\"#DejaVuSans-30\" x=\"83.789062\"/>\n",
       "       <use xlink:href=\"#DejaVuSans-2e\" x=\"147.412109\"/>\n",
       "       <use xlink:href=\"#DejaVuSans-35\" x=\"179.199219\"/>\n",
       "       <use xlink:href=\"#DejaVuSans-30\" x=\"242.822266\"/>\n",
       "      </g>\n",
       "     </g>\n",
       "    </g>\n",
       "    <g id=\"ytick_2\">\n",
       "     <g id=\"text_8\">\n",
       "      <!-- −0.25 -->\n",
       "      <g style=\"fill: #262626\" transform=\"translate(22.81375 220.537266) scale(0.11 -0.11)\">\n",
       "       <defs>\n",
       "        <path id=\"DejaVuSans-32\" d=\"M 1228 531 \n",
       "L 3431 531 \n",
       "L 3431 0 \n",
       "L 469 0 \n",
       "L 469 531 \n",
       "Q 828 903 1448 1529 \n",
       "Q 2069 2156 2228 2338 \n",
       "Q 2531 2678 2651 2914 \n",
       "Q 2772 3150 2772 3378 \n",
       "Q 2772 3750 2511 3984 \n",
       "Q 2250 4219 1831 4219 \n",
       "Q 1534 4219 1204 4116 \n",
       "Q 875 4013 500 3803 \n",
       "L 500 4441 \n",
       "Q 881 4594 1212 4672 \n",
       "Q 1544 4750 1819 4750 \n",
       "Q 2544 4750 2975 4387 \n",
       "Q 3406 4025 3406 3419 \n",
       "Q 3406 3131 3298 2873 \n",
       "Q 3191 2616 2906 2266 \n",
       "Q 2828 2175 2409 1742 \n",
       "Q 1991 1309 1228 531 \n",
       "z\n",
       "\" transform=\"scale(0.015625)\"/>\n",
       "       </defs>\n",
       "       <use xlink:href=\"#DejaVuSans-2212\"/>\n",
       "       <use xlink:href=\"#DejaVuSans-30\" x=\"83.789062\"/>\n",
       "       <use xlink:href=\"#DejaVuSans-2e\" x=\"147.412109\"/>\n",
       "       <use xlink:href=\"#DejaVuSans-32\" x=\"179.199219\"/>\n",
       "       <use xlink:href=\"#DejaVuSans-35\" x=\"242.822266\"/>\n",
       "      </g>\n",
       "     </g>\n",
       "    </g>\n",
       "    <g id=\"ytick_3\">\n",
       "     <g id=\"text_9\">\n",
       "      <!-- 0.00 -->\n",
       "      <g style=\"fill: #262626\" transform=\"translate(32.031406 192.817266) scale(0.11 -0.11)\">\n",
       "       <use xlink:href=\"#DejaVuSans-30\"/>\n",
       "       <use xlink:href=\"#DejaVuSans-2e\" x=\"63.623047\"/>\n",
       "       <use xlink:href=\"#DejaVuSans-30\" x=\"95.410156\"/>\n",
       "       <use xlink:href=\"#DejaVuSans-30\" x=\"159.033203\"/>\n",
       "      </g>\n",
       "     </g>\n",
       "    </g>\n",
       "    <g id=\"ytick_4\">\n",
       "     <g id=\"text_10\">\n",
       "      <!-- 0.25 -->\n",
       "      <g style=\"fill: #262626\" transform=\"translate(32.031406 165.097266) scale(0.11 -0.11)\">\n",
       "       <use xlink:href=\"#DejaVuSans-30\"/>\n",
       "       <use xlink:href=\"#DejaVuSans-2e\" x=\"63.623047\"/>\n",
       "       <use xlink:href=\"#DejaVuSans-32\" x=\"95.410156\"/>\n",
       "       <use xlink:href=\"#DejaVuSans-35\" x=\"159.033203\"/>\n",
       "      </g>\n",
       "     </g>\n",
       "    </g>\n",
       "    <g id=\"ytick_5\">\n",
       "     <g id=\"text_11\">\n",
       "      <!-- 0.50 -->\n",
       "      <g style=\"fill: #262626\" transform=\"translate(32.031406 137.377266) scale(0.11 -0.11)\">\n",
       "       <use xlink:href=\"#DejaVuSans-30\"/>\n",
       "       <use xlink:href=\"#DejaVuSans-2e\" x=\"63.623047\"/>\n",
       "       <use xlink:href=\"#DejaVuSans-35\" x=\"95.410156\"/>\n",
       "       <use xlink:href=\"#DejaVuSans-30\" x=\"159.033203\"/>\n",
       "      </g>\n",
       "     </g>\n",
       "    </g>\n",
       "    <g id=\"ytick_6\">\n",
       "     <g id=\"text_12\">\n",
       "      <!-- 0.75 -->\n",
       "      <g style=\"fill: #262626\" transform=\"translate(32.031406 109.657266) scale(0.11 -0.11)\">\n",
       "       <defs>\n",
       "        <path id=\"DejaVuSans-37\" d=\"M 525 4666 \n",
       "L 3525 4666 \n",
       "L 3525 4397 \n",
       "L 1831 0 \n",
       "L 1172 0 \n",
       "L 2766 4134 \n",
       "L 525 4134 \n",
       "L 525 4666 \n",
       "z\n",
       "\" transform=\"scale(0.015625)\"/>\n",
       "       </defs>\n",
       "       <use xlink:href=\"#DejaVuSans-30\"/>\n",
       "       <use xlink:href=\"#DejaVuSans-2e\" x=\"63.623047\"/>\n",
       "       <use xlink:href=\"#DejaVuSans-37\" x=\"95.410156\"/>\n",
       "       <use xlink:href=\"#DejaVuSans-35\" x=\"159.033203\"/>\n",
       "      </g>\n",
       "     </g>\n",
       "    </g>\n",
       "    <g id=\"ytick_7\">\n",
       "     <g id=\"text_13\">\n",
       "      <!-- 1.00 -->\n",
       "      <g style=\"fill: #262626\" transform=\"translate(32.031406 81.937266) scale(0.11 -0.11)\">\n",
       "       <use xlink:href=\"#DejaVuSans-31\"/>\n",
       "       <use xlink:href=\"#DejaVuSans-2e\" x=\"63.623047\"/>\n",
       "       <use xlink:href=\"#DejaVuSans-30\" x=\"95.410156\"/>\n",
       "       <use xlink:href=\"#DejaVuSans-30\" x=\"159.033203\"/>\n",
       "      </g>\n",
       "     </g>\n",
       "    </g>\n",
       "    <g id=\"ytick_8\">\n",
       "     <g id=\"text_14\">\n",
       "      <!-- 1.25 -->\n",
       "      <g style=\"fill: #262626\" transform=\"translate(32.031406 54.217266) scale(0.11 -0.11)\">\n",
       "       <use xlink:href=\"#DejaVuSans-31\"/>\n",
       "       <use xlink:href=\"#DejaVuSans-2e\" x=\"63.623047\"/>\n",
       "       <use xlink:href=\"#DejaVuSans-32\" x=\"95.410156\"/>\n",
       "       <use xlink:href=\"#DejaVuSans-35\" x=\"159.033203\"/>\n",
       "      </g>\n",
       "     </g>\n",
       "    </g>\n",
       "    <g id=\"ytick_9\">\n",
       "     <g id=\"text_15\">\n",
       "      <!-- 1.50 -->\n",
       "      <g style=\"fill: #262626\" transform=\"translate(32.031406 26.497266) scale(0.11 -0.11)\">\n",
       "       <use xlink:href=\"#DejaVuSans-31\"/>\n",
       "       <use xlink:href=\"#DejaVuSans-2e\" x=\"63.623047\"/>\n",
       "       <use xlink:href=\"#DejaVuSans-35\" x=\"95.410156\"/>\n",
       "       <use xlink:href=\"#DejaVuSans-30\" x=\"159.033203\"/>\n",
       "      </g>\n",
       "     </g>\n",
       "    </g>\n",
       "    <g id=\"text_16\">\n",
       "     <!-- $x_2$ -->\n",
       "     <g style=\"fill: #262626\" transform=\"translate(16.318125 139.618125) rotate(-90) scale(0.12 -0.12)\">\n",
       "      <use xlink:href=\"#DejaVuSans-Oblique-78\" transform=\"translate(0 0.3125)\"/>\n",
       "      <use xlink:href=\"#DejaVuSans-32\" transform=\"translate(59.179688 -16.09375) scale(0.7)\"/>\n",
       "     </g>\n",
       "    </g>\n",
       "   </g>\n",
       "   <g id=\"PathCollection_1\">\n",
       "    <defs>\n",
       "     <path id=\"m44231035e3\" d=\"M 0 3 \n",
       "C 0.795609 3 1.55874 2.683901 2.12132 2.12132 \n",
       "C 2.683901 1.55874 3 0.795609 3 0 \n",
       "C 3 -0.795609 2.683901 -1.55874 2.12132 -2.12132 \n",
       "C 1.55874 -2.683901 0.795609 -3 0 -3 \n",
       "C -0.795609 -3 -1.55874 -2.683901 -2.12132 -2.12132 \n",
       "C -2.683901 -1.55874 -3 -0.795609 -3 0 \n",
       "C -3 0.795609 -2.683901 1.55874 -2.12132 2.12132 \n",
       "C -1.55874 2.683901 -0.795609 3 0 3 \n",
       "z\n",
       "\" style=\"stroke: #333333\"/>\n",
       "    </defs>\n",
       "    <g clip-path=\"url(#p1258ac88ed)\">\n",
       "     <use xlink:href=\"#m44231035e3\" x=\"124.713181\" y=\"196.558853\" style=\"fill: #4c72b0; stroke: #333333\"/>\n",
       "     <use xlink:href=\"#m44231035e3\" x=\"108.25442\" y=\"181.358259\" style=\"fill: #4c72b0; stroke: #333333\"/>\n",
       "     <use xlink:href=\"#m44231035e3\" x=\"134.310102\" y=\"197.737851\" style=\"fill: #4c72b0; stroke: #333333\"/>\n",
       "     <use xlink:href=\"#m44231035e3\" x=\"132.145509\" y=\"184.06121\" style=\"fill: #4c72b0; stroke: #333333\"/>\n",
       "     <use xlink:href=\"#m44231035e3\" x=\"229.62273\" y=\"86.115549\" style=\"fill: #4c72b0; stroke: #333333\"/>\n",
       "     <use xlink:href=\"#m44231035e3\" x=\"235.41154\" y=\"68.586312\" style=\"fill: #4c72b0; stroke: #333333\"/>\n",
       "     <use xlink:href=\"#m44231035e3\" x=\"232.487762\" y=\"61.641336\" style=\"fill: #4c72b0; stroke: #333333\"/>\n",
       "     <use xlink:href=\"#m44231035e3\" x=\"229.409082\" y=\"47.596893\" style=\"fill: #4c72b0; stroke: #333333\"/>\n",
       "     <use xlink:href=\"#m44231035e3\" x=\"239.280996\" y=\"87.26229\" style=\"fill: #4c72b0; stroke: #333333\"/>\n",
       "     <use xlink:href=\"#m44231035e3\" x=\"109.589538\" y=\"183.288471\" style=\"fill: #4c72b0; stroke: #333333\"/>\n",
       "     <use xlink:href=\"#m44231035e3\" x=\"229.865841\" y=\"69.841288\" style=\"fill: #4c72b0; stroke: #333333\"/>\n",
       "     <use xlink:href=\"#m44231035e3\" x=\"116.512636\" y=\"179.142375\" style=\"fill: #4c72b0; stroke: #333333\"/>\n",
       "     <use xlink:href=\"#m44231035e3\" x=\"123.837465\" y=\"202.450877\" style=\"fill: #4c72b0; stroke: #333333\"/>\n",
       "     <use xlink:href=\"#m44231035e3\" x=\"234.263828\" y=\"73.485721\" style=\"fill: #4c72b0; stroke: #333333\"/>\n",
       "     <use xlink:href=\"#m44231035e3\" x=\"222.543381\" y=\"76.053621\" style=\"fill: #4c72b0; stroke: #333333\"/>\n",
       "     <use xlink:href=\"#m44231035e3\" x=\"236.310743\" y=\"71.540148\" style=\"fill: #4c72b0; stroke: #333333\"/>\n",
       "     <use xlink:href=\"#m44231035e3\" x=\"127.793628\" y=\"176.046973\" style=\"fill: #4c72b0; stroke: #333333\"/>\n",
       "     <use xlink:href=\"#m44231035e3\" x=\"132.041565\" y=\"181.415499\" style=\"fill: #4c72b0; stroke: #333333\"/>\n",
       "     <use xlink:href=\"#m44231035e3\" x=\"117.967889\" y=\"180.222675\" style=\"fill: #4c72b0; stroke: #333333\"/>\n",
       "     <use xlink:href=\"#m44231035e3\" x=\"258.008523\" y=\"98.46236\" style=\"fill: #4c72b0; stroke: #333333\"/>\n",
       "     <use xlink:href=\"#m44231035e3\" x=\"239.95285\" y=\"95.639917\" style=\"fill: #4c72b0; stroke: #333333\"/>\n",
       "     <use xlink:href=\"#m44231035e3\" x=\"224.412309\" y=\"70.222744\" style=\"fill: #4c72b0; stroke: #333333\"/>\n",
       "     <use xlink:href=\"#m44231035e3\" x=\"99.008812\" y=\"186.57072\" style=\"fill: #4c72b0; stroke: #333333\"/>\n",
       "     <use xlink:href=\"#m44231035e3\" x=\"223.556125\" y=\"79.030324\" style=\"fill: #4c72b0; stroke: #333333\"/>\n",
       "     <use xlink:href=\"#m44231035e3\" x=\"237.942892\" y=\"68.158633\" style=\"fill: #4c72b0; stroke: #333333\"/>\n",
       "     <use xlink:href=\"#m44231035e3\" x=\"219.034709\" y=\"81.467075\" style=\"fill: #4c72b0; stroke: #333333\"/>\n",
       "     <use xlink:href=\"#m44231035e3\" x=\"227.0774\" y=\"85.002242\" style=\"fill: #4c72b0; stroke: #333333\"/>\n",
       "     <use xlink:href=\"#m44231035e3\" x=\"251.918946\" y=\"73.267692\" style=\"fill: #4c72b0; stroke: #333333\"/>\n",
       "     <use xlink:href=\"#m44231035e3\" x=\"215.496818\" y=\"83.127313\" style=\"fill: #4c72b0; stroke: #333333\"/>\n",
       "     <use xlink:href=\"#m44231035e3\" x=\"246.391103\" y=\"85.604762\" style=\"fill: #4c72b0; stroke: #333333\"/>\n",
       "     <use xlink:href=\"#m44231035e3\" x=\"237.264667\" y=\"69.168984\" style=\"fill: #4c72b0; stroke: #333333\"/>\n",
       "     <use xlink:href=\"#m44231035e3\" x=\"229.543118\" y=\"91.593546\" style=\"fill: #4c72b0; stroke: #333333\"/>\n",
       "     <use xlink:href=\"#m44231035e3\" x=\"233.602271\" y=\"70.416426\" style=\"fill: #4c72b0; stroke: #333333\"/>\n",
       "     <use xlink:href=\"#m44231035e3\" x=\"145.114668\" y=\"210.282874\" style=\"fill: #4c72b0; stroke: #333333\"/>\n",
       "     <use xlink:href=\"#m44231035e3\" x=\"119.780601\" y=\"182.114864\" style=\"fill: #4c72b0; stroke: #333333\"/>\n",
       "     <use xlink:href=\"#m44231035e3\" x=\"124.579232\" y=\"195.542617\" style=\"fill: #4c72b0; stroke: #333333\"/>\n",
       "     <use xlink:href=\"#m44231035e3\" x=\"119.155934\" y=\"194.104519\" style=\"fill: #4c72b0; stroke: #333333\"/>\n",
       "     <use xlink:href=\"#m44231035e3\" x=\"236.302178\" y=\"85.441104\" style=\"fill: #4c72b0; stroke: #333333\"/>\n",
       "     <use xlink:href=\"#m44231035e3\" x=\"130.476609\" y=\"181.656801\" style=\"fill: #4c72b0; stroke: #333333\"/>\n",
       "     <use xlink:href=\"#m44231035e3\" x=\"129.749585\" y=\"181.87034\" style=\"fill: #4c72b0; stroke: #333333\"/>\n",
       "     <use xlink:href=\"#m44231035e3\" x=\"121.231837\" y=\"187.337199\" style=\"fill: #4c72b0; stroke: #333333\"/>\n",
       "     <use xlink:href=\"#m44231035e3\" x=\"130.61581\" y=\"179.61793\" style=\"fill: #4c72b0; stroke: #333333\"/>\n",
       "     <use xlink:href=\"#m44231035e3\" x=\"246.818743\" y=\"77.525238\" style=\"fill: #4c72b0; stroke: #333333\"/>\n",
       "     <use xlink:href=\"#m44231035e3\" x=\"245.18473\" y=\"68.980166\" style=\"fill: #4c72b0; stroke: #333333\"/>\n",
       "     <use xlink:href=\"#m44231035e3\" x=\"128.383834\" y=\"181.67103\" style=\"fill: #4c72b0; stroke: #333333\"/>\n",
       "     <use xlink:href=\"#m44231035e3\" x=\"121.327802\" y=\"198.586881\" style=\"fill: #4c72b0; stroke: #333333\"/>\n",
       "     <use xlink:href=\"#m44231035e3\" x=\"122.304115\" y=\"196.146494\" style=\"fill: #4c72b0; stroke: #333333\"/>\n",
       "     <use xlink:href=\"#m44231035e3\" x=\"112.310481\" y=\"192.201651\" style=\"fill: #4c72b0; stroke: #333333\"/>\n",
       "     <use xlink:href=\"#m44231035e3\" x=\"124.179783\" y=\"194.259111\" style=\"fill: #4c72b0; stroke: #333333\"/>\n",
       "     <use xlink:href=\"#m44231035e3\" x=\"116.240721\" y=\"186.065155\" style=\"fill: #4c72b0; stroke: #333333\"/>\n",
       "     <use xlink:href=\"#m44231035e3\" x=\"224.377487\" y=\"80.124828\" style=\"fill: #4c72b0; stroke: #333333\"/>\n",
       "     <use xlink:href=\"#m44231035e3\" x=\"124.910937\" y=\"172.279375\" style=\"fill: #4c72b0; stroke: #333333\"/>\n",
       "     <use xlink:href=\"#m44231035e3\" x=\"121.252742\" y=\"199.75417\" style=\"fill: #4c72b0; stroke: #333333\"/>\n",
       "     <use xlink:href=\"#m44231035e3\" x=\"235.921898\" y=\"86.93046\" style=\"fill: #4c72b0; stroke: #333333\"/>\n",
       "     <use xlink:href=\"#m44231035e3\" x=\"120.257661\" y=\"184.183945\" style=\"fill: #4c72b0; stroke: #333333\"/>\n",
       "     <use xlink:href=\"#m44231035e3\" x=\"129.11591\" y=\"193.086858\" style=\"fill: #4c72b0; stroke: #333333\"/>\n",
       "     <use xlink:href=\"#m44231035e3\" x=\"123.948331\" y=\"188.4985\" style=\"fill: #4c72b0; stroke: #333333\"/>\n",
       "     <use xlink:href=\"#m44231035e3\" x=\"137.553874\" y=\"178.00173\" style=\"fill: #4c72b0; stroke: #333333\"/>\n",
       "     <use xlink:href=\"#m44231035e3\" x=\"256.218076\" y=\"86.266478\" style=\"fill: #4c72b0; stroke: #333333\"/>\n",
       "     <use xlink:href=\"#m44231035e3\" x=\"242.01589\" y=\"75.725234\" style=\"fill: #4c72b0; stroke: #333333\"/>\n",
       "     <use xlink:href=\"#m44231035e3\" x=\"112.152758\" y=\"195.284191\" style=\"fill: #4c72b0; stroke: #333333\"/>\n",
       "     <use xlink:href=\"#m44231035e3\" x=\"208.793836\" y=\"83.5877\" style=\"fill: #4c72b0; stroke: #333333\"/>\n",
       "     <use xlink:href=\"#m44231035e3\" x=\"223.926333\" y=\"76.090565\" style=\"fill: #4c72b0; stroke: #333333\"/>\n",
       "     <use xlink:href=\"#m44231035e3\" x=\"236.132988\" y=\"56.955145\" style=\"fill: #4c72b0; stroke: #333333\"/>\n",
       "     <use xlink:href=\"#m44231035e3\" x=\"242.881889\" y=\"84.154835\" style=\"fill: #4c72b0; stroke: #333333\"/>\n",
       "     <use xlink:href=\"#m44231035e3\" x=\"120.193576\" y=\"174.913218\" style=\"fill: #4c72b0; stroke: #333333\"/>\n",
       "     <use xlink:href=\"#m44231035e3\" x=\"103.78458\" y=\"195.283995\" style=\"fill: #4c72b0; stroke: #333333\"/>\n",
       "     <use xlink:href=\"#m44231035e3\" x=\"109.625818\" y=\"190.216829\" style=\"fill: #4c72b0; stroke: #333333\"/>\n",
       "     <use xlink:href=\"#m44231035e3\" x=\"125.148291\" y=\"196.937344\" style=\"fill: #4c72b0; stroke: #333333\"/>\n",
       "     <use xlink:href=\"#m44231035e3\" x=\"245.419639\" y=\"77.009475\" style=\"fill: #4c72b0; stroke: #333333\"/>\n",
       "     <use xlink:href=\"#m44231035e3\" x=\"144.313166\" y=\"169.174906\" style=\"fill: #4c72b0; stroke: #333333\"/>\n",
       "     <use xlink:href=\"#m44231035e3\" x=\"229.583076\" y=\"66.985343\" style=\"fill: #4c72b0; stroke: #333333\"/>\n",
       "     <use xlink:href=\"#m44231035e3\" x=\"239.499528\" y=\"62.582743\" style=\"fill: #4c72b0; stroke: #333333\"/>\n",
       "     <use xlink:href=\"#m44231035e3\" x=\"229.356409\" y=\"69.802017\" style=\"fill: #4c72b0; stroke: #333333\"/>\n",
       "     <use xlink:href=\"#m44231035e3\" x=\"102.576489\" y=\"189.254038\" style=\"fill: #4c72b0; stroke: #333333\"/>\n",
       "     <use xlink:href=\"#m44231035e3\" x=\"98.539796\" y=\"189.626288\" style=\"fill: #4c72b0; stroke: #333333\"/>\n",
       "     <use xlink:href=\"#m44231035e3\" x=\"236.408436\" y=\"88.179515\" style=\"fill: #4c72b0; stroke: #333333\"/>\n",
       "     <use xlink:href=\"#m44231035e3\" x=\"110.533863\" y=\"183.049257\" style=\"fill: #4c72b0; stroke: #333333\"/>\n",
       "     <use xlink:href=\"#m44231035e3\" x=\"226.204733\" y=\"91.040198\" style=\"fill: #4c72b0; stroke: #333333\"/>\n",
       "     <use xlink:href=\"#m44231035e3\" x=\"254.128467\" y=\"77.367126\" style=\"fill: #4c72b0; stroke: #333333\"/>\n",
       "     <use xlink:href=\"#m44231035e3\" x=\"115.581397\" y=\"195.022798\" style=\"fill: #4c72b0; stroke: #333333\"/>\n",
       "     <use xlink:href=\"#m44231035e3\" x=\"250.582997\" y=\"80.519436\" style=\"fill: #4c72b0; stroke: #333333\"/>\n",
       "     <use xlink:href=\"#m44231035e3\" x=\"238.736457\" y=\"74.306977\" style=\"fill: #4c72b0; stroke: #333333\"/>\n",
       "     <use xlink:href=\"#m44231035e3\" x=\"155.602225\" y=\"176.224278\" style=\"fill: #4c72b0; stroke: #333333\"/>\n",
       "     <use xlink:href=\"#m44231035e3\" x=\"230.925244\" y=\"88.353158\" style=\"fill: #4c72b0; stroke: #333333\"/>\n",
       "     <use xlink:href=\"#m44231035e3\" x=\"103.651317\" y=\"186.38212\" style=\"fill: #4c72b0; stroke: #333333\"/>\n",
       "     <use xlink:href=\"#m44231035e3\" x=\"225.174396\" y=\"89.750326\" style=\"fill: #4c72b0; stroke: #333333\"/>\n",
       "     <use xlink:href=\"#m44231035e3\" x=\"140.17062\" y=\"178.862503\" style=\"fill: #4c72b0; stroke: #333333\"/>\n",
       "     <use xlink:href=\"#m44231035e3\" x=\"232.255192\" y=\"61.348506\" style=\"fill: #4c72b0; stroke: #333333\"/>\n",
       "     <use xlink:href=\"#m44231035e3\" x=\"109.962609\" y=\"190.7486\" style=\"fill: #4c72b0; stroke: #333333\"/>\n",
       "     <use xlink:href=\"#m44231035e3\" x=\"232.881603\" y=\"86.9717\" style=\"fill: #4c72b0; stroke: #333333\"/>\n",
       "     <use xlink:href=\"#m44231035e3\" x=\"124.462419\" y=\"189.195165\" style=\"fill: #4c72b0; stroke: #333333\"/>\n",
       "     <use xlink:href=\"#m44231035e3\" x=\"127.017763\" y=\"199.477257\" style=\"fill: #4c72b0; stroke: #333333\"/>\n",
       "     <use xlink:href=\"#m44231035e3\" x=\"233.444991\" y=\"69.426747\" style=\"fill: #4c72b0; stroke: #333333\"/>\n",
       "     <use xlink:href=\"#m44231035e3\" x=\"102.953228\" y=\"182.613347\" style=\"fill: #4c72b0; stroke: #333333\"/>\n",
       "     <use xlink:href=\"#m44231035e3\" x=\"224.996423\" y=\"71.431325\" style=\"fill: #4c72b0; stroke: #333333\"/>\n",
       "     <use xlink:href=\"#m44231035e3\" x=\"223.880579\" y=\"97.77066\" style=\"fill: #4c72b0; stroke: #333333\"/>\n",
       "     <use xlink:href=\"#m44231035e3\" x=\"231.610898\" y=\"91.185872\" style=\"fill: #4c72b0; stroke: #333333\"/>\n",
       "     <use xlink:href=\"#m44231035e3\" x=\"132.621368\" y=\"195.034702\" style=\"fill: #4c72b0; stroke: #333333\"/>\n",
       "     <use xlink:href=\"#m44231035e3\" x=\"130.729748\" y=\"201.164315\" style=\"fill: #4c72b0; stroke: #333333\"/>\n",
       "     <use xlink:href=\"#m44231035e3\" x=\"127.338063\" y=\"172.654013\" style=\"fill: #4c72b0; stroke: #333333\"/>\n",
       "     <use xlink:href=\"#m44231035e3\" x=\"204.938002\" y=\"86.594097\" style=\"fill: #4c72b0; stroke: #333333\"/>\n",
       "     <use xlink:href=\"#m44231035e3\" x=\"236.458863\" y=\"84.455113\" style=\"fill: #4c72b0; stroke: #333333\"/>\n",
       "    </g>\n",
       "   </g>\n",
       "   <g id=\"PathCollection_2\">\n",
       "    <defs>\n",
       "     <path id=\"m8cbc48959a\" d=\"M 0 3 \n",
       "C 0.795609 3 1.55874 2.683901 2.12132 2.12132 \n",
       "C 2.683901 1.55874 3 0.795609 3 0 \n",
       "C 3 -0.795609 2.683901 -1.55874 2.12132 -2.12132 \n",
       "C 1.55874 -2.683901 0.795609 -3 0 -3 \n",
       "C -0.795609 -3 -1.55874 -2.683901 -2.12132 -2.12132 \n",
       "C -2.683901 -1.55874 -3 -0.795609 -3 0 \n",
       "C -3 0.795609 -2.683901 1.55874 -2.12132 2.12132 \n",
       "C -1.55874 2.683901 -0.795609 3 0 3 \n",
       "z\n",
       "\" style=\"stroke: #333333\"/>\n",
       "    </defs>\n",
       "    <g clip-path=\"url(#p1258ac88ed)\">\n",
       "     <use xlink:href=\"#m8cbc48959a\" x=\"113.92348\" y=\"75.18289\" style=\"fill: #dd8452; stroke: #333333\"/>\n",
       "     <use xlink:href=\"#m8cbc48959a\" x=\"142.151302\" y=\"72.504264\" style=\"fill: #dd8452; stroke: #333333\"/>\n",
       "     <use xlink:href=\"#m8cbc48959a\" x=\"110.656323\" y=\"69.030936\" style=\"fill: #dd8452; stroke: #333333\"/>\n",
       "     <use xlink:href=\"#m8cbc48959a\" x=\"241.458596\" y=\"167.606485\" style=\"fill: #dd8452; stroke: #333333\"/>\n",
       "     <use xlink:href=\"#m8cbc48959a\" x=\"222.480655\" y=\"197.683829\" style=\"fill: #dd8452; stroke: #333333\"/>\n",
       "     <use xlink:href=\"#m8cbc48959a\" x=\"231.488691\" y=\"184.855432\" style=\"fill: #dd8452; stroke: #333333\"/>\n",
       "     <use xlink:href=\"#m8cbc48959a\" x=\"237.590846\" y=\"189.445652\" style=\"fill: #dd8452; stroke: #333333\"/>\n",
       "     <use xlink:href=\"#m8cbc48959a\" x=\"222.954346\" y=\"205.434752\" style=\"fill: #dd8452; stroke: #333333\"/>\n",
       "     <use xlink:href=\"#m8cbc48959a\" x=\"232.989012\" y=\"201.31138\" style=\"fill: #dd8452; stroke: #333333\"/>\n",
       "     <use xlink:href=\"#m8cbc48959a\" x=\"133.472466\" y=\"66.073571\" style=\"fill: #dd8452; stroke: #333333\"/>\n",
       "     <use xlink:href=\"#m8cbc48959a\" x=\"106.187995\" y=\"88.156727\" style=\"fill: #dd8452; stroke: #333333\"/>\n",
       "     <use xlink:href=\"#m8cbc48959a\" x=\"127.174305\" y=\"72.061265\" style=\"fill: #dd8452; stroke: #333333\"/>\n",
       "     <use xlink:href=\"#m8cbc48959a\" x=\"238.054438\" y=\"145.919037\" style=\"fill: #dd8452; stroke: #333333\"/>\n",
       "     <use xlink:href=\"#m8cbc48959a\" x=\"112.894508\" y=\"80.383972\" style=\"fill: #dd8452; stroke: #333333\"/>\n",
       "     <use xlink:href=\"#m8cbc48959a\" x=\"226.961882\" y=\"187.730305\" style=\"fill: #dd8452; stroke: #333333\"/>\n",
       "     <use xlink:href=\"#m8cbc48959a\" x=\"116.230813\" y=\"65.68384\" style=\"fill: #dd8452; stroke: #333333\"/>\n",
       "     <use xlink:href=\"#m8cbc48959a\" x=\"122.176331\" y=\"89.708161\" style=\"fill: #dd8452; stroke: #333333\"/>\n",
       "     <use xlink:href=\"#m8cbc48959a\" x=\"113.365289\" y=\"75.358027\" style=\"fill: #dd8452; stroke: #333333\"/>\n",
       "     <use xlink:href=\"#m8cbc48959a\" x=\"121.968894\" y=\"84.98307\" style=\"fill: #dd8452; stroke: #333333\"/>\n",
       "     <use xlink:href=\"#m8cbc48959a\" x=\"145.235645\" y=\"70.729228\" style=\"fill: #dd8452; stroke: #333333\"/>\n",
       "     <use xlink:href=\"#m8cbc48959a\" x=\"225.005708\" y=\"179.186344\" style=\"fill: #dd8452; stroke: #333333\"/>\n",
       "     <use xlink:href=\"#m8cbc48959a\" x=\"218.362914\" y=\"178.460871\" style=\"fill: #dd8452; stroke: #333333\"/>\n",
       "     <use xlink:href=\"#m8cbc48959a\" x=\"144.994061\" y=\"66.310145\" style=\"fill: #dd8452; stroke: #333333\"/>\n",
       "     <use xlink:href=\"#m8cbc48959a\" x=\"222.06579\" y=\"189.298142\" style=\"fill: #dd8452; stroke: #333333\"/>\n",
       "     <use xlink:href=\"#m8cbc48959a\" x=\"196.404423\" y=\"199.996535\" style=\"fill: #dd8452; stroke: #333333\"/>\n",
       "     <use xlink:href=\"#m8cbc48959a\" x=\"139.563771\" y=\"93.615532\" style=\"fill: #dd8452; stroke: #333333\"/>\n",
       "     <use xlink:href=\"#m8cbc48959a\" x=\"116.584381\" y=\"76.308475\" style=\"fill: #dd8452; stroke: #333333\"/>\n",
       "     <use xlink:href=\"#m8cbc48959a\" x=\"248.324436\" y=\"204.558965\" style=\"fill: #dd8452; stroke: #333333\"/>\n",
       "     <use xlink:href=\"#m8cbc48959a\" x=\"245.240747\" y=\"188.524661\" style=\"fill: #dd8452; stroke: #333333\"/>\n",
       "     <use xlink:href=\"#m8cbc48959a\" x=\"221.460628\" y=\"183.514322\" style=\"fill: #dd8452; stroke: #333333\"/>\n",
       "     <use xlink:href=\"#m8cbc48959a\" x=\"123.670768\" y=\"84.413331\" style=\"fill: #dd8452; stroke: #333333\"/>\n",
       "     <use xlink:href=\"#m8cbc48959a\" x=\"233.117556\" y=\"192.910482\" style=\"fill: #dd8452; stroke: #333333\"/>\n",
       "     <use xlink:href=\"#m8cbc48959a\" x=\"249.929344\" y=\"202.363023\" style=\"fill: #dd8452; stroke: #333333\"/>\n",
       "     <use xlink:href=\"#m8cbc48959a\" x=\"225.808717\" y=\"179.217737\" style=\"fill: #dd8452; stroke: #333333\"/>\n",
       "     <use xlink:href=\"#m8cbc48959a\" x=\"242.318356\" y=\"185.230788\" style=\"fill: #dd8452; stroke: #333333\"/>\n",
       "     <use xlink:href=\"#m8cbc48959a\" x=\"112.271697\" y=\"83.969413\" style=\"fill: #dd8452; stroke: #333333\"/>\n",
       "     <use xlink:href=\"#m8cbc48959a\" x=\"135.630342\" y=\"84.317468\" style=\"fill: #dd8452; stroke: #333333\"/>\n",
       "     <use xlink:href=\"#m8cbc48959a\" x=\"127.529809\" y=\"80.000037\" style=\"fill: #dd8452; stroke: #333333\"/>\n",
       "     <use xlink:href=\"#m8cbc48959a\" x=\"119.049944\" y=\"65.574885\" style=\"fill: #dd8452; stroke: #333333\"/>\n",
       "     <use xlink:href=\"#m8cbc48959a\" x=\"239.905093\" y=\"192.078363\" style=\"fill: #dd8452; stroke: #333333\"/>\n",
       "     <use xlink:href=\"#m8cbc48959a\" x=\"235.937944\" y=\"190.081151\" style=\"fill: #dd8452; stroke: #333333\"/>\n",
       "     <use xlink:href=\"#m8cbc48959a\" x=\"122.539085\" y=\"71.159023\" style=\"fill: #dd8452; stroke: #333333\"/>\n",
       "     <use xlink:href=\"#m8cbc48959a\" x=\"223.27116\" y=\"165.437735\" style=\"fill: #dd8452; stroke: #333333\"/>\n",
       "     <use xlink:href=\"#m8cbc48959a\" x=\"110.308873\" y=\"91.221045\" style=\"fill: #dd8452; stroke: #333333\"/>\n",
       "     <use xlink:href=\"#m8cbc48959a\" x=\"243.155725\" y=\"190.268697\" style=\"fill: #dd8452; stroke: #333333\"/>\n",
       "     <use xlink:href=\"#m8cbc48959a\" x=\"236.922178\" y=\"194.888703\" style=\"fill: #dd8452; stroke: #333333\"/>\n",
       "     <use xlink:href=\"#m8cbc48959a\" x=\"112.346814\" y=\"75.056117\" style=\"fill: #dd8452; stroke: #333333\"/>\n",
       "     <use xlink:href=\"#m8cbc48959a\" x=\"105.407234\" y=\"93.364081\" style=\"fill: #dd8452; stroke: #333333\"/>\n",
       "     <use xlink:href=\"#m8cbc48959a\" x=\"130.973324\" y=\"79.531521\" style=\"fill: #dd8452; stroke: #333333\"/>\n",
       "     <use xlink:href=\"#m8cbc48959a\" x=\"232.138319\" y=\"191.838772\" style=\"fill: #dd8452; stroke: #333333\"/>\n",
       "     <use xlink:href=\"#m8cbc48959a\" x=\"238.102102\" y=\"171.643115\" style=\"fill: #dd8452; stroke: #333333\"/>\n",
       "     <use xlink:href=\"#m8cbc48959a\" x=\"233.426631\" y=\"197.209258\" style=\"fill: #dd8452; stroke: #333333\"/>\n",
       "     <use xlink:href=\"#m8cbc48959a\" x=\"232.615368\" y=\"183.11632\" style=\"fill: #dd8452; stroke: #333333\"/>\n",
       "     <use xlink:href=\"#m8cbc48959a\" x=\"145.744129\" y=\"86.720533\" style=\"fill: #dd8452; stroke: #333333\"/>\n",
       "     <use xlink:href=\"#m8cbc48959a\" x=\"111.501972\" y=\"72.303721\" style=\"fill: #dd8452; stroke: #333333\"/>\n",
       "     <use xlink:href=\"#m8cbc48959a\" x=\"217.704846\" y=\"168.33091\" style=\"fill: #dd8452; stroke: #333333\"/>\n",
       "     <use xlink:href=\"#m8cbc48959a\" x=\"245.421225\" y=\"193.840345\" style=\"fill: #dd8452; stroke: #333333\"/>\n",
       "     <use xlink:href=\"#m8cbc48959a\" x=\"102.468358\" y=\"62.746394\" style=\"fill: #dd8452; stroke: #333333\"/>\n",
       "     <use xlink:href=\"#m8cbc48959a\" x=\"232.401739\" y=\"188.117204\" style=\"fill: #dd8452; stroke: #333333\"/>\n",
       "     <use xlink:href=\"#m8cbc48959a\" x=\"227.353265\" y=\"181.731965\" style=\"fill: #dd8452; stroke: #333333\"/>\n",
       "     <use xlink:href=\"#m8cbc48959a\" x=\"122.797432\" y=\"72.054022\" style=\"fill: #dd8452; stroke: #333333\"/>\n",
       "     <use xlink:href=\"#m8cbc48959a\" x=\"240.233982\" y=\"201.108157\" style=\"fill: #dd8452; stroke: #333333\"/>\n",
       "     <use xlink:href=\"#m8cbc48959a\" x=\"104.453336\" y=\"63.591244\" style=\"fill: #dd8452; stroke: #333333\"/>\n",
       "     <use xlink:href=\"#m8cbc48959a\" x=\"138.662767\" y=\"76.475524\" style=\"fill: #dd8452; stroke: #333333\"/>\n",
       "     <use xlink:href=\"#m8cbc48959a\" x=\"110.764523\" y=\"70.151182\" style=\"fill: #dd8452; stroke: #333333\"/>\n",
       "     <use xlink:href=\"#m8cbc48959a\" x=\"133.199404\" y=\"97.259027\" style=\"fill: #dd8452; stroke: #333333\"/>\n",
       "     <use xlink:href=\"#m8cbc48959a\" x=\"108.343623\" y=\"100.369132\" style=\"fill: #dd8452; stroke: #333333\"/>\n",
       "     <use xlink:href=\"#m8cbc48959a\" x=\"249.001723\" y=\"187.816562\" style=\"fill: #dd8452; stroke: #333333\"/>\n",
       "     <use xlink:href=\"#m8cbc48959a\" x=\"250.401686\" y=\"203.94069\" style=\"fill: #dd8452; stroke: #333333\"/>\n",
       "     <use xlink:href=\"#m8cbc48959a\" x=\"125.722111\" y=\"78.120646\" style=\"fill: #dd8452; stroke: #333333\"/>\n",
       "     <use xlink:href=\"#m8cbc48959a\" x=\"106.999635\" y=\"70.332796\" style=\"fill: #dd8452; stroke: #333333\"/>\n",
       "     <use xlink:href=\"#m8cbc48959a\" x=\"226.645835\" y=\"200.382684\" style=\"fill: #dd8452; stroke: #333333\"/>\n",
       "     <use xlink:href=\"#m8cbc48959a\" x=\"120.768608\" y=\"67.167513\" style=\"fill: #dd8452; stroke: #333333\"/>\n",
       "     <use xlink:href=\"#m8cbc48959a\" x=\"115.584097\" y=\"86.5495\" style=\"fill: #dd8452; stroke: #333333\"/>\n",
       "     <use xlink:href=\"#m8cbc48959a\" x=\"231.156842\" y=\"200.116892\" style=\"fill: #dd8452; stroke: #333333\"/>\n",
       "     <use xlink:href=\"#m8cbc48959a\" x=\"224.585035\" y=\"186.265516\" style=\"fill: #dd8452; stroke: #333333\"/>\n",
       "     <use xlink:href=\"#m8cbc48959a\" x=\"231.098102\" y=\"191.088236\" style=\"fill: #dd8452; stroke: #333333\"/>\n",
       "     <use xlink:href=\"#m8cbc48959a\" x=\"128.273474\" y=\"69.358873\" style=\"fill: #dd8452; stroke: #333333\"/>\n",
       "     <use xlink:href=\"#m8cbc48959a\" x=\"118.41382\" y=\"103.281828\" style=\"fill: #dd8452; stroke: #333333\"/>\n",
       "     <use xlink:href=\"#m8cbc48959a\" x=\"215.543154\" y=\"173.482223\" style=\"fill: #dd8452; stroke: #333333\"/>\n",
       "     <use xlink:href=\"#m8cbc48959a\" x=\"223.957177\" y=\"204.408074\" style=\"fill: #dd8452; stroke: #333333\"/>\n",
       "     <use xlink:href=\"#m8cbc48959a\" x=\"122.321454\" y=\"87.308044\" style=\"fill: #dd8452; stroke: #333333\"/>\n",
       "     <use xlink:href=\"#m8cbc48959a\" x=\"138.351994\" y=\"71.782684\" style=\"fill: #dd8452; stroke: #333333\"/>\n",
       "     <use xlink:href=\"#m8cbc48959a\" x=\"111.754739\" y=\"93.090609\" style=\"fill: #dd8452; stroke: #333333\"/>\n",
       "     <use xlink:href=\"#m8cbc48959a\" x=\"242.61305\" y=\"167.466514\" style=\"fill: #dd8452; stroke: #333333\"/>\n",
       "     <use xlink:href=\"#m8cbc48959a\" x=\"216.836277\" y=\"182.395922\" style=\"fill: #dd8452; stroke: #333333\"/>\n",
       "     <use xlink:href=\"#m8cbc48959a\" x=\"114.249269\" y=\"83.159373\" style=\"fill: #dd8452; stroke: #333333\"/>\n",
       "     <use xlink:href=\"#m8cbc48959a\" x=\"225.77513\" y=\"198.218055\" style=\"fill: #dd8452; stroke: #333333\"/>\n",
       "     <use xlink:href=\"#m8cbc48959a\" x=\"229.69414\" y=\"198.701191\" style=\"fill: #dd8452; stroke: #333333\"/>\n",
       "     <use xlink:href=\"#m8cbc48959a\" x=\"115.068353\" y=\"69.382348\" style=\"fill: #dd8452; stroke: #333333\"/>\n",
       "     <use xlink:href=\"#m8cbc48959a\" x=\"103.417404\" y=\"77.224954\" style=\"fill: #dd8452; stroke: #333333\"/>\n",
       "     <use xlink:href=\"#m8cbc48959a\" x=\"235.223397\" y=\"198.665188\" style=\"fill: #dd8452; stroke: #333333\"/>\n",
       "     <use xlink:href=\"#m8cbc48959a\" x=\"239.424305\" y=\"207.061059\" style=\"fill: #dd8452; stroke: #333333\"/>\n",
       "     <use xlink:href=\"#m8cbc48959a\" x=\"225.116032\" y=\"188.112569\" style=\"fill: #dd8452; stroke: #333333\"/>\n",
       "     <use xlink:href=\"#m8cbc48959a\" x=\"111.92333\" y=\"82.022076\" style=\"fill: #dd8452; stroke: #333333\"/>\n",
       "     <use xlink:href=\"#m8cbc48959a\" x=\"127.86217\" y=\"80.009495\" style=\"fill: #dd8452; stroke: #333333\"/>\n",
       "     <use xlink:href=\"#m8cbc48959a\" x=\"233.303704\" y=\"190.364274\" style=\"fill: #dd8452; stroke: #333333\"/>\n",
       "    </g>\n",
       "   </g>\n",
       "   <g id=\"patch_3\">\n",
       "    <path d=\"M 66.023594 244.078125 \n",
       "L 66.023594 22.318125 \n",
       "\" style=\"fill: none; stroke: #ffffff; stroke-width: 1.25; stroke-linejoin: miter; stroke-linecap: square\"/>\n",
       "   </g>\n",
       "   <g id=\"patch_4\">\n",
       "    <path d=\"M 287.783594 244.078125 \n",
       "L 287.783594 22.318125 \n",
       "\" style=\"fill: none; stroke: #ffffff; stroke-width: 1.25; stroke-linejoin: miter; stroke-linecap: square\"/>\n",
       "   </g>\n",
       "   <g id=\"patch_5\">\n",
       "    <path d=\"M 66.023594 244.078125 \n",
       "L 287.783594 244.078125 \n",
       "\" style=\"fill: none; stroke: #ffffff; stroke-width: 1.25; stroke-linejoin: miter; stroke-linecap: square\"/>\n",
       "   </g>\n",
       "   <g id=\"patch_6\">\n",
       "    <path d=\"M 66.023594 22.318125 \n",
       "L 287.783594 22.318125 \n",
       "\" style=\"fill: none; stroke: #ffffff; stroke-width: 1.25; stroke-linejoin: miter; stroke-linecap: square\"/>\n",
       "   </g>\n",
       "   <g id=\"text_17\">\n",
       "    <!-- Dataset samples -->\n",
       "    <g style=\"fill: #262626\" transform=\"translate(126.560781 16.318125) scale(0.12 -0.12)\">\n",
       "     <defs>\n",
       "      <path id=\"DejaVuSans-44\" d=\"M 1259 4147 \n",
       "L 1259 519 \n",
       "L 2022 519 \n",
       "Q 2988 519 3436 956 \n",
       "Q 3884 1394 3884 2338 \n",
       "Q 3884 3275 3436 3711 \n",
       "Q 2988 4147 2022 4147 \n",
       "L 1259 4147 \n",
       "z\n",
       "M 628 4666 \n",
       "L 1925 4666 \n",
       "Q 3281 4666 3915 4102 \n",
       "Q 4550 3538 4550 2338 \n",
       "Q 4550 1131 3912 565 \n",
       "Q 3275 0 1925 0 \n",
       "L 628 0 \n",
       "L 628 4666 \n",
       "z\n",
       "\" transform=\"scale(0.015625)\"/>\n",
       "      <path id=\"DejaVuSans-61\" d=\"M 2194 1759 \n",
       "Q 1497 1759 1228 1600 \n",
       "Q 959 1441 959 1056 \n",
       "Q 959 750 1161 570 \n",
       "Q 1363 391 1709 391 \n",
       "Q 2188 391 2477 730 \n",
       "Q 2766 1069 2766 1631 \n",
       "L 2766 1759 \n",
       "L 2194 1759 \n",
       "z\n",
       "M 3341 1997 \n",
       "L 3341 0 \n",
       "L 2766 0 \n",
       "L 2766 531 \n",
       "Q 2569 213 2275 61 \n",
       "Q 1981 -91 1556 -91 \n",
       "Q 1019 -91 701 211 \n",
       "Q 384 513 384 1019 \n",
       "Q 384 1609 779 1909 \n",
       "Q 1175 2209 1959 2209 \n",
       "L 2766 2209 \n",
       "L 2766 2266 \n",
       "Q 2766 2663 2505 2880 \n",
       "Q 2244 3097 1772 3097 \n",
       "Q 1472 3097 1187 3025 \n",
       "Q 903 2953 641 2809 \n",
       "L 641 3341 \n",
       "Q 956 3463 1253 3523 \n",
       "Q 1550 3584 1831 3584 \n",
       "Q 2591 3584 2966 3190 \n",
       "Q 3341 2797 3341 1997 \n",
       "z\n",
       "\" transform=\"scale(0.015625)\"/>\n",
       "      <path id=\"DejaVuSans-74\" d=\"M 1172 4494 \n",
       "L 1172 3500 \n",
       "L 2356 3500 \n",
       "L 2356 3053 \n",
       "L 1172 3053 \n",
       "L 1172 1153 \n",
       "Q 1172 725 1289 603 \n",
       "Q 1406 481 1766 481 \n",
       "L 2356 481 \n",
       "L 2356 0 \n",
       "L 1766 0 \n",
       "Q 1100 0 847 248 \n",
       "Q 594 497 594 1153 \n",
       "L 594 3053 \n",
       "L 172 3053 \n",
       "L 172 3500 \n",
       "L 594 3500 \n",
       "L 594 4494 \n",
       "L 1172 4494 \n",
       "z\n",
       "\" transform=\"scale(0.015625)\"/>\n",
       "      <path id=\"DejaVuSans-73\" d=\"M 2834 3397 \n",
       "L 2834 2853 \n",
       "Q 2591 2978 2328 3040 \n",
       "Q 2066 3103 1784 3103 \n",
       "Q 1356 3103 1142 2972 \n",
       "Q 928 2841 928 2578 \n",
       "Q 928 2378 1081 2264 \n",
       "Q 1234 2150 1697 2047 \n",
       "L 1894 2003 \n",
       "Q 2506 1872 2764 1633 \n",
       "Q 3022 1394 3022 966 \n",
       "Q 3022 478 2636 193 \n",
       "Q 2250 -91 1575 -91 \n",
       "Q 1294 -91 989 -36 \n",
       "Q 684 19 347 128 \n",
       "L 347 722 \n",
       "Q 666 556 975 473 \n",
       "Q 1284 391 1588 391 \n",
       "Q 1994 391 2212 530 \n",
       "Q 2431 669 2431 922 \n",
       "Q 2431 1156 2273 1281 \n",
       "Q 2116 1406 1581 1522 \n",
       "L 1381 1569 \n",
       "Q 847 1681 609 1914 \n",
       "Q 372 2147 372 2553 \n",
       "Q 372 3047 722 3315 \n",
       "Q 1072 3584 1716 3584 \n",
       "Q 2034 3584 2315 3537 \n",
       "Q 2597 3491 2834 3397 \n",
       "z\n",
       "\" transform=\"scale(0.015625)\"/>\n",
       "      <path id=\"DejaVuSans-65\" d=\"M 3597 1894 \n",
       "L 3597 1613 \n",
       "L 953 1613 \n",
       "Q 991 1019 1311 708 \n",
       "Q 1631 397 2203 397 \n",
       "Q 2534 397 2845 478 \n",
       "Q 3156 559 3463 722 \n",
       "L 3463 178 \n",
       "Q 3153 47 2828 -22 \n",
       "Q 2503 -91 2169 -91 \n",
       "Q 1331 -91 842 396 \n",
       "Q 353 884 353 1716 \n",
       "Q 353 2575 817 3079 \n",
       "Q 1281 3584 2069 3584 \n",
       "Q 2775 3584 3186 3129 \n",
       "Q 3597 2675 3597 1894 \n",
       "z\n",
       "M 3022 2063 \n",
       "Q 3016 2534 2758 2815 \n",
       "Q 2500 3097 2075 3097 \n",
       "Q 1594 3097 1305 2825 \n",
       "Q 1016 2553 972 2059 \n",
       "L 3022 2063 \n",
       "z\n",
       "\" transform=\"scale(0.015625)\"/>\n",
       "      <path id=\"DejaVuSans-20\" transform=\"scale(0.015625)\"/>\n",
       "      <path id=\"DejaVuSans-6d\" d=\"M 3328 2828 \n",
       "Q 3544 3216 3844 3400 \n",
       "Q 4144 3584 4550 3584 \n",
       "Q 5097 3584 5394 3201 \n",
       "Q 5691 2819 5691 2113 \n",
       "L 5691 0 \n",
       "L 5113 0 \n",
       "L 5113 2094 \n",
       "Q 5113 2597 4934 2840 \n",
       "Q 4756 3084 4391 3084 \n",
       "Q 3944 3084 3684 2787 \n",
       "Q 3425 2491 3425 1978 \n",
       "L 3425 0 \n",
       "L 2847 0 \n",
       "L 2847 2094 \n",
       "Q 2847 2600 2669 2842 \n",
       "Q 2491 3084 2119 3084 \n",
       "Q 1678 3084 1418 2786 \n",
       "Q 1159 2488 1159 1978 \n",
       "L 1159 0 \n",
       "L 581 0 \n",
       "L 581 3500 \n",
       "L 1159 3500 \n",
       "L 1159 2956 \n",
       "Q 1356 3278 1631 3431 \n",
       "Q 1906 3584 2284 3584 \n",
       "Q 2666 3584 2933 3390 \n",
       "Q 3200 3197 3328 2828 \n",
       "z\n",
       "\" transform=\"scale(0.015625)\"/>\n",
       "      <path id=\"DejaVuSans-70\" d=\"M 1159 525 \n",
       "L 1159 -1331 \n",
       "L 581 -1331 \n",
       "L 581 3500 \n",
       "L 1159 3500 \n",
       "L 1159 2969 \n",
       "Q 1341 3281 1617 3432 \n",
       "Q 1894 3584 2278 3584 \n",
       "Q 2916 3584 3314 3078 \n",
       "Q 3713 2572 3713 1747 \n",
       "Q 3713 922 3314 415 \n",
       "Q 2916 -91 2278 -91 \n",
       "Q 1894 -91 1617 61 \n",
       "Q 1341 213 1159 525 \n",
       "z\n",
       "M 3116 1747 \n",
       "Q 3116 2381 2855 2742 \n",
       "Q 2594 3103 2138 3103 \n",
       "Q 1681 3103 1420 2742 \n",
       "Q 1159 2381 1159 1747 \n",
       "Q 1159 1113 1420 752 \n",
       "Q 1681 391 2138 391 \n",
       "Q 2594 391 2855 752 \n",
       "Q 3116 1113 3116 1747 \n",
       "z\n",
       "\" transform=\"scale(0.015625)\"/>\n",
       "      <path id=\"DejaVuSans-6c\" d=\"M 603 4863 \n",
       "L 1178 4863 \n",
       "L 1178 0 \n",
       "L 603 0 \n",
       "L 603 4863 \n",
       "z\n",
       "\" transform=\"scale(0.015625)\"/>\n",
       "     </defs>\n",
       "     <use xlink:href=\"#DejaVuSans-44\"/>\n",
       "     <use xlink:href=\"#DejaVuSans-61\" x=\"77.001953\"/>\n",
       "     <use xlink:href=\"#DejaVuSans-74\" x=\"138.28125\"/>\n",
       "     <use xlink:href=\"#DejaVuSans-61\" x=\"177.490234\"/>\n",
       "     <use xlink:href=\"#DejaVuSans-73\" x=\"238.769531\"/>\n",
       "     <use xlink:href=\"#DejaVuSans-65\" x=\"290.869141\"/>\n",
       "     <use xlink:href=\"#DejaVuSans-74\" x=\"352.392578\"/>\n",
       "     <use xlink:href=\"#DejaVuSans-20\" x=\"391.601562\"/>\n",
       "     <use xlink:href=\"#DejaVuSans-73\" x=\"423.388672\"/>\n",
       "     <use xlink:href=\"#DejaVuSans-61\" x=\"475.488281\"/>\n",
       "     <use xlink:href=\"#DejaVuSans-6d\" x=\"536.767578\"/>\n",
       "     <use xlink:href=\"#DejaVuSans-70\" x=\"634.179688\"/>\n",
       "     <use xlink:href=\"#DejaVuSans-6c\" x=\"697.65625\"/>\n",
       "     <use xlink:href=\"#DejaVuSans-65\" x=\"725.439453\"/>\n",
       "     <use xlink:href=\"#DejaVuSans-73\" x=\"786.962891\"/>\n",
       "    </g>\n",
       "   </g>\n",
       "   <g id=\"legend_1\">\n",
       "    <g id=\"patch_7\">\n",
       "     <path d=\"M 73.723594 150.994063 \n",
       "L 148.356875 150.994063 \n",
       "Q 150.556875 150.994063 150.556875 148.794063 \n",
       "L 150.556875 117.602188 \n",
       "Q 150.556875 115.402188 148.356875 115.402188 \n",
       "L 73.723594 115.402188 \n",
       "Q 71.523594 115.402188 71.523594 117.602188 \n",
       "L 71.523594 148.794063 \n",
       "Q 71.523594 150.994063 73.723594 150.994063 \n",
       "z\n",
       "\" style=\"fill: #eaeaf2; opacity: 0.8; stroke: #cccccc; stroke-linejoin: miter\"/>\n",
       "    </g>\n",
       "    <g id=\"PathCollection_3\">\n",
       "     <g>\n",
       "      <use xlink:href=\"#m44231035e3\" x=\"86.923594\" y=\"125.272969\" style=\"fill: #4c72b0; stroke: #333333\"/>\n",
       "     </g>\n",
       "    </g>\n",
       "    <g id=\"text_18\">\n",
       "     <!-- Class 0 -->\n",
       "     <g style=\"fill: #262626\" transform=\"translate(106.723594 128.160469) scale(0.11 -0.11)\">\n",
       "      <defs>\n",
       "       <path id=\"DejaVuSans-43\" d=\"M 4122 4306 \n",
       "L 4122 3641 \n",
       "Q 3803 3938 3442 4084 \n",
       "Q 3081 4231 2675 4231 \n",
       "Q 1875 4231 1450 3742 \n",
       "Q 1025 3253 1025 2328 \n",
       "Q 1025 1406 1450 917 \n",
       "Q 1875 428 2675 428 \n",
       "Q 3081 428 3442 575 \n",
       "Q 3803 722 4122 1019 \n",
       "L 4122 359 \n",
       "Q 3791 134 3420 21 \n",
       "Q 3050 -91 2638 -91 \n",
       "Q 1578 -91 968 557 \n",
       "Q 359 1206 359 2328 \n",
       "Q 359 3453 968 4101 \n",
       "Q 1578 4750 2638 4750 \n",
       "Q 3056 4750 3426 4639 \n",
       "Q 3797 4528 4122 4306 \n",
       "z\n",
       "\" transform=\"scale(0.015625)\"/>\n",
       "      </defs>\n",
       "      <use xlink:href=\"#DejaVuSans-43\"/>\n",
       "      <use xlink:href=\"#DejaVuSans-6c\" x=\"69.824219\"/>\n",
       "      <use xlink:href=\"#DejaVuSans-61\" x=\"97.607422\"/>\n",
       "      <use xlink:href=\"#DejaVuSans-73\" x=\"158.886719\"/>\n",
       "      <use xlink:href=\"#DejaVuSans-73\" x=\"210.986328\"/>\n",
       "      <use xlink:href=\"#DejaVuSans-20\" x=\"263.085938\"/>\n",
       "      <use xlink:href=\"#DejaVuSans-30\" x=\"294.873047\"/>\n",
       "     </g>\n",
       "    </g>\n",
       "    <g id=\"PathCollection_4\">\n",
       "     <g>\n",
       "      <use xlink:href=\"#m8cbc48959a\" x=\"86.923594\" y=\"141.418906\" style=\"fill: #dd8452; stroke: #333333\"/>\n",
       "     </g>\n",
       "    </g>\n",
       "    <g id=\"text_19\">\n",
       "     <!-- Class 1 -->\n",
       "     <g style=\"fill: #262626\" transform=\"translate(106.723594 144.306406) scale(0.11 -0.11)\">\n",
       "      <use xlink:href=\"#DejaVuSans-43\"/>\n",
       "      <use xlink:href=\"#DejaVuSans-6c\" x=\"69.824219\"/>\n",
       "      <use xlink:href=\"#DejaVuSans-61\" x=\"97.607422\"/>\n",
       "      <use xlink:href=\"#DejaVuSans-73\" x=\"158.886719\"/>\n",
       "      <use xlink:href=\"#DejaVuSans-73\" x=\"210.986328\"/>\n",
       "      <use xlink:href=\"#DejaVuSans-20\" x=\"263.085938\"/>\n",
       "      <use xlink:href=\"#DejaVuSans-31\" x=\"294.873047\"/>\n",
       "     </g>\n",
       "    </g>\n",
       "   </g>\n",
       "  </g>\n",
       " </g>\n",
       " <defs>\n",
       "  <clipPath id=\"p1258ac88ed\">\n",
       "   <rect x=\"66.023594\" y=\"22.318125\" width=\"221.76\" height=\"221.76\"/>\n",
       "  </clipPath>\n",
       " </defs>\n",
       "</svg>\n"
      ],
      "text/plain": [
       "<Figure size 2000x2000 with 1 Axes>"
      ]
     },
     "metadata": {},
     "output_type": "display_data"
    }
   ],
   "source": [
    "def visualize_classification(model, data, label):\n",
    "    data_0 = data[label == 0]\n",
    "    data_1 = data[label == 1]\n",
    "\n",
    "    fig = plt.figure(figsize=(4, 4), dpi=500)\n",
    "    plt.scatter(data_0[:, 0], data_0[:, 1], edgecolor=\"#333\", label=\"Class 0\")\n",
    "    plt.scatter(data_1[:, 0], data_1[:, 1], edgecolor=\"#333\", label=\"Class 1\")\n",
    "    plt.title(\"Dataset samples\")\n",
    "    plt.ylabel(r\"$x_2$\")\n",
    "    plt.xlabel(r\"$x_1$\")\n",
    "    plt.legend()\n",
    "\n",
    "    # Let's make use of a lot of operations we have learned above\n",
    "    c0 = np.array(to_rgba(\"C0\"))\n",
    "    c1 = np.array(to_rgba(\"C1\"))\n",
    "    x1 = jnp.arange(-0.5, 1.5, step=0.01)\n",
    "    x2 = jnp.arange(-0.5, 1.5, step=0.01)\n",
    "    xx1, xx2 = jnp.meshgrid(x1, x2, indexing=\"ij\")  # Meshgrid function as in numpy\n",
    "    model_inputs = np.stack([xx1, xx2], axis=-1)\n",
    "    logits = model(model_inputs)\n",
    "    preds = nn.sigmoid(logits)\n",
    "    output_image = (1 - preds) * c0[None, None] + preds * c1[\n",
    "        None, None\n",
    "    ]  # Specifying \"None\" in a dimension creates a new one\n",
    "    output_image = jax.device_get(\n",
    "        output_image\n",
    "    )  # Convert to numpy array. This only works for tensors on CPU, hence first push to CPU\n",
    "    plt.imshow(output_image, origin=\"lower\", extent=(-0.5, 1.5, -0.5, 1.5))\n",
    "    plt.grid(False)\n",
    "    return fig\n",
    "\n",
    "\n",
    "_ = visualize_classification(trained_model, dataset.data, dataset.label)\n",
    "plt.show()"
   ]
  },
  {
   "cell_type": "markdown",
   "id": "a55bb0f7",
   "metadata": {},
   "source": [
    "The decision boundaries might not look exactly as in the figure in the preamble of this section, since this has been created with the PyTorch version of the tutorial. Nevertheless, the result on the accuracy metric should be the approximately the same. "
   ]
  },
  {
   "cell_type": "markdown",
   "id": "e32cc81e",
   "metadata": {},
   "source": [
    "### Conclusion\n",
    "\n",
    "This concludes our tutorial on training a neural network with JAX. While the functional programming perspective of JAX may seem very different to PyTorch at first, it enables a considerable speedup in training, not only for tiny models like here. If you are interested in seeing more practical use cases of JAX, we recommend checking out our other JAX Tutorials, such as:\n",
    "\n",
    "* [Tutorial 5 (JAX): Inception, ResNet and DenseNet](https://uvadlc-notebooks.readthedocs.io/en/latest/tutorial_notebooks/JAX/tutorial5/Inception_ResNet_DenseNet.html) gives an intro to training convolutional classifiers on CIFAR10;\n",
    "* [Tutorial 6 (JAX): Transformers and Multi-Head Attention](https://uvadlc-notebooks.readthedocs.io/en/latest/tutorial_notebooks/JAX/tutorial6/Transformers_and_MHAttention.html) builds a Transformer from scratch with Flax;\n",
    "* [Tutorial 7 (JAX): Graph Neural Networks](https://uvadlc-notebooks.readthedocs.io/en/latest/tutorial_notebooks/JAX/tutorial7/GNN_overview.html) implements basic Graph Neural Network layers;\n",
    "* [Tutorial 9 (JAX): Deep Autoencoders](https://uvadlc-notebooks.readthedocs.io/en/latest/tutorial_notebooks/JAX/tutorial9/AE_CIFAR10.html) shows how to train autoencoders on CIFAR10;\n",
    "* [Tutorial 11 (JAX): Normalizing Flows for image modeling](https://uvadlc-notebooks.readthedocs.io/en/latest/tutorial_notebooks/JAX/tutorial11/NF_image_modeling.html) discusses Normalizing Flows as generative model on images;\n",
    "* [Tutorial 15 (JAX): Vision Transformers](https://uvadlc-notebooks.readthedocs.io/en/latest/tutorial_notebooks/JAX/tutorial15/Vision_Transformer.html) trains a Transformer on image classification for CIFAR10."
   ]
  },
  {
   "cell_type": "markdown",
   "id": "308c6ef4",
   "metadata": {},
   "source": [
    "## ✨ The Fancy Bits ✨\n",
    "\n",
    "After reading this tutorial, you might wonder why we left out some key advertisement points of JAX: automatic vectorization, easy parallelization on multiple accelerators, etc. The reason why we did not include them in our previous discuss is that for building simple networks, and actual most models in our tutorials, you do not really need these methods. However, since they can be handy at some times, for instance, if you have access to a large cluster or are faced with functions that are annoying to vectorize, we review them here in a separate section: the Fancy Bits of JAX (the title is inspired by JAX's tutorial [🔪 JAX - The Sharp Bits 🔪](https://jax.readthedocs.io/en/latest/notebooks/Common_Gotchas_in_JAX.html))."
   ]
  },
  {
   "cell_type": "markdown",
   "id": "84ffa266",
   "metadata": {},
   "source": [
    "### Automatic Vectorization with vmap\n",
    "\n",
    "In machine learning, we often vectorize methods to efficiently process multiple inputs or batch elements at the same time. Usually, we have to write the code ourselves to support additional dimensions to vectorize over. However, since JAX can already transform functions to run efficiently on accelerators or calculate gradients, it can also automatically vectorize a function. For instance, let's consider a simple linear layer where we write a function for a single input `x` of shape `[c_in]`, a weight matrix `[c_in, c_out]`, and a bias vector `[c_out]`: "
   ]
  },
  {
   "cell_type": "code",
   "execution_count": 65,
   "id": "cf303717",
   "metadata": {},
   "outputs": [],
   "source": [
    "def simple_linear(x, w, b):\n",
    "    # We could already vectorize this function with matmul, but as an example,\n",
    "    # let us use a non-vectorized function with same output\n",
    "    return (x[:, None] * w).sum(axis=0) + b"
   ]
  },
  {
   "cell_type": "code",
   "execution_count": 66,
   "id": "6d7ae3f9",
   "metadata": {},
   "outputs": [
    {
     "data": {
      "text/plain": [
       "Array([-0.5393317,  1.4906642,  0.7108946], dtype=float32)"
      ]
     },
     "execution_count": 66,
     "metadata": {},
     "output_type": "execute_result"
    }
   ],
   "source": [
    "# Example inputs\n",
    "rng, x_rng, w_rng, b_rng = jax.random.split(rng, 4)\n",
    "x_in = jax.random.normal(x_rng, (4,))\n",
    "w_in = jax.random.normal(w_rng, (4, 3))\n",
    "b_in = jax.random.normal(b_rng, (3,))\n",
    "\n",
    "simple_linear(x_in, w_in, b_in)"
   ]
  },
  {
   "cell_type": "markdown",
   "id": "ff73b578",
   "metadata": {},
   "source": [
    "Now, we would like the function to support a batch dimension on `x`, i.e. `[batch, c_in]`. Our naive implementation above does not support this, since we specialized the axis we sum over. So, let's make JAX do the work for us and vectorize the function by using `jax.vmap`:"
   ]
  },
  {
   "cell_type": "code",
   "execution_count": 67,
   "id": "e77d9ada",
   "metadata": {},
   "outputs": [],
   "source": [
    "vectorized_linear = jax.vmap(\n",
    "    simple_linear,\n",
    "    in_axes=(0, None, None),  # Which axes to vectorize for each input\n",
    "    out_axes=0,  # Which axes to map to in the output\n",
    ")"
   ]
  },
  {
   "cell_type": "markdown",
   "id": "9c8dc7f0",
   "metadata": {},
   "source": [
    "Specifying `None` for the in-axes of the input arguments `w` and `b` means that we do not want to vectorize any of their input dimensions. With this vmap specification, the function `vectorized_linear` now supports an extra batch dimension in `x`! Let's try it out:"
   ]
  },
  {
   "cell_type": "code",
   "execution_count": 68,
   "id": "4db1aab2",
   "metadata": {},
   "outputs": [
    {
     "data": {
      "text/plain": [
       "Array([[-0.5393317,  1.4906642,  0.7108946],\n",
       "       [-0.5393317,  1.4906642,  0.7108946],\n",
       "       [-0.5393317,  1.4906642,  0.7108946],\n",
       "       [-0.5393317,  1.4906642,  0.7108946],\n",
       "       [-0.5393317,  1.4906642,  0.7108946]], dtype=float32)"
      ]
     },
     "execution_count": 68,
     "metadata": {},
     "output_type": "execute_result"
    }
   ],
   "source": [
    "x_vec_in = jnp.stack([x_in] * 5, axis=0)\n",
    "\n",
    "vectorized_linear(x_vec_in, w_in, b_in)"
   ]
  },
  {
   "cell_type": "markdown",
   "id": "94883303",
   "metadata": {},
   "source": [
    "The new function indeed vectorized our code, calculating $N$ applications of the weights and bias to the input. We can also vectorize the code to run multiple inputs `x` on multiple weights `w` and biases `b` by changing the input argument `in_axes` to `(0, 0, 0)`, or simply `0`. Morever, we can again stack multiple function transformations, such as jitting a vectorized function. Further details on `jax.vmap` can be found in this [tutorial](\n",
    "https://jax.readthedocs.io/en/latest/jax-101/03-vectorization.html\n",
    ") and its [documentation](https://jax.readthedocs.io/en/latest/_autosummary/jax.vmap.html?highlight=vmap)."
   ]
  },
  {
   "cell_type": "markdown",
   "id": "15684cf7",
   "metadata": {},
   "source": [
    "### Parallel evaluation with pmap\n",
    "\n",
    "`jax.vmap` vectorizes a function on a single accelerator. But what if we have multiple GPUs or TPUs available? In PyTorch, we can parallelize a model over multiple GPUs using `nn.DistributedDataParallel`. In JAX, this is yet another function transformation: `jax.pmap`. Similar to `jax.vmap`, we can specify over which axes each input should be parallelized. In a network training, we usually want to parallelize over an extra batch dimension in the data, while the parameters are identical for all devices. For more details on `jax.pmap`, see [Parallel Evaluation in JAX](https://jax.readthedocs.io/en/latest/jax-101/06-parallelism.html)."
   ]
  },
  {
   "cell_type": "markdown",
   "id": "62796a4e",
   "metadata": {},
   "source": [
    "### Working with PyTrees\n",
    "\n",
    "Network parameters in Flax are stored in a PyTree. We have visited them before, but what we haven't discuss yet is JAX's utilities to operate on pytrees! One common application is to obtain a list of all parameters in the network. This corresponds to extracting all leafs from a PyTree, for which JAX provides the function `jax.tree_leaves`:"
   ]
  },
  {
   "cell_type": "code",
   "execution_count": 69,
   "id": "8e4bd2af",
   "metadata": {},
   "outputs": [
    {
     "name": "stdout",
     "output_type": "stream",
     "text": [
      "We have parameters with the following shapes: (8,), (2, 8), (1,), (8, 1)\n",
      "Overall parameter count: 33\n"
     ]
    },
    {
     "name": "stderr",
     "output_type": "stream",
     "text": [
      "/tmp/ipykernel_6352/3648342815.py:1: FutureWarning: jax.tree_leaves is deprecated, and will be removed in a future release. Use jax.tree_util.tree_leaves instead.\n",
      "  parameters = jax.tree_leaves(model_state.params)\n"
     ]
    }
   ],
   "source": [
    "parameters = jax.tree_leaves(model_state.params)\n",
    "print(\n",
    "    \"We have parameters with the following shapes:\",\n",
    "    \", \".join([str(p.shape) for p in parameters]),\n",
    ")\n",
    "print(\"Overall parameter count:\", sum([np.prod(p.shape) for p in parameters]))"
   ]
  },
  {
   "cell_type": "markdown",
   "id": "3349815f",
   "metadata": {},
   "source": [
    "We can also create new PyTrees that are the result of applying a function on all elements in the tree using `jax.tree_map`. For instance, let's obtain a PyTree with all parameter shapes:"
   ]
  },
  {
   "cell_type": "code",
   "execution_count": 70,
   "id": "1721a198",
   "metadata": {},
   "outputs": [
    {
     "data": {
      "text/plain": [
       "FrozenDict({\n",
       "    params: {\n",
       "        linear1: {\n",
       "            bias: (8,),\n",
       "            kernel: (2, 8),\n",
       "        },\n",
       "        linear2: {\n",
       "            bias: (1,),\n",
       "            kernel: (8, 1),\n",
       "        },\n",
       "    },\n",
       "})"
      ]
     },
     "execution_count": 70,
     "metadata": {},
     "output_type": "execute_result"
    }
   ],
   "source": [
    "jax.tree_map(lambda p: p.shape, model_state.params)"
   ]
  },
  {
   "cell_type": "markdown",
   "id": "7576e873",
   "metadata": {},
   "source": [
    "The nodes of PyTrees do not necessarily need to be NumPy or JAX arrays, but can be arbitrary objects. Overall, PyTrees provide a simple, structured representation of data useful in many applications. More details can be found in JAX's Tutorial [Working with PyTrees](https://jax.readthedocs.io/en/latest/jax-101/05.1-pytrees.html)."
   ]
  },
  {
   "cell_type": "markdown",
   "id": "972d1342",
   "metadata": {},
   "source": [
    "## 🔪 The Sharp Bits 🔪\n",
    "\n",
    "Since JAX functions need to be written with certain constraints, there are situations where this can get annoying or difficult. A great overview of those, why they are needed, and most importantly, what to do about them, can be found in the original JAX tutorial [🔪 JAX - The Sharp Bits 🔪](https://jax.readthedocs.io/en/latest/notebooks/Common_Gotchas_in_JAX.html). In this final section of the tutorial, we want to visit a few of those points we have not explicitly discussed yet. Furthermore, we also focus on the combination with Flax, and what can be annoying when training models."
   ]
  },
  {
   "cell_type": "markdown",
   "id": "4fc16606",
   "metadata": {},
   "source": [
    "### Dynamic shapes\n",
    "\n",
    "JAX has the great advantage of providing just-in-time compilation of functions to speed up the computation. For this, it uses its intermediate representation jaxpr, which is specialized to the shapes of the input arguments. However, this also means that a jitted function is specialized to a certain shape, and running the jitted function with a different input shape requires recompiling the function. For instance, consider the following simple function:"
   ]
  },
  {
   "cell_type": "code",
   "execution_count": 71,
   "id": "48c42ead",
   "metadata": {},
   "outputs": [],
   "source": [
    "def my_function(x):\n",
    "    print(\"Running the function with shape\", x.shape)\n",
    "    return x.mean()\n",
    "\n",
    "\n",
    "jitted_function = jax.jit(my_function)"
   ]
  },
  {
   "cell_type": "markdown",
   "id": "4bcf0f45",
   "metadata": {},
   "source": [
    "The print statement is only executed once when the function is compiled, and for all consecutive function calls, this print statement will be ignored since it is not part of the jaxpr representation. Let's run the function now with multiple different input shapes:"
   ]
  },
  {
   "cell_type": "code",
   "execution_count": 72,
   "id": "ff368813",
   "metadata": {},
   "outputs": [
    {
     "name": "stdout",
     "output_type": "stream",
     "text": [
      "Running the function with shape (1,)\n",
      "Running the function with shape (2,)\n",
      "Running the function with shape (3,)\n",
      "Running the function with shape (4,)\n",
      "Running the function with shape (5,)\n",
      "Running the function with shape (6,)\n",
      "Running the function with shape (7,)\n",
      "Running the function with shape (8,)\n",
      "Running the function with shape (9,)\n",
      "Running the function with shape (10,)\n"
     ]
    }
   ],
   "source": [
    "for i in range(10):\n",
    "    jitted_function(\n",
    "        jnp.zeros(\n",
    "            i + 1,\n",
    "        )\n",
    "    )"
   ]
  },
  {
   "cell_type": "markdown",
   "id": "9205769b",
   "metadata": {},
   "source": [
    "As we can see, the function is compiled for every different input we give it. This can become inefficient if we actually work with many different shapes. However, running the function again with one of the previous input shapes will not require another compilation:"
   ]
  },
  {
   "cell_type": "code",
   "execution_count": 73,
   "id": "9f929ce4",
   "metadata": {},
   "outputs": [],
   "source": [
    "# Running the functions a second time will not print out anything since\n",
    "# the functions are already jitted for the respective input shapes.\n",
    "for i in range(10):\n",
    "    jitted_function(\n",
    "        jnp.zeros(\n",
    "            i + 1,\n",
    "        )\n",
    "    )"
   ]
  },
  {
   "cell_type": "markdown",
   "id": "b6bc1b4d",
   "metadata": {},
   "source": [
    "If we have a very limited set of different shapes, we do not see a big performance difference. For instance, in our evaluation, the last batch size is smaller than the previous since we have a limited size of the evaluation dataset. However, for other applications, we might encounter this problem much more often: NLP and time series, and graphs. In these cases, it is recommend to pad the batches to prevent many re-compilations (see Flax's [padding guide](https://flax.readthedocs.io/en/latest/howtos/full_eval.html) for details). We briefly review the two scenarios below.\n",
    "\n",
    "#### NLP and time series\n",
    "\n",
    "In Natural Language Processing, our data consist of sentences which greatly vary in size. Already for batching the elements, we need to apply padding, such that the shape of the batch is determined by the largest sentence in the batch. However, this largest length can vary between batches, especially when we shuffle the dataset before each epoch. In PyTorch, this is not a problem, since the dynamic computation graph allows us to stop the computation whenever we need to. In contrast, JAX would need to recompile the forward pass for every single largest sentence length, which can quickly become very expensive. Padding is needed to reduce the number of compilations, but at the same time introduces unnecessary computation. Hence, we have a tradeoff between number of compilations and extra compute per batch. In the extreme case, PyTorch may even become faster than JAX here.\n",
    "\n",
    "#### Graphs\n",
    "\n",
    "Similar to NLP, graphs can vary in their size. Often, graphs differ in their number of nodes, but especially in the number of edges. Furthermore, when we start batching the graphs, the variation of node sizes and edge count considerably increases. Again, padding is needed to reduce the number of compilations, and we will revisit this topic in Tutorial 7 (TBD)."
   ]
  },
  {
   "cell_type": "markdown",
   "id": "63446f6d",
   "metadata": {},
   "source": [
    "### Debugging in jitted functions\n",
    "\n",
    "During coding, we likely want to debug our model and sometimes print out intermediate values. In JAX, when jitting functions, this is not as straightforward. As we could see from the previous cells, a print statement is only executed once during compilation, and afterwards removed since it is not part of the jaxpr representation. Furthermore, there can be issues when tracking NaNs in your code (see the [sharp bits tutorial](https://jax.readthedocs.io/en/latest/notebooks/Common_Gotchas_in_JAX.html#debugging-nans)), and errors like out-of-bounds indexing are silently handled on accelerators by returning -1 instead of an error (see the corresponding section in the [sharp bits tutorial](https://jax.readthedocs.io/en/latest/notebooks/Common_Gotchas_in_JAX.html#out-of-bounds-indexing)). However, if necessary, one can either run the unjitted version of the forward pass first, and even introduce print statements to the jitted version where needed (see [here](https://github.com/google/jax/issues/196) for a great explanation). Still, it is not as straight-forward as in PyTorch, for example."
   ]
  },
  {
   "cell_type": "markdown",
   "id": "c2eadd68",
   "metadata": {},
   "source": [
    "### Modules with different train and evaluation functions\n",
    "\n",
    "Certain deep learning layers have different behaviors under evaluation than during training. For instance, dropout randomly masks out a number of neurons during training, but leaves the graph untouched during evaluation. In PyTorch, we can easily switch between the two states via `model.train()` and `model.eval()` without having to manually specify it in the dropout module instance. However, in JAX, we do not have global states in the model, and thus need to pass this information to every module in the forward pass that may need it. In our example above, this was not needed, since the forward pass of the simple classifier is identical during training and evaluation. Alternatively, since the parameters are not bound to a specific model during training, one can also create two models: one training model, and one evaluation model. Nonetheless, one still needs to add the information to every module with changing behaviors, which adds a certain overhead compared to PyTorch. We will discuss two common modules with such behaviors below: dropout and BatchNorm."
   ]
  },
  {
   "cell_type": "markdown",
   "id": "756122b5",
   "metadata": {},
   "source": [
    "#### Dropout\n",
    "\n",
    "In Flax, [Dropout](https://flax.readthedocs.io/en/latest/_autosummary/flax.linen.Dropout.html) has an argument `deterministic` which turns off dropout when True, and otherwise applies the random masking as intended during training. This deterministic switch can either be defined in the constructor, or in every forward call. Furthermore, dropout has the special case that it is a random operation during training, meaning that it also needs a PRNG state. Fortunately, we do not have to pass this state in every PRNG state, but instead, can simply pass `rngs={'dropout': dropout_rng}` with `dropout_rng` being the PRNG state. For an example, see our [Tutorial 6](https://uvadlc-notebooks.readthedocs.io/en/latest/tutorial_notebooks/JAX/tutorial6/Transformers_and_MHAttention.html) on Transformers in which we use dropout in several occasions."
   ]
  },
  {
   "cell_type": "markdown",
   "id": "29f3ec61",
   "metadata": {},
   "source": [
    "#### BatchNorm\n",
    "\n",
    "Batch Normalization transforms the input in two different ways. During training, we determine the mean and standard deviation of the input, and normalize the data with it to a zero mean and standard deviation of one. During evaluation, on the other hand, we take a running statistic over the previous several batches, and use those to estimate the mean and standard deviation. This is necessary to keep the evaluation stable and invariant to the specific batches we choose. Still, in the Flax module ([documentation](https://flax.readthedocs.io/en/latest/_autosummary/flax.linen.BatchNorm.html)), we need to give the argument `use_running_average` (bool) to either the constructor or each forward pass. Furthermore, BatchNorm has a specific property we haven't discussed yet and is a bit tricky in JAX: keeping track of the running average. During every forward pass, we want to record the mean and standard deviation of the current batch, and update our current average over the past batches. However, this requires changing an input tensor, and returning this changed tensor again. In Flax, we can do this by defining the batch statistics as a mutable tensor. Check out our [Tutorial 5](https://uvadlc-notebooks.readthedocs.io/en/latest/tutorial_notebooks/JAX/tutorial5/Inception_ResNet_DenseNet.html) to see BatchNorm being used in practice with Flax."
   ]
  },
  {
   "cell_type": "markdown",
   "id": "f7ba15d3",
   "metadata": {},
   "source": [
    "---\n",
    "\n",
    "[![Star our repository](https://img.shields.io/static/v1.svg?logo=star&label=⭐&message=Star%20Our%20Repository&color=yellow)](https://github.com/phlippe/uvadlc_notebooks/)  If you found this tutorial helpful, consider ⭐-ing our repository.    \n",
    "[![Ask questions](https://img.shields.io/static/v1.svg?logo=star&label=❔&message=Ask%20Questions&color=9cf)](https://github.com/phlippe/uvadlc_notebooks/issues)  For any questions, typos, or bugs that you found, please raise an issue on GitHub. \n",
    "\n",
    "---"
   ]
  }
 ],
 "metadata": {
  "kernelspec": {
   "display_name": "Python 3 (ipykernel)",
   "language": "python",
   "name": "python3"
  },
  "language_info": {
   "codemirror_mode": {
    "name": "ipython",
    "version": 3
   },
   "file_extension": ".py",
   "mimetype": "text/x-python",
   "name": "python",
   "nbconvert_exporter": "python",
   "pygments_lexer": "ipython3",
   "version": "3.10.9"
  }
 },
 "nbformat": 4,
 "nbformat_minor": 5
}
