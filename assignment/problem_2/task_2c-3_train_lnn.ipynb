{
 "cells": [
  {
   "cell_type": "markdown",
   "id": "ac408b5e",
   "metadata": {
    "deletable": false,
    "editable": false,
    "nbgrader": {
     "cell_type": "markdown",
     "checksum": "a96d02d6346fa7399cf6da0111ce0937",
     "grade": false,
     "grade_id": "cell-b00828259c8e42e8",
     "locked": true,
     "schema_version": 3,
     "solution": false,
     "task": false
    }
   },
   "source": [
    "# RO47019: Intelligent Control Systems Practical Assignment\n",
    "* Period: 2022-2023, Q3\n",
    "* Course homepage: https://brightspace.tudelft.nl/d2l/home/500969\n",
    "* Instructor: Cosimo Della Santina (C.DellaSantina@tudelft.nl)\n",
    "* Teaching assistant: Ruben Martin Rodriguez (R.MartinRodriguez@student.tudelft.nl)\n",
    "* (c) TU Delft, 2023\n",
    "\n",
    "Make sure you fill in any place that says `YOUR CODE HERE` or `YOUR ANSWER HERE`. Remove `raise NotImplementedError()` afterwards. Moreover, if you see an empty cell, please DO NOT delete it, instead run that cell as you would run all other cells. Please fill in your name(s) and other required details below:"
   ]
  },
  {
   "cell_type": "code",
   "execution_count": 1,
   "id": "4f9e220c",
   "metadata": {},
   "outputs": [],
   "source": [
    "# Please fill in your names, student numbers, netID, and emails below.\n",
    "STUDENT_1_NAME = \"Jesper Ekstrøm\"\n",
    "STUDENT_1_STUDENT_NUMBER = \"5900468\"\n",
    "STUDENT_1_NETID = \"jekstrom\"\n",
    "STUDENT_1_EMAIL = \"J.Ekstrom@student.tudelft.nl\""
   ]
  },
  {
   "cell_type": "code",
   "execution_count": 2,
   "id": "8ba32571",
   "metadata": {
    "deletable": false,
    "editable": false,
    "nbgrader": {
     "cell_type": "code",
     "checksum": "042927213b84aa368aa3ea72caa4cb60",
     "grade": true,
     "grade_id": "cell-9f148ec62e0de49c",
     "locked": true,
     "points": 0,
     "schema_version": 3,
     "solution": false,
     "task": false
    }
   },
   "outputs": [],
   "source": [
    "# Note: this block is a check that you have filled in the above information.\n",
    "# It will throw an AssertionError until all fields are filled\n",
    "assert STUDENT_1_NAME != \"\"\n",
    "assert STUDENT_1_STUDENT_NUMBER != \"\"\n",
    "assert STUDENT_1_NETID != \"\"\n",
    "assert STUDENT_1_EMAIL != \"\""
   ]
  },
  {
   "cell_type": "markdown",
   "id": "af317a94",
   "metadata": {
    "deletable": false,
    "editable": false,
    "nbgrader": {
     "cell_type": "markdown",
     "checksum": "e76ef40fcc3f08a0484661497162a1a9",
     "grade": false,
     "grade_id": "cell-4ea391677951116c",
     "locked": true,
     "schema_version": 3,
     "solution": false,
     "task": false
    }
   },
   "source": [
    "### General announcements\n",
    "\n",
    "* Do *not* share your solutions, and do *not* copy solutions from others. By submitting your solutions, you claim that you alone are responsible for this code.\n",
    "\n",
    "* Do *not* email questions directly, since we want to provide everybody with the same information and avoid repeating the same answers. Instead, please post your questions regarding this assignment in the correct support forum on Brightspace, this way everybody can benefit from the response. If you do have a particular question that you want to ask directly, please use the scheduled Q&A hours to ask the TA.\n",
    "\n",
    "* There is a strict deadline for each assignment. Students are responsible to ensure that they have uploaded their work in time. So, please double check that your upload succeeded to the Brightspace and avoid any late penalties.\n",
    "\n",
    "* This [Jupyter notebook](https://jupyter.org/) uses `nbgrader` to help us with automated tests. `nbgrader` will make various cells in this notebook \"uneditable\" or \"unremovable\" and gives them a special id in the cell metadata. This way, when we run our checks, the system will check the existence of the cell ids and verify the number of points and which checks must be run. While there are ways that you can edit the metadata and work around the restrictions to delete or modify these special cells, you should not do that since then our nbgrader backend will not be able to parse your notebook and give you points for the assignment. You are free to add additional cells, but if you find a cell that you cannot modify or remove, please know that this is on purpose.\n",
    "\n",
    "* This notebook will have in various places a line that throws a `NotImplementedError` exception. These are locations where the assignment requires you to adapt the code! These lines are just there as a reminder for youthat you have not yet adapted that particular piece of code, especially when you execute all the cells. Once your solution code replaced these lines, it should accordingly *not* throw any exceptions anymore.\n",
    "\n",
    "Before you turn this problem in, make sure everything runs as expected. First, **restart the kernel** (in the menubar, select Kernel$\\rightarrow$Restart) and then **run all cells** (in the menubar, select Cell$\\rightarrow$Run All)."
   ]
  },
  {
   "cell_type": "code",
   "execution_count": null,
   "id": "3c956945",
   "metadata": {},
   "outputs": [],
   "source": []
  },
  {
   "cell_type": "markdown",
   "id": "387d2c60",
   "metadata": {
    "deletable": false,
    "editable": false,
    "nbgrader": {
     "cell_type": "markdown",
     "checksum": "aa1bd6dac9e3191ddb8d246e783d28d8",
     "grade": false,
     "grade_id": "cell-ed88010142fb94bb",
     "locked": true,
     "schema_version": 3,
     "solution": false,
     "task": false
    }
   },
   "source": [
    "# Task 2c.3 - Train the Lagrangian neural network (4.5p)\n",
    "\n",
    "**Author:** Maximilian Stölzle (M.W.Stolzle@tudelft.nl)\n",
    "\n",
    "This notebook will guide you through the implementation of a Lagrangian neural network. All functions need to be implemented into the `lnn_training.ipynb` notebook. \n",
    "\n",
    "Please enter your answer where requested and remove raise `NotImplementedError()` afterwards. "
   ]
  },
  {
   "cell_type": "code",
   "execution_count": 3,
   "id": "2c6ca05f",
   "metadata": {},
   "outputs": [],
   "source": [
    "# Please fill in your names, student numbers and emails below.\n",
    "STUDENT_1_NAME = \"Jesper Ekstrøm\"\n",
    "STUDENT_1_STUDENT_NUMBER = \"5900468\"\n",
    "STUDENT_1_EMAIL = \"J.Ekstrom@student.tudelft.nl\""
   ]
  },
  {
   "cell_type": "markdown",
   "id": "fcdb1c8a",
   "metadata": {
    "deletable": false,
    "editable": false,
    "nbgrader": {
     "cell_type": "markdown",
     "checksum": "47d97cff0897337c3d4b6524a9e21312",
     "grade": false,
     "grade_id": "cell-1ccdb1fbb18aa565",
     "locked": true,
     "schema_version": 3,
     "solution": false,
     "task": false
    }
   },
   "source": [
    "Training the neural network might be faster on the GPU than on the CPU. Please note that we will not offer any support for installing JAX with GPU support and it is totally up to your discretion to attempt the GPU training. If you are satisfied with training on the CPU, there is no need to modify the next cell. \n",
    "\n",
    "If your computer has access to a NVIDIA GPU and you want to train the neural network on the GPU, please first install JAX with both CPU and GPU support. You can do this by running in the `ics` Conda environment:\n",
    "\n",
    "```bash\n",
    "conda install jax cuda-nvcc -c conda-forge -c nvidia\n",
    "```\n",
    "\n",
    "Next, you should set in the cell below the default JAX device to GPU with `jax_config.update(\"jax_platform_name\", \"gpu\")`. Then, you will need to restart the kernel of the Jupyter notebook by clicking on _Kernel -> Restart_. If everything went well, the following cells should run-through without any errors or warnings. In case you are encountering issues with the installation or if JAX does not find your GPU, please refer to the [JAX README](https://github.com/google/jax#installation)."
   ]
  },
  {
   "cell_type": "code",
   "execution_count": 4,
   "id": "c0c39bff",
   "metadata": {
    "deletable": false,
    "editable": false,
    "nbgrader": {
     "cell_type": "code",
     "checksum": "d7393eb3170f219592d991c10f0fbe84",
     "grade": false,
     "grade_id": "cell-d0433686882841dd",
     "locked": true,
     "schema_version": 3,
     "solution": false,
     "task": false
    }
   },
   "outputs": [],
   "source": [
    "from jax.config import config as jax_config\n",
    "\n",
    "# set default device to \"cpu\"\n",
    "# for training on the GPU, change to \"gpu\"\n",
    "jax_config.update(\"jax_platform_name\", \"cpu\")\n",
    "jax_config.update(\"jax_enable_x64\", True)  # double precision"
   ]
  },
  {
   "cell_type": "code",
   "execution_count": 5,
   "id": "c3dacc9a",
   "metadata": {
    "deletable": false,
    "editable": false,
    "nbgrader": {
     "cell_type": "code",
     "checksum": "922f1582c9e5bd605f59f259ff1c531a",
     "grade": false,
     "grade_id": "cell-d7243ceefb433f94",
     "locked": true,
     "schema_version": 3,
     "solution": false,
     "task": false
    }
   },
   "outputs": [],
   "source": [
    "# Reloads the python files outside of this notebook automatically\n",
    "%load_ext autoreload\n",
    "%autoreload 2\n",
    "\n",
    "# import all Python modules\n",
    "import dill\n",
    "from distutils.util import strtobool\n",
    "from flax.training.train_state import TrainState\n",
    "from functools import partial\n",
    "import jax\n",
    "from jax import random, vmap\n",
    "from jax import numpy as jnp\n",
    "from matplotlib import pyplot as plt\n",
    "import optax\n",
    "import os\n",
    "from pathlib import Path\n",
    "from tqdm.notebook import tqdm  # progress bar\n",
    "from typing import Callable, Dict, Tuple\n",
    "\n",
    "from jax_double_pendulum.utils import normalize_link_angles\n",
    "\n",
    "from lnn_analysis import (\n",
    "    plot_lnn_training_convergence,\n",
    "    plot_link_angular_acceleration_prediction_error,\n",
    ")\n",
    "\n",
    "# import the learned discrete forward dynamics from lnn.ipynb\n",
    "from ipynb.fs.full.lnn import (\n",
    "    discrete_forward_dynamics,\n",
    "    MassMatrixNN,\n",
    "    PotentialEnergyNN,\n",
    ")\n",
    "\n",
    "# define boolean to check if the notebook is run for the purposes of autograding\n",
    "AUTOGRADING = strtobool(os.environ.get(\"AUTOGRADING\", \"false\"))\n",
    "\n",
    "# specify directory where to save plot\n",
    "outputs_dir = Path(\"outputs\")\n",
    "outputs_dir.mkdir(exist_ok=True, parents=True)"
   ]
  },
  {
   "cell_type": "markdown",
   "id": "7857757c",
   "metadata": {
    "deletable": false,
    "editable": false,
    "nbgrader": {
     "cell_type": "markdown",
     "checksum": "08fcfcae3e88df5a4648c6ab0ba687d2",
     "grade": false,
     "grade_id": "cell-33032d065a5ba87d",
     "locked": true,
     "schema_version": 3,
     "solution": false,
     "task": false
    }
   },
   "source": [
    "## Loading & splitting the of dataset\n",
    "\n",
    "Please implement the splitting of the dataset into a training and a validation set into the function `load_datasets`. We emphasize that the dataset needs to be **randomly** split, as otherwise certain parts of the state-space could only be represented in the validation set and not the training set (and vice-versa). **Hint:** one option for the implementation of this random split is to implementation a random permutation of the dataset indices and before separating the two datasets."
   ]
  },
  {
   "cell_type": "code",
   "execution_count": 6,
   "id": "33b1a659",
   "metadata": {
    "deletable": false,
    "editable": false,
    "nbgrader": {
     "cell_type": "code",
     "checksum": "844e59caeca3463ae5ee4ed875241fc5",
     "grade": false,
     "grade_id": "cell-62269f573e40bb93",
     "locked": true,
     "schema_version": 3,
     "solution": false,
     "task": false
    }
   },
   "outputs": [
    {
     "ename": "NotImplementedError",
     "evalue": "",
     "output_type": "error",
     "traceback": [
      "\u001b[0;31m---------------------------------------------------------------------------\u001b[0m",
      "\u001b[0;31mNotImplementedError\u001b[0m                       Traceback (most recent call last)",
      "Cell \u001b[0;32mIn[6], line 2\u001b[0m\n\u001b[1;32m      1\u001b[0m \u001b[38;5;66;03m# import load_datasets from lnn_training.ipynb\u001b[39;00m\n\u001b[0;32m----> 2\u001b[0m \u001b[38;5;28;01mfrom\u001b[39;00m \u001b[38;5;21;01mipynb\u001b[39;00m\u001b[38;5;21;01m.\u001b[39;00m\u001b[38;5;21;01mfs\u001b[39;00m\u001b[38;5;21;01m.\u001b[39;00m\u001b[38;5;21;01mfull\u001b[39;00m\u001b[38;5;21;01m.\u001b[39;00m\u001b[38;5;21;01mlnn_training\u001b[39;00m \u001b[38;5;28;01mimport\u001b[39;00m load_datasets\n\u001b[1;32m      4\u001b[0m _rng \u001b[38;5;241m=\u001b[39m jax\u001b[38;5;241m.\u001b[39mrandom\u001b[38;5;241m.\u001b[39mPRNGKey(seed\u001b[38;5;241m=\u001b[39m\u001b[38;5;241m101\u001b[39m)\n\u001b[1;32m      6\u001b[0m \u001b[38;5;66;03m# load the dataset\u001b[39;00m\n",
      "File \u001b[0;32m~/projects/TUDelft/RO47019_ICS/ICS-Project/assignment/problem_2/lnn_training.ipynb:251\u001b[0m\n\u001b[1;32m      1\u001b[0m {\n\u001b[1;32m      2\u001b[0m  \u001b[38;5;124m\"\u001b[39m\u001b[38;5;124mcells\u001b[39m\u001b[38;5;124m\"\u001b[39m: [\n\u001b[1;32m      3\u001b[0m   {\n\u001b[1;32m      4\u001b[0m    \u001b[38;5;124m\"\u001b[39m\u001b[38;5;124mcell_type\u001b[39m\u001b[38;5;124m\"\u001b[39m: \u001b[38;5;124m\"\u001b[39m\u001b[38;5;124mmarkdown\u001b[39m\u001b[38;5;124m\"\u001b[39m,\n\u001b[1;32m      5\u001b[0m    \u001b[38;5;124m\"\u001b[39m\u001b[38;5;124mid\u001b[39m\u001b[38;5;124m\"\u001b[39m: \u001b[38;5;124m\"\u001b[39m\u001b[38;5;124mac408b5e\u001b[39m\u001b[38;5;124m\"\u001b[39m,\n\u001b[1;32m      6\u001b[0m    \u001b[38;5;124m\"\u001b[39m\u001b[38;5;124mmetadata\u001b[39m\u001b[38;5;124m\"\u001b[39m: {\n\u001b[1;32m      7\u001b[0m     \u001b[38;5;124m\"\u001b[39m\u001b[38;5;124mdeletable\u001b[39m\u001b[38;5;124m\"\u001b[39m: false,\n\u001b[1;32m      8\u001b[0m     \u001b[38;5;124m\"\u001b[39m\u001b[38;5;124meditable\u001b[39m\u001b[38;5;124m\"\u001b[39m: false,\n\u001b[1;32m      9\u001b[0m     \u001b[38;5;124m\"\u001b[39m\u001b[38;5;124mnbgrader\u001b[39m\u001b[38;5;124m\"\u001b[39m: {\n\u001b[1;32m     10\u001b[0m      \u001b[38;5;124m\"\u001b[39m\u001b[38;5;124mcell_type\u001b[39m\u001b[38;5;124m\"\u001b[39m: \u001b[38;5;124m\"\u001b[39m\u001b[38;5;124mmarkdown\u001b[39m\u001b[38;5;124m\"\u001b[39m,\n\u001b[1;32m     11\u001b[0m      \u001b[38;5;124m\"\u001b[39m\u001b[38;5;124mchecksum\u001b[39m\u001b[38;5;124m\"\u001b[39m: \u001b[38;5;124m\"\u001b[39m\u001b[38;5;124ma96d02d6346fa7399cf6da0111ce0937\u001b[39m\u001b[38;5;124m\"\u001b[39m,\n\u001b[1;32m     12\u001b[0m      \u001b[38;5;124m\"\u001b[39m\u001b[38;5;124mgrade\u001b[39m\u001b[38;5;124m\"\u001b[39m: false,\n\u001b[1;32m     13\u001b[0m      \u001b[38;5;124m\"\u001b[39m\u001b[38;5;124mgrade_id\u001b[39m\u001b[38;5;124m\"\u001b[39m: \u001b[38;5;124m\"\u001b[39m\u001b[38;5;124mcell-b00828259c8e42e8\u001b[39m\u001b[38;5;124m\"\u001b[39m,\n\u001b[1;32m     14\u001b[0m      \u001b[38;5;124m\"\u001b[39m\u001b[38;5;124mlocked\u001b[39m\u001b[38;5;124m\"\u001b[39m: true,\n\u001b[1;32m     15\u001b[0m      \u001b[38;5;124m\"\u001b[39m\u001b[38;5;124mschema_version\u001b[39m\u001b[38;5;124m\"\u001b[39m: \u001b[38;5;241m3\u001b[39m,\n\u001b[1;32m     16\u001b[0m      \u001b[38;5;124m\"\u001b[39m\u001b[38;5;124msolution\u001b[39m\u001b[38;5;124m\"\u001b[39m: false,\n\u001b[1;32m     17\u001b[0m      \u001b[38;5;124m\"\u001b[39m\u001b[38;5;124mtask\u001b[39m\u001b[38;5;124m\"\u001b[39m: false\n\u001b[1;32m     18\u001b[0m     }\n\u001b[1;32m     19\u001b[0m    },\n\u001b[1;32m     20\u001b[0m    \u001b[38;5;124m\"\u001b[39m\u001b[38;5;124msource\u001b[39m\u001b[38;5;124m\"\u001b[39m: [\n\u001b[1;32m     21\u001b[0m     \u001b[38;5;124m\"\u001b[39m\u001b[38;5;124m# RO47019: Intelligent Control Systems Practical Assignment\u001b[39m\u001b[38;5;130;01m\\n\u001b[39;00m\u001b[38;5;124m\"\u001b[39m,\n\u001b[1;32m     22\u001b[0m     \u001b[38;5;124m\"\u001b[39m\u001b[38;5;124m* Period: 2022-2023, Q3\u001b[39m\u001b[38;5;130;01m\\n\u001b[39;00m\u001b[38;5;124m\"\u001b[39m,\n\u001b[1;32m     23\u001b[0m     \u001b[38;5;124m\"\u001b[39m\u001b[38;5;124m* Course homepage: https://brightspace.tudelft.nl/d2l/home/500969\u001b[39m\u001b[38;5;130;01m\\n\u001b[39;00m\u001b[38;5;124m\"\u001b[39m,\n\u001b[1;32m     24\u001b[0m     \u001b[38;5;124m\"\u001b[39m\u001b[38;5;124m* Instructor: Cosimo Della Santina (C.DellaSantina@tudelft.nl)\u001b[39m\u001b[38;5;130;01m\\n\u001b[39;00m\u001b[38;5;124m\"\u001b[39m,\n\u001b[1;32m     25\u001b[0m     \u001b[38;5;124m\"\u001b[39m\u001b[38;5;124m* Teaching assistant: Ruben Martin Rodriguez (R.MartinRodriguez@student.tudelft.nl)\u001b[39m\u001b[38;5;130;01m\\n\u001b[39;00m\u001b[38;5;124m\"\u001b[39m,\n\u001b[1;32m     26\u001b[0m     \u001b[38;5;124m\"\u001b[39m\u001b[38;5;124m* (c) TU Delft, 2023\u001b[39m\u001b[38;5;130;01m\\n\u001b[39;00m\u001b[38;5;124m\"\u001b[39m,\n\u001b[1;32m     27\u001b[0m     \u001b[38;5;124m\"\u001b[39m\u001b[38;5;130;01m\\n\u001b[39;00m\u001b[38;5;124m\"\u001b[39m,\n\u001b[1;32m     28\u001b[0m     \u001b[38;5;124m\"\u001b[39m\u001b[38;5;124mMake sure you fill in any place that says `YOUR CODE HERE` or `YOUR ANSWER HERE`. Remove `raise NotImplementedError()` afterwards. Moreover, if you see an empty cell, please DO NOT delete it, instead run that cell as you would run all other cells. Please fill in your name(s) and other required details below:\u001b[39m\u001b[38;5;124m\"\u001b[39m\n\u001b[1;32m     29\u001b[0m    ]\n\u001b[1;32m     30\u001b[0m   },\n\u001b[1;32m     31\u001b[0m   {\n\u001b[1;32m     32\u001b[0m    \u001b[38;5;124m\"\u001b[39m\u001b[38;5;124mcell_type\u001b[39m\u001b[38;5;124m\"\u001b[39m: \u001b[38;5;124m\"\u001b[39m\u001b[38;5;124mcode\u001b[39m\u001b[38;5;124m\"\u001b[39m,\n\u001b[1;32m     33\u001b[0m    \u001b[38;5;124m\"\u001b[39m\u001b[38;5;124mexecution_count\u001b[39m\u001b[38;5;124m\"\u001b[39m: \u001b[38;5;241m1\u001b[39m,\n\u001b[1;32m     34\u001b[0m    \u001b[38;5;124m\"\u001b[39m\u001b[38;5;124mid\u001b[39m\u001b[38;5;124m\"\u001b[39m: \u001b[38;5;124m\"\u001b[39m\u001b[38;5;124m4f9e220c\u001b[39m\u001b[38;5;124m\"\u001b[39m,\n\u001b[1;32m     35\u001b[0m    \u001b[38;5;124m\"\u001b[39m\u001b[38;5;124mmetadata\u001b[39m\u001b[38;5;124m\"\u001b[39m: {},\n\u001b[1;32m     36\u001b[0m    \u001b[38;5;124m\"\u001b[39m\u001b[38;5;124moutputs\u001b[39m\u001b[38;5;124m\"\u001b[39m: [],\n\u001b[1;32m     37\u001b[0m    \u001b[38;5;124m\"\u001b[39m\u001b[38;5;124msource\u001b[39m\u001b[38;5;124m\"\u001b[39m: [\n\u001b[1;32m     38\u001b[0m     \u001b[38;5;124m\"\u001b[39m\u001b[38;5;124m# Please fill in your names, student numbers, netID, and emails below.\u001b[39m\u001b[38;5;130;01m\\n\u001b[39;00m\u001b[38;5;124m\"\u001b[39m,\n\u001b[1;32m     39\u001b[0m     \u001b[38;5;124m\"\u001b[39m\u001b[38;5;124mSTUDENT_1_NAME = \u001b[39m\u001b[38;5;130;01m\\\"\u001b[39;00m\u001b[38;5;124mJesper Ekstrøm\u001b[39m\u001b[38;5;130;01m\\\"\u001b[39;00m\u001b[38;5;130;01m\\n\u001b[39;00m\u001b[38;5;124m\"\u001b[39m,\n\u001b[1;32m     40\u001b[0m     \u001b[38;5;124m\"\u001b[39m\u001b[38;5;124mSTUDENT_1_STUDENT_NUMBER = \u001b[39m\u001b[38;5;130;01m\\\"\u001b[39;00m\u001b[38;5;124m5900468\u001b[39m\u001b[38;5;130;01m\\\"\u001b[39;00m\u001b[38;5;130;01m\\n\u001b[39;00m\u001b[38;5;124m\"\u001b[39m,\n\u001b[1;32m     41\u001b[0m     \u001b[38;5;124m\"\u001b[39m\u001b[38;5;124mSTUDENT_1_NETID = \u001b[39m\u001b[38;5;130;01m\\\"\u001b[39;00m\u001b[38;5;124mjekstrom\u001b[39m\u001b[38;5;130;01m\\\"\u001b[39;00m\u001b[38;5;130;01m\\n\u001b[39;00m\u001b[38;5;124m\"\u001b[39m,\n\u001b[1;32m     42\u001b[0m     \u001b[38;5;124m\"\u001b[39m\u001b[38;5;124mSTUDENT_1_EMAIL = \u001b[39m\u001b[38;5;130;01m\\\"\u001b[39;00m\u001b[38;5;124mJ.Ekstrom@student.tudelft.nl\u001b[39m\u001b[38;5;130;01m\\\"\u001b[39;00m\u001b[38;5;124m\"\u001b[39m\n\u001b[1;32m     43\u001b[0m    ]\n\u001b[1;32m     44\u001b[0m   },\n\u001b[1;32m     45\u001b[0m   {\n\u001b[1;32m     46\u001b[0m    \u001b[38;5;124m\"\u001b[39m\u001b[38;5;124mcell_type\u001b[39m\u001b[38;5;124m\"\u001b[39m: \u001b[38;5;124m\"\u001b[39m\u001b[38;5;124mcode\u001b[39m\u001b[38;5;124m\"\u001b[39m,\n\u001b[1;32m     47\u001b[0m    \u001b[38;5;124m\"\u001b[39m\u001b[38;5;124mexecution_count\u001b[39m\u001b[38;5;124m\"\u001b[39m: \u001b[38;5;241m2\u001b[39m,\n\u001b[1;32m     48\u001b[0m    \u001b[38;5;124m\"\u001b[39m\u001b[38;5;124mid\u001b[39m\u001b[38;5;124m\"\u001b[39m: \u001b[38;5;124m\"\u001b[39m\u001b[38;5;124m8ba32571\u001b[39m\u001b[38;5;124m\"\u001b[39m,\n\u001b[1;32m     49\u001b[0m    \u001b[38;5;124m\"\u001b[39m\u001b[38;5;124mmetadata\u001b[39m\u001b[38;5;124m\"\u001b[39m: {\n\u001b[1;32m     50\u001b[0m     \u001b[38;5;124m\"\u001b[39m\u001b[38;5;124mdeletable\u001b[39m\u001b[38;5;124m\"\u001b[39m: false,\n\u001b[1;32m     51\u001b[0m     \u001b[38;5;124m\"\u001b[39m\u001b[38;5;124meditable\u001b[39m\u001b[38;5;124m\"\u001b[39m: false,\n\u001b[1;32m     52\u001b[0m     \u001b[38;5;124m\"\u001b[39m\u001b[38;5;124mnbgrader\u001b[39m\u001b[38;5;124m\"\u001b[39m: {\n\u001b[1;32m     53\u001b[0m      \u001b[38;5;124m\"\u001b[39m\u001b[38;5;124mcell_type\u001b[39m\u001b[38;5;124m\"\u001b[39m: \u001b[38;5;124m\"\u001b[39m\u001b[38;5;124mcode\u001b[39m\u001b[38;5;124m\"\u001b[39m,\n\u001b[1;32m     54\u001b[0m      \u001b[38;5;124m\"\u001b[39m\u001b[38;5;124mchecksum\u001b[39m\u001b[38;5;124m\"\u001b[39m: \u001b[38;5;124m\"\u001b[39m\u001b[38;5;124m042927213b84aa368aa3ea72caa4cb60\u001b[39m\u001b[38;5;124m\"\u001b[39m,\n\u001b[1;32m     55\u001b[0m      \u001b[38;5;124m\"\u001b[39m\u001b[38;5;124mgrade\u001b[39m\u001b[38;5;124m\"\u001b[39m: true,\n\u001b[1;32m     56\u001b[0m      \u001b[38;5;124m\"\u001b[39m\u001b[38;5;124mgrade_id\u001b[39m\u001b[38;5;124m\"\u001b[39m: \u001b[38;5;124m\"\u001b[39m\u001b[38;5;124mcell-9f148ec62e0de49c\u001b[39m\u001b[38;5;124m\"\u001b[39m,\n\u001b[1;32m     57\u001b[0m      \u001b[38;5;124m\"\u001b[39m\u001b[38;5;124mlocked\u001b[39m\u001b[38;5;124m\"\u001b[39m: true,\n\u001b[1;32m     58\u001b[0m      \u001b[38;5;124m\"\u001b[39m\u001b[38;5;124mpoints\u001b[39m\u001b[38;5;124m\"\u001b[39m: \u001b[38;5;241m0\u001b[39m,\n\u001b[1;32m     59\u001b[0m      \u001b[38;5;124m\"\u001b[39m\u001b[38;5;124mschema_version\u001b[39m\u001b[38;5;124m\"\u001b[39m: \u001b[38;5;241m3\u001b[39m,\n\u001b[1;32m     60\u001b[0m      \u001b[38;5;124m\"\u001b[39m\u001b[38;5;124msolution\u001b[39m\u001b[38;5;124m\"\u001b[39m: false,\n\u001b[1;32m     61\u001b[0m      \u001b[38;5;124m\"\u001b[39m\u001b[38;5;124mtask\u001b[39m\u001b[38;5;124m\"\u001b[39m: false\n\u001b[1;32m     62\u001b[0m     }\n\u001b[1;32m     63\u001b[0m    },\n\u001b[1;32m     64\u001b[0m    \u001b[38;5;124m\"\u001b[39m\u001b[38;5;124moutputs\u001b[39m\u001b[38;5;124m\"\u001b[39m: [],\n\u001b[1;32m     65\u001b[0m    \u001b[38;5;124m\"\u001b[39m\u001b[38;5;124msource\u001b[39m\u001b[38;5;124m\"\u001b[39m: [\n\u001b[1;32m     66\u001b[0m     \u001b[38;5;124m\"\u001b[39m\u001b[38;5;124m# Note: this block is a check that you have filled in the above information.\u001b[39m\u001b[38;5;130;01m\\n\u001b[39;00m\u001b[38;5;124m\"\u001b[39m,\n\u001b[1;32m     67\u001b[0m     \u001b[38;5;124m\"\u001b[39m\u001b[38;5;124m# It will throw an AssertionError until all fields are filled\u001b[39m\u001b[38;5;130;01m\\n\u001b[39;00m\u001b[38;5;124m\"\u001b[39m,\n\u001b[1;32m     68\u001b[0m     \u001b[38;5;124m\"\u001b[39m\u001b[38;5;124massert STUDENT_1_NAME != \u001b[39m\u001b[38;5;130;01m\\\"\u001b[39;00m\u001b[38;5;130;01m\\\"\u001b[39;00m\u001b[38;5;130;01m\\n\u001b[39;00m\u001b[38;5;124m\"\u001b[39m,\n\u001b[1;32m     69\u001b[0m     \u001b[38;5;124m\"\u001b[39m\u001b[38;5;124massert STUDENT_1_STUDENT_NUMBER != \u001b[39m\u001b[38;5;130;01m\\\"\u001b[39;00m\u001b[38;5;130;01m\\\"\u001b[39;00m\u001b[38;5;130;01m\\n\u001b[39;00m\u001b[38;5;124m\"\u001b[39m,\n\u001b[1;32m     70\u001b[0m     \u001b[38;5;124m\"\u001b[39m\u001b[38;5;124massert STUDENT_1_NETID != \u001b[39m\u001b[38;5;130;01m\\\"\u001b[39;00m\u001b[38;5;130;01m\\\"\u001b[39;00m\u001b[38;5;130;01m\\n\u001b[39;00m\u001b[38;5;124m\"\u001b[39m,\n\u001b[1;32m     71\u001b[0m     \u001b[38;5;124m\"\u001b[39m\u001b[38;5;124massert STUDENT_1_EMAIL != \u001b[39m\u001b[38;5;130;01m\\\"\u001b[39;00m\u001b[38;5;130;01m\\\"\u001b[39;00m\u001b[38;5;124m\"\u001b[39m\n\u001b[1;32m     72\u001b[0m    ]\n\u001b[1;32m     73\u001b[0m   },\n\u001b[1;32m     74\u001b[0m   {\n\u001b[1;32m     75\u001b[0m    \u001b[38;5;124m\"\u001b[39m\u001b[38;5;124mcell_type\u001b[39m\u001b[38;5;124m\"\u001b[39m: \u001b[38;5;124m\"\u001b[39m\u001b[38;5;124mmarkdown\u001b[39m\u001b[38;5;124m\"\u001b[39m,\n\u001b[1;32m     76\u001b[0m    \u001b[38;5;124m\"\u001b[39m\u001b[38;5;124mid\u001b[39m\u001b[38;5;124m\"\u001b[39m: \u001b[38;5;124m\"\u001b[39m\u001b[38;5;124maf317a94\u001b[39m\u001b[38;5;124m\"\u001b[39m,\n\u001b[1;32m     77\u001b[0m    \u001b[38;5;124m\"\u001b[39m\u001b[38;5;124mmetadata\u001b[39m\u001b[38;5;124m\"\u001b[39m: {\n\u001b[1;32m     78\u001b[0m     \u001b[38;5;124m\"\u001b[39m\u001b[38;5;124mdeletable\u001b[39m\u001b[38;5;124m\"\u001b[39m: false,\n\u001b[1;32m     79\u001b[0m     \u001b[38;5;124m\"\u001b[39m\u001b[38;5;124meditable\u001b[39m\u001b[38;5;124m\"\u001b[39m: false,\n\u001b[1;32m     80\u001b[0m     \u001b[38;5;124m\"\u001b[39m\u001b[38;5;124mnbgrader\u001b[39m\u001b[38;5;124m\"\u001b[39m: {\n\u001b[1;32m     81\u001b[0m      \u001b[38;5;124m\"\u001b[39m\u001b[38;5;124mcell_type\u001b[39m\u001b[38;5;124m\"\u001b[39m: \u001b[38;5;124m\"\u001b[39m\u001b[38;5;124mmarkdown\u001b[39m\u001b[38;5;124m\"\u001b[39m,\n\u001b[1;32m     82\u001b[0m      \u001b[38;5;124m\"\u001b[39m\u001b[38;5;124mchecksum\u001b[39m\u001b[38;5;124m\"\u001b[39m: \u001b[38;5;124m\"\u001b[39m\u001b[38;5;124me76ef40fcc3f08a0484661497162a1a9\u001b[39m\u001b[38;5;124m\"\u001b[39m,\n\u001b[1;32m     83\u001b[0m      \u001b[38;5;124m\"\u001b[39m\u001b[38;5;124mgrade\u001b[39m\u001b[38;5;124m\"\u001b[39m: false,\n\u001b[1;32m     84\u001b[0m      \u001b[38;5;124m\"\u001b[39m\u001b[38;5;124mgrade_id\u001b[39m\u001b[38;5;124m\"\u001b[39m: \u001b[38;5;124m\"\u001b[39m\u001b[38;5;124mcell-4ea391677951116c\u001b[39m\u001b[38;5;124m\"\u001b[39m,\n\u001b[1;32m     85\u001b[0m      \u001b[38;5;124m\"\u001b[39m\u001b[38;5;124mlocked\u001b[39m\u001b[38;5;124m\"\u001b[39m: true,\n\u001b[1;32m     86\u001b[0m      \u001b[38;5;124m\"\u001b[39m\u001b[38;5;124mschema_version\u001b[39m\u001b[38;5;124m\"\u001b[39m: \u001b[38;5;241m3\u001b[39m,\n\u001b[1;32m     87\u001b[0m      \u001b[38;5;124m\"\u001b[39m\u001b[38;5;124msolution\u001b[39m\u001b[38;5;124m\"\u001b[39m: false,\n\u001b[1;32m     88\u001b[0m      \u001b[38;5;124m\"\u001b[39m\u001b[38;5;124mtask\u001b[39m\u001b[38;5;124m\"\u001b[39m: false\n\u001b[1;32m     89\u001b[0m     }\n\u001b[1;32m     90\u001b[0m    },\n\u001b[1;32m     91\u001b[0m    \u001b[38;5;124m\"\u001b[39m\u001b[38;5;124msource\u001b[39m\u001b[38;5;124m\"\u001b[39m: [\n\u001b[1;32m     92\u001b[0m     \u001b[38;5;124m\"\u001b[39m\u001b[38;5;124m### General announcements\u001b[39m\u001b[38;5;130;01m\\n\u001b[39;00m\u001b[38;5;124m\"\u001b[39m,\n\u001b[1;32m     93\u001b[0m     \u001b[38;5;124m\"\u001b[39m\u001b[38;5;130;01m\\n\u001b[39;00m\u001b[38;5;124m\"\u001b[39m,\n\u001b[1;32m     94\u001b[0m     \u001b[38;5;124m\"\u001b[39m\u001b[38;5;124m* Do *not* share your solutions, and do *not* copy solutions from others. By submitting your solutions, you claim that you alone are responsible for this code.\u001b[39m\u001b[38;5;130;01m\\n\u001b[39;00m\u001b[38;5;124m\"\u001b[39m,\n\u001b[1;32m     95\u001b[0m     \u001b[38;5;124m\"\u001b[39m\u001b[38;5;130;01m\\n\u001b[39;00m\u001b[38;5;124m\"\u001b[39m,\n\u001b[1;32m     96\u001b[0m     \u001b[38;5;124m\"\u001b[39m\u001b[38;5;124m* Do *not* email questions directly, since we want to provide everybody with the same information and avoid repeating the same answers. Instead, please post your questions regarding this assignment in the correct support forum on Brightspace, this way everybody can benefit from the response. If you do have a particular question that you want to ask directly, please use the scheduled Q&A hours to ask the TA.\u001b[39m\u001b[38;5;130;01m\\n\u001b[39;00m\u001b[38;5;124m\"\u001b[39m,\n\u001b[1;32m     97\u001b[0m     \u001b[38;5;124m\"\u001b[39m\u001b[38;5;130;01m\\n\u001b[39;00m\u001b[38;5;124m\"\u001b[39m,\n\u001b[1;32m     98\u001b[0m     \u001b[38;5;124m\"\u001b[39m\u001b[38;5;124m* There is a strict deadline for each assignment. Students are responsible to ensure that they have uploaded their work in time. So, please double check that your upload succeeded to the Brightspace and avoid any late penalties.\u001b[39m\u001b[38;5;130;01m\\n\u001b[39;00m\u001b[38;5;124m\"\u001b[39m,\n\u001b[1;32m     99\u001b[0m     \u001b[38;5;124m\"\u001b[39m\u001b[38;5;130;01m\\n\u001b[39;00m\u001b[38;5;124m\"\u001b[39m,\n\u001b[1;32m    100\u001b[0m     \u001b[38;5;124m\"\u001b[39m\u001b[38;5;124m* This [Jupyter notebook](https://jupyter.org/) uses `nbgrader` to help us with automated tests. `nbgrader` will make various cells in this notebook \u001b[39m\u001b[38;5;130;01m\\\"\u001b[39;00m\u001b[38;5;124muneditable\u001b[39m\u001b[38;5;130;01m\\\"\u001b[39;00m\u001b[38;5;124m or \u001b[39m\u001b[38;5;130;01m\\\"\u001b[39;00m\u001b[38;5;124munremovable\u001b[39m\u001b[38;5;130;01m\\\"\u001b[39;00m\u001b[38;5;124m and gives them a special id in the cell metadata. This way, when we run our checks, the system will check the existence of the cell ids and verify the number of points and which checks must be run. While there are ways that you can edit the metadata and work around the restrictions to delete or modify these special cells, you should not do that since then our nbgrader backend will not be able to parse your notebook and give you points for the assignment. You are free to add additional cells, but if you find a cell that you cannot modify or remove, please know that this is on purpose.\u001b[39m\u001b[38;5;130;01m\\n\u001b[39;00m\u001b[38;5;124m\"\u001b[39m,\n\u001b[1;32m    101\u001b[0m     \u001b[38;5;124m\"\u001b[39m\u001b[38;5;130;01m\\n\u001b[39;00m\u001b[38;5;124m\"\u001b[39m,\n\u001b[1;32m    102\u001b[0m     \u001b[38;5;124m\"\u001b[39m\u001b[38;5;124m* This notebook will have in various places a line that throws a `NotImplementedError` exception. These are locations where the assignment requires you to adapt the code! These lines are just there as a reminder for youthat you have not yet adapted that particular piece of code, especially when you execute all the cells. Once your solution code replaced these lines, it should accordingly *not* throw any exceptions anymore.\u001b[39m\u001b[38;5;130;01m\\n\u001b[39;00m\u001b[38;5;124m\"\u001b[39m,\n\u001b[1;32m    103\u001b[0m     \u001b[38;5;124m\"\u001b[39m\u001b[38;5;130;01m\\n\u001b[39;00m\u001b[38;5;124m\"\u001b[39m,\n\u001b[1;32m    104\u001b[0m     \u001b[38;5;124m\"\u001b[39m\u001b[38;5;124mBefore you turn this problem in, make sure everything runs as expected. First, **restart the kernel** (in the menubar, select Kernel$\u001b[39m\u001b[38;5;130;01m\\\\\u001b[39;00m\u001b[38;5;124mrightarrow$Restart) and then **run all cells** (in the menubar, select Cell$\u001b[39m\u001b[38;5;130;01m\\\\\u001b[39;00m\u001b[38;5;124mrightarrow$Run All).\u001b[39m\u001b[38;5;124m\"\u001b[39m\n\u001b[1;32m    105\u001b[0m    ]\n\u001b[1;32m    106\u001b[0m   },\n\u001b[1;32m    107\u001b[0m   {\n\u001b[1;32m    108\u001b[0m    \u001b[38;5;124m\"\u001b[39m\u001b[38;5;124mcell_type\u001b[39m\u001b[38;5;124m\"\u001b[39m: \u001b[38;5;124m\"\u001b[39m\u001b[38;5;124mcode\u001b[39m\u001b[38;5;124m\"\u001b[39m,\n\u001b[1;32m    109\u001b[0m    \u001b[38;5;124m\"\u001b[39m\u001b[38;5;124mexecution_count\u001b[39m\u001b[38;5;124m\"\u001b[39m: null,\n\u001b[1;32m    110\u001b[0m    \u001b[38;5;124m\"\u001b[39m\u001b[38;5;124mid\u001b[39m\u001b[38;5;124m\"\u001b[39m: \u001b[38;5;124m\"\u001b[39m\u001b[38;5;124m3c956945\u001b[39m\u001b[38;5;124m\"\u001b[39m,\n\u001b[1;32m    111\u001b[0m    \u001b[38;5;124m\"\u001b[39m\u001b[38;5;124mmetadata\u001b[39m\u001b[38;5;124m\"\u001b[39m: {},\n\u001b[1;32m    112\u001b[0m    \u001b[38;5;124m\"\u001b[39m\u001b[38;5;124moutputs\u001b[39m\u001b[38;5;124m\"\u001b[39m: [],\n\u001b[1;32m    113\u001b[0m    \u001b[38;5;124m\"\u001b[39m\u001b[38;5;124msource\u001b[39m\u001b[38;5;124m\"\u001b[39m: []\n\u001b[1;32m    114\u001b[0m   },\n\u001b[1;32m    115\u001b[0m   {\n\u001b[1;32m    116\u001b[0m    \u001b[38;5;124m\"\u001b[39m\u001b[38;5;124mcell_type\u001b[39m\u001b[38;5;124m\"\u001b[39m: \u001b[38;5;124m\"\u001b[39m\u001b[38;5;124mmarkdown\u001b[39m\u001b[38;5;124m\"\u001b[39m,\n\u001b[1;32m    117\u001b[0m    \u001b[38;5;124m\"\u001b[39m\u001b[38;5;124mid\u001b[39m\u001b[38;5;124m\"\u001b[39m: \u001b[38;5;124m\"\u001b[39m\u001b[38;5;124m387d2c60\u001b[39m\u001b[38;5;124m\"\u001b[39m,\n\u001b[1;32m    118\u001b[0m    \u001b[38;5;124m\"\u001b[39m\u001b[38;5;124mmetadata\u001b[39m\u001b[38;5;124m\"\u001b[39m: {\n\u001b[1;32m    119\u001b[0m     \u001b[38;5;124m\"\u001b[39m\u001b[38;5;124mdeletable\u001b[39m\u001b[38;5;124m\"\u001b[39m: false,\n\u001b[1;32m    120\u001b[0m     \u001b[38;5;124m\"\u001b[39m\u001b[38;5;124meditable\u001b[39m\u001b[38;5;124m\"\u001b[39m: false,\n\u001b[1;32m    121\u001b[0m     \u001b[38;5;124m\"\u001b[39m\u001b[38;5;124mnbgrader\u001b[39m\u001b[38;5;124m\"\u001b[39m: {\n\u001b[1;32m    122\u001b[0m      \u001b[38;5;124m\"\u001b[39m\u001b[38;5;124mcell_type\u001b[39m\u001b[38;5;124m\"\u001b[39m: \u001b[38;5;124m\"\u001b[39m\u001b[38;5;124mmarkdown\u001b[39m\u001b[38;5;124m\"\u001b[39m,\n\u001b[1;32m    123\u001b[0m      \u001b[38;5;124m\"\u001b[39m\u001b[38;5;124mchecksum\u001b[39m\u001b[38;5;124m\"\u001b[39m: \u001b[38;5;124m\"\u001b[39m\u001b[38;5;124m49dc3998b44dff0403c71832d0af0e51\u001b[39m\u001b[38;5;124m\"\u001b[39m,\n\u001b[1;32m    124\u001b[0m      \u001b[38;5;124m\"\u001b[39m\u001b[38;5;124mgrade\u001b[39m\u001b[38;5;124m\"\u001b[39m: false,\n\u001b[1;32m    125\u001b[0m      \u001b[38;5;124m\"\u001b[39m\u001b[38;5;124mgrade_id\u001b[39m\u001b[38;5;124m\"\u001b[39m: \u001b[38;5;124m\"\u001b[39m\u001b[38;5;124mcell-ed88010142fb94bb\u001b[39m\u001b[38;5;124m\"\u001b[39m,\n\u001b[1;32m    126\u001b[0m      \u001b[38;5;124m\"\u001b[39m\u001b[38;5;124mlocked\u001b[39m\u001b[38;5;124m\"\u001b[39m: true,\n\u001b[1;32m    127\u001b[0m      \u001b[38;5;124m\"\u001b[39m\u001b[38;5;124mschema_version\u001b[39m\u001b[38;5;124m\"\u001b[39m: \u001b[38;5;241m3\u001b[39m,\n\u001b[1;32m    128\u001b[0m      \u001b[38;5;124m\"\u001b[39m\u001b[38;5;124msolution\u001b[39m\u001b[38;5;124m\"\u001b[39m: false,\n\u001b[1;32m    129\u001b[0m      \u001b[38;5;124m\"\u001b[39m\u001b[38;5;124mtask\u001b[39m\u001b[38;5;124m\"\u001b[39m: false\n\u001b[1;32m    130\u001b[0m     }\n\u001b[1;32m    131\u001b[0m    },\n\u001b[1;32m    132\u001b[0m    \u001b[38;5;124m\"\u001b[39m\u001b[38;5;124msource\u001b[39m\u001b[38;5;124m\"\u001b[39m: [\n\u001b[1;32m    133\u001b[0m     \u001b[38;5;124m\"\u001b[39m\u001b[38;5;124m# Lagrangian Neural Network (LNN) training\u001b[39m\u001b[38;5;130;01m\\n\u001b[39;00m\u001b[38;5;124m\"\u001b[39m,\n\u001b[1;32m    134\u001b[0m     \u001b[38;5;124m\"\u001b[39m\u001b[38;5;130;01m\\n\u001b[39;00m\u001b[38;5;124m\"\u001b[39m,\n\u001b[1;32m    135\u001b[0m     \u001b[38;5;124m\"\u001b[39m\u001b[38;5;124m**Author:** Maximilian Stölzle (M.W.Stolzle@tudelft.nl)\u001b[39m\u001b[38;5;130;01m\\n\u001b[39;00m\u001b[38;5;124m\"\u001b[39m,\n\u001b[1;32m    136\u001b[0m     \u001b[38;5;124m\"\u001b[39m\u001b[38;5;130;01m\\n\u001b[39;00m\u001b[38;5;124m\"\u001b[39m,\n\u001b[1;32m    137\u001b[0m     \u001b[38;5;124m\"\u001b[39m\u001b[38;5;124mThis notebook will contain functions to assist with the training of the lagrangian neural network. The task assignment can be found in the notebook `task_2c-3_train_lnn.ipynb`.\u001b[39m\u001b[38;5;124m\"\u001b[39m\n\u001b[1;32m    138\u001b[0m    ]\n\u001b[1;32m    139\u001b[0m   },\n\u001b[1;32m    140\u001b[0m   {\n\u001b[1;32m    141\u001b[0m    \u001b[38;5;124m\"\u001b[39m\u001b[38;5;124mcell_type\u001b[39m\u001b[38;5;124m\"\u001b[39m: \u001b[38;5;124m\"\u001b[39m\u001b[38;5;124mcode\u001b[39m\u001b[38;5;124m\"\u001b[39m,\n\u001b[1;32m    142\u001b[0m    \u001b[38;5;124m\"\u001b[39m\u001b[38;5;124mexecution_count\u001b[39m\u001b[38;5;124m\"\u001b[39m: \u001b[38;5;241m3\u001b[39m,\n\u001b[1;32m    143\u001b[0m    \u001b[38;5;124m\"\u001b[39m\u001b[38;5;124mid\u001b[39m\u001b[38;5;124m\"\u001b[39m: \u001b[38;5;124m\"\u001b[39m\u001b[38;5;124mb374ce54\u001b[39m\u001b[38;5;124m\"\u001b[39m,\n\u001b[1;32m    144\u001b[0m    \u001b[38;5;124m\"\u001b[39m\u001b[38;5;124mmetadata\u001b[39m\u001b[38;5;124m\"\u001b[39m: {\n\u001b[1;32m    145\u001b[0m     \u001b[38;5;124m\"\u001b[39m\u001b[38;5;124mdeletable\u001b[39m\u001b[38;5;124m\"\u001b[39m: false,\n\u001b[1;32m    146\u001b[0m     \u001b[38;5;124m\"\u001b[39m\u001b[38;5;124meditable\u001b[39m\u001b[38;5;124m\"\u001b[39m: false,\n\u001b[1;32m    147\u001b[0m     \u001b[38;5;124m\"\u001b[39m\u001b[38;5;124mnbgrader\u001b[39m\u001b[38;5;124m\"\u001b[39m: {\n\u001b[1;32m    148\u001b[0m      \u001b[38;5;124m\"\u001b[39m\u001b[38;5;124mcell_type\u001b[39m\u001b[38;5;124m\"\u001b[39m: \u001b[38;5;124m\"\u001b[39m\u001b[38;5;124mcode\u001b[39m\u001b[38;5;124m\"\u001b[39m,\n\u001b[1;32m    149\u001b[0m      \u001b[38;5;124m\"\u001b[39m\u001b[38;5;124mchecksum\u001b[39m\u001b[38;5;124m\"\u001b[39m: \u001b[38;5;124m\"\u001b[39m\u001b[38;5;124m9b7ed9b37c6921a6e275f1fcb7770533\u001b[39m\u001b[38;5;124m\"\u001b[39m,\n\u001b[1;32m    150\u001b[0m      \u001b[38;5;124m\"\u001b[39m\u001b[38;5;124mgrade\u001b[39m\u001b[38;5;124m\"\u001b[39m: false,\n\u001b[1;32m    151\u001b[0m      \u001b[38;5;124m\"\u001b[39m\u001b[38;5;124mgrade_id\u001b[39m\u001b[38;5;124m\"\u001b[39m: \u001b[38;5;124m\"\u001b[39m\u001b[38;5;124mcell-7f7dcbca8d22d0b7\u001b[39m\u001b[38;5;124m\"\u001b[39m,\n\u001b[1;32m    152\u001b[0m      \u001b[38;5;124m\"\u001b[39m\u001b[38;5;124mlocked\u001b[39m\u001b[38;5;124m\"\u001b[39m: true,\n\u001b[1;32m    153\u001b[0m      \u001b[38;5;124m\"\u001b[39m\u001b[38;5;124mschema_version\u001b[39m\u001b[38;5;124m\"\u001b[39m: \u001b[38;5;241m3\u001b[39m,\n\u001b[1;32m    154\u001b[0m      \u001b[38;5;124m\"\u001b[39m\u001b[38;5;124msolution\u001b[39m\u001b[38;5;124m\"\u001b[39m: false,\n\u001b[1;32m    155\u001b[0m      \u001b[38;5;124m\"\u001b[39m\u001b[38;5;124mtask\u001b[39m\u001b[38;5;124m\"\u001b[39m: false\n\u001b[1;32m    156\u001b[0m     }\n\u001b[1;32m    157\u001b[0m    },\n\u001b[1;32m    158\u001b[0m    \u001b[38;5;124m\"\u001b[39m\u001b[38;5;124moutputs\u001b[39m\u001b[38;5;124m\"\u001b[39m: [],\n\u001b[1;32m    159\u001b[0m    \u001b[38;5;124m\"\u001b[39m\u001b[38;5;124msource\u001b[39m\u001b[38;5;124m\"\u001b[39m: [\n\u001b[1;32m    160\u001b[0m     \u001b[38;5;124m\"\u001b[39m\u001b[38;5;124mfrom distutils.util import strtobool\u001b[39m\u001b[38;5;130;01m\\n\u001b[39;00m\u001b[38;5;124m\"\u001b[39m,\n\u001b[1;32m    161\u001b[0m     \u001b[38;5;124m\"\u001b[39m\u001b[38;5;124mfrom flax.core import FrozenDict\u001b[39m\u001b[38;5;130;01m\\n\u001b[39;00m\u001b[38;5;124m\"\u001b[39m,\n\u001b[1;32m    162\u001b[0m     \u001b[38;5;124m\"\u001b[39m\u001b[38;5;124mfrom functools import partial\u001b[39m\u001b[38;5;130;01m\\n\u001b[39;00m\u001b[38;5;124m\"\u001b[39m,\n\u001b[1;32m    163\u001b[0m     \u001b[38;5;124m\"\u001b[39m\u001b[38;5;124mfrom jax.config import config as jax_config\u001b[39m\u001b[38;5;130;01m\\n\u001b[39;00m\u001b[38;5;124m\"\u001b[39m,\n\u001b[1;32m    164\u001b[0m     \u001b[38;5;124m\"\u001b[39m\u001b[38;5;130;01m\\n\u001b[39;00m\u001b[38;5;124m\"\u001b[39m,\n\u001b[1;32m    165\u001b[0m     \u001b[38;5;124m\"\u001b[39m\u001b[38;5;124mjax_config.update(\u001b[39m\u001b[38;5;130;01m\\\"\u001b[39;00m\u001b[38;5;124mjax_platform_name\u001b[39m\u001b[38;5;130;01m\\\"\u001b[39;00m\u001b[38;5;124m, \u001b[39m\u001b[38;5;130;01m\\\"\u001b[39;00m\u001b[38;5;124mcpu\u001b[39m\u001b[38;5;130;01m\\\"\u001b[39;00m\u001b[38;5;124m)  # set default device to \u001b[39m\u001b[38;5;124m'\u001b[39m\u001b[38;5;124mcpu\u001b[39m\u001b[38;5;124m'\u001b[39m\u001b[38;5;130;01m\\n\u001b[39;00m\u001b[38;5;124m\"\u001b[39m,\n\u001b[1;32m    166\u001b[0m     \u001b[38;5;124m\"\u001b[39m\u001b[38;5;124mjax_config.update(\u001b[39m\u001b[38;5;130;01m\\\"\u001b[39;00m\u001b[38;5;124mjax_enable_x64\u001b[39m\u001b[38;5;130;01m\\\"\u001b[39;00m\u001b[38;5;124m, True)  # double precision\u001b[39m\u001b[38;5;130;01m\\n\u001b[39;00m\u001b[38;5;124m\"\u001b[39m,\n\u001b[1;32m    167\u001b[0m     \u001b[38;5;124m\"\u001b[39m\u001b[38;5;124mimport dill\u001b[39m\u001b[38;5;130;01m\\n\u001b[39;00m\u001b[38;5;124m\"\u001b[39m,\n\u001b[1;32m    168\u001b[0m     \u001b[38;5;124m\"\u001b[39m\u001b[38;5;124mfrom flax.training.train_state import TrainState\u001b[39m\u001b[38;5;130;01m\\n\u001b[39;00m\u001b[38;5;124m\"\u001b[39m,\n\u001b[1;32m    169\u001b[0m     \u001b[38;5;124m\"\u001b[39m\u001b[38;5;124mimport jax\u001b[39m\u001b[38;5;130;01m\\n\u001b[39;00m\u001b[38;5;124m\"\u001b[39m,\n\u001b[1;32m    170\u001b[0m     \u001b[38;5;124m\"\u001b[39m\u001b[38;5;124mfrom jax import debug, jit\u001b[39m\u001b[38;5;130;01m\\n\u001b[39;00m\u001b[38;5;124m\"\u001b[39m,\n\u001b[1;32m    171\u001b[0m     \u001b[38;5;124m\"\u001b[39m\u001b[38;5;124mimport jax.numpy as jnp\u001b[39m\u001b[38;5;130;01m\\n\u001b[39;00m\u001b[38;5;124m\"\u001b[39m,\n\u001b[1;32m    172\u001b[0m     \u001b[38;5;124m\"\u001b[39m\u001b[38;5;124mfrom jax import random\u001b[39m\u001b[38;5;130;01m\\n\u001b[39;00m\u001b[38;5;124m\"\u001b[39m,\n\u001b[1;32m    173\u001b[0m     \u001b[38;5;124m\"\u001b[39m\u001b[38;5;124mfrom matplotlib import rcParams\u001b[39m\u001b[38;5;130;01m\\n\u001b[39;00m\u001b[38;5;124m\"\u001b[39m,\n\u001b[1;32m    174\u001b[0m     \u001b[38;5;124m\"\u001b[39m\u001b[38;5;124mimport matplotlib.pyplot as plt\u001b[39m\u001b[38;5;130;01m\\n\u001b[39;00m\u001b[38;5;124m\"\u001b[39m,\n\u001b[1;32m    175\u001b[0m     \u001b[38;5;124m\"\u001b[39m\u001b[38;5;124mimport numpy as np\u001b[39m\u001b[38;5;130;01m\\n\u001b[39;00m\u001b[38;5;124m\"\u001b[39m,\n\u001b[1;32m    176\u001b[0m     \u001b[38;5;124m\"\u001b[39m\u001b[38;5;124mimport optax\u001b[39m\u001b[38;5;130;01m\\n\u001b[39;00m\u001b[38;5;124m\"\u001b[39m,\n\u001b[1;32m    177\u001b[0m     \u001b[38;5;124m\"\u001b[39m\u001b[38;5;124mimport os\u001b[39m\u001b[38;5;130;01m\\n\u001b[39;00m\u001b[38;5;124m\"\u001b[39m,\n\u001b[1;32m    178\u001b[0m     \u001b[38;5;124m\"\u001b[39m\u001b[38;5;124mfrom pathlib import Path\u001b[39m\u001b[38;5;130;01m\\n\u001b[39;00m\u001b[38;5;124m\"\u001b[39m,\n\u001b[1;32m    179\u001b[0m     \u001b[38;5;124m\"\u001b[39m\u001b[38;5;124mfrom tqdm.notebook import tqdm  # progress bar\u001b[39m\u001b[38;5;130;01m\\n\u001b[39;00m\u001b[38;5;124m\"\u001b[39m,\n\u001b[1;32m    180\u001b[0m     \u001b[38;5;124m\"\u001b[39m\u001b[38;5;124mfrom typing import Callable, Dict, List, Tuple\u001b[39m\u001b[38;5;130;01m\\n\u001b[39;00m\u001b[38;5;124m\"\u001b[39m,\n\u001b[1;32m    181\u001b[0m     \u001b[38;5;124m\"\u001b[39m\u001b[38;5;130;01m\\n\u001b[39;00m\u001b[38;5;124m\"\u001b[39m,\n\u001b[1;32m    182\u001b[0m     \u001b[38;5;124m\"\u001b[39m\u001b[38;5;124mfrom jax_double_pendulum.utils import normalize_link_angles\u001b[39m\u001b[38;5;130;01m\\n\u001b[39;00m\u001b[38;5;124m\"\u001b[39m,\n\u001b[1;32m    183\u001b[0m     \u001b[38;5;124m\"\u001b[39m\u001b[38;5;130;01m\\n\u001b[39;00m\u001b[38;5;124m\"\u001b[39m,\n\u001b[1;32m    184\u001b[0m     \u001b[38;5;124m\"\u001b[39m\u001b[38;5;124m# import the learned discrete forward dynamics from lagrangian_nn.ipynb\u001b[39m\u001b[38;5;130;01m\\n\u001b[39;00m\u001b[38;5;124m\"\u001b[39m,\n\u001b[1;32m    185\u001b[0m     \u001b[38;5;124m\"\u001b[39m\u001b[38;5;124mfrom ipynb.fs.full.lnn import (\u001b[39m\u001b[38;5;130;01m\\n\u001b[39;00m\u001b[38;5;124m\"\u001b[39m,\n\u001b[1;32m    186\u001b[0m     \u001b[38;5;124m\"\u001b[39m\u001b[38;5;124m    discrete_forward_dynamics,\u001b[39m\u001b[38;5;130;01m\\n\u001b[39;00m\u001b[38;5;124m\"\u001b[39m,\n\u001b[1;32m    187\u001b[0m     \u001b[38;5;124m\"\u001b[39m\u001b[38;5;124m    MassMatrixNN,\u001b[39m\u001b[38;5;130;01m\\n\u001b[39;00m\u001b[38;5;124m\"\u001b[39m,\n\u001b[1;32m    188\u001b[0m     \u001b[38;5;124m\"\u001b[39m\u001b[38;5;124m    PotentialEnergyNN,\u001b[39m\u001b[38;5;130;01m\\n\u001b[39;00m\u001b[38;5;124m\"\u001b[39m,\n\u001b[1;32m    189\u001b[0m     \u001b[38;5;124m\"\u001b[39m\u001b[38;5;124m)\u001b[39m\u001b[38;5;130;01m\\n\u001b[39;00m\u001b[38;5;124m\"\u001b[39m,\n\u001b[1;32m    190\u001b[0m     \u001b[38;5;124m\"\u001b[39m\u001b[38;5;130;01m\\n\u001b[39;00m\u001b[38;5;124m\"\u001b[39m,\n\u001b[1;32m    191\u001b[0m     \u001b[38;5;124m\"\u001b[39m\u001b[38;5;124m# define boolean to check if the notebook is run for the purposes of autograding\u001b[39m\u001b[38;5;130;01m\\n\u001b[39;00m\u001b[38;5;124m\"\u001b[39m,\n\u001b[1;32m    192\u001b[0m     \u001b[38;5;124m\"\u001b[39m\u001b[38;5;124mAUTOGRADING = strtobool(os.environ.get(\u001b[39m\u001b[38;5;130;01m\\\"\u001b[39;00m\u001b[38;5;124mAUTOGRADING\u001b[39m\u001b[38;5;130;01m\\\"\u001b[39;00m\u001b[38;5;124m, \u001b[39m\u001b[38;5;130;01m\\\"\u001b[39;00m\u001b[38;5;124mfalse\u001b[39m\u001b[38;5;130;01m\\\"\u001b[39;00m\u001b[38;5;124m))\u001b[39m\u001b[38;5;124m\"\u001b[39m\n\u001b[1;32m    193\u001b[0m    ]\n\u001b[1;32m    194\u001b[0m   },\n\u001b[1;32m    195\u001b[0m   {\n\u001b[1;32m    196\u001b[0m    \u001b[38;5;124m\"\u001b[39m\u001b[38;5;124mcell_type\u001b[39m\u001b[38;5;124m\"\u001b[39m: \u001b[38;5;124m\"\u001b[39m\u001b[38;5;124mcode\u001b[39m\u001b[38;5;124m\"\u001b[39m,\n\u001b[1;32m    197\u001b[0m    \u001b[38;5;124m\"\u001b[39m\u001b[38;5;124mexecution_count\u001b[39m\u001b[38;5;124m\"\u001b[39m: \u001b[38;5;241m4\u001b[39m,\n\u001b[1;32m    198\u001b[0m    \u001b[38;5;124m\"\u001b[39m\u001b[38;5;124mid\u001b[39m\u001b[38;5;124m\"\u001b[39m: \u001b[38;5;124m\"\u001b[39m\u001b[38;5;124m8c0d5a4b\u001b[39m\u001b[38;5;124m\"\u001b[39m,\n\u001b[1;32m    199\u001b[0m    \u001b[38;5;124m\"\u001b[39m\u001b[38;5;124mmetadata\u001b[39m\u001b[38;5;124m\"\u001b[39m: {\n\u001b[1;32m    200\u001b[0m     \u001b[38;5;124m\"\u001b[39m\u001b[38;5;124mdeletable\u001b[39m\u001b[38;5;124m\"\u001b[39m: false,\n\u001b[1;32m    201\u001b[0m     \u001b[38;5;124m\"\u001b[39m\u001b[38;5;124mnbgrader\u001b[39m\u001b[38;5;124m\"\u001b[39m: {\n\u001b[1;32m    202\u001b[0m      \u001b[38;5;124m\"\u001b[39m\u001b[38;5;124mcell_type\u001b[39m\u001b[38;5;124m\"\u001b[39m: \u001b[38;5;124m\"\u001b[39m\u001b[38;5;124mcode\u001b[39m\u001b[38;5;124m\"\u001b[39m,\n\u001b[1;32m    203\u001b[0m      \u001b[38;5;124m\"\u001b[39m\u001b[38;5;124mchecksum\u001b[39m\u001b[38;5;124m\"\u001b[39m: \u001b[38;5;124m\"\u001b[39m\u001b[38;5;124m1514e18b1bb0a70edab8b11a8951c0d1\u001b[39m\u001b[38;5;124m\"\u001b[39m,\n\u001b[1;32m    204\u001b[0m      \u001b[38;5;124m\"\u001b[39m\u001b[38;5;124mgrade\u001b[39m\u001b[38;5;124m\"\u001b[39m: false,\n\u001b[1;32m    205\u001b[0m      \u001b[38;5;124m\"\u001b[39m\u001b[38;5;124mgrade_id\u001b[39m\u001b[38;5;124m\"\u001b[39m: \u001b[38;5;124m\"\u001b[39m\u001b[38;5;124mcell-3840a1fa6f53d588\u001b[39m\u001b[38;5;124m\"\u001b[39m,\n\u001b[1;32m    206\u001b[0m      \u001b[38;5;124m\"\u001b[39m\u001b[38;5;124mlocked\u001b[39m\u001b[38;5;124m\"\u001b[39m: false,\n\u001b[1;32m    207\u001b[0m      \u001b[38;5;124m\"\u001b[39m\u001b[38;5;124mschema_version\u001b[39m\u001b[38;5;124m\"\u001b[39m: \u001b[38;5;241m3\u001b[39m,\n\u001b[1;32m    208\u001b[0m      \u001b[38;5;124m\"\u001b[39m\u001b[38;5;124msolution\u001b[39m\u001b[38;5;124m\"\u001b[39m: true,\n\u001b[1;32m    209\u001b[0m      \u001b[38;5;124m\"\u001b[39m\u001b[38;5;124mtask\u001b[39m\u001b[38;5;124m\"\u001b[39m: false\n\u001b[1;32m    210\u001b[0m     }\n\u001b[1;32m    211\u001b[0m    },\n\u001b[1;32m    212\u001b[0m    \u001b[38;5;124m\"\u001b[39m\u001b[38;5;124moutputs\u001b[39m\u001b[38;5;124m\"\u001b[39m: [],\n\u001b[1;32m    213\u001b[0m    \u001b[38;5;124m\"\u001b[39m\u001b[38;5;124msource\u001b[39m\u001b[38;5;124m\"\u001b[39m: [\n\u001b[1;32m    214\u001b[0m     \u001b[38;5;124m\"\u001b[39m\u001b[38;5;124mdef load_datasets(\u001b[39m\u001b[38;5;130;01m\\n\u001b[39;00m\u001b[38;5;124m\"\u001b[39m,\n\u001b[1;32m    215\u001b[0m     \u001b[38;5;124m\"\u001b[39m\u001b[38;5;124m    filepath: Path, rng: random.KeyArray, val_ratio: float = 0.2\u001b[39m\u001b[38;5;130;01m\\n\u001b[39;00m\u001b[38;5;124m\"\u001b[39m,\n\u001b[1;32m    216\u001b[0m     \u001b[38;5;124m\"\u001b[39m\u001b[38;5;124m) -> Tuple[Dict[str, jnp.ndarray], Dict[str, jnp.ndarray]]:\u001b[39m\u001b[38;5;130;01m\\n\u001b[39;00m\u001b[38;5;124m\"\u001b[39m,\n\u001b[1;32m    217\u001b[0m     \u001b[38;5;124m\"\u001b[39m\u001b[38;5;124m    \u001b[39m\u001b[38;5;130;01m\\\"\u001b[39;00m\u001b[38;5;130;01m\\\"\u001b[39;00m\u001b[38;5;130;01m\\\"\u001b[39;00m\u001b[38;5;130;01m\\n\u001b[39;00m\u001b[38;5;124m\"\u001b[39m,\n\u001b[1;32m    218\u001b[0m     \u001b[38;5;124m\"\u001b[39m\u001b[38;5;124m    Loads the datasets from a .npz file.\u001b[39m\u001b[38;5;130;01m\\n\u001b[39;00m\u001b[38;5;124m\"\u001b[39m,\n\u001b[1;32m    219\u001b[0m     \u001b[38;5;124m\"\u001b[39m\u001b[38;5;124m    The dataset needs to have the following entries:\u001b[39m\u001b[38;5;130;01m\\n\u001b[39;00m\u001b[38;5;124m\"\u001b[39m,\n\u001b[1;32m    220\u001b[0m     \u001b[38;5;124m\"\u001b[39m\u001b[38;5;124m        - dt_ss: array of shape (N, ) containing the time step between the current and the next state [s]\u001b[39m\u001b[38;5;130;01m\\n\u001b[39;00m\u001b[38;5;124m\"\u001b[39m,\n\u001b[1;32m    221\u001b[0m     \u001b[38;5;124m\"\u001b[39m\u001b[38;5;124m        - th_curr_ss: Array of shape (N, 2) containing the current link angles of the double pendulum. [rad]\u001b[39m\u001b[38;5;130;01m\\n\u001b[39;00m\u001b[38;5;124m\"\u001b[39m,\n\u001b[1;32m    222\u001b[0m     \u001b[38;5;124m\"\u001b[39m\u001b[38;5;124m        - th_d_curr_ss: Array of shape (N, 2) containing the current link angular velocities of the double pendulum. [rad/s]\u001b[39m\u001b[38;5;130;01m\\n\u001b[39;00m\u001b[38;5;124m\"\u001b[39m,\n\u001b[1;32m    223\u001b[0m     \u001b[38;5;124m\"\u001b[39m\u001b[38;5;124m        - th_next_ss: Array of shape (N, 2) containing the nextt link angles of the double pendulum. [rad]\u001b[39m\u001b[38;5;130;01m\\n\u001b[39;00m\u001b[38;5;124m\"\u001b[39m,\n\u001b[1;32m    224\u001b[0m     \u001b[38;5;124m\"\u001b[39m\u001b[38;5;124m        - th_d_next_ss: Array of shape (N, 2) containing the next link angular velocities of the double pendulum. [rad/s]\u001b[39m\u001b[38;5;130;01m\\n\u001b[39;00m\u001b[38;5;124m\"\u001b[39m,\n\u001b[1;32m    225\u001b[0m     \u001b[38;5;124m\"\u001b[39m\u001b[38;5;124m    Args:\u001b[39m\u001b[38;5;130;01m\\n\u001b[39;00m\u001b[38;5;124m\"\u001b[39m,\n\u001b[1;32m    226\u001b[0m     \u001b[38;5;124m\"\u001b[39m\u001b[38;5;124m        filepath: Path to the .npz file.\u001b[39m\u001b[38;5;130;01m\\n\u001b[39;00m\u001b[38;5;124m\"\u001b[39m,\n\u001b[1;32m    227\u001b[0m     \u001b[38;5;124m\"\u001b[39m\u001b[38;5;124m        rng: PRNG key for pseudo-random number generation.\u001b[39m\u001b[38;5;130;01m\\n\u001b[39;00m\u001b[38;5;124m\"\u001b[39m,\n\u001b[1;32m    228\u001b[0m     \u001b[38;5;124m\"\u001b[39m\u001b[38;5;124m        val_ratio: Ratio of validation dataset with respect to the entire dataset size. Needs to be in interval [0, 1].\u001b[39m\u001b[38;5;130;01m\\n\u001b[39;00m\u001b[38;5;124m\"\u001b[39m,\n\u001b[1;32m    229\u001b[0m     \u001b[38;5;124m\"\u001b[39m\u001b[38;5;124m    Returns:\u001b[39m\u001b[38;5;130;01m\\n\u001b[39;00m\u001b[38;5;124m\"\u001b[39m,\n\u001b[1;32m    230\u001b[0m     \u001b[38;5;124m\"\u001b[39m\u001b[38;5;124m        train_ds: Dictionary containing the training dataset with the same keys as the original dataset.\u001b[39m\u001b[38;5;130;01m\\n\u001b[39;00m\u001b[38;5;124m\"\u001b[39m,\n\u001b[1;32m    231\u001b[0m     \u001b[38;5;124m\"\u001b[39m\u001b[38;5;124m        val_ds: Dictionary containing the validation dataset with the same keys as the original dataset.\u001b[39m\u001b[38;5;130;01m\\n\u001b[39;00m\u001b[38;5;124m\"\u001b[39m,\n\u001b[1;32m    232\u001b[0m     \u001b[38;5;124m\"\u001b[39m\u001b[38;5;124m    \u001b[39m\u001b[38;5;130;01m\\\"\u001b[39;00m\u001b[38;5;130;01m\\\"\u001b[39;00m\u001b[38;5;130;01m\\\"\u001b[39;00m\u001b[38;5;130;01m\\n\u001b[39;00m\u001b[38;5;124m\"\u001b[39m,\n\u001b[1;32m    233\u001b[0m     \u001b[38;5;124m\"\u001b[39m\u001b[38;5;124m    assert 0.0 <= val_ratio <= 1.0, \u001b[39m\u001b[38;5;130;01m\\\"\u001b[39;00m\u001b[38;5;124mValidation ratio needs to be in interval [0, 1].\u001b[39m\u001b[38;5;130;01m\\\"\u001b[39;00m\u001b[38;5;130;01m\\n\u001b[39;00m\u001b[38;5;124m\"\u001b[39m,\n\u001b[1;32m    234\u001b[0m     \u001b[38;5;124m\"\u001b[39m\u001b[38;5;130;01m\\n\u001b[39;00m\u001b[38;5;124m\"\u001b[39m,\n\u001b[1;32m    235\u001b[0m     \u001b[38;5;124m\"\u001b[39m\u001b[38;5;124m    dataset = jnp.load(filepath)\u001b[39m\u001b[38;5;130;01m\\n\u001b[39;00m\u001b[38;5;124m\"\u001b[39m,\n\u001b[1;32m    236\u001b[0m     \u001b[38;5;124m\"\u001b[39m\u001b[38;5;124m    num_samples = dataset[\u001b[39m\u001b[38;5;130;01m\\\"\u001b[39;00m\u001b[38;5;124mth_curr_ss\u001b[39m\u001b[38;5;130;01m\\\"\u001b[39;00m\u001b[38;5;124m].shape[0]\u001b[39m\u001b[38;5;130;01m\\n\u001b[39;00m\u001b[38;5;124m\"\u001b[39m,\n\u001b[1;32m    237\u001b[0m     \u001b[38;5;124m\"\u001b[39m\u001b[38;5;130;01m\\n\u001b[39;00m\u001b[38;5;124m\"\u001b[39m,\n\u001b[1;32m    238\u001b[0m     \u001b[38;5;124m\"\u001b[39m\u001b[38;5;124m    # Randomly split the dataset into a training set and a validation set\u001b[39m\u001b[38;5;130;01m\\n\u001b[39;00m\u001b[38;5;124m\"\u001b[39m,\n\u001b[1;32m    239\u001b[0m     \u001b[38;5;124m\"\u001b[39m\u001b[38;5;124m    # Important: make use of the provided PRNG key\u001b[39m\u001b[38;5;130;01m\\n\u001b[39;00m\u001b[38;5;124m\"\u001b[39m,\n\u001b[1;32m    240\u001b[0m     \u001b[38;5;124m\"\u001b[39m\u001b[38;5;124m    # YOUR CODE HERE\u001b[39m\u001b[38;5;130;01m\\n\u001b[39;00m\u001b[38;5;124m\"\u001b[39m,\n\u001b[1;32m    241\u001b[0m     \u001b[38;5;124m\"\u001b[39m\u001b[38;5;124m    val_ds, train_ds = \u001b[39m\u001b[38;5;132;01m{}\u001b[39;00m\u001b[38;5;124m, \u001b[39m\u001b[38;5;132;01m{}\u001b[39;00m\u001b[38;5;130;01m\\n\u001b[39;00m\u001b[38;5;124m\"\u001b[39m,\n\u001b[1;32m    242\u001b[0m     \u001b[38;5;124m\"\u001b[39m\u001b[38;5;124m    for key in dataset.files:\u001b[39m\u001b[38;5;130;01m\\n\u001b[39;00m\u001b[38;5;124m\"\u001b[39m,\n\u001b[1;32m    243\u001b[0m     \u001b[38;5;124m\"\u001b[39m\u001b[38;5;124m        val_ds[key], train_ds[key] = jnp.split(jax.random.permutation(rng, dataset[key], axis=0), [int(num_samples*val_ratio)])\u001b[39m\u001b[38;5;130;01m\\n\u001b[39;00m\u001b[38;5;124m\"\u001b[39m,\n\u001b[1;32m    244\u001b[0m     \u001b[38;5;124m\"\u001b[39m\u001b[38;5;124m    return train_ds, val_ds\u001b[39m\u001b[38;5;124m\"\u001b[39m\n\u001b[1;32m    245\u001b[0m    ]\n\u001b[1;32m    246\u001b[0m   },\n\u001b[1;32m    247\u001b[0m   {\n\u001b[1;32m    248\u001b[0m    \u001b[38;5;124m\"\u001b[39m\u001b[38;5;124mcell_type\u001b[39m\u001b[38;5;124m\"\u001b[39m: \u001b[38;5;124m\"\u001b[39m\u001b[38;5;124mcode\u001b[39m\u001b[38;5;124m\"\u001b[39m,\n\u001b[1;32m    249\u001b[0m    \u001b[38;5;124m\"\u001b[39m\u001b[38;5;124mexecution_count\u001b[39m\u001b[38;5;124m\"\u001b[39m: \u001b[38;5;241m5\u001b[39m,\n\u001b[1;32m    250\u001b[0m    \u001b[38;5;124m\"\u001b[39m\u001b[38;5;124mid\u001b[39m\u001b[38;5;124m\"\u001b[39m: \u001b[38;5;124m\"\u001b[39m\u001b[38;5;124mecd274ae\u001b[39m\u001b[38;5;124m\"\u001b[39m,\n\u001b[0;32m--> 251\u001b[0m    \u001b[38;5;124m\"\u001b[39m\u001b[38;5;124mmetadata\u001b[39m\u001b[38;5;124m\"\u001b[39m: {\n\u001b[1;32m    252\u001b[0m     \u001b[38;5;124m\"\u001b[39m\u001b[38;5;124mdeletable\u001b[39m\u001b[38;5;124m\"\u001b[39m: false,\n\u001b[1;32m    253\u001b[0m     \u001b[38;5;124m\"\u001b[39m\u001b[38;5;124mnbgrader\u001b[39m\u001b[38;5;124m\"\u001b[39m: {\n\u001b[1;32m    254\u001b[0m      \u001b[38;5;124m\"\u001b[39m\u001b[38;5;124mcell_type\u001b[39m\u001b[38;5;124m\"\u001b[39m: \u001b[38;5;124m\"\u001b[39m\u001b[38;5;124mcode\u001b[39m\u001b[38;5;124m\"\u001b[39m,\n\u001b[1;32m    255\u001b[0m      \u001b[38;5;124m\"\u001b[39m\u001b[38;5;124mchecksum\u001b[39m\u001b[38;5;124m\"\u001b[39m: \u001b[38;5;124m\"\u001b[39m\u001b[38;5;124m56dec58e9925be9e4b15c83e86e10c1c\u001b[39m\u001b[38;5;124m\"\u001b[39m,\n\u001b[1;32m    256\u001b[0m      \u001b[38;5;124m\"\u001b[39m\u001b[38;5;124mgrade\u001b[39m\u001b[38;5;124m\"\u001b[39m: false,\n\u001b[1;32m    257\u001b[0m      \u001b[38;5;124m\"\u001b[39m\u001b[38;5;124mgrade_id\u001b[39m\u001b[38;5;124m\"\u001b[39m: \u001b[38;5;124m\"\u001b[39m\u001b[38;5;124mcell-13ff45f8b460488f\u001b[39m\u001b[38;5;124m\"\u001b[39m,\n\u001b[1;32m    258\u001b[0m      \u001b[38;5;124m\"\u001b[39m\u001b[38;5;124mlocked\u001b[39m\u001b[38;5;124m\"\u001b[39m: false,\n\u001b[1;32m    259\u001b[0m      \u001b[38;5;124m\"\u001b[39m\u001b[38;5;124mschema_version\u001b[39m\u001b[38;5;124m\"\u001b[39m: \u001b[38;5;241m3\u001b[39m,\n\u001b[1;32m    260\u001b[0m      \u001b[38;5;124m\"\u001b[39m\u001b[38;5;124msolution\u001b[39m\u001b[38;5;124m\"\u001b[39m: true,\n\u001b[1;32m    261\u001b[0m      \u001b[38;5;124m\"\u001b[39m\u001b[38;5;124mtask\u001b[39m\u001b[38;5;124m\"\u001b[39m: false\n\u001b[1;32m    262\u001b[0m     }\n\u001b[1;32m    263\u001b[0m    },\n\u001b[1;32m    264\u001b[0m    \u001b[38;5;124m\"\u001b[39m\u001b[38;5;124moutputs\u001b[39m\u001b[38;5;124m\"\u001b[39m: [],\n\u001b[1;32m    265\u001b[0m    \u001b[38;5;124m\"\u001b[39m\u001b[38;5;124msource\u001b[39m\u001b[38;5;124m\"\u001b[39m: [\n\u001b[1;32m    266\u001b[0m     \u001b[38;5;124m\"\u001b[39m\u001b[38;5;124mdef create_learning_rate_fn(\u001b[39m\u001b[38;5;130;01m\\n\u001b[39;00m\u001b[38;5;124m\"\u001b[39m,\n\u001b[1;32m    267\u001b[0m     \u001b[38;5;124m\"\u001b[39m\u001b[38;5;124m    num_epochs: int, steps_per_epoch: int, base_lr: float, warmup_epochs: int = 0\u001b[39m\u001b[38;5;130;01m\\n\u001b[39;00m\u001b[38;5;124m\"\u001b[39m,\n\u001b[1;32m    268\u001b[0m     \u001b[38;5;124m\"\u001b[39m\u001b[38;5;124m) -> Callable:\u001b[39m\u001b[38;5;130;01m\\n\u001b[39;00m\u001b[38;5;124m\"\u001b[39m,\n\u001b[1;32m    269\u001b[0m     \u001b[38;5;124m\"\u001b[39m\u001b[38;5;124m    \u001b[39m\u001b[38;5;130;01m\\\"\u001b[39;00m\u001b[38;5;130;01m\\\"\u001b[39;00m\u001b[38;5;130;01m\\\"\u001b[39;00m\u001b[38;5;130;01m\\n\u001b[39;00m\u001b[38;5;124m\"\u001b[39m,\n\u001b[1;32m    270\u001b[0m     \u001b[38;5;124m\"\u001b[39m\u001b[38;5;124m    Creates a learning rate schedule function. THe learning rate scheduler implements the following procedure:\u001b[39m\u001b[38;5;130;01m\\n\u001b[39;00m\u001b[38;5;124m\"\u001b[39m,\n\u001b[1;32m    271\u001b[0m     \u001b[38;5;124m\"\u001b[39m\u001b[38;5;124m        1. A linear increase of the learning rate for a specified number of warmup epochs up to the base lr\u001b[39m\u001b[38;5;130;01m\\n\u001b[39;00m\u001b[38;5;124m\"\u001b[39m,\n\u001b[1;32m    272\u001b[0m     \u001b[38;5;124m\"\u001b[39m\u001b[38;5;124m        2. A cosine decay of the learning rate throughout the remaining epochs\u001b[39m\u001b[38;5;130;01m\\n\u001b[39;00m\u001b[38;5;124m\"\u001b[39m,\n\u001b[1;32m    273\u001b[0m     \u001b[38;5;124m\"\u001b[39m\u001b[38;5;124m    Args:\u001b[39m\u001b[38;5;130;01m\\n\u001b[39;00m\u001b[38;5;124m\"\u001b[39m,\n\u001b[1;32m    274\u001b[0m     \u001b[38;5;124m\"\u001b[39m\u001b[38;5;124m        num_epochs: Number of epochs to train for.\u001b[39m\u001b[38;5;130;01m\\n\u001b[39;00m\u001b[38;5;124m\"\u001b[39m,\n\u001b[1;32m    275\u001b[0m     \u001b[38;5;124m\"\u001b[39m\u001b[38;5;124m        steps_per_epoch: Number of steps per epoch.\u001b[39m\u001b[38;5;130;01m\\n\u001b[39;00m\u001b[38;5;124m\"\u001b[39m,\n\u001b[1;32m    276\u001b[0m     \u001b[38;5;124m\"\u001b[39m\u001b[38;5;124m        base_lr: Base learning rate.\u001b[39m\u001b[38;5;130;01m\\n\u001b[39;00m\u001b[38;5;124m\"\u001b[39m,\n\u001b[1;32m    277\u001b[0m     \u001b[38;5;124m\"\u001b[39m\u001b[38;5;124m        warmup_epochs: Number of epochs for warmup.\u001b[39m\u001b[38;5;130;01m\\n\u001b[39;00m\u001b[38;5;124m\"\u001b[39m,\n\u001b[1;32m    278\u001b[0m     \u001b[38;5;124m\"\u001b[39m\u001b[38;5;124m    Returns:\u001b[39m\u001b[38;5;130;01m\\n\u001b[39;00m\u001b[38;5;124m\"\u001b[39m,\n\u001b[1;32m    279\u001b[0m     \u001b[38;5;124m\"\u001b[39m\u001b[38;5;124m        learning_rate_fn: A function that takes the current step and returns the current learning rate.\u001b[39m\u001b[38;5;130;01m\\n\u001b[39;00m\u001b[38;5;124m\"\u001b[39m,\n\u001b[1;32m    280\u001b[0m     \u001b[38;5;124m\"\u001b[39m\u001b[38;5;124m            It has the signature learning_rate_fn(step: int) -> lr.\u001b[39m\u001b[38;5;130;01m\\n\u001b[39;00m\u001b[38;5;124m\"\u001b[39m,\n\u001b[1;32m    281\u001b[0m     \u001b[38;5;124m\"\u001b[39m\u001b[38;5;124m    \u001b[39m\u001b[38;5;130;01m\\\"\u001b[39;00m\u001b[38;5;130;01m\\\"\u001b[39;00m\u001b[38;5;130;01m\\\"\u001b[39;00m\u001b[38;5;130;01m\\n\u001b[39;00m\u001b[38;5;124m\"\u001b[39m,\n\u001b[1;32m    282\u001b[0m     \u001b[38;5;124m\"\u001b[39m\u001b[38;5;124m    # Create the learning rate function implementing the procedure documented in the docstring\u001b[39m\u001b[38;5;130;01m\\n\u001b[39;00m\u001b[38;5;124m\"\u001b[39m,\n\u001b[1;32m    283\u001b[0m     \u001b[38;5;124m\"\u001b[39m\u001b[38;5;124m    # Hint: use the following optax functions:\u001b[39m\u001b[38;5;130;01m\\n\u001b[39;00m\u001b[38;5;124m\"\u001b[39m,\n\u001b[1;32m    284\u001b[0m     \u001b[38;5;124m\"\u001b[39m\u001b[38;5;124m    # optax.linear_schedule, optax.cosine_decay_schedule, optax.join_schedules\u001b[39m\u001b[38;5;130;01m\\n\u001b[39;00m\u001b[38;5;124m\"\u001b[39m,\n\u001b[1;32m    285\u001b[0m     \u001b[38;5;124m\"\u001b[39m\u001b[38;5;124m    # YOUR CODE HERE\u001b[39m\u001b[38;5;130;01m\\n\u001b[39;00m\u001b[38;5;124m\"\u001b[39m,\n\u001b[1;32m    286\u001b[0m     \u001b[38;5;124m\"\u001b[39m\u001b[38;5;124m#     raise NotImplementedError()\u001b[39m\u001b[38;5;130;01m\\n\u001b[39;00m\u001b[38;5;124m\"\u001b[39m,\n\u001b[1;32m    287\u001b[0m     \u001b[38;5;124m\"\u001b[39m\u001b[38;5;130;01m\\n\u001b[39;00m\u001b[38;5;124m\"\u001b[39m,\n\u001b[1;32m    288\u001b[0m     \u001b[38;5;124m\"\u001b[39m\u001b[38;5;124m    return learning_rate_fn\u001b[39m\u001b[38;5;124m\"\u001b[39m\n\u001b[1;32m    289\u001b[0m    ]\n\u001b[1;32m    290\u001b[0m   },\n\u001b[1;32m    291\u001b[0m   {\n\u001b[1;32m    292\u001b[0m    \u001b[38;5;124m\"\u001b[39m\u001b[38;5;124mcell_type\u001b[39m\u001b[38;5;124m\"\u001b[39m: \u001b[38;5;124m\"\u001b[39m\u001b[38;5;124mcode\u001b[39m\u001b[38;5;124m\"\u001b[39m,\n\u001b[1;32m    293\u001b[0m    \u001b[38;5;124m\"\u001b[39m\u001b[38;5;124mexecution_count\u001b[39m\u001b[38;5;124m\"\u001b[39m: \u001b[38;5;241m6\u001b[39m,\n\u001b[1;32m    294\u001b[0m    \u001b[38;5;124m\"\u001b[39m\u001b[38;5;124mid\u001b[39m\u001b[38;5;124m\"\u001b[39m: \u001b[38;5;124m\"\u001b[39m\u001b[38;5;124m0e9f92ac\u001b[39m\u001b[38;5;124m\"\u001b[39m,\n\u001b[1;32m    295\u001b[0m    \u001b[38;5;124m\"\u001b[39m\u001b[38;5;124mmetadata\u001b[39m\u001b[38;5;124m\"\u001b[39m: {\n\u001b[1;32m    296\u001b[0m     \u001b[38;5;124m\"\u001b[39m\u001b[38;5;124mdeletable\u001b[39m\u001b[38;5;124m\"\u001b[39m: false,\n\u001b[1;32m    297\u001b[0m     \u001b[38;5;124m\"\u001b[39m\u001b[38;5;124mnbgrader\u001b[39m\u001b[38;5;124m\"\u001b[39m: {\n\u001b[1;32m    298\u001b[0m      \u001b[38;5;124m\"\u001b[39m\u001b[38;5;124mcell_type\u001b[39m\u001b[38;5;124m\"\u001b[39m: \u001b[38;5;124m\"\u001b[39m\u001b[38;5;124mcode\u001b[39m\u001b[38;5;124m\"\u001b[39m,\n\u001b[1;32m    299\u001b[0m      \u001b[38;5;124m\"\u001b[39m\u001b[38;5;124mchecksum\u001b[39m\u001b[38;5;124m\"\u001b[39m: \u001b[38;5;124m\"\u001b[39m\u001b[38;5;124ma02961452e4a7efee1e2033981b061e6\u001b[39m\u001b[38;5;124m\"\u001b[39m,\n\u001b[1;32m    300\u001b[0m      \u001b[38;5;124m\"\u001b[39m\u001b[38;5;124mgrade\u001b[39m\u001b[38;5;124m\"\u001b[39m: false,\n\u001b[1;32m    301\u001b[0m      \u001b[38;5;124m\"\u001b[39m\u001b[38;5;124mgrade_id\u001b[39m\u001b[38;5;124m\"\u001b[39m: \u001b[38;5;124m\"\u001b[39m\u001b[38;5;124mcell-f927532a22a5d3ed\u001b[39m\u001b[38;5;124m\"\u001b[39m,\n\u001b[1;32m    302\u001b[0m      \u001b[38;5;124m\"\u001b[39m\u001b[38;5;124mlocked\u001b[39m\u001b[38;5;124m\"\u001b[39m: false,\n\u001b[1;32m    303\u001b[0m      \u001b[38;5;124m\"\u001b[39m\u001b[38;5;124mschema_version\u001b[39m\u001b[38;5;124m\"\u001b[39m: \u001b[38;5;241m3\u001b[39m,\n\u001b[1;32m    304\u001b[0m      \u001b[38;5;124m\"\u001b[39m\u001b[38;5;124msolution\u001b[39m\u001b[38;5;124m\"\u001b[39m: true,\n\u001b[1;32m    305\u001b[0m      \u001b[38;5;124m\"\u001b[39m\u001b[38;5;124mtask\u001b[39m\u001b[38;5;124m\"\u001b[39m: false\n\u001b[1;32m    306\u001b[0m     }\n\u001b[1;32m    307\u001b[0m    },\n\u001b[1;32m    308\u001b[0m    \u001b[38;5;124m\"\u001b[39m\u001b[38;5;124moutputs\u001b[39m\u001b[38;5;124m\"\u001b[39m: [],\n\u001b[1;32m    309\u001b[0m    \u001b[38;5;124m\"\u001b[39m\u001b[38;5;124msource\u001b[39m\u001b[38;5;124m\"\u001b[39m: [\n\u001b[1;32m    310\u001b[0m     \u001b[38;5;124m\"\u001b[39m\u001b[38;5;124mdef initialize_train_states(\u001b[39m\u001b[38;5;130;01m\\n\u001b[39;00m\u001b[38;5;124m\"\u001b[39m,\n\u001b[1;32m    311\u001b[0m     \u001b[38;5;124m\"\u001b[39m\u001b[38;5;124m    rng: random.KeyArray, learning_rate_fn: Callable, weight_decay: float = 0.0\u001b[39m\u001b[38;5;130;01m\\n\u001b[39;00m\u001b[38;5;124m\"\u001b[39m,\n\u001b[1;32m    312\u001b[0m     \u001b[38;5;124m\"\u001b[39m\u001b[38;5;124m) -> Dict[str, TrainState]:\u001b[39m\u001b[38;5;130;01m\\n\u001b[39;00m\u001b[38;5;124m\"\u001b[39m,\n\u001b[1;32m    313\u001b[0m     \u001b[38;5;124m\"\u001b[39m\u001b[38;5;124m    \u001b[39m\u001b[38;5;130;01m\\\"\u001b[39;00m\u001b[38;5;130;01m\\\"\u001b[39;00m\u001b[38;5;130;01m\\\"\u001b[39;00m\u001b[38;5;130;01m\\n\u001b[39;00m\u001b[38;5;124m\"\u001b[39m,\n\u001b[1;32m    314\u001b[0m     \u001b[38;5;124m\"\u001b[39m\u001b[38;5;124m    Initialize the train states of the two neural networks.\u001b[39m\u001b[38;5;130;01m\\n\u001b[39;00m\u001b[38;5;124m\"\u001b[39m,\n\u001b[1;32m    315\u001b[0m     \u001b[38;5;124m\"\u001b[39m\u001b[38;5;124m    Args:\u001b[39m\u001b[38;5;130;01m\\n\u001b[39;00m\u001b[38;5;124m\"\u001b[39m,\n\u001b[1;32m    316\u001b[0m     \u001b[38;5;124m\"\u001b[39m\u001b[38;5;124m        rng: PRNG key for pseudo-random number generation.\u001b[39m\u001b[38;5;130;01m\\n\u001b[39;00m\u001b[38;5;124m\"\u001b[39m,\n\u001b[1;32m    317\u001b[0m     \u001b[38;5;124m\"\u001b[39m\u001b[38;5;124m        learning_rate_fn: A function that takes the current step and returns the current learning rate.\u001b[39m\u001b[38;5;130;01m\\n\u001b[39;00m\u001b[38;5;124m\"\u001b[39m,\n\u001b[1;32m    318\u001b[0m     \u001b[38;5;124m\"\u001b[39m\u001b[38;5;124m            It has the signature learning_rate_fn(step: int) -> lr.\u001b[39m\u001b[38;5;130;01m\\n\u001b[39;00m\u001b[38;5;124m\"\u001b[39m,\n\u001b[1;32m    319\u001b[0m     \u001b[38;5;124m\"\u001b[39m\u001b[38;5;124m        weight_decay: Weight decay of the Adam optimizer for training the neural networks.\u001b[39m\u001b[38;5;130;01m\\n\u001b[39;00m\u001b[38;5;124m\"\u001b[39m,\n\u001b[1;32m    320\u001b[0m     \u001b[38;5;124m\"\u001b[39m\u001b[38;5;124m    Returns:\u001b[39m\u001b[38;5;130;01m\\n\u001b[39;00m\u001b[38;5;124m\"\u001b[39m,\n\u001b[1;32m    321\u001b[0m     \u001b[38;5;124m\"\u001b[39m\u001b[38;5;124m        states: Dictionary containing the current states of the training of the two neural networks.\u001b[39m\u001b[38;5;130;01m\\n\u001b[39;00m\u001b[38;5;124m\"\u001b[39m,\n\u001b[1;32m    322\u001b[0m     \u001b[38;5;124m\"\u001b[39m\u001b[38;5;124m            Entries of dictionary:\u001b[39m\u001b[38;5;130;01m\\n\u001b[39;00m\u001b[38;5;124m\"\u001b[39m,\n\u001b[1;32m    323\u001b[0m     \u001b[38;5;124m\"\u001b[39m\u001b[38;5;124m                - MassMatrixNN: TrainState of the mass matrix neural network\u001b[39m\u001b[38;5;130;01m\\n\u001b[39;00m\u001b[38;5;124m\"\u001b[39m,\n\u001b[1;32m    324\u001b[0m     \u001b[38;5;124m\"\u001b[39m\u001b[38;5;124m                - PotentialEnergyNN: TrainState of the potential energy neural network\u001b[39m\u001b[38;5;130;01m\\n\u001b[39;00m\u001b[38;5;124m\"\u001b[39m,\n\u001b[1;32m    325\u001b[0m     \u001b[38;5;124m\"\u001b[39m\u001b[38;5;124m    \u001b[39m\u001b[38;5;130;01m\\\"\u001b[39;00m\u001b[38;5;130;01m\\\"\u001b[39;00m\u001b[38;5;130;01m\\\"\u001b[39;00m\u001b[38;5;130;01m\\n\u001b[39;00m\u001b[38;5;124m\"\u001b[39m,\n\u001b[1;32m    326\u001b[0m     \u001b[38;5;124m\"\u001b[39m\u001b[38;5;124m    # initialize the neural network objects\u001b[39m\u001b[38;5;130;01m\\n\u001b[39;00m\u001b[38;5;124m\"\u001b[39m,\n\u001b[1;32m    327\u001b[0m     \u001b[38;5;124m\"\u001b[39m\u001b[38;5;124m    mass_matrix_nn = MassMatrixNN()\u001b[39m\u001b[38;5;130;01m\\n\u001b[39;00m\u001b[38;5;124m\"\u001b[39m,\n\u001b[1;32m    328\u001b[0m     \u001b[38;5;124m\"\u001b[39m\u001b[38;5;124m    potential_energy_nn = PotentialEnergyNN()\u001b[39m\u001b[38;5;130;01m\\n\u001b[39;00m\u001b[38;5;124m\"\u001b[39m,\n\u001b[1;32m    329\u001b[0m     \u001b[38;5;124m\"\u001b[39m\u001b[38;5;130;01m\\n\u001b[39;00m\u001b[38;5;124m\"\u001b[39m,\n\u001b[1;32m    330\u001b[0m     \u001b[38;5;124m\"\u001b[39m\u001b[38;5;124m    # initialize parameters of the neural networks by passing a dummy input through the network\u001b[39m\u001b[38;5;130;01m\\n\u001b[39;00m\u001b[38;5;124m\"\u001b[39m,\n\u001b[1;32m    331\u001b[0m     \u001b[38;5;124m\"\u001b[39m\u001b[38;5;124m    # Hint: pass the `rng` and a dummy input to the `init` method of the neural network object\u001b[39m\u001b[38;5;130;01m\\n\u001b[39;00m\u001b[38;5;124m\"\u001b[39m,\n\u001b[1;32m    332\u001b[0m     \u001b[38;5;124m\"\u001b[39m\u001b[38;5;124m    mass_matrix_nn_params = FrozenDict()\u001b[39m\u001b[38;5;130;01m\\n\u001b[39;00m\u001b[38;5;124m\"\u001b[39m,\n\u001b[1;32m    333\u001b[0m     \u001b[38;5;124m\"\u001b[39m\u001b[38;5;124m    potential_energy_nn_params = FrozenDict()\u001b[39m\u001b[38;5;130;01m\\n\u001b[39;00m\u001b[38;5;124m\"\u001b[39m,\n\u001b[1;32m    334\u001b[0m     \u001b[38;5;124m\"\u001b[39m\u001b[38;5;124m    # YOUR CODE HERE\u001b[39m\u001b[38;5;130;01m\\n\u001b[39;00m\u001b[38;5;124m\"\u001b[39m,\n\u001b[1;32m    335\u001b[0m     \u001b[38;5;124m\"\u001b[39m\u001b[38;5;124m#     raise NotImplementedError()\u001b[39m\u001b[38;5;130;01m\\n\u001b[39;00m\u001b[38;5;124m\"\u001b[39m,\n\u001b[1;32m    336\u001b[0m     \u001b[38;5;124m\"\u001b[39m\u001b[38;5;130;01m\\n\u001b[39;00m\u001b[38;5;124m\"\u001b[39m,\n\u001b[1;32m    337\u001b[0m     \u001b[38;5;124m\"\u001b[39m\u001b[38;5;124m    # initialize the Adam with weight decay optimizer for both neural networks\u001b[39m\u001b[38;5;130;01m\\n\u001b[39;00m\u001b[38;5;124m\"\u001b[39m,\n\u001b[1;32m    338\u001b[0m     \u001b[38;5;124m\"\u001b[39m\u001b[38;5;124m    # Hint: use optax.adamw\u001b[39m\u001b[38;5;130;01m\\n\u001b[39;00m\u001b[38;5;124m\"\u001b[39m,\n\u001b[1;32m    339\u001b[0m     \u001b[38;5;124m\"\u001b[39m\u001b[38;5;124m    mass_matrix_nn_tx, potential_energy_nn_tx = None, None\u001b[39m\u001b[38;5;130;01m\\n\u001b[39;00m\u001b[38;5;124m\"\u001b[39m,\n\u001b[1;32m    340\u001b[0m     \u001b[38;5;124m\"\u001b[39m\u001b[38;5;124m    # YOUR CODE HERE\u001b[39m\u001b[38;5;130;01m\\n\u001b[39;00m\u001b[38;5;124m\"\u001b[39m,\n\u001b[1;32m    341\u001b[0m     \u001b[38;5;124m\"\u001b[39m\u001b[38;5;124m#     raise NotImplementedError()\u001b[39m\u001b[38;5;130;01m\\n\u001b[39;00m\u001b[38;5;124m\"\u001b[39m,\n\u001b[1;32m    342\u001b[0m     \u001b[38;5;124m\"\u001b[39m\u001b[38;5;130;01m\\n\u001b[39;00m\u001b[38;5;124m\"\u001b[39m,\n\u001b[1;32m    343\u001b[0m     \u001b[38;5;124m\"\u001b[39m\u001b[38;5;124m    # create the TrainState object for both neural networks\u001b[39m\u001b[38;5;130;01m\\n\u001b[39;00m\u001b[38;5;124m\"\u001b[39m,\n\u001b[1;32m    344\u001b[0m     \u001b[38;5;124m\"\u001b[39m\u001b[38;5;124m    mass_matrix_nn_train_state = TrainState.create(\u001b[39m\u001b[38;5;130;01m\\n\u001b[39;00m\u001b[38;5;124m\"\u001b[39m,\n\u001b[1;32m    345\u001b[0m     \u001b[38;5;124m\"\u001b[39m\u001b[38;5;124m        apply_fn=mass_matrix_nn.apply,\u001b[39m\u001b[38;5;130;01m\\n\u001b[39;00m\u001b[38;5;124m\"\u001b[39m,\n\u001b[1;32m    346\u001b[0m     \u001b[38;5;124m\"\u001b[39m\u001b[38;5;124m        params=mass_matrix_nn_params,\u001b[39m\u001b[38;5;130;01m\\n\u001b[39;00m\u001b[38;5;124m\"\u001b[39m,\n\u001b[1;32m    347\u001b[0m     \u001b[38;5;124m\"\u001b[39m\u001b[38;5;124m        tx=mass_matrix_nn_tx,\u001b[39m\u001b[38;5;130;01m\\n\u001b[39;00m\u001b[38;5;124m\"\u001b[39m,\n\u001b[1;32m    348\u001b[0m     \u001b[38;5;124m\"\u001b[39m\u001b[38;5;124m    )\u001b[39m\u001b[38;5;130;01m\\n\u001b[39;00m\u001b[38;5;124m\"\u001b[39m,\n\u001b[1;32m    349\u001b[0m     \u001b[38;5;124m\"\u001b[39m\u001b[38;5;124m    potential_energy_nn_train_state = TrainState.create(\u001b[39m\u001b[38;5;130;01m\\n\u001b[39;00m\u001b[38;5;124m\"\u001b[39m,\n\u001b[1;32m    350\u001b[0m     \u001b[38;5;124m\"\u001b[39m\u001b[38;5;124m        apply_fn=potential_energy_nn.apply,\u001b[39m\u001b[38;5;130;01m\\n\u001b[39;00m\u001b[38;5;124m\"\u001b[39m,\n\u001b[1;32m    351\u001b[0m     \u001b[38;5;124m\"\u001b[39m\u001b[38;5;124m        params=potential_energy_nn_params,\u001b[39m\u001b[38;5;130;01m\\n\u001b[39;00m\u001b[38;5;124m\"\u001b[39m,\n\u001b[1;32m    352\u001b[0m     \u001b[38;5;124m\"\u001b[39m\u001b[38;5;124m        tx=potential_energy_nn_tx,\u001b[39m\u001b[38;5;130;01m\\n\u001b[39;00m\u001b[38;5;124m\"\u001b[39m,\n\u001b[1;32m    353\u001b[0m     \u001b[38;5;124m\"\u001b[39m\u001b[38;5;124m    )\u001b[39m\u001b[38;5;130;01m\\n\u001b[39;00m\u001b[38;5;124m\"\u001b[39m,\n\u001b[1;32m    354\u001b[0m     \u001b[38;5;124m\"\u001b[39m\u001b[38;5;130;01m\\n\u001b[39;00m\u001b[38;5;124m\"\u001b[39m,\n\u001b[1;32m    355\u001b[0m     \u001b[38;5;124m\"\u001b[39m\u001b[38;5;124m    # save the TrainState objects into a dictionary, which we can pass to the various training functions\u001b[39m\u001b[38;5;130;01m\\n\u001b[39;00m\u001b[38;5;124m\"\u001b[39m,\n\u001b[1;32m    356\u001b[0m     \u001b[38;5;124m\"\u001b[39m\u001b[38;5;124m    states = \u001b[39m\u001b[38;5;124m{\u001b[39m\u001b[38;5;130;01m\\n\u001b[39;00m\u001b[38;5;124m\"\u001b[39m,\n\u001b[1;32m    357\u001b[0m     \u001b[38;5;124m\"\u001b[39m\u001b[38;5;124m        \u001b[39m\u001b[38;5;130;01m\\\"\u001b[39;00m\u001b[38;5;124mMassMatrixNN\u001b[39m\u001b[38;5;130;01m\\\"\u001b[39;00m\u001b[38;5;124m: mass_matrix_nn_train_state,\u001b[39m\u001b[38;5;130;01m\\n\u001b[39;00m\u001b[38;5;124m\"\u001b[39m,\n\u001b[1;32m    358\u001b[0m     \u001b[38;5;124m\"\u001b[39m\u001b[38;5;124m        \u001b[39m\u001b[38;5;130;01m\\\"\u001b[39;00m\u001b[38;5;124mPotentialEnergyNN\u001b[39m\u001b[38;5;130;01m\\\"\u001b[39;00m\u001b[38;5;124m: potential_energy_nn_train_state,\u001b[39m\u001b[38;5;130;01m\\n\u001b[39;00m\u001b[38;5;124m\"\u001b[39m,\n\u001b[1;32m    359\u001b[0m     \u001b[38;5;124m\"\u001b[39m\u001b[38;5;124m    }\u001b[39m\u001b[38;5;130;01m\\n\u001b[39;00m\u001b[38;5;124m\"\u001b[39m,\n\u001b[1;32m    360\u001b[0m     \u001b[38;5;124m\"\u001b[39m\u001b[38;5;130;01m\\n\u001b[39;00m\u001b[38;5;124m\"\u001b[39m,\n\u001b[1;32m    361\u001b[0m     \u001b[38;5;124m\"\u001b[39m\u001b[38;5;124m    return states\u001b[39m\u001b[38;5;124m\"\u001b[39m\n\u001b[1;32m    362\u001b[0m    ]\n\u001b[1;32m    363\u001b[0m   },\n\u001b[1;32m    364\u001b[0m   {\n\u001b[1;32m    365\u001b[0m    \u001b[38;5;124m\"\u001b[39m\u001b[38;5;124mcell_type\u001b[39m\u001b[38;5;124m\"\u001b[39m: \u001b[38;5;124m\"\u001b[39m\u001b[38;5;124mcode\u001b[39m\u001b[38;5;124m\"\u001b[39m,\n\u001b[1;32m    366\u001b[0m    \u001b[38;5;124m\"\u001b[39m\u001b[38;5;124mexecution_count\u001b[39m\u001b[38;5;124m\"\u001b[39m: \u001b[38;5;241m7\u001b[39m,\n\u001b[1;32m    367\u001b[0m    \u001b[38;5;124m\"\u001b[39m\u001b[38;5;124mid\u001b[39m\u001b[38;5;124m\"\u001b[39m: \u001b[38;5;124m\"\u001b[39m\u001b[38;5;124m18da9e5f\u001b[39m\u001b[38;5;124m\"\u001b[39m,\n\u001b[1;32m    368\u001b[0m    \u001b[38;5;124m\"\u001b[39m\u001b[38;5;124mmetadata\u001b[39m\u001b[38;5;124m\"\u001b[39m: {\n\u001b[1;32m    369\u001b[0m     \u001b[38;5;124m\"\u001b[39m\u001b[38;5;124mdeletable\u001b[39m\u001b[38;5;124m\"\u001b[39m: false,\n\u001b[1;32m    370\u001b[0m     \u001b[38;5;124m\"\u001b[39m\u001b[38;5;124mnbgrader\u001b[39m\u001b[38;5;124m\"\u001b[39m: {\n\u001b[1;32m    371\u001b[0m      \u001b[38;5;124m\"\u001b[39m\u001b[38;5;124mcell_type\u001b[39m\u001b[38;5;124m\"\u001b[39m: \u001b[38;5;124m\"\u001b[39m\u001b[38;5;124mcode\u001b[39m\u001b[38;5;124m\"\u001b[39m,\n\u001b[1;32m    372\u001b[0m      \u001b[38;5;124m\"\u001b[39m\u001b[38;5;124mchecksum\u001b[39m\u001b[38;5;124m\"\u001b[39m: \u001b[38;5;124m\"\u001b[39m\u001b[38;5;124mc4c74294dfa08b8a579823d4e0c6f968\u001b[39m\u001b[38;5;124m\"\u001b[39m,\n\u001b[1;32m    373\u001b[0m      \u001b[38;5;124m\"\u001b[39m\u001b[38;5;124mgrade\u001b[39m\u001b[38;5;124m\"\u001b[39m: false,\n\u001b[1;32m    374\u001b[0m      \u001b[38;5;124m\"\u001b[39m\u001b[38;5;124mgrade_id\u001b[39m\u001b[38;5;124m\"\u001b[39m: \u001b[38;5;124m\"\u001b[39m\u001b[38;5;124mcell-a44cea11d5d915cf\u001b[39m\u001b[38;5;124m\"\u001b[39m,\n\u001b[1;32m    375\u001b[0m      \u001b[38;5;124m\"\u001b[39m\u001b[38;5;124mlocked\u001b[39m\u001b[38;5;124m\"\u001b[39m: false,\n\u001b[1;32m    376\u001b[0m      \u001b[38;5;124m\"\u001b[39m\u001b[38;5;124mschema_version\u001b[39m\u001b[38;5;124m\"\u001b[39m: \u001b[38;5;241m3\u001b[39m,\n\u001b[1;32m    377\u001b[0m      \u001b[38;5;124m\"\u001b[39m\u001b[38;5;124msolution\u001b[39m\u001b[38;5;124m\"\u001b[39m: true,\n\u001b[1;32m    378\u001b[0m      \u001b[38;5;124m\"\u001b[39m\u001b[38;5;124mtask\u001b[39m\u001b[38;5;124m\"\u001b[39m: false\n\u001b[1;32m    379\u001b[0m     }\n\u001b[1;32m    380\u001b[0m    },\n\u001b[1;32m    381\u001b[0m    \u001b[38;5;124m\"\u001b[39m\u001b[38;5;124moutputs\u001b[39m\u001b[38;5;124m\"\u001b[39m: [],\n\u001b[1;32m    382\u001b[0m    \u001b[38;5;124m\"\u001b[39m\u001b[38;5;124msource\u001b[39m\u001b[38;5;124m\"\u001b[39m: [\n\u001b[1;32m    383\u001b[0m     \u001b[38;5;124m\"\u001b[39m\u001b[38;5;124m@jit\u001b[39m\u001b[38;5;130;01m\\n\u001b[39;00m\u001b[38;5;124m\"\u001b[39m,\n\u001b[1;32m    384\u001b[0m     \u001b[38;5;124m\"\u001b[39m\u001b[38;5;124mdef mse_loss_fn(pred: jnp.ndarray, target: jnp.ndarray) -> jnp.ndarray:\u001b[39m\u001b[38;5;130;01m\\n\u001b[39;00m\u001b[38;5;124m\"\u001b[39m,\n\u001b[1;32m    385\u001b[0m     \u001b[38;5;124m\"\u001b[39m\u001b[38;5;124m    \u001b[39m\u001b[38;5;130;01m\\\"\u001b[39;00m\u001b[38;5;130;01m\\\"\u001b[39;00m\u001b[38;5;130;01m\\\"\u001b[39;00m\u001b[38;5;130;01m\\n\u001b[39;00m\u001b[38;5;124m\"\u001b[39m,\n\u001b[1;32m    386\u001b[0m     \u001b[38;5;124m\"\u001b[39m\u001b[38;5;124m    Mean Squared Error (MSE) loss function to train the neural network.\u001b[39m\u001b[38;5;130;01m\\n\u001b[39;00m\u001b[38;5;124m\"\u001b[39m,\n\u001b[1;32m    387\u001b[0m     \u001b[38;5;124m\"\u001b[39m\u001b[38;5;124m    Args:\u001b[39m\u001b[38;5;130;01m\\n\u001b[39;00m\u001b[38;5;124m\"\u001b[39m,\n\u001b[1;32m    388\u001b[0m     \u001b[38;5;124m\"\u001b[39m\u001b[38;5;124m        pred: Predictions of the neural network.\u001b[39m\u001b[38;5;130;01m\\n\u001b[39;00m\u001b[38;5;124m\"\u001b[39m,\n\u001b[1;32m    389\u001b[0m     \u001b[38;5;124m\"\u001b[39m\u001b[38;5;124m        target: Targets (i.e. labels) for the supervised training.\u001b[39m\u001b[38;5;130;01m\\n\u001b[39;00m\u001b[38;5;124m\"\u001b[39m,\n\u001b[1;32m    390\u001b[0m     \u001b[38;5;124m\"\u001b[39m\u001b[38;5;124m    Returns:\u001b[39m\u001b[38;5;130;01m\\n\u001b[39;00m\u001b[38;5;124m\"\u001b[39m,\n\u001b[1;32m    391\u001b[0m     \u001b[38;5;124m\"\u001b[39m\u001b[38;5;124m        loss: Mean squared error (MSE) as array of shape () between the predicted and target values.\u001b[39m\u001b[38;5;130;01m\\n\u001b[39;00m\u001b[38;5;124m\"\u001b[39m,\n\u001b[1;32m    392\u001b[0m     \u001b[38;5;124m\"\u001b[39m\u001b[38;5;124m    \u001b[39m\u001b[38;5;130;01m\\\"\u001b[39;00m\u001b[38;5;130;01m\\\"\u001b[39;00m\u001b[38;5;130;01m\\\"\u001b[39;00m\u001b[38;5;130;01m\\n\u001b[39;00m\u001b[38;5;124m\"\u001b[39m,\n\u001b[1;32m    393\u001b[0m     \u001b[38;5;124m\"\u001b[39m\u001b[38;5;124m    # YOUR CODE HERE\u001b[39m\u001b[38;5;130;01m\\n\u001b[39;00m\u001b[38;5;124m\"\u001b[39m,\n\u001b[1;32m    394\u001b[0m     \u001b[38;5;124m\"\u001b[39m\u001b[38;5;124m#     raise NotImplementedError()\u001b[39m\u001b[38;5;130;01m\\n\u001b[39;00m\u001b[38;5;124m\"\u001b[39m,\n\u001b[1;32m    395\u001b[0m     \u001b[38;5;124m\"\u001b[39m\u001b[38;5;124m    return loss\u001b[39m\u001b[38;5;124m\"\u001b[39m\n\u001b[1;32m    396\u001b[0m    ]\n\u001b[1;32m    397\u001b[0m   },\n\u001b[1;32m    398\u001b[0m   {\n\u001b[1;32m    399\u001b[0m    \u001b[38;5;124m\"\u001b[39m\u001b[38;5;124mcell_type\u001b[39m\u001b[38;5;124m\"\u001b[39m: \u001b[38;5;124m\"\u001b[39m\u001b[38;5;124mcode\u001b[39m\u001b[38;5;124m\"\u001b[39m,\n\u001b[1;32m    400\u001b[0m    \u001b[38;5;124m\"\u001b[39m\u001b[38;5;124mexecution_count\u001b[39m\u001b[38;5;124m\"\u001b[39m: \u001b[38;5;241m8\u001b[39m,\n\u001b[1;32m    401\u001b[0m    \u001b[38;5;124m\"\u001b[39m\u001b[38;5;124mid\u001b[39m\u001b[38;5;124m\"\u001b[39m: \u001b[38;5;124m\"\u001b[39m\u001b[38;5;124m92b0e0e7\u001b[39m\u001b[38;5;124m\"\u001b[39m,\n\u001b[1;32m    402\u001b[0m    \u001b[38;5;124m\"\u001b[39m\u001b[38;5;124mmetadata\u001b[39m\u001b[38;5;124m\"\u001b[39m: {\n\u001b[1;32m    403\u001b[0m     \u001b[38;5;124m\"\u001b[39m\u001b[38;5;124mdeletable\u001b[39m\u001b[38;5;124m\"\u001b[39m: false,\n\u001b[1;32m    404\u001b[0m     \u001b[38;5;124m\"\u001b[39m\u001b[38;5;124meditable\u001b[39m\u001b[38;5;124m\"\u001b[39m: false,\n\u001b[1;32m    405\u001b[0m     \u001b[38;5;124m\"\u001b[39m\u001b[38;5;124mnbgrader\u001b[39m\u001b[38;5;124m\"\u001b[39m: {\n\u001b[1;32m    406\u001b[0m      \u001b[38;5;124m\"\u001b[39m\u001b[38;5;124mcell_type\u001b[39m\u001b[38;5;124m\"\u001b[39m: \u001b[38;5;124m\"\u001b[39m\u001b[38;5;124mcode\u001b[39m\u001b[38;5;124m\"\u001b[39m,\n\u001b[1;32m    407\u001b[0m      \u001b[38;5;124m\"\u001b[39m\u001b[38;5;124mchecksum\u001b[39m\u001b[38;5;124m\"\u001b[39m: \u001b[38;5;124m\"\u001b[39m\u001b[38;5;124mc584d8bf2d2a102fe270a18a0f21f07d\u001b[39m\u001b[38;5;124m\"\u001b[39m,\n\u001b[1;32m    408\u001b[0m      \u001b[38;5;124m\"\u001b[39m\u001b[38;5;124mgrade\u001b[39m\u001b[38;5;124m\"\u001b[39m: false,\n\u001b[1;32m    409\u001b[0m      \u001b[38;5;124m\"\u001b[39m\u001b[38;5;124mgrade_id\u001b[39m\u001b[38;5;124m\"\u001b[39m: \u001b[38;5;124m\"\u001b[39m\u001b[38;5;124mcell-a36336482f64d854\u001b[39m\u001b[38;5;124m\"\u001b[39m,\n\u001b[1;32m    410\u001b[0m      \u001b[38;5;124m\"\u001b[39m\u001b[38;5;124mlocked\u001b[39m\u001b[38;5;124m\"\u001b[39m: true,\n\u001b[1;32m    411\u001b[0m      \u001b[38;5;124m\"\u001b[39m\u001b[38;5;124mschema_version\u001b[39m\u001b[38;5;124m\"\u001b[39m: \u001b[38;5;241m3\u001b[39m,\n\u001b[1;32m    412\u001b[0m      \u001b[38;5;124m\"\u001b[39m\u001b[38;5;124msolution\u001b[39m\u001b[38;5;124m\"\u001b[39m: false,\n\u001b[1;32m    413\u001b[0m      \u001b[38;5;124m\"\u001b[39m\u001b[38;5;124mtask\u001b[39m\u001b[38;5;124m\"\u001b[39m: false\n\u001b[1;32m    414\u001b[0m     }\n\u001b[1;32m    415\u001b[0m    },\n\u001b[1;32m    416\u001b[0m    \u001b[38;5;124m\"\u001b[39m\u001b[38;5;124moutputs\u001b[39m\u001b[38;5;124m\"\u001b[39m: [],\n\u001b[1;32m    417\u001b[0m    \u001b[38;5;124m\"\u001b[39m\u001b[38;5;124msource\u001b[39m\u001b[38;5;124m\"\u001b[39m: [\n\u001b[1;32m    418\u001b[0m     \u001b[38;5;124m\"\u001b[39m\u001b[38;5;124m@jit\u001b[39m\u001b[38;5;130;01m\\n\u001b[39;00m\u001b[38;5;124m\"\u001b[39m,\n\u001b[1;32m    419\u001b[0m     \u001b[38;5;124m\"\u001b[39m\u001b[38;5;124mdef compute_metrics(\u001b[39m\u001b[38;5;130;01m\\n\u001b[39;00m\u001b[38;5;124m\"\u001b[39m,\n\u001b[1;32m    420\u001b[0m     \u001b[38;5;124m\"\u001b[39m\u001b[38;5;124m    batch: Dict[str, jnp.ndarray], preds: Dict[str, jnp.ndarray]\u001b[39m\u001b[38;5;130;01m\\n\u001b[39;00m\u001b[38;5;124m\"\u001b[39m,\n\u001b[1;32m    421\u001b[0m     \u001b[38;5;124m\"\u001b[39m\u001b[38;5;124m) -> Dict[str, jnp.ndarray]:\u001b[39m\u001b[38;5;130;01m\\n\u001b[39;00m\u001b[38;5;124m\"\u001b[39m,\n\u001b[1;32m    422\u001b[0m     \u001b[38;5;124m\"\u001b[39m\u001b[38;5;124m    \u001b[39m\u001b[38;5;130;01m\\\"\u001b[39;00m\u001b[38;5;130;01m\\\"\u001b[39;00m\u001b[38;5;130;01m\\\"\u001b[39;00m\u001b[38;5;130;01m\\n\u001b[39;00m\u001b[38;5;124m\"\u001b[39m,\n\u001b[1;32m    423\u001b[0m     \u001b[38;5;124m\"\u001b[39m\u001b[38;5;124m    Computes the metrics of the current batch measuring the performance of the dynamics prediction.\u001b[39m\u001b[38;5;130;01m\\n\u001b[39;00m\u001b[38;5;124m\"\u001b[39m,\n\u001b[1;32m    424\u001b[0m     \u001b[38;5;124m\"\u001b[39m\u001b[38;5;124m    Args:\u001b[39m\u001b[38;5;130;01m\\n\u001b[39;00m\u001b[38;5;124m\"\u001b[39m,\n\u001b[1;32m    425\u001b[0m     \u001b[38;5;124m\"\u001b[39m\u001b[38;5;124m        batch: dictionary of batch data (i.e. inputs and targets)\u001b[39m\u001b[38;5;130;01m\\n\u001b[39;00m\u001b[38;5;124m\"\u001b[39m,\n\u001b[1;32m    426\u001b[0m     \u001b[38;5;124m\"\u001b[39m\u001b[38;5;124m        preds: dictionary of batch predictions (i.e. outputs of the neural network) with keys:\u001b[39m\u001b[38;5;130;01m\\n\u001b[39;00m\u001b[38;5;124m\"\u001b[39m,\n\u001b[1;32m    427\u001b[0m     \u001b[38;5;124m\"\u001b[39m\u001b[38;5;124m            - th_next_pred: predicted next link angles of the double pendulum. [rad/s]\u001b[39m\u001b[38;5;130;01m\\n\u001b[39;00m\u001b[38;5;124m\"\u001b[39m,\n\u001b[1;32m    428\u001b[0m     \u001b[38;5;124m\"\u001b[39m\u001b[38;5;124m            - th_d_next_pred: predicted next link angular velocities of the double pendulum. [rad/s^2]\u001b[39m\u001b[38;5;130;01m\\n\u001b[39;00m\u001b[38;5;124m\"\u001b[39m,\n\u001b[1;32m    429\u001b[0m     \u001b[38;5;124m\"\u001b[39m\u001b[38;5;124m    Returns:\u001b[39m\u001b[38;5;130;01m\\n\u001b[39;00m\u001b[38;5;124m\"\u001b[39m,\n\u001b[1;32m    430\u001b[0m     \u001b[38;5;124m\"\u001b[39m\u001b[38;5;124m        metrics: Dictionary of metrics\u001b[39m\u001b[38;5;130;01m\\n\u001b[39;00m\u001b[38;5;124m\"\u001b[39m,\n\u001b[1;32m    431\u001b[0m     \u001b[38;5;124m\"\u001b[39m\u001b[38;5;124m    \u001b[39m\u001b[38;5;130;01m\\\"\u001b[39;00m\u001b[38;5;130;01m\\\"\u001b[39;00m\u001b[38;5;130;01m\\\"\u001b[39;00m\u001b[38;5;130;01m\\n\u001b[39;00m\u001b[38;5;124m\"\u001b[39m,\n\u001b[1;32m    432\u001b[0m     \u001b[38;5;124m\"\u001b[39m\u001b[38;5;124m    error_th = normalize_link_angles(preds[\u001b[39m\u001b[38;5;130;01m\\\"\u001b[39;00m\u001b[38;5;124mth_next_ss\u001b[39m\u001b[38;5;130;01m\\\"\u001b[39;00m\u001b[38;5;124m] - batch[\u001b[39m\u001b[38;5;130;01m\\\"\u001b[39;00m\u001b[38;5;124mth_next_ss\u001b[39m\u001b[38;5;130;01m\\\"\u001b[39;00m\u001b[38;5;124m])\u001b[39m\u001b[38;5;130;01m\\n\u001b[39;00m\u001b[38;5;124m\"\u001b[39m,\n\u001b[1;32m    433\u001b[0m     \u001b[38;5;124m\"\u001b[39m\u001b[38;5;124m    metrics = \u001b[39m\u001b[38;5;124m{\u001b[39m\u001b[38;5;130;01m\\n\u001b[39;00m\u001b[38;5;124m\"\u001b[39m,\n\u001b[1;32m    434\u001b[0m     \u001b[38;5;124m\"\u001b[39m\u001b[38;5;124m        \u001b[39m\u001b[38;5;130;01m\\\"\u001b[39;00m\u001b[38;5;124mrmse_th_next\u001b[39m\u001b[38;5;130;01m\\\"\u001b[39;00m\u001b[38;5;124m: jnp.sqrt(jnp.mean(jnp.square(error_th))),\u001b[39m\u001b[38;5;130;01m\\n\u001b[39;00m\u001b[38;5;124m\"\u001b[39m,\n\u001b[1;32m    435\u001b[0m     \u001b[38;5;124m\"\u001b[39m\u001b[38;5;124m        \u001b[39m\u001b[38;5;130;01m\\\"\u001b[39;00m\u001b[38;5;124mrmse_th_d_next\u001b[39m\u001b[38;5;130;01m\\\"\u001b[39;00m\u001b[38;5;124m: jnp.sqrt(\u001b[39m\u001b[38;5;130;01m\\n\u001b[39;00m\u001b[38;5;124m\"\u001b[39m,\n\u001b[1;32m    436\u001b[0m     \u001b[38;5;124m\"\u001b[39m\u001b[38;5;124m            mse_loss_fn(preds[\u001b[39m\u001b[38;5;130;01m\\\"\u001b[39;00m\u001b[38;5;124mth_d_next_ss\u001b[39m\u001b[38;5;130;01m\\\"\u001b[39;00m\u001b[38;5;124m], batch[\u001b[39m\u001b[38;5;130;01m\\\"\u001b[39;00m\u001b[38;5;124mth_d_next_ss\u001b[39m\u001b[38;5;130;01m\\\"\u001b[39;00m\u001b[38;5;124m])\u001b[39m\u001b[38;5;130;01m\\n\u001b[39;00m\u001b[38;5;124m\"\u001b[39m,\n\u001b[1;32m    437\u001b[0m     \u001b[38;5;124m\"\u001b[39m\u001b[38;5;124m        ),\u001b[39m\u001b[38;5;130;01m\\n\u001b[39;00m\u001b[38;5;124m\"\u001b[39m,\n\u001b[1;32m    438\u001b[0m     \u001b[38;5;124m\"\u001b[39m\u001b[38;5;124m    }\u001b[39m\u001b[38;5;130;01m\\n\u001b[39;00m\u001b[38;5;124m\"\u001b[39m,\n\u001b[1;32m    439\u001b[0m     \u001b[38;5;124m\"\u001b[39m\u001b[38;5;130;01m\\n\u001b[39;00m\u001b[38;5;124m\"\u001b[39m,\n\u001b[1;32m    440\u001b[0m     \u001b[38;5;124m\"\u001b[39m\u001b[38;5;124m    return metrics\u001b[39m\u001b[38;5;124m\"\u001b[39m\n\u001b[1;32m    441\u001b[0m    ]\n\u001b[1;32m    442\u001b[0m   },\n\u001b[1;32m    443\u001b[0m   {\n\u001b[1;32m    444\u001b[0m    \u001b[38;5;124m\"\u001b[39m\u001b[38;5;124mcell_type\u001b[39m\u001b[38;5;124m\"\u001b[39m: \u001b[38;5;124m\"\u001b[39m\u001b[38;5;124mcode\u001b[39m\u001b[38;5;124m\"\u001b[39m,\n\u001b[1;32m    445\u001b[0m    \u001b[38;5;124m\"\u001b[39m\u001b[38;5;124mexecution_count\u001b[39m\u001b[38;5;124m\"\u001b[39m: \u001b[38;5;241m9\u001b[39m,\n\u001b[1;32m    446\u001b[0m    \u001b[38;5;124m\"\u001b[39m\u001b[38;5;124mid\u001b[39m\u001b[38;5;124m\"\u001b[39m: \u001b[38;5;124m\"\u001b[39m\u001b[38;5;124mb4f4e146\u001b[39m\u001b[38;5;124m\"\u001b[39m,\n\u001b[1;32m    447\u001b[0m    \u001b[38;5;124m\"\u001b[39m\u001b[38;5;124mmetadata\u001b[39m\u001b[38;5;124m\"\u001b[39m: {\n\u001b[1;32m    448\u001b[0m     \u001b[38;5;124m\"\u001b[39m\u001b[38;5;124mdeletable\u001b[39m\u001b[38;5;124m\"\u001b[39m: false,\n\u001b[1;32m    449\u001b[0m     \u001b[38;5;124m\"\u001b[39m\u001b[38;5;124mnbgrader\u001b[39m\u001b[38;5;124m\"\u001b[39m: {\n\u001b[1;32m    450\u001b[0m      \u001b[38;5;124m\"\u001b[39m\u001b[38;5;124mcell_type\u001b[39m\u001b[38;5;124m\"\u001b[39m: \u001b[38;5;124m\"\u001b[39m\u001b[38;5;124mcode\u001b[39m\u001b[38;5;124m\"\u001b[39m,\n\u001b[1;32m    451\u001b[0m      \u001b[38;5;124m\"\u001b[39m\u001b[38;5;124mchecksum\u001b[39m\u001b[38;5;124m\"\u001b[39m: \u001b[38;5;124m\"\u001b[39m\u001b[38;5;124me2619466cd5eba6cf4ad9e634e3db9af\u001b[39m\u001b[38;5;124m\"\u001b[39m,\n\u001b[1;32m    452\u001b[0m      \u001b[38;5;124m\"\u001b[39m\u001b[38;5;124mgrade\u001b[39m\u001b[38;5;124m\"\u001b[39m: false,\n\u001b[1;32m    453\u001b[0m      \u001b[38;5;124m\"\u001b[39m\u001b[38;5;124mgrade_id\u001b[39m\u001b[38;5;124m\"\u001b[39m: \u001b[38;5;124m\"\u001b[39m\u001b[38;5;124mcell-f827fa58e073c7f9\u001b[39m\u001b[38;5;124m\"\u001b[39m,\n\u001b[1;32m    454\u001b[0m      \u001b[38;5;124m\"\u001b[39m\u001b[38;5;124mlocked\u001b[39m\u001b[38;5;124m\"\u001b[39m: false,\n\u001b[1;32m    455\u001b[0m      \u001b[38;5;124m\"\u001b[39m\u001b[38;5;124mschema_version\u001b[39m\u001b[38;5;124m\"\u001b[39m: \u001b[38;5;241m3\u001b[39m,\n\u001b[1;32m    456\u001b[0m      \u001b[38;5;124m\"\u001b[39m\u001b[38;5;124msolution\u001b[39m\u001b[38;5;124m\"\u001b[39m: true,\n\u001b[1;32m    457\u001b[0m      \u001b[38;5;124m\"\u001b[39m\u001b[38;5;124mtask\u001b[39m\u001b[38;5;124m\"\u001b[39m: false\n\u001b[1;32m    458\u001b[0m     }\n\u001b[1;32m    459\u001b[0m    },\n\u001b[1;32m    460\u001b[0m    \u001b[38;5;124m\"\u001b[39m\u001b[38;5;124moutputs\u001b[39m\u001b[38;5;124m\"\u001b[39m: [\n\u001b[1;32m    461\u001b[0m     {\n\u001b[1;32m    462\u001b[0m      \u001b[38;5;124m\"\u001b[39m\u001b[38;5;124mename\u001b[39m\u001b[38;5;124m\"\u001b[39m: \u001b[38;5;124m\"\u001b[39m\u001b[38;5;124mNotImplementedError\u001b[39m\u001b[38;5;124m\"\u001b[39m,\n\u001b[1;32m    463\u001b[0m      \u001b[38;5;124m\"\u001b[39m\u001b[38;5;124mevalue\u001b[39m\u001b[38;5;124m\"\u001b[39m: \u001b[38;5;124m\"\u001b[39m\u001b[38;5;124m\"\u001b[39m,\n\u001b[1;32m    464\u001b[0m      \u001b[38;5;124m\"\u001b[39m\u001b[38;5;124moutput_type\u001b[39m\u001b[38;5;124m\"\u001b[39m: \u001b[38;5;124m\"\u001b[39m\u001b[38;5;124merror\u001b[39m\u001b[38;5;124m\"\u001b[39m,\n\u001b[1;32m    465\u001b[0m      \u001b[38;5;124m\"\u001b[39m\u001b[38;5;124mtraceback\u001b[39m\u001b[38;5;124m\"\u001b[39m: [\n\u001b[1;32m    466\u001b[0m       \u001b[38;5;124m\"\u001b[39m\u001b[38;5;130;01m\\u001b\u001b[39;00m\u001b[38;5;124m[0;31m---------------------------------------------------------------------------\u001b[39m\u001b[38;5;130;01m\\u001b\u001b[39;00m\u001b[38;5;124m[0m\u001b[39m\u001b[38;5;124m\"\u001b[39m,\n\u001b[1;32m    467\u001b[0m       \u001b[38;5;124m\"\u001b[39m\u001b[38;5;130;01m\\u001b\u001b[39;00m\u001b[38;5;124m[0;31mNotImplementedError\u001b[39m\u001b[38;5;130;01m\\u001b\u001b[39;00m\u001b[38;5;124m[0m                       Traceback (most recent call last)\u001b[39m\u001b[38;5;124m\"\u001b[39m,\n\u001b[1;32m    468\u001b[0m       \u001b[38;5;124m\"\u001b[39m\u001b[38;5;124mCell \u001b[39m\u001b[38;5;130;01m\\u001b\u001b[39;00m\u001b[38;5;124m[0;32mIn[9], line 18\u001b[39m\u001b[38;5;130;01m\\u001b\u001b[39;00m\u001b[38;5;124m[0m\u001b[39m\u001b[38;5;130;01m\\n\u001b[39;00m\u001b[38;5;130;01m\\u001b\u001b[39;00m\u001b[38;5;124m[1;32m     16\u001b[39m\u001b[38;5;130;01m\\u001b\u001b[39;00m\u001b[38;5;124m[0m discrete_forward_dynamics_vmapped \u001b[39m\u001b[38;5;130;01m\\u001b\u001b[39;00m\u001b[38;5;124m[38;5;241m=\u001b[39m\u001b[38;5;130;01m\\u001b\u001b[39;00m\u001b[38;5;124m[39m \u001b[39m\u001b[38;5;130;01m\\u001b\u001b[39;00m\u001b[38;5;124m[38;5;28;01mNone\u001b[39m\u001b[38;5;130;01m\\u001b\u001b[39;00m\u001b[38;5;124m[39;00m\u001b[39m\u001b[38;5;130;01m\\n\u001b[39;00m\u001b[38;5;130;01m\\u001b\u001b[39;00m\u001b[38;5;124m[1;32m     17\u001b[39m\u001b[38;5;130;01m\\u001b\u001b[39;00m\u001b[38;5;124m[0m \u001b[39m\u001b[38;5;130;01m\\u001b\u001b[39;00m\u001b[38;5;124m[38;5;66;03m# YOUR CODE HERE\u001b[39m\u001b[38;5;130;01m\\u001b\u001b[39;00m\u001b[38;5;124m[39;00m\u001b[39m\u001b[38;5;130;01m\\n\u001b[39;00m\u001b[38;5;130;01m\\u001b\u001b[39;00m\u001b[38;5;124m[0;32m---> 18\u001b[39m\u001b[38;5;130;01m\\u001b\u001b[39;00m\u001b[38;5;124m[0m \u001b[39m\u001b[38;5;130;01m\\u001b\u001b[39;00m\u001b[38;5;124m[38;5;28;01mraise\u001b[39m\u001b[38;5;130;01m\\u001b\u001b[39;00m\u001b[38;5;124m[39;00m \u001b[39m\u001b[38;5;130;01m\\u001b\u001b[39;00m\u001b[38;5;124m[38;5;167;01mNotImplementedError\u001b[39m\u001b[38;5;130;01m\\u001b\u001b[39;00m\u001b[38;5;124m[39;00m()\u001b[39m\u001b[38;5;130;01m\\n\u001b[39;00m\u001b[38;5;124m\"\u001b[39m,\n\u001b[1;32m    469\u001b[0m       \u001b[38;5;124m\"\u001b[39m\u001b[38;5;130;01m\\u001b\u001b[39;00m\u001b[38;5;124m[0;31mNotImplementedError\u001b[39m\u001b[38;5;130;01m\\u001b\u001b[39;00m\u001b[38;5;124m[0m: \u001b[39m\u001b[38;5;124m\"\u001b[39m\n\u001b[1;32m    470\u001b[0m      ]\n\u001b[1;32m    471\u001b[0m     }\n\u001b[1;32m    472\u001b[0m    ],\n\u001b[1;32m    473\u001b[0m    \u001b[38;5;124m\"\u001b[39m\u001b[38;5;124msource\u001b[39m\u001b[38;5;124m\"\u001b[39m: [\n\u001b[1;32m    474\u001b[0m     \u001b[38;5;124m\"\u001b[39m\u001b[38;5;124m# Vectorize the discrete forward dynamics of the LNN\u001b[39m\u001b[38;5;130;01m\\n\u001b[39;00m\u001b[38;5;124m\"\u001b[39m,\n\u001b[1;32m    475\u001b[0m     \u001b[38;5;124m\"\u001b[39m\u001b[38;5;124m# the discrete forward dynamics for a single state are available through the function `discrete_forward_dynamics`\u001b[39m\u001b[38;5;130;01m\\n\u001b[39;00m\u001b[38;5;124m\"\u001b[39m,\n\u001b[1;32m    476\u001b[0m     \u001b[38;5;124m\"\u001b[39m\u001b[38;5;124m# It should have the following signature\u001b[39m\u001b[38;5;130;01m\\n\u001b[39;00m\u001b[38;5;124m\"\u001b[39m,\n\u001b[1;32m    477\u001b[0m     \u001b[38;5;124m\"\u001b[39m\u001b[38;5;124m#   discrete_forward_dynamics_vmapped(\u001b[39m\u001b[38;5;130;01m\\n\u001b[39;00m\u001b[38;5;124m\"\u001b[39m,\n\u001b[1;32m    478\u001b[0m     \u001b[38;5;124m\"\u001b[39m\u001b[38;5;124m#       mass_matrix_nn_params,\u001b[39m\u001b[38;5;130;01m\\n\u001b[39;00m\u001b[38;5;124m\"\u001b[39m,\n\u001b[1;32m    479\u001b[0m     \u001b[38;5;124m\"\u001b[39m\u001b[38;5;124m#       potential_energy_nn_params,\u001b[39m\u001b[38;5;130;01m\\n\u001b[39;00m\u001b[38;5;124m\"\u001b[39m,\n\u001b[1;32m    480\u001b[0m     \u001b[38;5;124m\"\u001b[39m\u001b[38;5;124m#       dt_ss,\u001b[39m\u001b[38;5;130;01m\\n\u001b[39;00m\u001b[38;5;124m\"\u001b[39m,\n\u001b[1;32m    481\u001b[0m     \u001b[38;5;124m\"\u001b[39m\u001b[38;5;124m#       th_curr_ss,\u001b[39m\u001b[38;5;130;01m\\n\u001b[39;00m\u001b[38;5;124m\"\u001b[39m,\n\u001b[1;32m    482\u001b[0m     \u001b[38;5;124m\"\u001b[39m\u001b[38;5;124m#       th_d_curr_ss,\u001b[39m\u001b[38;5;130;01m\\n\u001b[39;00m\u001b[38;5;124m\"\u001b[39m,\n\u001b[1;32m    483\u001b[0m     \u001b[38;5;124m\"\u001b[39m\u001b[38;5;124m#       tau_ss,\u001b[39m\u001b[38;5;130;01m\\n\u001b[39;00m\u001b[38;5;124m\"\u001b[39m,\n\u001b[1;32m    484\u001b[0m     \u001b[38;5;124m\"\u001b[39m\u001b[38;5;124m#   ) -> th_next_pred_ss, th_d_next_pred_ss, th_dd_ss\u001b[39m\u001b[38;5;130;01m\\n\u001b[39;00m\u001b[38;5;124m\"\u001b[39m,\n\u001b[1;32m    485\u001b[0m     \u001b[38;5;124m\"\u001b[39m\u001b[38;5;124m# where `dt_ss` has the shape (N, ), `th_curr_ss` has the shape (N, 2), `th_d_curr_ss` has the shape (N, 2),\u001b[39m\u001b[38;5;130;01m\\n\u001b[39;00m\u001b[38;5;124m\"\u001b[39m,\n\u001b[1;32m    486\u001b[0m     \u001b[38;5;124m\"\u001b[39m\u001b[38;5;124m# `tau_ss` has the shape (N, 2), `th_next_pred_ss` has the shape (N, 2), `th_d_next_pred_ss` has the shape (N, 2)\u001b[39m\u001b[38;5;130;01m\\n\u001b[39;00m\u001b[38;5;124m\"\u001b[39m,\n\u001b[1;32m    487\u001b[0m     \u001b[38;5;124m\"\u001b[39m\u001b[38;5;124m# `th_dd_ss` has the shape (N, 2). N is the number of samples in the batch.\u001b[39m\u001b[38;5;130;01m\\n\u001b[39;00m\u001b[38;5;124m\"\u001b[39m,\n\u001b[1;32m    488\u001b[0m     \u001b[38;5;124m\"\u001b[39m\u001b[38;5;130;01m\\n\u001b[39;00m\u001b[38;5;124m\"\u001b[39m,\n\u001b[1;32m    489\u001b[0m     \u001b[38;5;124m\"\u001b[39m\u001b[38;5;124mdiscrete_forward_dynamics_vmapped = None\u001b[39m\u001b[38;5;130;01m\\n\u001b[39;00m\u001b[38;5;124m\"\u001b[39m,\n\u001b[1;32m    490\u001b[0m     \u001b[38;5;124m\"\u001b[39m\u001b[38;5;124m# YOUR CODE HERE\u001b[39m\u001b[38;5;130;01m\\n\u001b[39;00m\u001b[38;5;124m\"\u001b[39m,\n\u001b[1;32m    491\u001b[0m     \u001b[38;5;124m\"\u001b[39m\u001b[38;5;124mraise NotImplementedError()\u001b[39m\u001b[38;5;124m\"\u001b[39m\n\u001b[1;32m    492\u001b[0m    ]\n\u001b[1;32m    493\u001b[0m   },\n\u001b[1;32m    494\u001b[0m   {\n\u001b[1;32m    495\u001b[0m    \u001b[38;5;124m\"\u001b[39m\u001b[38;5;124mcell_type\u001b[39m\u001b[38;5;124m\"\u001b[39m: \u001b[38;5;124m\"\u001b[39m\u001b[38;5;124mcode\u001b[39m\u001b[38;5;124m\"\u001b[39m,\n\u001b[1;32m    496\u001b[0m    \u001b[38;5;124m\"\u001b[39m\u001b[38;5;124mexecution_count\u001b[39m\u001b[38;5;124m\"\u001b[39m: null,\n\u001b[1;32m    497\u001b[0m    \u001b[38;5;124m\"\u001b[39m\u001b[38;5;124mid\u001b[39m\u001b[38;5;124m\"\u001b[39m: \u001b[38;5;124m\"\u001b[39m\u001b[38;5;124m7ed752cb\u001b[39m\u001b[38;5;124m\"\u001b[39m,\n\u001b[1;32m    498\u001b[0m    \u001b[38;5;124m\"\u001b[39m\u001b[38;5;124mmetadata\u001b[39m\u001b[38;5;124m\"\u001b[39m: {\n\u001b[1;32m    499\u001b[0m     \u001b[38;5;124m\"\u001b[39m\u001b[38;5;124mdeletable\u001b[39m\u001b[38;5;124m\"\u001b[39m: false,\n\u001b[1;32m    500\u001b[0m     \u001b[38;5;124m\"\u001b[39m\u001b[38;5;124mnbgrader\u001b[39m\u001b[38;5;124m\"\u001b[39m: {\n\u001b[1;32m    501\u001b[0m      \u001b[38;5;124m\"\u001b[39m\u001b[38;5;124mcell_type\u001b[39m\u001b[38;5;124m\"\u001b[39m: \u001b[38;5;124m\"\u001b[39m\u001b[38;5;124mcode\u001b[39m\u001b[38;5;124m\"\u001b[39m,\n\u001b[1;32m    502\u001b[0m      \u001b[38;5;124m\"\u001b[39m\u001b[38;5;124mchecksum\u001b[39m\u001b[38;5;124m\"\u001b[39m: \u001b[38;5;124m\"\u001b[39m\u001b[38;5;124m5e84a275c6d713e8e5eefffa8de65737\u001b[39m\u001b[38;5;124m\"\u001b[39m,\n\u001b[1;32m    503\u001b[0m      \u001b[38;5;124m\"\u001b[39m\u001b[38;5;124mgrade\u001b[39m\u001b[38;5;124m\"\u001b[39m: false,\n\u001b[1;32m    504\u001b[0m      \u001b[38;5;124m\"\u001b[39m\u001b[38;5;124mgrade_id\u001b[39m\u001b[38;5;124m\"\u001b[39m: \u001b[38;5;124m\"\u001b[39m\u001b[38;5;124mcell-fb21bea2fdef56a2\u001b[39m\u001b[38;5;124m\"\u001b[39m,\n\u001b[1;32m    505\u001b[0m      \u001b[38;5;124m\"\u001b[39m\u001b[38;5;124mlocked\u001b[39m\u001b[38;5;124m\"\u001b[39m: false,\n\u001b[1;32m    506\u001b[0m      \u001b[38;5;124m\"\u001b[39m\u001b[38;5;124mschema_version\u001b[39m\u001b[38;5;124m\"\u001b[39m: \u001b[38;5;241m3\u001b[39m,\n\u001b[1;32m    507\u001b[0m      \u001b[38;5;124m\"\u001b[39m\u001b[38;5;124msolution\u001b[39m\u001b[38;5;124m\"\u001b[39m: true,\n\u001b[1;32m    508\u001b[0m      \u001b[38;5;124m\"\u001b[39m\u001b[38;5;124mtask\u001b[39m\u001b[38;5;124m\"\u001b[39m: false\n\u001b[1;32m    509\u001b[0m     }\n\u001b[1;32m    510\u001b[0m    },\n\u001b[1;32m    511\u001b[0m    \u001b[38;5;124m\"\u001b[39m\u001b[38;5;124moutputs\u001b[39m\u001b[38;5;124m\"\u001b[39m: [],\n\u001b[1;32m    512\u001b[0m    \u001b[38;5;124m\"\u001b[39m\u001b[38;5;124msource\u001b[39m\u001b[38;5;124m\"\u001b[39m: [\n\u001b[1;32m    513\u001b[0m     \u001b[38;5;124m\"\u001b[39m\u001b[38;5;124m@partial(\u001b[39m\u001b[38;5;130;01m\\n\u001b[39;00m\u001b[38;5;124m\"\u001b[39m,\n\u001b[1;32m    514\u001b[0m     \u001b[38;5;124m\"\u001b[39m\u001b[38;5;124m    jit,\u001b[39m\u001b[38;5;130;01m\\n\u001b[39;00m\u001b[38;5;124m\"\u001b[39m,\n\u001b[1;32m    515\u001b[0m     \u001b[38;5;124m\"\u001b[39m\u001b[38;5;124m    static_argnums=2,\u001b[39m\u001b[38;5;130;01m\\n\u001b[39;00m\u001b[38;5;124m\"\u001b[39m,\n\u001b[1;32m    516\u001b[0m     \u001b[38;5;124m\"\u001b[39m\u001b[38;5;124m    static_argnames=\u001b[39m\u001b[38;5;130;01m\\\"\u001b[39;00m\u001b[38;5;124mlearning_rate_fn\u001b[39m\u001b[38;5;130;01m\\\"\u001b[39;00m\u001b[38;5;124m,\u001b[39m\u001b[38;5;130;01m\\n\u001b[39;00m\u001b[38;5;124m\"\u001b[39m,\n\u001b[1;32m    517\u001b[0m     \u001b[38;5;124m\"\u001b[39m\u001b[38;5;124m)\u001b[39m\u001b[38;5;130;01m\\n\u001b[39;00m\u001b[38;5;124m\"\u001b[39m,\n\u001b[1;32m    518\u001b[0m     \u001b[38;5;124m\"\u001b[39m\u001b[38;5;124mdef train_step(\u001b[39m\u001b[38;5;130;01m\\n\u001b[39;00m\u001b[38;5;124m\"\u001b[39m,\n\u001b[1;32m    519\u001b[0m     \u001b[38;5;124m\"\u001b[39m\u001b[38;5;124m    states: Dict[str, TrainState],\u001b[39m\u001b[38;5;130;01m\\n\u001b[39;00m\u001b[38;5;124m\"\u001b[39m,\n\u001b[1;32m    520\u001b[0m     \u001b[38;5;124m\"\u001b[39m\u001b[38;5;124m    batch: Dict[str, jnp.ndarray],\u001b[39m\u001b[38;5;130;01m\\n\u001b[39;00m\u001b[38;5;124m\"\u001b[39m,\n\u001b[1;32m    521\u001b[0m     \u001b[38;5;124m\"\u001b[39m\u001b[38;5;124m    learning_rate_fn: Callable,\u001b[39m\u001b[38;5;130;01m\\n\u001b[39;00m\u001b[38;5;124m\"\u001b[39m,\n\u001b[1;32m    522\u001b[0m     \u001b[38;5;124m\"\u001b[39m\u001b[38;5;124m) -> Tuple[Dict[str, TrainState], Dict[str, jnp.ndarray]]:\u001b[39m\u001b[38;5;130;01m\\n\u001b[39;00m\u001b[38;5;124m\"\u001b[39m,\n\u001b[1;32m    523\u001b[0m     \u001b[38;5;124m\"\u001b[39m\u001b[38;5;124m    \u001b[39m\u001b[38;5;130;01m\\\"\u001b[39;00m\u001b[38;5;130;01m\\\"\u001b[39;00m\u001b[38;5;130;01m\\\"\u001b[39;00m\u001b[38;5;130;01m\\n\u001b[39;00m\u001b[38;5;124m\"\u001b[39m,\n\u001b[1;32m    524\u001b[0m     \u001b[38;5;124m\"\u001b[39m\u001b[38;5;124m    Trains the neural network for one step.\u001b[39m\u001b[38;5;130;01m\\n\u001b[39;00m\u001b[38;5;124m\"\u001b[39m,\n\u001b[1;32m    525\u001b[0m     \u001b[38;5;124m\"\u001b[39m\u001b[38;5;124m    Args:\u001b[39m\u001b[38;5;130;01m\\n\u001b[39;00m\u001b[38;5;124m\"\u001b[39m,\n\u001b[1;32m    526\u001b[0m     \u001b[38;5;124m\"\u001b[39m\u001b[38;5;124m        states: Dictionary containing the current states of the training of the two neural networks\u001b[39m\u001b[38;5;130;01m\\n\u001b[39;00m\u001b[38;5;124m\"\u001b[39m,\n\u001b[1;32m    527\u001b[0m     \u001b[38;5;124m\"\u001b[39m\u001b[38;5;124m            Entries of dictionary:\u001b[39m\u001b[38;5;130;01m\\n\u001b[39;00m\u001b[38;5;124m\"\u001b[39m,\n\u001b[1;32m    528\u001b[0m     \u001b[38;5;124m\"\u001b[39m\u001b[38;5;124m                - MassMatrixNN: TrainState of the mass matrix neural network\u001b[39m\u001b[38;5;130;01m\\n\u001b[39;00m\u001b[38;5;124m\"\u001b[39m,\n\u001b[1;32m    529\u001b[0m     \u001b[38;5;124m\"\u001b[39m\u001b[38;5;124m                - PotentialEnergyNN: TrainState of the potential energy neural network\u001b[39m\u001b[38;5;130;01m\\n\u001b[39;00m\u001b[38;5;124m\"\u001b[39m,\n\u001b[1;32m    530\u001b[0m     \u001b[38;5;124m\"\u001b[39m\u001b[38;5;124m        batch: dictionary of batch data\u001b[39m\u001b[38;5;130;01m\\n\u001b[39;00m\u001b[38;5;124m\"\u001b[39m,\n\u001b[1;32m    531\u001b[0m     \u001b[38;5;124m\"\u001b[39m\u001b[38;5;124m        learning_rate_fn: A function that takes the current step and returns the current learning rate.\u001b[39m\u001b[38;5;130;01m\\n\u001b[39;00m\u001b[38;5;124m\"\u001b[39m,\n\u001b[1;32m    532\u001b[0m     \u001b[38;5;124m\"\u001b[39m\u001b[38;5;124m            It has the signature learning_rate_fn(step: int) -> lr.\u001b[39m\u001b[38;5;130;01m\\n\u001b[39;00m\u001b[38;5;124m\"\u001b[39m,\n\u001b[1;32m    533\u001b[0m     \u001b[38;5;124m\"\u001b[39m\u001b[38;5;124m    Returns:\u001b[39m\u001b[38;5;130;01m\\n\u001b[39;00m\u001b[38;5;124m\"\u001b[39m,\n\u001b[1;32m    534\u001b[0m     \u001b[38;5;124m\"\u001b[39m\u001b[38;5;124m        states: Dictionary of updated training states\u001b[39m\u001b[38;5;130;01m\\n\u001b[39;00m\u001b[38;5;124m\"\u001b[39m,\n\u001b[1;32m    535\u001b[0m     \u001b[38;5;124m\"\u001b[39m\u001b[38;5;124m            Entries of dictionary:\u001b[39m\u001b[38;5;130;01m\\n\u001b[39;00m\u001b[38;5;124m\"\u001b[39m,\n\u001b[1;32m    536\u001b[0m     \u001b[38;5;124m\"\u001b[39m\u001b[38;5;124m                - MassMatrixNN: TrainState of the mass matrix neural network\u001b[39m\u001b[38;5;130;01m\\n\u001b[39;00m\u001b[38;5;124m\"\u001b[39m,\n\u001b[1;32m    537\u001b[0m     \u001b[38;5;124m\"\u001b[39m\u001b[38;5;124m                - PotentialEnergyNN: TrainState of the potential energy neural network\u001b[39m\u001b[38;5;130;01m\\n\u001b[39;00m\u001b[38;5;124m\"\u001b[39m,\n\u001b[1;32m    538\u001b[0m     \u001b[38;5;124m\"\u001b[39m\u001b[38;5;124m        metrics: Dictionary of training metrics\u001b[39m\u001b[38;5;130;01m\\n\u001b[39;00m\u001b[38;5;124m\"\u001b[39m,\n\u001b[1;32m    539\u001b[0m     \u001b[38;5;124m\"\u001b[39m\u001b[38;5;124m    \u001b[39m\u001b[38;5;130;01m\\\"\u001b[39;00m\u001b[38;5;130;01m\\\"\u001b[39;00m\u001b[38;5;130;01m\\\"\u001b[39;00m\u001b[38;5;130;01m\\n\u001b[39;00m\u001b[38;5;124m\"\u001b[39m,\n\u001b[1;32m    540\u001b[0m     \u001b[38;5;124m\"\u001b[39m\u001b[38;5;130;01m\\n\u001b[39;00m\u001b[38;5;124m\"\u001b[39m,\n\u001b[1;32m    541\u001b[0m     \u001b[38;5;124m\"\u001b[39m\u001b[38;5;124m    def loss_fn(\u001b[39m\u001b[38;5;130;01m\\n\u001b[39;00m\u001b[38;5;124m\"\u001b[39m,\n\u001b[1;32m    542\u001b[0m     \u001b[38;5;124m\"\u001b[39m\u001b[38;5;124m        mass_matrix_nn_params: Dict, potential_energy_nn_params: Dict\u001b[39m\u001b[38;5;130;01m\\n\u001b[39;00m\u001b[38;5;124m\"\u001b[39m,\n\u001b[1;32m    543\u001b[0m     \u001b[38;5;124m\"\u001b[39m\u001b[38;5;124m    ) -> Tuple[jnp.ndarray, Dict[str, jnp.ndarray]]:\u001b[39m\u001b[38;5;130;01m\\n\u001b[39;00m\u001b[38;5;124m\"\u001b[39m,\n\u001b[1;32m    544\u001b[0m     \u001b[38;5;124m\"\u001b[39m\u001b[38;5;124m        \u001b[39m\u001b[38;5;130;01m\\\"\u001b[39;00m\u001b[38;5;130;01m\\\"\u001b[39;00m\u001b[38;5;130;01m\\\"\u001b[39;00m\u001b[38;5;130;01m\\n\u001b[39;00m\u001b[38;5;124m\"\u001b[39m,\n\u001b[1;32m    545\u001b[0m     \u001b[38;5;124m\"\u001b[39m\u001b[38;5;124m        Loss function to train the neural network.\u001b[39m\u001b[38;5;130;01m\\n\u001b[39;00m\u001b[38;5;124m\"\u001b[39m,\n\u001b[1;32m    546\u001b[0m     \u001b[38;5;124m\"\u001b[39m\u001b[38;5;124m        Args:\u001b[39m\u001b[38;5;130;01m\\n\u001b[39;00m\u001b[38;5;124m\"\u001b[39m,\n\u001b[1;32m    547\u001b[0m     \u001b[38;5;124m\"\u001b[39m\u001b[38;5;124m            mass_matrix_nn_params: Parameters of the mass matrix neural network.\u001b[39m\u001b[38;5;130;01m\\n\u001b[39;00m\u001b[38;5;124m\"\u001b[39m,\n\u001b[1;32m    548\u001b[0m     \u001b[38;5;124m\"\u001b[39m\u001b[38;5;124m            potential_energy_nn_params: Parameters of the potential energy neural network.\u001b[39m\u001b[38;5;130;01m\\n\u001b[39;00m\u001b[38;5;124m\"\u001b[39m,\n\u001b[1;32m    549\u001b[0m     \u001b[38;5;124m\"\u001b[39m\u001b[38;5;124m        Returns:\u001b[39m\u001b[38;5;130;01m\\n\u001b[39;00m\u001b[38;5;124m\"\u001b[39m,\n\u001b[1;32m    550\u001b[0m     \u001b[38;5;124m\"\u001b[39m\u001b[38;5;124m            loss: Mean squared error between the predicted and target link angular velocities at the next timestep.\u001b[39m\u001b[38;5;130;01m\\n\u001b[39;00m\u001b[38;5;124m\"\u001b[39m,\n\u001b[1;32m    551\u001b[0m     \u001b[38;5;124m\"\u001b[39m\u001b[38;5;124m            preds: Dictionary of batch predictions (i.e. outputs of the neural network) with keys:\u001b[39m\u001b[38;5;130;01m\\n\u001b[39;00m\u001b[38;5;124m\"\u001b[39m,\n\u001b[1;32m    552\u001b[0m     \u001b[38;5;124m\"\u001b[39m\u001b[38;5;124m        \u001b[39m\u001b[38;5;130;01m\\\"\u001b[39;00m\u001b[38;5;130;01m\\\"\u001b[39;00m\u001b[38;5;130;01m\\\"\u001b[39;00m\u001b[38;5;130;01m\\n\u001b[39;00m\u001b[38;5;124m\"\u001b[39m,\n\u001b[1;32m    553\u001b[0m     \u001b[38;5;124m\"\u001b[39m\u001b[38;5;130;01m\\n\u001b[39;00m\u001b[38;5;124m\"\u001b[39m,\n\u001b[1;32m    554\u001b[0m     \u001b[38;5;124m\"\u001b[39m\u001b[38;5;124m        # Compute the estimated link angles and velocities\u001b[39m\u001b[38;5;130;01m\\n\u001b[39;00m\u001b[38;5;124m\"\u001b[39m,\n\u001b[1;32m    555\u001b[0m     \u001b[38;5;124m\"\u001b[39m\u001b[38;5;124m        # save the batch of predicted link angles, velocities at the next timestep and the link angular\u001b[39m\u001b[38;5;130;01m\\n\u001b[39;00m\u001b[38;5;124m\"\u001b[39m,\n\u001b[1;32m    556\u001b[0m     \u001b[38;5;124m\"\u001b[39m\u001b[38;5;124m        # accelerations into the variables `th_next_pred_ss`, `th_d_next_pred_ss`, and `th_dd_pred_ss`\u001b[39m\u001b[38;5;130;01m\\n\u001b[39;00m\u001b[38;5;124m\"\u001b[39m,\n\u001b[1;32m    557\u001b[0m     \u001b[38;5;124m\"\u001b[39m\u001b[38;5;124m        # Hint: use `discrete_forward_dynamics_vmapped`\u001b[39m\u001b[38;5;130;01m\\n\u001b[39;00m\u001b[38;5;124m\"\u001b[39m,\n\u001b[1;32m    558\u001b[0m     \u001b[38;5;124m\"\u001b[39m\u001b[38;5;124m        _th_next_pred_ss = jnp.zeros_like(batch[\u001b[39m\u001b[38;5;130;01m\\\"\u001b[39;00m\u001b[38;5;124mth_curr_ss\u001b[39m\u001b[38;5;130;01m\\\"\u001b[39;00m\u001b[38;5;124m])\u001b[39m\u001b[38;5;130;01m\\n\u001b[39;00m\u001b[38;5;124m\"\u001b[39m,\n\u001b[1;32m    559\u001b[0m     \u001b[38;5;124m\"\u001b[39m\u001b[38;5;124m        _th_d_next_pred_ss = jnp.zeros_like(batch[\u001b[39m\u001b[38;5;130;01m\\\"\u001b[39;00m\u001b[38;5;124mth_d_curr_ss\u001b[39m\u001b[38;5;130;01m\\\"\u001b[39;00m\u001b[38;5;124m])\u001b[39m\u001b[38;5;130;01m\\n\u001b[39;00m\u001b[38;5;124m\"\u001b[39m,\n\u001b[1;32m    560\u001b[0m     \u001b[38;5;124m\"\u001b[39m\u001b[38;5;124m        _th_dd_pred_ss = jnp.zeros_like(batch[\u001b[39m\u001b[38;5;130;01m\\\"\u001b[39;00m\u001b[38;5;124mth_curr_ss\u001b[39m\u001b[38;5;130;01m\\\"\u001b[39;00m\u001b[38;5;124m])\u001b[39m\u001b[38;5;130;01m\\n\u001b[39;00m\u001b[38;5;124m\"\u001b[39m,\n\u001b[1;32m    561\u001b[0m     \u001b[38;5;124m\"\u001b[39m\u001b[38;5;124m        # YOUR CODE HERE\u001b[39m\u001b[38;5;130;01m\\n\u001b[39;00m\u001b[38;5;124m\"\u001b[39m,\n\u001b[1;32m    562\u001b[0m     \u001b[38;5;124m\"\u001b[39m\u001b[38;5;124m        raise NotImplementedError()\u001b[39m\u001b[38;5;130;01m\\n\u001b[39;00m\u001b[38;5;124m\"\u001b[39m,\n\u001b[1;32m    563\u001b[0m     \u001b[38;5;124m\"\u001b[39m\u001b[38;5;130;01m\\n\u001b[39;00m\u001b[38;5;124m\"\u001b[39m,\n\u001b[1;32m    564\u001b[0m     \u001b[38;5;124m\"\u001b[39m\u001b[38;5;124m        # Compute the MSE loss on the predicted link angular velocities at the next timestep\u001b[39m\u001b[38;5;130;01m\\n\u001b[39;00m\u001b[38;5;124m\"\u001b[39m,\n\u001b[1;32m    565\u001b[0m     \u001b[38;5;124m\"\u001b[39m\u001b[38;5;124m        _loss = jnp.array(0.0)\u001b[39m\u001b[38;5;130;01m\\n\u001b[39;00m\u001b[38;5;124m\"\u001b[39m,\n\u001b[1;32m    566\u001b[0m     \u001b[38;5;124m\"\u001b[39m\u001b[38;5;124m        # YOUR CODE HERE\u001b[39m\u001b[38;5;130;01m\\n\u001b[39;00m\u001b[38;5;124m\"\u001b[39m,\n\u001b[1;32m    567\u001b[0m     \u001b[38;5;124m\"\u001b[39m\u001b[38;5;124m        raise NotImplementedError()\u001b[39m\u001b[38;5;130;01m\\n\u001b[39;00m\u001b[38;5;124m\"\u001b[39m,\n\u001b[1;32m    568\u001b[0m     \u001b[38;5;124m\"\u001b[39m\u001b[38;5;130;01m\\n\u001b[39;00m\u001b[38;5;124m\"\u001b[39m,\n\u001b[1;32m    569\u001b[0m     \u001b[38;5;124m\"\u001b[39m\u001b[38;5;124m        # write the predictions into a dictionary\u001b[39m\u001b[38;5;130;01m\\n\u001b[39;00m\u001b[38;5;124m\"\u001b[39m,\n\u001b[1;32m    570\u001b[0m     \u001b[38;5;124m\"\u001b[39m\u001b[38;5;124m        _preds = \u001b[39m\u001b[38;5;124m{\u001b[39m\u001b[38;5;130;01m\\n\u001b[39;00m\u001b[38;5;124m\"\u001b[39m,\n\u001b[1;32m    571\u001b[0m     \u001b[38;5;124m\"\u001b[39m\u001b[38;5;124m            \u001b[39m\u001b[38;5;130;01m\\\"\u001b[39;00m\u001b[38;5;124mth_next_ss\u001b[39m\u001b[38;5;130;01m\\\"\u001b[39;00m\u001b[38;5;124m: _th_next_pred_ss,\u001b[39m\u001b[38;5;130;01m\\n\u001b[39;00m\u001b[38;5;124m\"\u001b[39m,\n\u001b[1;32m    572\u001b[0m     \u001b[38;5;124m\"\u001b[39m\u001b[38;5;124m            \u001b[39m\u001b[38;5;130;01m\\\"\u001b[39;00m\u001b[38;5;124mth_d_next_ss\u001b[39m\u001b[38;5;130;01m\\\"\u001b[39;00m\u001b[38;5;124m: _th_d_next_pred_ss,\u001b[39m\u001b[38;5;130;01m\\n\u001b[39;00m\u001b[38;5;124m\"\u001b[39m,\n\u001b[1;32m    573\u001b[0m     \u001b[38;5;124m\"\u001b[39m\u001b[38;5;124m            \u001b[39m\u001b[38;5;130;01m\\\"\u001b[39;00m\u001b[38;5;124mth_dd_ss\u001b[39m\u001b[38;5;130;01m\\\"\u001b[39;00m\u001b[38;5;124m: _th_dd_pred_ss,\u001b[39m\u001b[38;5;130;01m\\n\u001b[39;00m\u001b[38;5;124m\"\u001b[39m,\n\u001b[1;32m    574\u001b[0m     \u001b[38;5;124m\"\u001b[39m\u001b[38;5;124m        }\u001b[39m\u001b[38;5;130;01m\\n\u001b[39;00m\u001b[38;5;124m\"\u001b[39m,\n\u001b[1;32m    575\u001b[0m     \u001b[38;5;124m\"\u001b[39m\u001b[38;5;130;01m\\n\u001b[39;00m\u001b[38;5;124m\"\u001b[39m,\n\u001b[1;32m    576\u001b[0m     \u001b[38;5;124m\"\u001b[39m\u001b[38;5;124m        return _loss, _preds\u001b[39m\u001b[38;5;130;01m\\n\u001b[39;00m\u001b[38;5;124m\"\u001b[39m,\n\u001b[1;32m    577\u001b[0m     \u001b[38;5;124m\"\u001b[39m\u001b[38;5;130;01m\\n\u001b[39;00m\u001b[38;5;124m\"\u001b[39m,\n\u001b[1;32m    578\u001b[0m     \u001b[38;5;124m\"\u001b[39m\u001b[38;5;124m    # compute loss and gradients with respect to the parameters of the two neural networks\u001b[39m\u001b[38;5;130;01m\\n\u001b[39;00m\u001b[38;5;124m\"\u001b[39m,\n\u001b[1;32m    579\u001b[0m     \u001b[38;5;124m\"\u001b[39m\u001b[38;5;124m    # save the loss to `loss`, the dictionary with predictions to `preds`\u001b[39m\u001b[38;5;130;01m\\n\u001b[39;00m\u001b[38;5;124m\"\u001b[39m,\n\u001b[1;32m    580\u001b[0m     \u001b[38;5;124m\"\u001b[39m\u001b[38;5;124m    # save the gradients to `grad_mass_matrix_nn` and `grad_potential_energy_nn`\u001b[39m\u001b[38;5;130;01m\\n\u001b[39;00m\u001b[38;5;124m\"\u001b[39m,\n\u001b[1;32m    581\u001b[0m     \u001b[38;5;124m\"\u001b[39m\u001b[38;5;124m    # Hint: look at the `TrainState` source code to find-out how to access the NN params from the\u001b[39m\u001b[38;5;130;01m\\n\u001b[39;00m\u001b[38;5;124m\"\u001b[39m,\n\u001b[1;32m    582\u001b[0m     \u001b[38;5;124m\"\u001b[39m\u001b[38;5;124m    # TrainState object.\u001b[39m\u001b[38;5;130;01m\\n\u001b[39;00m\u001b[38;5;124m\"\u001b[39m,\n\u001b[1;32m    583\u001b[0m     \u001b[38;5;124m\"\u001b[39m\u001b[38;5;124m    # https://flax.readthedocs.io/en/latest/_modules/flax/training/train_state.html\u001b[39m\u001b[38;5;130;01m\\n\u001b[39;00m\u001b[38;5;124m\"\u001b[39m,\n\u001b[1;32m    584\u001b[0m     \u001b[38;5;124m\"\u001b[39m\u001b[38;5;124m    # Hint: consider using `jax.value_and_grad` to get the loss and its gradient with respect to the NN parameters\u001b[39m\u001b[38;5;130;01m\\n\u001b[39;00m\u001b[38;5;124m\"\u001b[39m,\n\u001b[1;32m    585\u001b[0m     \u001b[38;5;124m\"\u001b[39m\u001b[38;5;124m    loss = jnp.array(0.0)\u001b[39m\u001b[38;5;130;01m\\n\u001b[39;00m\u001b[38;5;124m\"\u001b[39m,\n\u001b[1;32m    586\u001b[0m     \u001b[38;5;124m\"\u001b[39m\u001b[38;5;124m    grad_mass_matrix_nn, grad_potential_energy_nn = None, None\u001b[39m\u001b[38;5;130;01m\\n\u001b[39;00m\u001b[38;5;124m\"\u001b[39m,\n\u001b[1;32m    587\u001b[0m     \u001b[38;5;124m\"\u001b[39m\u001b[38;5;124m    # YOUR CODE HERE\u001b[39m\u001b[38;5;130;01m\\n\u001b[39;00m\u001b[38;5;124m\"\u001b[39m,\n\u001b[1;32m    588\u001b[0m     \u001b[38;5;124m\"\u001b[39m\u001b[38;5;124m    raise NotImplementedError()\u001b[39m\u001b[38;5;130;01m\\n\u001b[39;00m\u001b[38;5;124m\"\u001b[39m,\n\u001b[1;32m    589\u001b[0m     \u001b[38;5;124m\"\u001b[39m\u001b[38;5;130;01m\\n\u001b[39;00m\u001b[38;5;124m\"\u001b[39m,\n\u001b[1;32m    590\u001b[0m     \u001b[38;5;124m\"\u001b[39m\u001b[38;5;124m    # optimize the mass matrix neural network parameters with gradient descent\u001b[39m\u001b[38;5;130;01m\\n\u001b[39;00m\u001b[38;5;124m\"\u001b[39m,\n\u001b[1;32m    591\u001b[0m     \u001b[38;5;124m\"\u001b[39m\u001b[38;5;124m    states[\u001b[39m\u001b[38;5;130;01m\\\"\u001b[39;00m\u001b[38;5;124mMassMatrixNN\u001b[39m\u001b[38;5;130;01m\\\"\u001b[39;00m\u001b[38;5;124m] = states[\u001b[39m\u001b[38;5;130;01m\\\"\u001b[39;00m\u001b[38;5;124mMassMatrixNN\u001b[39m\u001b[38;5;130;01m\\\"\u001b[39;00m\u001b[38;5;124m].apply_gradients(\u001b[39m\u001b[38;5;130;01m\\n\u001b[39;00m\u001b[38;5;124m\"\u001b[39m,\n\u001b[1;32m    592\u001b[0m     \u001b[38;5;124m\"\u001b[39m\u001b[38;5;124m        grads=grad_mass_matrix_nn\u001b[39m\u001b[38;5;130;01m\\n\u001b[39;00m\u001b[38;5;124m\"\u001b[39m,\n\u001b[1;32m    593\u001b[0m     \u001b[38;5;124m\"\u001b[39m\u001b[38;5;124m    )\u001b[39m\u001b[38;5;130;01m\\n\u001b[39;00m\u001b[38;5;124m\"\u001b[39m,\n\u001b[1;32m    594\u001b[0m     \u001b[38;5;124m\"\u001b[39m\u001b[38;5;124m    # optimize the potential energy neural network parameters with gradient descent\u001b[39m\u001b[38;5;130;01m\\n\u001b[39;00m\u001b[38;5;124m\"\u001b[39m,\n\u001b[1;32m    595\u001b[0m     \u001b[38;5;124m\"\u001b[39m\u001b[38;5;124m    states[\u001b[39m\u001b[38;5;130;01m\\\"\u001b[39;00m\u001b[38;5;124mPotentialEnergyNN\u001b[39m\u001b[38;5;130;01m\\\"\u001b[39;00m\u001b[38;5;124m] = states[\u001b[39m\u001b[38;5;130;01m\\\"\u001b[39;00m\u001b[38;5;124mPotentialEnergyNN\u001b[39m\u001b[38;5;130;01m\\\"\u001b[39;00m\u001b[38;5;124m].apply_gradients(\u001b[39m\u001b[38;5;130;01m\\n\u001b[39;00m\u001b[38;5;124m\"\u001b[39m,\n\u001b[1;32m    596\u001b[0m     \u001b[38;5;124m\"\u001b[39m\u001b[38;5;124m        grads=grad_potential_energy_nn\u001b[39m\u001b[38;5;130;01m\\n\u001b[39;00m\u001b[38;5;124m\"\u001b[39m,\n\u001b[1;32m    597\u001b[0m     \u001b[38;5;124m\"\u001b[39m\u001b[38;5;124m    )\u001b[39m\u001b[38;5;130;01m\\n\u001b[39;00m\u001b[38;5;124m\"\u001b[39m,\n\u001b[1;32m    598\u001b[0m     \u001b[38;5;124m\"\u001b[39m\u001b[38;5;130;01m\\n\u001b[39;00m\u001b[38;5;124m\"\u001b[39m,\n\u001b[1;32m    599\u001b[0m     \u001b[38;5;124m\"\u001b[39m\u001b[38;5;124m    # compute metrics\u001b[39m\u001b[38;5;130;01m\\n\u001b[39;00m\u001b[38;5;124m\"\u001b[39m,\n\u001b[1;32m    600\u001b[0m     \u001b[38;5;124m\"\u001b[39m\u001b[38;5;124m    metrics = compute_metrics(batch, preds)\u001b[39m\u001b[38;5;130;01m\\n\u001b[39;00m\u001b[38;5;124m\"\u001b[39m,\n\u001b[1;32m    601\u001b[0m     \u001b[38;5;124m\"\u001b[39m\u001b[38;5;124m    metrics[\u001b[39m\u001b[38;5;130;01m\\\"\u001b[39;00m\u001b[38;5;124mloss\u001b[39m\u001b[38;5;130;01m\\\"\u001b[39;00m\u001b[38;5;124m] = loss\u001b[39m\u001b[38;5;130;01m\\n\u001b[39;00m\u001b[38;5;124m\"\u001b[39m,\n\u001b[1;32m    602\u001b[0m     \u001b[38;5;124m\"\u001b[39m\u001b[38;5;124m    # save the currently active learning rates to the `metrics` dictionary\u001b[39m\u001b[38;5;130;01m\\n\u001b[39;00m\u001b[38;5;124m\"\u001b[39m,\n\u001b[1;32m    603\u001b[0m     \u001b[38;5;124m\"\u001b[39m\u001b[38;5;124m    metrics[\u001b[39m\u001b[38;5;130;01m\\\"\u001b[39;00m\u001b[38;5;124mlr_mass_matrix_nn\u001b[39m\u001b[38;5;130;01m\\\"\u001b[39;00m\u001b[38;5;124m] = learning_rate_fn(states[\u001b[39m\u001b[38;5;130;01m\\\"\u001b[39;00m\u001b[38;5;124mMassMatrixNN\u001b[39m\u001b[38;5;130;01m\\\"\u001b[39;00m\u001b[38;5;124m].step)\u001b[39m\u001b[38;5;130;01m\\n\u001b[39;00m\u001b[38;5;124m\"\u001b[39m,\n\u001b[1;32m    604\u001b[0m     \u001b[38;5;124m\"\u001b[39m\u001b[38;5;124m    metrics[\u001b[39m\u001b[38;5;130;01m\\\"\u001b[39;00m\u001b[38;5;124mlr_potential_energy_nn\u001b[39m\u001b[38;5;130;01m\\\"\u001b[39;00m\u001b[38;5;124m] = learning_rate_fn(\u001b[39m\u001b[38;5;130;01m\\n\u001b[39;00m\u001b[38;5;124m\"\u001b[39m,\n\u001b[1;32m    605\u001b[0m     \u001b[38;5;124m\"\u001b[39m\u001b[38;5;124m        states[\u001b[39m\u001b[38;5;130;01m\\\"\u001b[39;00m\u001b[38;5;124mPotentialEnergyNN\u001b[39m\u001b[38;5;130;01m\\\"\u001b[39;00m\u001b[38;5;124m].step\u001b[39m\u001b[38;5;130;01m\\n\u001b[39;00m\u001b[38;5;124m\"\u001b[39m,\n\u001b[1;32m    606\u001b[0m     \u001b[38;5;124m\"\u001b[39m\u001b[38;5;124m    )\u001b[39m\u001b[38;5;130;01m\\n\u001b[39;00m\u001b[38;5;124m\"\u001b[39m,\n\u001b[1;32m    607\u001b[0m     \u001b[38;5;124m\"\u001b[39m\u001b[38;5;130;01m\\n\u001b[39;00m\u001b[38;5;124m\"\u001b[39m,\n\u001b[1;32m    608\u001b[0m     \u001b[38;5;124m\"\u001b[39m\u001b[38;5;124m    return states, metrics\u001b[39m\u001b[38;5;124m\"\u001b[39m\n\u001b[1;32m    609\u001b[0m    ]\n\u001b[1;32m    610\u001b[0m   },\n\u001b[1;32m    611\u001b[0m   {\n\u001b[1;32m    612\u001b[0m    \u001b[38;5;124m\"\u001b[39m\u001b[38;5;124mcell_type\u001b[39m\u001b[38;5;124m\"\u001b[39m: \u001b[38;5;124m\"\u001b[39m\u001b[38;5;124mcode\u001b[39m\u001b[38;5;124m\"\u001b[39m,\n\u001b[1;32m    613\u001b[0m    \u001b[38;5;124m\"\u001b[39m\u001b[38;5;124mexecution_count\u001b[39m\u001b[38;5;124m\"\u001b[39m: null,\n\u001b[1;32m    614\u001b[0m    \u001b[38;5;124m\"\u001b[39m\u001b[38;5;124mid\u001b[39m\u001b[38;5;124m\"\u001b[39m: \u001b[38;5;124m\"\u001b[39m\u001b[38;5;124m754e0c01\u001b[39m\u001b[38;5;124m\"\u001b[39m,\n\u001b[1;32m    615\u001b[0m    \u001b[38;5;124m\"\u001b[39m\u001b[38;5;124mmetadata\u001b[39m\u001b[38;5;124m\"\u001b[39m: {\n\u001b[1;32m    616\u001b[0m     \u001b[38;5;124m\"\u001b[39m\u001b[38;5;124mdeletable\u001b[39m\u001b[38;5;124m\"\u001b[39m: false,\n\u001b[1;32m    617\u001b[0m     \u001b[38;5;124m\"\u001b[39m\u001b[38;5;124mnbgrader\u001b[39m\u001b[38;5;124m\"\u001b[39m: {\n\u001b[1;32m    618\u001b[0m      \u001b[38;5;124m\"\u001b[39m\u001b[38;5;124mcell_type\u001b[39m\u001b[38;5;124m\"\u001b[39m: \u001b[38;5;124m\"\u001b[39m\u001b[38;5;124mcode\u001b[39m\u001b[38;5;124m\"\u001b[39m,\n\u001b[1;32m    619\u001b[0m      \u001b[38;5;124m\"\u001b[39m\u001b[38;5;124mchecksum\u001b[39m\u001b[38;5;124m\"\u001b[39m: \u001b[38;5;124m\"\u001b[39m\u001b[38;5;124mc9e1120830311c039d9e5e8410cb9f90\u001b[39m\u001b[38;5;124m\"\u001b[39m,\n\u001b[1;32m    620\u001b[0m      \u001b[38;5;124m\"\u001b[39m\u001b[38;5;124mgrade\u001b[39m\u001b[38;5;124m\"\u001b[39m: false,\n\u001b[1;32m    621\u001b[0m      \u001b[38;5;124m\"\u001b[39m\u001b[38;5;124mgrade_id\u001b[39m\u001b[38;5;124m\"\u001b[39m: \u001b[38;5;124m\"\u001b[39m\u001b[38;5;124mcell-9f7acb72550a6621\u001b[39m\u001b[38;5;124m\"\u001b[39m,\n\u001b[1;32m    622\u001b[0m      \u001b[38;5;124m\"\u001b[39m\u001b[38;5;124mlocked\u001b[39m\u001b[38;5;124m\"\u001b[39m: false,\n\u001b[1;32m    623\u001b[0m      \u001b[38;5;124m\"\u001b[39m\u001b[38;5;124mschema_version\u001b[39m\u001b[38;5;124m\"\u001b[39m: \u001b[38;5;241m3\u001b[39m,\n\u001b[1;32m    624\u001b[0m      \u001b[38;5;124m\"\u001b[39m\u001b[38;5;124msolution\u001b[39m\u001b[38;5;124m\"\u001b[39m: true,\n\u001b[1;32m    625\u001b[0m      \u001b[38;5;124m\"\u001b[39m\u001b[38;5;124mtask\u001b[39m\u001b[38;5;124m\"\u001b[39m: false\n\u001b[1;32m    626\u001b[0m     }\n\u001b[1;32m    627\u001b[0m    },\n\u001b[1;32m    628\u001b[0m    \u001b[38;5;124m\"\u001b[39m\u001b[38;5;124moutputs\u001b[39m\u001b[38;5;124m\"\u001b[39m: [],\n\u001b[1;32m    629\u001b[0m    \u001b[38;5;124m\"\u001b[39m\u001b[38;5;124msource\u001b[39m\u001b[38;5;124m\"\u001b[39m: [\n\u001b[1;32m    630\u001b[0m     \u001b[38;5;124m\"\u001b[39m\u001b[38;5;124m@jit\u001b[39m\u001b[38;5;130;01m\\n\u001b[39;00m\u001b[38;5;124m\"\u001b[39m,\n\u001b[1;32m    631\u001b[0m     \u001b[38;5;124m\"\u001b[39m\u001b[38;5;124mdef eval_step(\u001b[39m\u001b[38;5;130;01m\\n\u001b[39;00m\u001b[38;5;124m\"\u001b[39m,\n\u001b[1;32m    632\u001b[0m     \u001b[38;5;124m\"\u001b[39m\u001b[38;5;124m    states: Dict[str, TrainState], batch: Dict[str, jnp.ndarray]\u001b[39m\u001b[38;5;130;01m\\n\u001b[39;00m\u001b[38;5;124m\"\u001b[39m,\n\u001b[1;32m    633\u001b[0m     \u001b[38;5;124m\"\u001b[39m\u001b[38;5;124m) -> Dict[str, jnp.ndarray]:\u001b[39m\u001b[38;5;130;01m\\n\u001b[39;00m\u001b[38;5;124m\"\u001b[39m,\n\u001b[1;32m    634\u001b[0m     \u001b[38;5;124m\"\u001b[39m\u001b[38;5;124m    \u001b[39m\u001b[38;5;130;01m\\\"\u001b[39;00m\u001b[38;5;130;01m\\\"\u001b[39;00m\u001b[38;5;130;01m\\\"\u001b[39;00m\u001b[38;5;130;01m\\n\u001b[39;00m\u001b[38;5;124m\"\u001b[39m,\n\u001b[1;32m    635\u001b[0m     \u001b[38;5;124m\"\u001b[39m\u001b[38;5;124m    One validation step of the neural networks.\u001b[39m\u001b[38;5;130;01m\\n\u001b[39;00m\u001b[38;5;124m\"\u001b[39m,\n\u001b[1;32m    636\u001b[0m     \u001b[38;5;124m\"\u001b[39m\u001b[38;5;124m    Args:\u001b[39m\u001b[38;5;130;01m\\n\u001b[39;00m\u001b[38;5;124m\"\u001b[39m,\n\u001b[1;32m    637\u001b[0m     \u001b[38;5;124m\"\u001b[39m\u001b[38;5;124m        states: Dictionary containing the current states of the training of the two neural networks\u001b[39m\u001b[38;5;130;01m\\n\u001b[39;00m\u001b[38;5;124m\"\u001b[39m,\n\u001b[1;32m    638\u001b[0m     \u001b[38;5;124m\"\u001b[39m\u001b[38;5;124m            Entries of dictionary:\u001b[39m\u001b[38;5;130;01m\\n\u001b[39;00m\u001b[38;5;124m\"\u001b[39m,\n\u001b[1;32m    639\u001b[0m     \u001b[38;5;124m\"\u001b[39m\u001b[38;5;124m                - MassMatrixNN: TrainState of the mass matrix neural network\u001b[39m\u001b[38;5;130;01m\\n\u001b[39;00m\u001b[38;5;124m\"\u001b[39m,\n\u001b[1;32m    640\u001b[0m     \u001b[38;5;124m\"\u001b[39m\u001b[38;5;124m                - PotentialEnergyNN: TrainState of the potential energy neural network\u001b[39m\u001b[38;5;130;01m\\n\u001b[39;00m\u001b[38;5;124m\"\u001b[39m,\n\u001b[1;32m    641\u001b[0m     \u001b[38;5;124m\"\u001b[39m\u001b[38;5;124m        batch: dictionary of batch data\u001b[39m\u001b[38;5;130;01m\\n\u001b[39;00m\u001b[38;5;124m\"\u001b[39m,\n\u001b[1;32m    642\u001b[0m     \u001b[38;5;124m\"\u001b[39m\u001b[38;5;124m    Returns:\u001b[39m\u001b[38;5;130;01m\\n\u001b[39;00m\u001b[38;5;124m\"\u001b[39m,\n\u001b[1;32m    643\u001b[0m     \u001b[38;5;124m\"\u001b[39m\u001b[38;5;124m        metrics: Dictionary of validation metrics\u001b[39m\u001b[38;5;130;01m\\n\u001b[39;00m\u001b[38;5;124m\"\u001b[39m,\n\u001b[1;32m    644\u001b[0m     \u001b[38;5;124m\"\u001b[39m\u001b[38;5;124m    \u001b[39m\u001b[38;5;130;01m\\\"\u001b[39;00m\u001b[38;5;130;01m\\\"\u001b[39;00m\u001b[38;5;130;01m\\\"\u001b[39;00m\u001b[38;5;130;01m\\n\u001b[39;00m\u001b[38;5;124m\"\u001b[39m,\n\u001b[1;32m    645\u001b[0m     \u001b[38;5;124m\"\u001b[39m\u001b[38;5;130;01m\\n\u001b[39;00m\u001b[38;5;124m\"\u001b[39m,\n\u001b[1;32m    646\u001b[0m     \u001b[38;5;124m\"\u001b[39m\u001b[38;5;124m    # Compute the estimated link angles and velocities\u001b[39m\u001b[38;5;130;01m\\n\u001b[39;00m\u001b[38;5;124m\"\u001b[39m,\n\u001b[1;32m    647\u001b[0m     \u001b[38;5;124m\"\u001b[39m\u001b[38;5;124m    # save the batch of predicted link angles, velocities at the next timestep and the link angular acceleration\u001b[39m\u001b[38;5;130;01m\\n\u001b[39;00m\u001b[38;5;124m\"\u001b[39m,\n\u001b[1;32m    648\u001b[0m     \u001b[38;5;124m\"\u001b[39m\u001b[38;5;124m    # into the variables `th_next_pred_ss`, `th_d_next_pred_ss`, and `th_dd_pred_ss`\u001b[39m\u001b[38;5;130;01m\\n\u001b[39;00m\u001b[38;5;124m\"\u001b[39m,\n\u001b[1;32m    649\u001b[0m     \u001b[38;5;124m\"\u001b[39m\u001b[38;5;124m    # Hint: use `discrete_forward_dynamics_vmapped`\u001b[39m\u001b[38;5;130;01m\\n\u001b[39;00m\u001b[38;5;124m\"\u001b[39m,\n\u001b[1;32m    650\u001b[0m     \u001b[38;5;124m\"\u001b[39m\u001b[38;5;124m    # Hint: look at the `TrainState` source code to find-out how to access the NN params from the TrainState object\u001b[39m\u001b[38;5;130;01m\\n\u001b[39;00m\u001b[38;5;124m\"\u001b[39m,\n\u001b[1;32m    651\u001b[0m     \u001b[38;5;124m\"\u001b[39m\u001b[38;5;124m    # https://flax.readthedocs.io/en/latest/_modules/flax/training/train_state.html\u001b[39m\u001b[38;5;130;01m\\n\u001b[39;00m\u001b[38;5;124m\"\u001b[39m,\n\u001b[1;32m    652\u001b[0m     \u001b[38;5;124m\"\u001b[39m\u001b[38;5;124m    th_next_pred_ss = jnp.zeros_like(batch[\u001b[39m\u001b[38;5;130;01m\\\"\u001b[39;00m\u001b[38;5;124mth_curr_ss\u001b[39m\u001b[38;5;130;01m\\\"\u001b[39;00m\u001b[38;5;124m])\u001b[39m\u001b[38;5;130;01m\\n\u001b[39;00m\u001b[38;5;124m\"\u001b[39m,\n\u001b[1;32m    653\u001b[0m     \u001b[38;5;124m\"\u001b[39m\u001b[38;5;124m    th_d_next_pred_ss = jnp.zeros_like(batch[\u001b[39m\u001b[38;5;130;01m\\\"\u001b[39;00m\u001b[38;5;124mth_d_curr_ss\u001b[39m\u001b[38;5;130;01m\\\"\u001b[39;00m\u001b[38;5;124m])\u001b[39m\u001b[38;5;130;01m\\n\u001b[39;00m\u001b[38;5;124m\"\u001b[39m,\n\u001b[1;32m    654\u001b[0m     \u001b[38;5;124m\"\u001b[39m\u001b[38;5;124m    th_dd_pred_ss = jnp.zeros_like(batch[\u001b[39m\u001b[38;5;130;01m\\\"\u001b[39;00m\u001b[38;5;124mth_curr_ss\u001b[39m\u001b[38;5;130;01m\\\"\u001b[39;00m\u001b[38;5;124m])\u001b[39m\u001b[38;5;130;01m\\n\u001b[39;00m\u001b[38;5;124m\"\u001b[39m,\n\u001b[1;32m    655\u001b[0m     \u001b[38;5;124m\"\u001b[39m\u001b[38;5;124m    # YOUR CODE HERE\u001b[39m\u001b[38;5;130;01m\\n\u001b[39;00m\u001b[38;5;124m\"\u001b[39m,\n\u001b[1;32m    656\u001b[0m     \u001b[38;5;124m\"\u001b[39m\u001b[38;5;124m    raise NotImplementedError()\u001b[39m\u001b[38;5;130;01m\\n\u001b[39;00m\u001b[38;5;124m\"\u001b[39m,\n\u001b[1;32m    657\u001b[0m     \u001b[38;5;124m\"\u001b[39m\u001b[38;5;130;01m\\n\u001b[39;00m\u001b[38;5;124m\"\u001b[39m,\n\u001b[1;32m    658\u001b[0m     \u001b[38;5;124m\"\u001b[39m\u001b[38;5;124m    # write the predictions into a dictionary\u001b[39m\u001b[38;5;130;01m\\n\u001b[39;00m\u001b[38;5;124m\"\u001b[39m,\n\u001b[1;32m    659\u001b[0m     \u001b[38;5;124m\"\u001b[39m\u001b[38;5;124m    preds = \u001b[39m\u001b[38;5;124m{\u001b[39m\u001b[38;5;130;01m\\n\u001b[39;00m\u001b[38;5;124m\"\u001b[39m,\n\u001b[1;32m    660\u001b[0m     \u001b[38;5;124m\"\u001b[39m\u001b[38;5;124m        \u001b[39m\u001b[38;5;130;01m\\\"\u001b[39;00m\u001b[38;5;124mth_next_ss\u001b[39m\u001b[38;5;130;01m\\\"\u001b[39;00m\u001b[38;5;124m: th_next_pred_ss,\u001b[39m\u001b[38;5;130;01m\\n\u001b[39;00m\u001b[38;5;124m\"\u001b[39m,\n\u001b[1;32m    661\u001b[0m     \u001b[38;5;124m\"\u001b[39m\u001b[38;5;124m        \u001b[39m\u001b[38;5;130;01m\\\"\u001b[39;00m\u001b[38;5;124mth_d_next_ss\u001b[39m\u001b[38;5;130;01m\\\"\u001b[39;00m\u001b[38;5;124m: th_d_next_pred_ss,\u001b[39m\u001b[38;5;130;01m\\n\u001b[39;00m\u001b[38;5;124m\"\u001b[39m,\n\u001b[1;32m    662\u001b[0m     \u001b[38;5;124m\"\u001b[39m\u001b[38;5;124m    }\u001b[39m\u001b[38;5;130;01m\\n\u001b[39;00m\u001b[38;5;124m\"\u001b[39m,\n\u001b[1;32m    663\u001b[0m     \u001b[38;5;124m\"\u001b[39m\u001b[38;5;130;01m\\n\u001b[39;00m\u001b[38;5;124m\"\u001b[39m,\n\u001b[1;32m    664\u001b[0m     \u001b[38;5;124m\"\u001b[39m\u001b[38;5;124m    # Compute the MSE loss on the predicted link angular velocities at the next timestep\u001b[39m\u001b[38;5;130;01m\\n\u001b[39;00m\u001b[38;5;124m\"\u001b[39m,\n\u001b[1;32m    665\u001b[0m     \u001b[38;5;124m\"\u001b[39m\u001b[38;5;124m    loss = jnp.array(0.0)\u001b[39m\u001b[38;5;130;01m\\n\u001b[39;00m\u001b[38;5;124m\"\u001b[39m,\n\u001b[1;32m    666\u001b[0m     \u001b[38;5;124m\"\u001b[39m\u001b[38;5;124m    # YOUR CODE HERE\u001b[39m\u001b[38;5;130;01m\\n\u001b[39;00m\u001b[38;5;124m\"\u001b[39m,\n\u001b[1;32m    667\u001b[0m     \u001b[38;5;124m\"\u001b[39m\u001b[38;5;124m    raise NotImplementedError()\u001b[39m\u001b[38;5;130;01m\\n\u001b[39;00m\u001b[38;5;124m\"\u001b[39m,\n\u001b[1;32m    668\u001b[0m     \u001b[38;5;124m\"\u001b[39m\u001b[38;5;130;01m\\n\u001b[39;00m\u001b[38;5;124m\"\u001b[39m,\n\u001b[1;32m    669\u001b[0m     \u001b[38;5;124m\"\u001b[39m\u001b[38;5;124m    # compute metrics\u001b[39m\u001b[38;5;130;01m\\n\u001b[39;00m\u001b[38;5;124m\"\u001b[39m,\n\u001b[1;32m    670\u001b[0m     \u001b[38;5;124m\"\u001b[39m\u001b[38;5;124m    metrics = compute_metrics(batch, preds)\u001b[39m\u001b[38;5;130;01m\\n\u001b[39;00m\u001b[38;5;124m\"\u001b[39m,\n\u001b[1;32m    671\u001b[0m     \u001b[38;5;124m\"\u001b[39m\u001b[38;5;124m    metrics[\u001b[39m\u001b[38;5;130;01m\\\"\u001b[39;00m\u001b[38;5;124mloss\u001b[39m\u001b[38;5;130;01m\\\"\u001b[39;00m\u001b[38;5;124m] = loss\u001b[39m\u001b[38;5;130;01m\\n\u001b[39;00m\u001b[38;5;124m\"\u001b[39m,\n\u001b[1;32m    672\u001b[0m     \u001b[38;5;124m\"\u001b[39m\u001b[38;5;130;01m\\n\u001b[39;00m\u001b[38;5;124m\"\u001b[39m,\n\u001b[1;32m    673\u001b[0m     \u001b[38;5;124m\"\u001b[39m\u001b[38;5;124m    return metrics\u001b[39m\u001b[38;5;124m\"\u001b[39m\n\u001b[1;32m    674\u001b[0m    ]\n\u001b[1;32m    675\u001b[0m   },\n\u001b[1;32m    676\u001b[0m   {\n\u001b[1;32m    677\u001b[0m    \u001b[38;5;124m\"\u001b[39m\u001b[38;5;124mcell_type\u001b[39m\u001b[38;5;124m\"\u001b[39m: \u001b[38;5;124m\"\u001b[39m\u001b[38;5;124mcode\u001b[39m\u001b[38;5;124m\"\u001b[39m,\n\u001b[1;32m    678\u001b[0m    \u001b[38;5;124m\"\u001b[39m\u001b[38;5;124mexecution_count\u001b[39m\u001b[38;5;124m\"\u001b[39m: null,\n\u001b[1;32m    679\u001b[0m    \u001b[38;5;124m\"\u001b[39m\u001b[38;5;124mid\u001b[39m\u001b[38;5;124m\"\u001b[39m: \u001b[38;5;124m\"\u001b[39m\u001b[38;5;124mfc9a50f6\u001b[39m\u001b[38;5;124m\"\u001b[39m,\n\u001b[1;32m    680\u001b[0m    \u001b[38;5;124m\"\u001b[39m\u001b[38;5;124mmetadata\u001b[39m\u001b[38;5;124m\"\u001b[39m: {\n\u001b[1;32m    681\u001b[0m     \u001b[38;5;124m\"\u001b[39m\u001b[38;5;124mdeletable\u001b[39m\u001b[38;5;124m\"\u001b[39m: false,\n\u001b[1;32m    682\u001b[0m     \u001b[38;5;124m\"\u001b[39m\u001b[38;5;124meditable\u001b[39m\u001b[38;5;124m\"\u001b[39m: false,\n\u001b[1;32m    683\u001b[0m     \u001b[38;5;124m\"\u001b[39m\u001b[38;5;124mnbgrader\u001b[39m\u001b[38;5;124m\"\u001b[39m: {\n\u001b[1;32m    684\u001b[0m      \u001b[38;5;124m\"\u001b[39m\u001b[38;5;124mcell_type\u001b[39m\u001b[38;5;124m\"\u001b[39m: \u001b[38;5;124m\"\u001b[39m\u001b[38;5;124mcode\u001b[39m\u001b[38;5;124m\"\u001b[39m,\n\u001b[1;32m    685\u001b[0m      \u001b[38;5;124m\"\u001b[39m\u001b[38;5;124mchecksum\u001b[39m\u001b[38;5;124m\"\u001b[39m: \u001b[38;5;124m\"\u001b[39m\u001b[38;5;124m5e7b7f6de65ac680740d799a4b4dc8d0\u001b[39m\u001b[38;5;124m\"\u001b[39m,\n\u001b[1;32m    686\u001b[0m      \u001b[38;5;124m\"\u001b[39m\u001b[38;5;124mgrade\u001b[39m\u001b[38;5;124m\"\u001b[39m: false,\n\u001b[1;32m    687\u001b[0m      \u001b[38;5;124m\"\u001b[39m\u001b[38;5;124mgrade_id\u001b[39m\u001b[38;5;124m\"\u001b[39m: \u001b[38;5;124m\"\u001b[39m\u001b[38;5;124mcell-c4d11ef842a8355e\u001b[39m\u001b[38;5;124m\"\u001b[39m,\n\u001b[1;32m    688\u001b[0m      \u001b[38;5;124m\"\u001b[39m\u001b[38;5;124mlocked\u001b[39m\u001b[38;5;124m\"\u001b[39m: true,\n\u001b[1;32m    689\u001b[0m      \u001b[38;5;124m\"\u001b[39m\u001b[38;5;124mschema_version\u001b[39m\u001b[38;5;124m\"\u001b[39m: \u001b[38;5;241m3\u001b[39m,\n\u001b[1;32m    690\u001b[0m      \u001b[38;5;124m\"\u001b[39m\u001b[38;5;124msolution\u001b[39m\u001b[38;5;124m\"\u001b[39m: false,\n\u001b[1;32m    691\u001b[0m      \u001b[38;5;124m\"\u001b[39m\u001b[38;5;124mtask\u001b[39m\u001b[38;5;124m\"\u001b[39m: false\n\u001b[1;32m    692\u001b[0m     }\n\u001b[1;32m    693\u001b[0m    },\n\u001b[1;32m    694\u001b[0m    \u001b[38;5;124m\"\u001b[39m\u001b[38;5;124moutputs\u001b[39m\u001b[38;5;124m\"\u001b[39m: [],\n\u001b[1;32m    695\u001b[0m    \u001b[38;5;124m\"\u001b[39m\u001b[38;5;124msource\u001b[39m\u001b[38;5;124m\"\u001b[39m: [\n\u001b[1;32m    696\u001b[0m     \u001b[38;5;124m\"\u001b[39m\u001b[38;5;124mdef train_epoch(\u001b[39m\u001b[38;5;130;01m\\n\u001b[39;00m\u001b[38;5;124m\"\u001b[39m,\n\u001b[1;32m    697\u001b[0m     \u001b[38;5;124m\"\u001b[39m\u001b[38;5;124m    states: Dict[str, TrainState],\u001b[39m\u001b[38;5;130;01m\\n\u001b[39;00m\u001b[38;5;124m\"\u001b[39m,\n\u001b[1;32m    698\u001b[0m     \u001b[38;5;124m\"\u001b[39m\u001b[38;5;124m    train_ds: Dict[str, jnp.ndarray],\u001b[39m\u001b[38;5;130;01m\\n\u001b[39;00m\u001b[38;5;124m\"\u001b[39m,\n\u001b[1;32m    699\u001b[0m     \u001b[38;5;124m\"\u001b[39m\u001b[38;5;124m    batch_size: int,\u001b[39m\u001b[38;5;130;01m\\n\u001b[39;00m\u001b[38;5;124m\"\u001b[39m,\n\u001b[1;32m    700\u001b[0m     \u001b[38;5;124m\"\u001b[39m\u001b[38;5;124m    epoch: int,\u001b[39m\u001b[38;5;130;01m\\n\u001b[39;00m\u001b[38;5;124m\"\u001b[39m,\n\u001b[1;32m    701\u001b[0m     \u001b[38;5;124m\"\u001b[39m\u001b[38;5;124m    learning_rate_fn: Callable,\u001b[39m\u001b[38;5;130;01m\\n\u001b[39;00m\u001b[38;5;124m\"\u001b[39m,\n\u001b[1;32m    702\u001b[0m     \u001b[38;5;124m\"\u001b[39m\u001b[38;5;124m    rng: random.KeyArray,\u001b[39m\u001b[38;5;130;01m\\n\u001b[39;00m\u001b[38;5;124m\"\u001b[39m,\n\u001b[1;32m    703\u001b[0m     \u001b[38;5;124m\"\u001b[39m\u001b[38;5;124m) -> Tuple[Dict[str, TrainState], float, Dict[str, float]]:\u001b[39m\u001b[38;5;130;01m\\n\u001b[39;00m\u001b[38;5;124m\"\u001b[39m,\n\u001b[1;32m    704\u001b[0m     \u001b[38;5;124m\"\u001b[39m\u001b[38;5;124m    \u001b[39m\u001b[38;5;130;01m\\\"\u001b[39;00m\u001b[38;5;130;01m\\\"\u001b[39;00m\u001b[38;5;130;01m\\\"\u001b[39;00m\u001b[38;5;130;01m\\n\u001b[39;00m\u001b[38;5;124m\"\u001b[39m,\n\u001b[1;32m    705\u001b[0m     \u001b[38;5;124m\"\u001b[39m\u001b[38;5;124m    Train for a single epoch.\u001b[39m\u001b[38;5;130;01m\\n\u001b[39;00m\u001b[38;5;124m\"\u001b[39m,\n\u001b[1;32m    706\u001b[0m     \u001b[38;5;124m\"\u001b[39m\u001b[38;5;124m    Args:\u001b[39m\u001b[38;5;130;01m\\n\u001b[39;00m\u001b[38;5;124m\"\u001b[39m,\n\u001b[1;32m    707\u001b[0m     \u001b[38;5;124m\"\u001b[39m\u001b[38;5;124m        states: Dictionary containing the current states of the training of the two neural networks.\u001b[39m\u001b[38;5;130;01m\\n\u001b[39;00m\u001b[38;5;124m\"\u001b[39m,\n\u001b[1;32m    708\u001b[0m     \u001b[38;5;124m\"\u001b[39m\u001b[38;5;124m            Entries of dictionary:\u001b[39m\u001b[38;5;130;01m\\n\u001b[39;00m\u001b[38;5;124m\"\u001b[39m,\n\u001b[1;32m    709\u001b[0m     \u001b[38;5;124m\"\u001b[39m\u001b[38;5;124m                - MassMatrixNN: TrainState of the mass matrix neural network\u001b[39m\u001b[38;5;130;01m\\n\u001b[39;00m\u001b[38;5;124m\"\u001b[39m,\n\u001b[1;32m    710\u001b[0m     \u001b[38;5;124m\"\u001b[39m\u001b[38;5;124m                - PotentialEnergyNN: TrainState of the potential energy neural network\u001b[39m\u001b[38;5;130;01m\\n\u001b[39;00m\u001b[38;5;124m\"\u001b[39m,\n\u001b[1;32m    711\u001b[0m     \u001b[38;5;124m\"\u001b[39m\u001b[38;5;124m        train_ds: Dictionary containing the training dataset.\u001b[39m\u001b[38;5;130;01m\\n\u001b[39;00m\u001b[38;5;124m\"\u001b[39m,\n\u001b[1;32m    712\u001b[0m     \u001b[38;5;124m\"\u001b[39m\u001b[38;5;124m        batch_size: Batch size of training loop.\u001b[39m\u001b[38;5;130;01m\\n\u001b[39;00m\u001b[38;5;124m\"\u001b[39m,\n\u001b[1;32m    713\u001b[0m     \u001b[38;5;124m\"\u001b[39m\u001b[38;5;124m        epoch: Index of current epoch.\u001b[39m\u001b[38;5;130;01m\\n\u001b[39;00m\u001b[38;5;124m\"\u001b[39m,\n\u001b[1;32m    714\u001b[0m     \u001b[38;5;124m\"\u001b[39m\u001b[38;5;124m        learning_rate_fn: A function that takes the current step and returns the current learning rate.\u001b[39m\u001b[38;5;130;01m\\n\u001b[39;00m\u001b[38;5;124m\"\u001b[39m,\n\u001b[1;32m    715\u001b[0m     \u001b[38;5;124m\"\u001b[39m\u001b[38;5;124m            It has the signature learning_rate_fn(step: int) -> lr.\u001b[39m\u001b[38;5;130;01m\\n\u001b[39;00m\u001b[38;5;124m\"\u001b[39m,\n\u001b[1;32m    716\u001b[0m     \u001b[38;5;124m\"\u001b[39m\u001b[38;5;124m        rng: PRNG key for pseudo-random number generation.\u001b[39m\u001b[38;5;130;01m\\n\u001b[39;00m\u001b[38;5;124m\"\u001b[39m,\n\u001b[1;32m    717\u001b[0m     \u001b[38;5;124m\"\u001b[39m\u001b[38;5;124m    Returns:\u001b[39m\u001b[38;5;130;01m\\n\u001b[39;00m\u001b[38;5;124m\"\u001b[39m,\n\u001b[1;32m    718\u001b[0m     \u001b[38;5;124m\"\u001b[39m\u001b[38;5;124m        states: Dictionary of updated training states.\u001b[39m\u001b[38;5;130;01m\\n\u001b[39;00m\u001b[38;5;124m\"\u001b[39m,\n\u001b[1;32m    719\u001b[0m     \u001b[38;5;124m\"\u001b[39m\u001b[38;5;124m        train_loss: Training loss of the current epoch.\u001b[39m\u001b[38;5;130;01m\\n\u001b[39;00m\u001b[38;5;124m\"\u001b[39m,\n\u001b[1;32m    720\u001b[0m     \u001b[38;5;124m\"\u001b[39m\u001b[38;5;124m        train_metrics: Dictionary of training metrics.\u001b[39m\u001b[38;5;130;01m\\n\u001b[39;00m\u001b[38;5;124m\"\u001b[39m,\n\u001b[1;32m    721\u001b[0m     \u001b[38;5;124m\"\u001b[39m\u001b[38;5;124m    \u001b[39m\u001b[38;5;130;01m\\\"\u001b[39;00m\u001b[38;5;130;01m\\\"\u001b[39;00m\u001b[38;5;130;01m\\\"\u001b[39;00m\u001b[38;5;130;01m\\n\u001b[39;00m\u001b[38;5;124m\"\u001b[39m,\n\u001b[1;32m    722\u001b[0m     \u001b[38;5;124m\"\u001b[39m\u001b[38;5;124m    train_ds_size = int(train_ds[\u001b[39m\u001b[38;5;130;01m\\\"\u001b[39;00m\u001b[38;5;124mth_curr_ss\u001b[39m\u001b[38;5;130;01m\\\"\u001b[39;00m\u001b[38;5;124m].shape[0])\u001b[39m\u001b[38;5;130;01m\\n\u001b[39;00m\u001b[38;5;124m\"\u001b[39m,\n\u001b[1;32m    723\u001b[0m     \u001b[38;5;124m\"\u001b[39m\u001b[38;5;124m    steps_per_epoch = train_ds_size // batch_size\u001b[39m\u001b[38;5;130;01m\\n\u001b[39;00m\u001b[38;5;124m\"\u001b[39m,\n\u001b[1;32m    724\u001b[0m     \u001b[38;5;124m\"\u001b[39m\u001b[38;5;130;01m\\n\u001b[39;00m\u001b[38;5;124m\"\u001b[39m,\n\u001b[1;32m    725\u001b[0m     \u001b[38;5;124m\"\u001b[39m\u001b[38;5;124m    perms = jax.random.permutation(rng, train_ds_size)  # get a randomized index array\u001b[39m\u001b[38;5;130;01m\\n\u001b[39;00m\u001b[38;5;124m\"\u001b[39m,\n\u001b[1;32m    726\u001b[0m     \u001b[38;5;124m\"\u001b[39m\u001b[38;5;124m    perms = perms[: steps_per_epoch * batch_size]  # skip incomplete batch\u001b[39m\u001b[38;5;130;01m\\n\u001b[39;00m\u001b[38;5;124m\"\u001b[39m,\n\u001b[1;32m    727\u001b[0m     \u001b[38;5;124m\"\u001b[39m\u001b[38;5;124m    perms = perms.reshape(\u001b[39m\u001b[38;5;130;01m\\n\u001b[39;00m\u001b[38;5;124m\"\u001b[39m,\n\u001b[1;32m    728\u001b[0m     \u001b[38;5;124m\"\u001b[39m\u001b[38;5;124m        (steps_per_epoch, batch_size)\u001b[39m\u001b[38;5;130;01m\\n\u001b[39;00m\u001b[38;5;124m\"\u001b[39m,\n\u001b[1;32m    729\u001b[0m     \u001b[38;5;124m\"\u001b[39m\u001b[38;5;124m    )  # index array, where each row is a batch\u001b[39m\u001b[38;5;130;01m\\n\u001b[39;00m\u001b[38;5;124m\"\u001b[39m,\n\u001b[1;32m    730\u001b[0m     \u001b[38;5;124m\"\u001b[39m\u001b[38;5;124m    batch_metrics = []\u001b[39m\u001b[38;5;130;01m\\n\u001b[39;00m\u001b[38;5;124m\"\u001b[39m,\n\u001b[1;32m    731\u001b[0m     \u001b[38;5;124m\"\u001b[39m\u001b[38;5;124m    for perm in perms:\u001b[39m\u001b[38;5;130;01m\\n\u001b[39;00m\u001b[38;5;124m\"\u001b[39m,\n\u001b[1;32m    732\u001b[0m     \u001b[38;5;124m\"\u001b[39m\u001b[38;5;124m        batch = \u001b[39m\u001b[38;5;124m{\u001b[39m\u001b[38;5;124mk: v[perm, ...] for k, v in train_ds.items()}\u001b[39m\u001b[38;5;130;01m\\n\u001b[39;00m\u001b[38;5;124m\"\u001b[39m,\n\u001b[1;32m    733\u001b[0m     \u001b[38;5;124m\"\u001b[39m\u001b[38;5;124m        states, metrics = train_step(states, batch, learning_rate_fn)\u001b[39m\u001b[38;5;130;01m\\n\u001b[39;00m\u001b[38;5;124m\"\u001b[39m,\n\u001b[1;32m    734\u001b[0m     \u001b[38;5;124m\"\u001b[39m\u001b[38;5;124m        batch_metrics.append(metrics)\u001b[39m\u001b[38;5;130;01m\\n\u001b[39;00m\u001b[38;5;124m\"\u001b[39m,\n\u001b[1;32m    735\u001b[0m     \u001b[38;5;124m\"\u001b[39m\u001b[38;5;130;01m\\n\u001b[39;00m\u001b[38;5;124m\"\u001b[39m,\n\u001b[1;32m    736\u001b[0m     \u001b[38;5;124m\"\u001b[39m\u001b[38;5;124m    # compute mean of metrics across each batch in epoch.\u001b[39m\u001b[38;5;130;01m\\n\u001b[39;00m\u001b[38;5;124m\"\u001b[39m,\n\u001b[1;32m    737\u001b[0m     \u001b[38;5;124m\"\u001b[39m\u001b[38;5;124m    batch_metrics_np = jax.device_get(batch_metrics)\u001b[39m\u001b[38;5;130;01m\\n\u001b[39;00m\u001b[38;5;124m\"\u001b[39m,\n\u001b[1;32m    738\u001b[0m     \u001b[38;5;124m\"\u001b[39m\u001b[38;5;124m    epoch_metrics_np = \u001b[39m\u001b[38;5;124m{\u001b[39m\u001b[38;5;130;01m\\n\u001b[39;00m\u001b[38;5;124m\"\u001b[39m,\n\u001b[1;32m    739\u001b[0m     \u001b[38;5;124m\"\u001b[39m\u001b[38;5;124m        k: np.mean(jnp.array([metrics[k] for metrics in batch_metrics_np])).item()\u001b[39m\u001b[38;5;130;01m\\n\u001b[39;00m\u001b[38;5;124m\"\u001b[39m,\n\u001b[1;32m    740\u001b[0m     \u001b[38;5;124m\"\u001b[39m\u001b[38;5;124m        for k in batch_metrics_np[0]\u001b[39m\u001b[38;5;130;01m\\n\u001b[39;00m\u001b[38;5;124m\"\u001b[39m,\n\u001b[1;32m    741\u001b[0m     \u001b[38;5;124m\"\u001b[39m\u001b[38;5;124m    }  # jnp.mean does not work on lists\u001b[39m\u001b[38;5;130;01m\\n\u001b[39;00m\u001b[38;5;124m\"\u001b[39m,\n\u001b[1;32m    742\u001b[0m     \u001b[38;5;124m\"\u001b[39m\u001b[38;5;130;01m\\n\u001b[39;00m\u001b[38;5;124m\"\u001b[39m,\n\u001b[1;32m    743\u001b[0m     \u001b[38;5;124m\"\u001b[39m\u001b[38;5;124m    return states, epoch_metrics_np[\u001b[39m\u001b[38;5;130;01m\\\"\u001b[39;00m\u001b[38;5;124mloss\u001b[39m\u001b[38;5;130;01m\\\"\u001b[39;00m\u001b[38;5;124m], epoch_metrics_np\u001b[39m\u001b[38;5;124m\"\u001b[39m\n\u001b[1;32m    744\u001b[0m    ]\n\u001b[1;32m    745\u001b[0m   },\n\u001b[1;32m    746\u001b[0m   {\n\u001b[1;32m    747\u001b[0m    \u001b[38;5;124m\"\u001b[39m\u001b[38;5;124mcell_type\u001b[39m\u001b[38;5;124m\"\u001b[39m: \u001b[38;5;124m\"\u001b[39m\u001b[38;5;124mcode\u001b[39m\u001b[38;5;124m\"\u001b[39m,\n\u001b[1;32m    748\u001b[0m    \u001b[38;5;124m\"\u001b[39m\u001b[38;5;124mexecution_count\u001b[39m\u001b[38;5;124m\"\u001b[39m: null,\n\u001b[1;32m    749\u001b[0m    \u001b[38;5;124m\"\u001b[39m\u001b[38;5;124mid\u001b[39m\u001b[38;5;124m\"\u001b[39m: \u001b[38;5;124m\"\u001b[39m\u001b[38;5;124mcda269e8\u001b[39m\u001b[38;5;124m\"\u001b[39m,\n\u001b[1;32m    750\u001b[0m    \u001b[38;5;124m\"\u001b[39m\u001b[38;5;124mmetadata\u001b[39m\u001b[38;5;124m\"\u001b[39m: {\n\u001b[1;32m    751\u001b[0m     \u001b[38;5;124m\"\u001b[39m\u001b[38;5;124mdeletable\u001b[39m\u001b[38;5;124m\"\u001b[39m: false,\n\u001b[1;32m    752\u001b[0m     \u001b[38;5;124m\"\u001b[39m\u001b[38;5;124meditable\u001b[39m\u001b[38;5;124m\"\u001b[39m: false,\n\u001b[1;32m    753\u001b[0m     \u001b[38;5;124m\"\u001b[39m\u001b[38;5;124mnbgrader\u001b[39m\u001b[38;5;124m\"\u001b[39m: {\n\u001b[1;32m    754\u001b[0m      \u001b[38;5;124m\"\u001b[39m\u001b[38;5;124mcell_type\u001b[39m\u001b[38;5;124m\"\u001b[39m: \u001b[38;5;124m\"\u001b[39m\u001b[38;5;124mcode\u001b[39m\u001b[38;5;124m\"\u001b[39m,\n\u001b[1;32m    755\u001b[0m      \u001b[38;5;124m\"\u001b[39m\u001b[38;5;124mchecksum\u001b[39m\u001b[38;5;124m\"\u001b[39m: \u001b[38;5;124m\"\u001b[39m\u001b[38;5;124m22abd3c06500056987443f1a19c94bc2\u001b[39m\u001b[38;5;124m\"\u001b[39m,\n\u001b[1;32m    756\u001b[0m      \u001b[38;5;124m\"\u001b[39m\u001b[38;5;124mgrade\u001b[39m\u001b[38;5;124m\"\u001b[39m: false,\n\u001b[1;32m    757\u001b[0m      \u001b[38;5;124m\"\u001b[39m\u001b[38;5;124mgrade_id\u001b[39m\u001b[38;5;124m\"\u001b[39m: \u001b[38;5;124m\"\u001b[39m\u001b[38;5;124mcell-efc01a9ee823b8f4\u001b[39m\u001b[38;5;124m\"\u001b[39m,\n\u001b[1;32m    758\u001b[0m      \u001b[38;5;124m\"\u001b[39m\u001b[38;5;124mlocked\u001b[39m\u001b[38;5;124m\"\u001b[39m: true,\n\u001b[1;32m    759\u001b[0m      \u001b[38;5;124m\"\u001b[39m\u001b[38;5;124mschema_version\u001b[39m\u001b[38;5;124m\"\u001b[39m: \u001b[38;5;241m3\u001b[39m,\n\u001b[1;32m    760\u001b[0m      \u001b[38;5;124m\"\u001b[39m\u001b[38;5;124msolution\u001b[39m\u001b[38;5;124m\"\u001b[39m: false,\n\u001b[1;32m    761\u001b[0m      \u001b[38;5;124m\"\u001b[39m\u001b[38;5;124mtask\u001b[39m\u001b[38;5;124m\"\u001b[39m: false\n\u001b[1;32m    762\u001b[0m     }\n\u001b[1;32m    763\u001b[0m    },\n\u001b[1;32m    764\u001b[0m    \u001b[38;5;124m\"\u001b[39m\u001b[38;5;124moutputs\u001b[39m\u001b[38;5;124m\"\u001b[39m: [],\n\u001b[1;32m    765\u001b[0m    \u001b[38;5;124m\"\u001b[39m\u001b[38;5;124msource\u001b[39m\u001b[38;5;124m\"\u001b[39m: [\n\u001b[1;32m    766\u001b[0m     \u001b[38;5;124m\"\u001b[39m\u001b[38;5;124mdef eval_model(\u001b[39m\u001b[38;5;130;01m\\n\u001b[39;00m\u001b[38;5;124m\"\u001b[39m,\n\u001b[1;32m    767\u001b[0m     \u001b[38;5;124m\"\u001b[39m\u001b[38;5;124m    states: Dict[str, TrainState],\u001b[39m\u001b[38;5;130;01m\\n\u001b[39;00m\u001b[38;5;124m\"\u001b[39m,\n\u001b[1;32m    768\u001b[0m     \u001b[38;5;124m\"\u001b[39m\u001b[38;5;124m    val_ds: Dict[str, jnp.ndarray],\u001b[39m\u001b[38;5;130;01m\\n\u001b[39;00m\u001b[38;5;124m\"\u001b[39m,\n\u001b[1;32m    769\u001b[0m     \u001b[38;5;124m\"\u001b[39m\u001b[38;5;124m) -> Tuple[float, Dict[str, jnp.ndarray]]:\u001b[39m\u001b[38;5;130;01m\\n\u001b[39;00m\u001b[38;5;124m\"\u001b[39m,\n\u001b[1;32m    770\u001b[0m     \u001b[38;5;124m\"\u001b[39m\u001b[38;5;124m    \u001b[39m\u001b[38;5;130;01m\\\"\u001b[39;00m\u001b[38;5;130;01m\\\"\u001b[39;00m\u001b[38;5;130;01m\\\"\u001b[39;00m\u001b[38;5;130;01m\\n\u001b[39;00m\u001b[38;5;124m\"\u001b[39m,\n\u001b[1;32m    771\u001b[0m     \u001b[38;5;124m\"\u001b[39m\u001b[38;5;124m    Validate the model on the validation dataset.\u001b[39m\u001b[38;5;130;01m\\n\u001b[39;00m\u001b[38;5;124m\"\u001b[39m,\n\u001b[1;32m    772\u001b[0m     \u001b[38;5;124m\"\u001b[39m\u001b[38;5;124m    Args:\u001b[39m\u001b[38;5;130;01m\\n\u001b[39;00m\u001b[38;5;124m\"\u001b[39m,\n\u001b[1;32m    773\u001b[0m     \u001b[38;5;124m\"\u001b[39m\u001b[38;5;124m        states: Dictionary containing the current states of the training of the two neural networks.\u001b[39m\u001b[38;5;130;01m\\n\u001b[39;00m\u001b[38;5;124m\"\u001b[39m,\n\u001b[1;32m    774\u001b[0m     \u001b[38;5;124m\"\u001b[39m\u001b[38;5;124m            Entries of dictionary:\u001b[39m\u001b[38;5;130;01m\\n\u001b[39;00m\u001b[38;5;124m\"\u001b[39m,\n\u001b[1;32m    775\u001b[0m     \u001b[38;5;124m\"\u001b[39m\u001b[38;5;124m                - MassMatrixNN: TrainState of the mass matrix neural network\u001b[39m\u001b[38;5;130;01m\\n\u001b[39;00m\u001b[38;5;124m\"\u001b[39m,\n\u001b[1;32m    776\u001b[0m     \u001b[38;5;124m\"\u001b[39m\u001b[38;5;124m                - PotentialEnergyNN: TrainState of the potential energy neural network\u001b[39m\u001b[38;5;130;01m\\n\u001b[39;00m\u001b[38;5;124m\"\u001b[39m,\n\u001b[1;32m    777\u001b[0m     \u001b[38;5;124m\"\u001b[39m\u001b[38;5;124m        val_ds: Dictionary containing the validation dataset.\u001b[39m\u001b[38;5;130;01m\\n\u001b[39;00m\u001b[38;5;124m\"\u001b[39m,\n\u001b[1;32m    778\u001b[0m     \u001b[38;5;124m\"\u001b[39m\u001b[38;5;124m    Returns:\u001b[39m\u001b[38;5;130;01m\\n\u001b[39;00m\u001b[38;5;124m\"\u001b[39m,\n\u001b[1;32m    779\u001b[0m     \u001b[38;5;124m\"\u001b[39m\u001b[38;5;124m        val_loss: Validation loss.\u001b[39m\u001b[38;5;130;01m\\n\u001b[39;00m\u001b[38;5;124m\"\u001b[39m,\n\u001b[1;32m    780\u001b[0m     \u001b[38;5;124m\"\u001b[39m\u001b[38;5;124m        val_metrics: Dictionary of metrics.\u001b[39m\u001b[38;5;130;01m\\n\u001b[39;00m\u001b[38;5;124m\"\u001b[39m,\n\u001b[1;32m    781\u001b[0m     \u001b[38;5;124m\"\u001b[39m\u001b[38;5;124m    \u001b[39m\u001b[38;5;130;01m\\\"\u001b[39;00m\u001b[38;5;130;01m\\\"\u001b[39;00m\u001b[38;5;130;01m\\\"\u001b[39;00m\u001b[38;5;130;01m\\n\u001b[39;00m\u001b[38;5;124m\"\u001b[39m,\n\u001b[1;32m    782\u001b[0m     \u001b[38;5;124m\"\u001b[39m\u001b[38;5;124m    val_metrics = eval_step(states, val_ds)\u001b[39m\u001b[38;5;130;01m\\n\u001b[39;00m\u001b[38;5;124m\"\u001b[39m,\n\u001b[1;32m    783\u001b[0m     \u001b[38;5;124m\"\u001b[39m\u001b[38;5;124m    val_metrics = jax.device_get(val_metrics)\u001b[39m\u001b[38;5;130;01m\\n\u001b[39;00m\u001b[38;5;124m\"\u001b[39m,\n\u001b[1;32m    784\u001b[0m     \u001b[38;5;124m\"\u001b[39m\u001b[38;5;124m    val_metrics = jax.tree_util.tree_map(\u001b[39m\u001b[38;5;130;01m\\n\u001b[39;00m\u001b[38;5;124m\"\u001b[39m,\n\u001b[1;32m    785\u001b[0m     \u001b[38;5;124m\"\u001b[39m\u001b[38;5;124m        lambda x: x.item(), val_metrics\u001b[39m\u001b[38;5;130;01m\\n\u001b[39;00m\u001b[38;5;124m\"\u001b[39m,\n\u001b[1;32m    786\u001b[0m     \u001b[38;5;124m\"\u001b[39m\u001b[38;5;124m    )  # map the function over all leaves in metrics\u001b[39m\u001b[38;5;130;01m\\n\u001b[39;00m\u001b[38;5;124m\"\u001b[39m,\n\u001b[1;32m    787\u001b[0m     \u001b[38;5;124m\"\u001b[39m\u001b[38;5;130;01m\\n\u001b[39;00m\u001b[38;5;124m\"\u001b[39m,\n\u001b[1;32m    788\u001b[0m     \u001b[38;5;124m\"\u001b[39m\u001b[38;5;124m    return val_metrics[\u001b[39m\u001b[38;5;130;01m\\\"\u001b[39;00m\u001b[38;5;124mloss\u001b[39m\u001b[38;5;130;01m\\\"\u001b[39;00m\u001b[38;5;124m], val_metrics\u001b[39m\u001b[38;5;124m\"\u001b[39m\n\u001b[1;32m    789\u001b[0m    ]\n\u001b[1;32m    790\u001b[0m   },\n\u001b[1;32m    791\u001b[0m   {\n\u001b[1;32m    792\u001b[0m    \u001b[38;5;124m\"\u001b[39m\u001b[38;5;124mcell_type\u001b[39m\u001b[38;5;124m\"\u001b[39m: \u001b[38;5;124m\"\u001b[39m\u001b[38;5;124mcode\u001b[39m\u001b[38;5;124m\"\u001b[39m,\n\u001b[1;32m    793\u001b[0m    \u001b[38;5;124m\"\u001b[39m\u001b[38;5;124mexecution_count\u001b[39m\u001b[38;5;124m\"\u001b[39m: null,\n\u001b[1;32m    794\u001b[0m    \u001b[38;5;124m\"\u001b[39m\u001b[38;5;124mid\u001b[39m\u001b[38;5;124m\"\u001b[39m: \u001b[38;5;124m\"\u001b[39m\u001b[38;5;124meae27fe1\u001b[39m\u001b[38;5;124m\"\u001b[39m,\n\u001b[1;32m    795\u001b[0m    \u001b[38;5;124m\"\u001b[39m\u001b[38;5;124mmetadata\u001b[39m\u001b[38;5;124m\"\u001b[39m: {\n\u001b[1;32m    796\u001b[0m     \u001b[38;5;124m\"\u001b[39m\u001b[38;5;124mdeletable\u001b[39m\u001b[38;5;124m\"\u001b[39m: false,\n\u001b[1;32m    797\u001b[0m     \u001b[38;5;124m\"\u001b[39m\u001b[38;5;124mnbgrader\u001b[39m\u001b[38;5;124m\"\u001b[39m: {\n\u001b[1;32m    798\u001b[0m      \u001b[38;5;124m\"\u001b[39m\u001b[38;5;124mcell_type\u001b[39m\u001b[38;5;124m\"\u001b[39m: \u001b[38;5;124m\"\u001b[39m\u001b[38;5;124mcode\u001b[39m\u001b[38;5;124m\"\u001b[39m,\n\u001b[1;32m    799\u001b[0m      \u001b[38;5;124m\"\u001b[39m\u001b[38;5;124mchecksum\u001b[39m\u001b[38;5;124m\"\u001b[39m: \u001b[38;5;124m\"\u001b[39m\u001b[38;5;124mdbb319ae575d97f3066840fcca4d65fa\u001b[39m\u001b[38;5;124m\"\u001b[39m,\n\u001b[1;32m    800\u001b[0m      \u001b[38;5;124m\"\u001b[39m\u001b[38;5;124mgrade\u001b[39m\u001b[38;5;124m\"\u001b[39m: false,\n\u001b[1;32m    801\u001b[0m      \u001b[38;5;124m\"\u001b[39m\u001b[38;5;124mgrade_id\u001b[39m\u001b[38;5;124m\"\u001b[39m: \u001b[38;5;124m\"\u001b[39m\u001b[38;5;124mcell-bc083ab3691fd3ca\u001b[39m\u001b[38;5;124m\"\u001b[39m,\n\u001b[1;32m    802\u001b[0m      \u001b[38;5;124m\"\u001b[39m\u001b[38;5;124mlocked\u001b[39m\u001b[38;5;124m\"\u001b[39m: false,\n\u001b[1;32m    803\u001b[0m      \u001b[38;5;124m\"\u001b[39m\u001b[38;5;124mschema_version\u001b[39m\u001b[38;5;124m\"\u001b[39m: \u001b[38;5;241m3\u001b[39m,\n\u001b[1;32m    804\u001b[0m      \u001b[38;5;124m\"\u001b[39m\u001b[38;5;124msolution\u001b[39m\u001b[38;5;124m\"\u001b[39m: true,\n\u001b[1;32m    805\u001b[0m      \u001b[38;5;124m\"\u001b[39m\u001b[38;5;124mtask\u001b[39m\u001b[38;5;124m\"\u001b[39m: false\n\u001b[1;32m    806\u001b[0m     }\n\u001b[1;32m    807\u001b[0m    },\n\u001b[1;32m    808\u001b[0m    \u001b[38;5;124m\"\u001b[39m\u001b[38;5;124moutputs\u001b[39m\u001b[38;5;124m\"\u001b[39m: [],\n\u001b[1;32m    809\u001b[0m    \u001b[38;5;124m\"\u001b[39m\u001b[38;5;124msource\u001b[39m\u001b[38;5;124m\"\u001b[39m: [\n\u001b[1;32m    810\u001b[0m     \u001b[38;5;124m\"\u001b[39m\u001b[38;5;124mdef run_lnn_training(\u001b[39m\u001b[38;5;130;01m\\n\u001b[39;00m\u001b[38;5;124m\"\u001b[39m,\n\u001b[1;32m    811\u001b[0m     \u001b[38;5;124m\"\u001b[39m\u001b[38;5;124m    rng: random.PRNGKey,\u001b[39m\u001b[38;5;130;01m\\n\u001b[39;00m\u001b[38;5;124m\"\u001b[39m,\n\u001b[1;32m    812\u001b[0m     \u001b[38;5;124m\"\u001b[39m\u001b[38;5;124m    train_ds: Dict[str, jnp.ndarray],\u001b[39m\u001b[38;5;130;01m\\n\u001b[39;00m\u001b[38;5;124m\"\u001b[39m,\n\u001b[1;32m    813\u001b[0m     \u001b[38;5;124m\"\u001b[39m\u001b[38;5;124m    val_ds: Dict[str, jnp.ndarray],\u001b[39m\u001b[38;5;130;01m\\n\u001b[39;00m\u001b[38;5;124m\"\u001b[39m,\n\u001b[1;32m    814\u001b[0m     \u001b[38;5;124m\"\u001b[39m\u001b[38;5;124m    num_epochs: int,\u001b[39m\u001b[38;5;130;01m\\n\u001b[39;00m\u001b[38;5;124m\"\u001b[39m,\n\u001b[1;32m    815\u001b[0m     \u001b[38;5;124m\"\u001b[39m\u001b[38;5;124m    batch_size: int,\u001b[39m\u001b[38;5;130;01m\\n\u001b[39;00m\u001b[38;5;124m\"\u001b[39m,\n\u001b[1;32m    816\u001b[0m     \u001b[38;5;124m\"\u001b[39m\u001b[38;5;124m    base_lr: float,\u001b[39m\u001b[38;5;130;01m\\n\u001b[39;00m\u001b[38;5;124m\"\u001b[39m,\n\u001b[1;32m    817\u001b[0m     \u001b[38;5;124m\"\u001b[39m\u001b[38;5;124m    warmup_epochs: int = 0,\u001b[39m\u001b[38;5;130;01m\\n\u001b[39;00m\u001b[38;5;124m\"\u001b[39m,\n\u001b[1;32m    818\u001b[0m     \u001b[38;5;124m\"\u001b[39m\u001b[38;5;124m    weight_decay: float = 0.0,\u001b[39m\u001b[38;5;130;01m\\n\u001b[39;00m\u001b[38;5;124m\"\u001b[39m,\n\u001b[1;32m    819\u001b[0m     \u001b[38;5;124m\"\u001b[39m\u001b[38;5;124m    verbose: bool = True,\u001b[39m\u001b[38;5;130;01m\\n\u001b[39;00m\u001b[38;5;124m\"\u001b[39m,\n\u001b[1;32m    820\u001b[0m     \u001b[38;5;124m\"\u001b[39m\u001b[38;5;124m) -> Tuple[\u001b[39m\u001b[38;5;130;01m\\n\u001b[39;00m\u001b[38;5;124m\"\u001b[39m,\n\u001b[1;32m    821\u001b[0m     \u001b[38;5;124m\"\u001b[39m\u001b[38;5;124m    jnp.ndarray,\u001b[39m\u001b[38;5;130;01m\\n\u001b[39;00m\u001b[38;5;124m\"\u001b[39m,\n\u001b[1;32m    822\u001b[0m     \u001b[38;5;124m\"\u001b[39m\u001b[38;5;124m    List[Dict[str, jnp.ndarray]],\u001b[39m\u001b[38;5;130;01m\\n\u001b[39;00m\u001b[38;5;124m\"\u001b[39m,\n\u001b[1;32m    823\u001b[0m     \u001b[38;5;124m\"\u001b[39m\u001b[38;5;124m    List[Dict[str, jnp.ndarray]],\u001b[39m\u001b[38;5;130;01m\\n\u001b[39;00m\u001b[38;5;124m\"\u001b[39m,\n\u001b[1;32m    824\u001b[0m     \u001b[38;5;124m\"\u001b[39m\u001b[38;5;124m    List[Dict[str, TrainState]],\u001b[39m\u001b[38;5;130;01m\\n\u001b[39;00m\u001b[38;5;124m\"\u001b[39m,\n\u001b[1;32m    825\u001b[0m     \u001b[38;5;124m\"\u001b[39m\u001b[38;5;124m]:\u001b[39m\u001b[38;5;130;01m\\n\u001b[39;00m\u001b[38;5;124m\"\u001b[39m,\n\u001b[1;32m    826\u001b[0m     \u001b[38;5;124m\"\u001b[39m\u001b[38;5;124m    \u001b[39m\u001b[38;5;130;01m\\\"\u001b[39;00m\u001b[38;5;130;01m\\\"\u001b[39;00m\u001b[38;5;130;01m\\\"\u001b[39;00m\u001b[38;5;130;01m\\n\u001b[39;00m\u001b[38;5;124m\"\u001b[39m,\n\u001b[1;32m    827\u001b[0m     \u001b[38;5;124m\"\u001b[39m\u001b[38;5;124m    Run the training loop.\u001b[39m\u001b[38;5;130;01m\\n\u001b[39;00m\u001b[38;5;124m\"\u001b[39m,\n\u001b[1;32m    828\u001b[0m     \u001b[38;5;124m\"\u001b[39m\u001b[38;5;124m    Args:\u001b[39m\u001b[38;5;130;01m\\n\u001b[39;00m\u001b[38;5;124m\"\u001b[39m,\n\u001b[1;32m    829\u001b[0m     \u001b[38;5;124m\"\u001b[39m\u001b[38;5;124m        rng: PRNG key for pseudo-random number generation.\u001b[39m\u001b[38;5;130;01m\\n\u001b[39;00m\u001b[38;5;124m\"\u001b[39m,\n\u001b[1;32m    830\u001b[0m     \u001b[38;5;124m\"\u001b[39m\u001b[38;5;124m        train_ds: Dictionary of jax arrays containing the training dataset.\u001b[39m\u001b[38;5;130;01m\\n\u001b[39;00m\u001b[38;5;124m\"\u001b[39m,\n\u001b[1;32m    831\u001b[0m     \u001b[38;5;124m\"\u001b[39m\u001b[38;5;124m        val_ds: Dictionary of jax arrays containing the validation dataset.\u001b[39m\u001b[38;5;130;01m\\n\u001b[39;00m\u001b[38;5;124m\"\u001b[39m,\n\u001b[1;32m    832\u001b[0m     \u001b[38;5;124m\"\u001b[39m\u001b[38;5;124m        num_epochs: Number of epochs to train for.\u001b[39m\u001b[38;5;130;01m\\n\u001b[39;00m\u001b[38;5;124m\"\u001b[39m,\n\u001b[1;32m    833\u001b[0m     \u001b[38;5;124m\"\u001b[39m\u001b[38;5;124m        batch_size: The size of a minibatch (i.e. number of samples in a batch).\u001b[39m\u001b[38;5;130;01m\\n\u001b[39;00m\u001b[38;5;124m\"\u001b[39m,\n\u001b[1;32m    834\u001b[0m     \u001b[38;5;124m\"\u001b[39m\u001b[38;5;124m        base_lr: Base learning rate (after warmup and before decay).\u001b[39m\u001b[38;5;130;01m\\n\u001b[39;00m\u001b[38;5;124m\"\u001b[39m,\n\u001b[1;32m    835\u001b[0m     \u001b[38;5;124m\"\u001b[39m\u001b[38;5;124m        warmup_epochs: Number of epochs for warmup.\u001b[39m\u001b[38;5;130;01m\\n\u001b[39;00m\u001b[38;5;124m\"\u001b[39m,\n\u001b[1;32m    836\u001b[0m     \u001b[38;5;124m\"\u001b[39m\u001b[38;5;124m        weight_decay: Weight decay.\u001b[39m\u001b[38;5;130;01m\\n\u001b[39;00m\u001b[38;5;124m\"\u001b[39m,\n\u001b[1;32m    837\u001b[0m     \u001b[38;5;124m\"\u001b[39m\u001b[38;5;124m        verbose: If True, print the training progress.\u001b[39m\u001b[38;5;130;01m\\n\u001b[39;00m\u001b[38;5;124m\"\u001b[39m,\n\u001b[1;32m    838\u001b[0m     \u001b[38;5;124m\"\u001b[39m\u001b[38;5;124m    Returns:\u001b[39m\u001b[38;5;130;01m\\n\u001b[39;00m\u001b[38;5;124m\"\u001b[39m,\n\u001b[1;32m    839\u001b[0m     \u001b[38;5;124m\"\u001b[39m\u001b[38;5;124m        val_loss_history: Array of validation losses for each epoch.\u001b[39m\u001b[38;5;130;01m\\n\u001b[39;00m\u001b[38;5;124m\"\u001b[39m,\n\u001b[1;32m    840\u001b[0m     \u001b[38;5;124m\"\u001b[39m\u001b[38;5;124m        val_metrics_history: List of dictionaries containing the validation metrics for each epoch.\u001b[39m\u001b[38;5;130;01m\\n\u001b[39;00m\u001b[38;5;124m\"\u001b[39m,\n\u001b[1;32m    841\u001b[0m     \u001b[38;5;124m\"\u001b[39m\u001b[38;5;124m        train_states_history: List of dictionaries containing the training states for each epoch.\u001b[39m\u001b[38;5;130;01m\\n\u001b[39;00m\u001b[38;5;124m\"\u001b[39m,\n\u001b[1;32m    842\u001b[0m     \u001b[38;5;124m\"\u001b[39m\u001b[38;5;124m    \u001b[39m\u001b[38;5;130;01m\\\"\u001b[39;00m\u001b[38;5;130;01m\\\"\u001b[39;00m\u001b[38;5;130;01m\\\"\u001b[39;00m\u001b[38;5;130;01m\\n\u001b[39;00m\u001b[38;5;124m\"\u001b[39m,\n\u001b[1;32m    843\u001b[0m     \u001b[38;5;124m\"\u001b[39m\u001b[38;5;130;01m\\n\u001b[39;00m\u001b[38;5;124m\"\u001b[39m,\n\u001b[1;32m    844\u001b[0m     \u001b[38;5;124m\"\u001b[39m\u001b[38;5;124m    # number of training samples\u001b[39m\u001b[38;5;130;01m\\n\u001b[39;00m\u001b[38;5;124m\"\u001b[39m,\n\u001b[1;32m    845\u001b[0m     \u001b[38;5;124m\"\u001b[39m\u001b[38;5;124m    num_train_samples = len(train_ds[\u001b[39m\u001b[38;5;130;01m\\\"\u001b[39;00m\u001b[38;5;124mth_curr_ss\u001b[39m\u001b[38;5;130;01m\\\"\u001b[39;00m\u001b[38;5;124m])\u001b[39m\u001b[38;5;130;01m\\n\u001b[39;00m\u001b[38;5;124m\"\u001b[39m,\n\u001b[1;32m    846\u001b[0m     \u001b[38;5;124m\"\u001b[39m\u001b[38;5;130;01m\\n\u001b[39;00m\u001b[38;5;124m\"\u001b[39m,\n\u001b[1;32m    847\u001b[0m     \u001b[38;5;124m\"\u001b[39m\u001b[38;5;124m    # initialize the learning rate scheduler\u001b[39m\u001b[38;5;130;01m\\n\u001b[39;00m\u001b[38;5;124m\"\u001b[39m,\n\u001b[1;32m    848\u001b[0m     \u001b[38;5;124m\"\u001b[39m\u001b[38;5;124m    learning_rate_fn = None\u001b[39m\u001b[38;5;130;01m\\n\u001b[39;00m\u001b[38;5;124m\"\u001b[39m,\n\u001b[1;32m    849\u001b[0m     \u001b[38;5;124m\"\u001b[39m\u001b[38;5;124m    # YOUR CODE HERE\u001b[39m\u001b[38;5;130;01m\\n\u001b[39;00m\u001b[38;5;124m\"\u001b[39m,\n\u001b[1;32m    850\u001b[0m     \u001b[38;5;124m\"\u001b[39m\u001b[38;5;124m    raise NotImplementedError()\u001b[39m\u001b[38;5;130;01m\\n\u001b[39;00m\u001b[38;5;124m\"\u001b[39m,\n\u001b[1;32m    851\u001b[0m     \u001b[38;5;124m\"\u001b[39m\u001b[38;5;130;01m\\n\u001b[39;00m\u001b[38;5;124m\"\u001b[39m,\n\u001b[1;32m    852\u001b[0m     \u001b[38;5;124m\"\u001b[39m\u001b[38;5;124m    # split of PRNG keys\u001b[39m\u001b[38;5;130;01m\\n\u001b[39;00m\u001b[38;5;124m\"\u001b[39m,\n\u001b[1;32m    853\u001b[0m     \u001b[38;5;124m\"\u001b[39m\u001b[38;5;124m    # the 1st is used for training,\u001b[39m\u001b[38;5;130;01m\\n\u001b[39;00m\u001b[38;5;124m\"\u001b[39m,\n\u001b[1;32m    854\u001b[0m     \u001b[38;5;124m\"\u001b[39m\u001b[38;5;124m    # the 2nd to initialize the neural network weights.\u001b[39m\u001b[38;5;130;01m\\n\u001b[39;00m\u001b[38;5;124m\"\u001b[39m,\n\u001b[1;32m    855\u001b[0m     \u001b[38;5;124m\"\u001b[39m\u001b[38;5;124m    rng, init_train_states_rng = jax.random.split(rng, 2)\u001b[39m\u001b[38;5;130;01m\\n\u001b[39;00m\u001b[38;5;124m\"\u001b[39m,\n\u001b[1;32m    856\u001b[0m     \u001b[38;5;124m\"\u001b[39m\u001b[38;5;130;01m\\n\u001b[39;00m\u001b[38;5;124m\"\u001b[39m,\n\u001b[1;32m    857\u001b[0m     \u001b[38;5;124m\"\u001b[39m\u001b[38;5;124m    # initialize the train states\u001b[39m\u001b[38;5;130;01m\\n\u001b[39;00m\u001b[38;5;124m\"\u001b[39m,\n\u001b[1;32m    858\u001b[0m     \u001b[38;5;124m\"\u001b[39m\u001b[38;5;124m    states = initialize_train_states(\u001b[39m\u001b[38;5;130;01m\\n\u001b[39;00m\u001b[38;5;124m\"\u001b[39m,\n\u001b[1;32m    859\u001b[0m     \u001b[38;5;124m\"\u001b[39m\u001b[38;5;124m        init_train_states_rng, learning_rate_fn, weight_decay\u001b[39m\u001b[38;5;130;01m\\n\u001b[39;00m\u001b[38;5;124m\"\u001b[39m,\n\u001b[1;32m    860\u001b[0m     \u001b[38;5;124m\"\u001b[39m\u001b[38;5;124m    )\u001b[39m\u001b[38;5;130;01m\\n\u001b[39;00m\u001b[38;5;124m\"\u001b[39m,\n\u001b[1;32m    861\u001b[0m     \u001b[38;5;124m\"\u001b[39m\u001b[38;5;130;01m\\n\u001b[39;00m\u001b[38;5;124m\"\u001b[39m,\n\u001b[1;32m    862\u001b[0m     \u001b[38;5;124m\"\u001b[39m\u001b[38;5;124m    # initialize the lists for the training history\u001b[39m\u001b[38;5;130;01m\\n\u001b[39;00m\u001b[38;5;124m\"\u001b[39m,\n\u001b[1;32m    863\u001b[0m     \u001b[38;5;124m\"\u001b[39m\u001b[38;5;124m    val_loss_history = []  # list with validation losses\u001b[39m\u001b[38;5;130;01m\\n\u001b[39;00m\u001b[38;5;124m\"\u001b[39m,\n\u001b[1;32m    864\u001b[0m     \u001b[38;5;124m\"\u001b[39m\u001b[38;5;124m    train_metrics_history = []  # list with train metric dictionaries\u001b[39m\u001b[38;5;130;01m\\n\u001b[39;00m\u001b[38;5;124m\"\u001b[39m,\n\u001b[1;32m    865\u001b[0m     \u001b[38;5;124m\"\u001b[39m\u001b[38;5;124m    val_metrics_history = []  # list with validation metric dictionaries\u001b[39m\u001b[38;5;130;01m\\n\u001b[39;00m\u001b[38;5;124m\"\u001b[39m,\n\u001b[1;32m    866\u001b[0m     \u001b[38;5;124m\"\u001b[39m\u001b[38;5;124m    states_history = []  # list with dictionaries of model states\u001b[39m\u001b[38;5;130;01m\\n\u001b[39;00m\u001b[38;5;124m\"\u001b[39m,\n\u001b[1;32m    867\u001b[0m     \u001b[38;5;124m\"\u001b[39m\u001b[38;5;130;01m\\n\u001b[39;00m\u001b[38;5;124m\"\u001b[39m,\n\u001b[1;32m    868\u001b[0m     \u001b[38;5;124m\"\u001b[39m\u001b[38;5;124m    if verbose:\u001b[39m\u001b[38;5;130;01m\\n\u001b[39;00m\u001b[38;5;124m\"\u001b[39m,\n\u001b[1;32m    869\u001b[0m     \u001b[38;5;124m\"\u001b[39m\u001b[38;5;124m        print(f\u001b[39m\u001b[38;5;130;01m\\\"\u001b[39;00m\u001b[38;5;124mTraining the Lagrangian neural network for \u001b[39m\u001b[38;5;132;01m{num_epochs}\u001b[39;00m\u001b[38;5;124m epochs...\u001b[39m\u001b[38;5;130;01m\\\"\u001b[39;00m\u001b[38;5;124m)\u001b[39m\u001b[38;5;130;01m\\n\u001b[39;00m\u001b[38;5;124m\"\u001b[39m,\n\u001b[1;32m    870\u001b[0m     \u001b[38;5;124m\"\u001b[39m\u001b[38;5;130;01m\\n\u001b[39;00m\u001b[38;5;124m\"\u001b[39m,\n\u001b[1;32m    871\u001b[0m     \u001b[38;5;124m\"\u001b[39m\u001b[38;5;124m    for epoch in (pbar := tqdm(range(1, num_epochs + 1))):\u001b[39m\u001b[38;5;130;01m\\n\u001b[39;00m\u001b[38;5;124m\"\u001b[39m,\n\u001b[1;32m    872\u001b[0m     \u001b[38;5;124m\"\u001b[39m\u001b[38;5;124m        # Split the `rng` PRNG key into two new keys\u001b[39m\u001b[38;5;130;01m\\n\u001b[39;00m\u001b[38;5;124m\"\u001b[39m,\n\u001b[1;32m    873\u001b[0m     \u001b[38;5;124m\"\u001b[39m\u001b[38;5;124m        # use the 1st PRNG to update the `rng` variable\u001b[39m\u001b[38;5;130;01m\\n\u001b[39;00m\u001b[38;5;124m\"\u001b[39m,\n\u001b[1;32m    874\u001b[0m     \u001b[38;5;124m\"\u001b[39m\u001b[38;5;124m        # store the 2nd PRNG key in the variable `epoch_rng`\u001b[39m\u001b[38;5;130;01m\\n\u001b[39;00m\u001b[38;5;124m\"\u001b[39m,\n\u001b[1;32m    875\u001b[0m     \u001b[38;5;124m\"\u001b[39m\u001b[38;5;124m        epoch_rng = None\u001b[39m\u001b[38;5;130;01m\\n\u001b[39;00m\u001b[38;5;124m\"\u001b[39m,\n\u001b[1;32m    876\u001b[0m     \u001b[38;5;124m\"\u001b[39m\u001b[38;5;124m        # YOUR CODE HERE\u001b[39m\u001b[38;5;130;01m\\n\u001b[39;00m\u001b[38;5;124m\"\u001b[39m,\n\u001b[1;32m    877\u001b[0m     \u001b[38;5;124m\"\u001b[39m\u001b[38;5;124m        raise NotImplementedError()\u001b[39m\u001b[38;5;130;01m\\n\u001b[39;00m\u001b[38;5;124m\"\u001b[39m,\n\u001b[1;32m    878\u001b[0m     \u001b[38;5;124m\"\u001b[39m\u001b[38;5;130;01m\\n\u001b[39;00m\u001b[38;5;124m\"\u001b[39m,\n\u001b[1;32m    879\u001b[0m     \u001b[38;5;124m\"\u001b[39m\u001b[38;5;124m        # Run the training for the current epoch\u001b[39m\u001b[38;5;130;01m\\n\u001b[39;00m\u001b[38;5;124m\"\u001b[39m,\n\u001b[1;32m    880\u001b[0m     \u001b[38;5;124m\"\u001b[39m\u001b[38;5;124m        # Use the `epoch_rng` to randomly shuffle the batches\u001b[39m\u001b[38;5;130;01m\\n\u001b[39;00m\u001b[38;5;124m\"\u001b[39m,\n\u001b[1;32m    881\u001b[0m     \u001b[38;5;124m\"\u001b[39m\u001b[38;5;124m        train_loss, train_metrics = jnp.array(0.0), \u001b[39m\u001b[38;5;132;01m{}\u001b[39;00m\u001b[38;5;130;01m\\n\u001b[39;00m\u001b[38;5;124m\"\u001b[39m,\n\u001b[1;32m    882\u001b[0m     \u001b[38;5;124m\"\u001b[39m\u001b[38;5;124m        # YOUR CODE HERE\u001b[39m\u001b[38;5;130;01m\\n\u001b[39;00m\u001b[38;5;124m\"\u001b[39m,\n\u001b[1;32m    883\u001b[0m     \u001b[38;5;124m\"\u001b[39m\u001b[38;5;124m        raise NotImplementedError()\u001b[39m\u001b[38;5;130;01m\\n\u001b[39;00m\u001b[38;5;124m\"\u001b[39m,\n\u001b[1;32m    884\u001b[0m     \u001b[38;5;124m\"\u001b[39m\u001b[38;5;130;01m\\n\u001b[39;00m\u001b[38;5;124m\"\u001b[39m,\n\u001b[1;32m    885\u001b[0m     \u001b[38;5;124m\"\u001b[39m\u001b[38;5;124m        # Evaluate the current set of neural network parameters on the validation set\u001b[39m\u001b[38;5;130;01m\\n\u001b[39;00m\u001b[38;5;124m\"\u001b[39m,\n\u001b[1;32m    886\u001b[0m     \u001b[38;5;124m\"\u001b[39m\u001b[38;5;124m        val_loss, val_metrics = jnp.array(0.0), \u001b[39m\u001b[38;5;132;01m{}\u001b[39;00m\u001b[38;5;130;01m\\n\u001b[39;00m\u001b[38;5;124m\"\u001b[39m,\n\u001b[1;32m    887\u001b[0m     \u001b[38;5;124m\"\u001b[39m\u001b[38;5;124m        # YOUR CODE HERE\u001b[39m\u001b[38;5;130;01m\\n\u001b[39;00m\u001b[38;5;124m\"\u001b[39m,\n\u001b[1;32m    888\u001b[0m     \u001b[38;5;124m\"\u001b[39m\u001b[38;5;124m        raise NotImplementedError()\u001b[39m\u001b[38;5;130;01m\\n\u001b[39;00m\u001b[38;5;124m\"\u001b[39m,\n\u001b[1;32m    889\u001b[0m     \u001b[38;5;124m\"\u001b[39m\u001b[38;5;130;01m\\n\u001b[39;00m\u001b[38;5;124m\"\u001b[39m,\n\u001b[1;32m    890\u001b[0m     \u001b[38;5;124m\"\u001b[39m\u001b[38;5;124m        # Save the model parameters and the validation loss for the current epoch\u001b[39m\u001b[38;5;130;01m\\n\u001b[39;00m\u001b[38;5;124m\"\u001b[39m,\n\u001b[1;32m    891\u001b[0m     \u001b[38;5;124m\"\u001b[39m\u001b[38;5;124m        val_loss_history.append(val_loss)\u001b[39m\u001b[38;5;130;01m\\n\u001b[39;00m\u001b[38;5;124m\"\u001b[39m,\n\u001b[1;32m    892\u001b[0m     \u001b[38;5;124m\"\u001b[39m\u001b[38;5;124m        train_metrics_history.append(train_metrics)\u001b[39m\u001b[38;5;130;01m\\n\u001b[39;00m\u001b[38;5;124m\"\u001b[39m,\n\u001b[1;32m    893\u001b[0m     \u001b[38;5;124m\"\u001b[39m\u001b[38;5;124m        val_metrics_history.append(val_metrics)\u001b[39m\u001b[38;5;130;01m\\n\u001b[39;00m\u001b[38;5;124m\"\u001b[39m,\n\u001b[1;32m    894\u001b[0m     \u001b[38;5;124m\"\u001b[39m\u001b[38;5;124m        states_history.append(states)\u001b[39m\u001b[38;5;130;01m\\n\u001b[39;00m\u001b[38;5;124m\"\u001b[39m,\n\u001b[1;32m    895\u001b[0m     \u001b[38;5;124m\"\u001b[39m\u001b[38;5;130;01m\\n\u001b[39;00m\u001b[38;5;124m\"\u001b[39m,\n\u001b[1;32m    896\u001b[0m     \u001b[38;5;124m\"\u001b[39m\u001b[38;5;124m        if verbose:\u001b[39m\u001b[38;5;130;01m\\n\u001b[39;00m\u001b[38;5;124m\"\u001b[39m,\n\u001b[1;32m    897\u001b[0m     \u001b[38;5;124m\"\u001b[39m\u001b[38;5;124m            pbar.set_description(\u001b[39m\u001b[38;5;130;01m\\n\u001b[39;00m\u001b[38;5;124m\"\u001b[39m,\n\u001b[1;32m    898\u001b[0m     \u001b[38;5;124m\"\u001b[39m\u001b[38;5;124m                \u001b[39m\u001b[38;5;130;01m\\\"\u001b[39;00m\u001b[38;5;124mEpoch: \u001b[39m\u001b[38;5;132;01m%d\u001b[39;00m\u001b[38;5;124m, lr: \u001b[39m\u001b[38;5;132;01m%.6f\u001b[39;00m\u001b[38;5;124m, train loss: \u001b[39m\u001b[38;5;132;01m%.7f\u001b[39;00m\u001b[38;5;124m, val loss: \u001b[39m\u001b[38;5;132;01m%.7f\u001b[39;00m\u001b[38;5;130;01m\\\"\u001b[39;00m\u001b[38;5;130;01m\\n\u001b[39;00m\u001b[38;5;124m\"\u001b[39m,\n\u001b[1;32m    899\u001b[0m     \u001b[38;5;124m\"\u001b[39m\u001b[38;5;124m                \u001b[39m\u001b[38;5;124m%\u001b[39m\u001b[38;5;124m (epoch, train_metrics[\u001b[39m\u001b[38;5;130;01m\\\"\u001b[39;00m\u001b[38;5;124mlr_mass_matrix_nn\u001b[39m\u001b[38;5;130;01m\\\"\u001b[39;00m\u001b[38;5;124m], train_loss, val_loss)\u001b[39m\u001b[38;5;130;01m\\n\u001b[39;00m\u001b[38;5;124m\"\u001b[39m,\n\u001b[1;32m    900\u001b[0m     \u001b[38;5;124m\"\u001b[39m\u001b[38;5;124m            )\u001b[39m\u001b[38;5;130;01m\\n\u001b[39;00m\u001b[38;5;124m\"\u001b[39m,\n\u001b[1;32m    901\u001b[0m     \u001b[38;5;124m\"\u001b[39m\u001b[38;5;130;01m\\n\u001b[39;00m\u001b[38;5;124m\"\u001b[39m,\n\u001b[1;32m    902\u001b[0m     \u001b[38;5;124m\"\u001b[39m\u001b[38;5;124m    # array of shape (num_epochs, ) with the validation losses of each epoch\u001b[39m\u001b[38;5;130;01m\\n\u001b[39;00m\u001b[38;5;124m\"\u001b[39m,\n\u001b[1;32m    903\u001b[0m     \u001b[38;5;124m\"\u001b[39m\u001b[38;5;124m    val_loss_history = jnp.array(val_loss_history)\u001b[39m\u001b[38;5;130;01m\\n\u001b[39;00m\u001b[38;5;124m\"\u001b[39m,\n\u001b[1;32m    904\u001b[0m     \u001b[38;5;124m\"\u001b[39m\u001b[38;5;130;01m\\n\u001b[39;00m\u001b[38;5;124m\"\u001b[39m,\n\u001b[1;32m    905\u001b[0m     \u001b[38;5;124m\"\u001b[39m\u001b[38;5;124m    return val_loss_history, train_metrics_history, val_metrics_history, states_history\u001b[39m\u001b[38;5;124m\"\u001b[39m\n\u001b[1;32m    906\u001b[0m    ]\n\u001b[1;32m    907\u001b[0m   },\n\u001b[1;32m    908\u001b[0m   {\n\u001b[1;32m    909\u001b[0m    \u001b[38;5;124m\"\u001b[39m\u001b[38;5;124mcell_type\u001b[39m\u001b[38;5;124m\"\u001b[39m: \u001b[38;5;124m\"\u001b[39m\u001b[38;5;124mcode\u001b[39m\u001b[38;5;124m\"\u001b[39m,\n\u001b[1;32m    910\u001b[0m    \u001b[38;5;124m\"\u001b[39m\u001b[38;5;124mexecution_count\u001b[39m\u001b[38;5;124m\"\u001b[39m: null,\n\u001b[1;32m    911\u001b[0m    \u001b[38;5;124m\"\u001b[39m\u001b[38;5;124mid\u001b[39m\u001b[38;5;124m\"\u001b[39m: \u001b[38;5;124m\"\u001b[39m\u001b[38;5;124m73d9da02\u001b[39m\u001b[38;5;124m\"\u001b[39m,\n\u001b[1;32m    912\u001b[0m    \u001b[38;5;124m\"\u001b[39m\u001b[38;5;124mmetadata\u001b[39m\u001b[38;5;124m\"\u001b[39m: {},\n\u001b[1;32m    913\u001b[0m    \u001b[38;5;124m\"\u001b[39m\u001b[38;5;124moutputs\u001b[39m\u001b[38;5;124m\"\u001b[39m: [],\n\u001b[1;32m    914\u001b[0m    \u001b[38;5;124m\"\u001b[39m\u001b[38;5;124msource\u001b[39m\u001b[38;5;124m\"\u001b[39m: []\n\u001b[1;32m    915\u001b[0m   }\n\u001b[1;32m    916\u001b[0m  ],\n\u001b[1;32m    917\u001b[0m  \u001b[38;5;124m\"\u001b[39m\u001b[38;5;124mmetadata\u001b[39m\u001b[38;5;124m\"\u001b[39m: {\n\u001b[1;32m    918\u001b[0m   \u001b[38;5;124m\"\u001b[39m\u001b[38;5;124mkernelspec\u001b[39m\u001b[38;5;124m\"\u001b[39m: {\n\u001b[1;32m    919\u001b[0m    \u001b[38;5;124m\"\u001b[39m\u001b[38;5;124mdisplay_name\u001b[39m\u001b[38;5;124m\"\u001b[39m: \u001b[38;5;124m\"\u001b[39m\u001b[38;5;124mPython 3 (ipykernel)\u001b[39m\u001b[38;5;124m\"\u001b[39m,\n\u001b[1;32m    920\u001b[0m    \u001b[38;5;124m\"\u001b[39m\u001b[38;5;124mlanguage\u001b[39m\u001b[38;5;124m\"\u001b[39m: \u001b[38;5;124m\"\u001b[39m\u001b[38;5;124mpython\u001b[39m\u001b[38;5;124m\"\u001b[39m,\n\u001b[1;32m    921\u001b[0m    \u001b[38;5;124m\"\u001b[39m\u001b[38;5;124mname\u001b[39m\u001b[38;5;124m\"\u001b[39m: \u001b[38;5;124m\"\u001b[39m\u001b[38;5;124mpython3\u001b[39m\u001b[38;5;124m\"\u001b[39m\n\u001b[1;32m    922\u001b[0m   },\n\u001b[1;32m    923\u001b[0m   \u001b[38;5;124m\"\u001b[39m\u001b[38;5;124mlanguage_info\u001b[39m\u001b[38;5;124m\"\u001b[39m: {\n\u001b[1;32m    924\u001b[0m    \u001b[38;5;124m\"\u001b[39m\u001b[38;5;124mcodemirror_mode\u001b[39m\u001b[38;5;124m\"\u001b[39m: {\n\u001b[1;32m    925\u001b[0m     \u001b[38;5;124m\"\u001b[39m\u001b[38;5;124mname\u001b[39m\u001b[38;5;124m\"\u001b[39m: \u001b[38;5;124m\"\u001b[39m\u001b[38;5;124mipython\u001b[39m\u001b[38;5;124m\"\u001b[39m,\n\u001b[1;32m    926\u001b[0m     \u001b[38;5;124m\"\u001b[39m\u001b[38;5;124mversion\u001b[39m\u001b[38;5;124m\"\u001b[39m: \u001b[38;5;241m3\u001b[39m\n\u001b[1;32m    927\u001b[0m    },\n\u001b[1;32m    928\u001b[0m    \u001b[38;5;124m\"\u001b[39m\u001b[38;5;124mfile_extension\u001b[39m\u001b[38;5;124m\"\u001b[39m: \u001b[38;5;124m\"\u001b[39m\u001b[38;5;124m.py\u001b[39m\u001b[38;5;124m\"\u001b[39m,\n\u001b[1;32m    929\u001b[0m    \u001b[38;5;124m\"\u001b[39m\u001b[38;5;124mmimetype\u001b[39m\u001b[38;5;124m\"\u001b[39m: \u001b[38;5;124m\"\u001b[39m\u001b[38;5;124mtext/x-python\u001b[39m\u001b[38;5;124m\"\u001b[39m,\n\u001b[1;32m    930\u001b[0m    \u001b[38;5;124m\"\u001b[39m\u001b[38;5;124mname\u001b[39m\u001b[38;5;124m\"\u001b[39m: \u001b[38;5;124m\"\u001b[39m\u001b[38;5;124mpython\u001b[39m\u001b[38;5;124m\"\u001b[39m,\n\u001b[1;32m    931\u001b[0m    \u001b[38;5;124m\"\u001b[39m\u001b[38;5;124mnbconvert_exporter\u001b[39m\u001b[38;5;124m\"\u001b[39m: \u001b[38;5;124m\"\u001b[39m\u001b[38;5;124mpython\u001b[39m\u001b[38;5;124m\"\u001b[39m,\n\u001b[1;32m    932\u001b[0m    \u001b[38;5;124m\"\u001b[39m\u001b[38;5;124mpygments_lexer\u001b[39m\u001b[38;5;124m\"\u001b[39m: \u001b[38;5;124m\"\u001b[39m\u001b[38;5;124mipython3\u001b[39m\u001b[38;5;124m\"\u001b[39m,\n\u001b[1;32m    933\u001b[0m    \u001b[38;5;124m\"\u001b[39m\u001b[38;5;124mversion\u001b[39m\u001b[38;5;124m\"\u001b[39m: \u001b[38;5;124m\"\u001b[39m\u001b[38;5;124m3.10.9\u001b[39m\u001b[38;5;124m\"\u001b[39m\n\u001b[1;32m    934\u001b[0m   }\n\u001b[1;32m    935\u001b[0m  },\n\u001b[1;32m    936\u001b[0m  \u001b[38;5;124m\"\u001b[39m\u001b[38;5;124mnbformat\u001b[39m\u001b[38;5;124m\"\u001b[39m: \u001b[38;5;241m4\u001b[39m,\n\u001b[1;32m    937\u001b[0m  \u001b[38;5;124m\"\u001b[39m\u001b[38;5;124mnbformat_minor\u001b[39m\u001b[38;5;124m\"\u001b[39m: \u001b[38;5;241m5\u001b[39m\n\u001b[1;32m    938\u001b[0m }\n",
      "\u001b[0;31mNotImplementedError\u001b[0m: "
     ]
    }
   ],
   "source": [
    "# import load_datasets from lnn_training.ipynb\n",
    "from ipynb.fs.full.lnn_training import load_datasets\n",
    "\n",
    "_rng = jax.random.PRNGKey(seed=101)\n",
    "\n",
    "# load the dataset\n",
    "_train_ds, _val_ds = load_datasets(\n",
    "    Path(\"datasets\") / \"dataset_double_pendulum_dynamics.npz\",\n",
    "    _rng,\n",
    ")\n",
    "\n",
    "print(\n",
    "    f\"The training and validation set contain {_train_ds['dt_ss'].shape[0]} \"\n",
    "    f\"and {_val_ds['dt_ss'].shape[0]} samples respectively.\"\n",
    ")"
   ]
  },
  {
   "cell_type": "markdown",
   "id": "d30cb2cb",
   "metadata": {
    "deletable": false,
    "editable": false,
    "nbgrader": {
     "cell_type": "markdown",
     "checksum": "236ff7e8d3a43b6ced7a45469b1d7174",
     "grade": false,
     "grade_id": "cell-38e8620497111fd5",
     "locked": true,
     "schema_version": 3,
     "solution": false,
     "task": false
    }
   },
   "source": [
    "## Creating the learning rate scheduler (2p)\n",
    "\n",
    "For this assignment, we ask you to implement a cosine decay learning rate scheduler with warmup. Namely, a scheduler will adjust the learning rate within gradient descent optimization as a function of the progress (e.g. steps or epochs) of the training. As already mentioned, this scheduler consists of two main components:\n",
    "\n",
    "1. **Warmup:** During the warmup phase, the learning rate is linearly increased for a specified number of epochs until it reaches a certain base learning rate. The purpose of this warmup phase is to provide stability to the optimization procedure, as the neural network weights are still far away from their optimal values.\n",
    "\n",
    "2. **Cosine decay:** Cosine decay scheduling causes a slow decrease of the learning rate. This is useful to gradually increase the fine-tuning of the weights.\n",
    "\n",
    "Please implement the factor function `create_learning_rate_fn`, which should produce a _learning rate function_. Given the index of the current step, this `learning_rate_fn` should return the applicable learning rate."
   ]
  },
  {
   "cell_type": "code",
   "execution_count": null,
   "id": "4217744e",
   "metadata": {
    "deletable": false,
    "editable": false,
    "nbgrader": {
     "cell_type": "code",
     "checksum": "8b37fb306802f1d7f89736c9d0bd21c3",
     "grade": true,
     "grade_id": "cell-a8e373d1c2b0bf69",
     "locked": true,
     "points": 2,
     "schema_version": 3,
     "solution": false,
     "task": false
    }
   },
   "outputs": [],
   "source": [
    "# DO NOT REMOVE OR MODIFY THIS CELL\n",
    "\n",
    "# import create_learning_rate_fn from lnn_training.ipynb\n",
    "from ipynb.fs.full.lnn_training import create_learning_rate_fn\n",
    "\n",
    "_num_epochs = 20\n",
    "_warmup_epochs = 5\n",
    "_base_lr = 1e-2\n",
    "_steps_per_epoch = 100\n",
    "\n",
    "# call the factory function for the learning rate scheduler\n",
    "_learning_rate_fn = create_learning_rate_fn(\n",
    "    _num_epochs, _steps_per_epoch, _base_lr, _warmup_epochs\n",
    ")\n",
    "\n",
    "# evaluate the learning rate at each step\n",
    "_steps = jnp.arange(0, _num_epochs * _steps_per_epoch)\n",
    "_lrs = vmap(_learning_rate_fn, 0, 0)(_steps)\n",
    "\n",
    "# plot the learning rate vs. training steps\n",
    "_fig = plt.figure(figsize=(6.4, 3.5))\n",
    "plt.plot(_steps, _lrs)\n",
    "plt.xlabel(\"Training steps\")\n",
    "plt.ylabel(\"Learning rate\")\n",
    "plt.grid(True)\n",
    "plt.show()\n"
   ]
  },
  {
   "cell_type": "markdown",
   "id": "f2d1fbae",
   "metadata": {
    "deletable": false,
    "editable": false,
    "nbgrader": {
     "cell_type": "markdown",
     "checksum": "547c6f65d84a75ced836a19027d36048",
     "grade": false,
     "grade_id": "cell-32994a1facffe1ce",
     "locked": true,
     "schema_version": 3,
     "solution": false,
     "task": false
    }
   },
   "source": [
    "## Initializing the train states (1p)\n",
    "\n",
    "Next in `initialize_train_states`, we initialize the neural network weights, the optimizer and save both in the Flax `TrainState` object:\n",
    "\n",
    "1. For initializing the neural network weights, you can call the `init` method of the neural network object and as arguments provide a PRNG key and dummy inputs.\n",
    "\n",
    "2. As an optimizer, we use the _AdamW_ optimizer, which is an Adam optimizer with weight decay. Remember to pass your custom `learning_rate_fn` to the `optax.adamw` method."
   ]
  },
  {
   "cell_type": "code",
   "execution_count": null,
   "id": "048a2ef2",
   "metadata": {
    "deletable": false,
    "editable": false,
    "nbgrader": {
     "cell_type": "code",
     "checksum": "8a6e6b18fed1d22f19ded99358d77d64",
     "grade": true,
     "grade_id": "cell-6232941c29efd4bc",
     "locked": true,
     "points": 1,
     "schema_version": 3,
     "solution": false,
     "task": false
    }
   },
   "outputs": [],
   "source": [
    "# DO NOT REMOVE OR MODIFY THIS CELL\n",
    "\n",
    "# import initialize_train_states from lnn_training.ipynb\n",
    "from ipynb.fs.full.lnn_training import initialize_train_states\n",
    "\n",
    "_states = initialize_train_states(_rng, _learning_rate_fn)\n",
    "\n",
    "print(\"MassMatrixNN TrainState:\\n\", _states[\"MassMatrixNN\"])\n",
    "print(\"PotentialEnergyNN TrainState:\\n\", _states[\"PotentialEnergyNN\"])"
   ]
  },
  {
   "cell_type": "markdown",
   "id": "c71e5f40",
   "metadata": {
    "deletable": false,
    "editable": false,
    "nbgrader": {
     "cell_type": "markdown",
     "checksum": "151b183a684a44f930e39f603e4c64bd",
     "grade": false,
     "grade_id": "cell-ea72d73a29239ff9",
     "locked": true,
     "schema_version": 3,
     "solution": false,
     "task": false
    }
   },
   "source": [
    "## Mean Squared Error (1p)\n",
    "\n",
    "Please implement the `mse_loss_fn`, which shall compute the Mean Squared Error (MSE) between an array of predictions and an array of targets (i.e. labels)."
   ]
  },
  {
   "cell_type": "code",
   "execution_count": null,
   "id": "d876d4c0",
   "metadata": {
    "deletable": false,
    "editable": false,
    "nbgrader": {
     "cell_type": "code",
     "checksum": "b98df1eac0132bc36501d4f6679eecf9",
     "grade": true,
     "grade_id": "cell-7ad89f9813d852dd",
     "locked": true,
     "points": 1,
     "schema_version": 3,
     "solution": false,
     "task": false
    }
   },
   "outputs": [],
   "source": [
    "# DO NOT REMOVE OR MODIFY THIS CELL\n",
    "\n",
    "# import mse_loss_fn from lnn_training.ipynb\n",
    "from ipynb.fs.full.lnn_training import mse_loss_fn\n",
    "\n",
    "_rng1, _rng2 = random.split(_rng)\n",
    "\n",
    "_pred = random.randint(_rng1, shape=(4, 6), minval=0, maxval=10)\n",
    "_target = random.randint(_rng2, shape=(4, 6), minval=0, maxval=10)\n",
    "print(\"Prediction:\\n\", _pred)\n",
    "print(\"Target:\\n\", _target)\n",
    "\n",
    "_mse = mse_loss_fn(_pred, _target)\n",
    "print(\"MSE:\", _mse)\n",
    "\n",
    "# check that all dimensions have been reduced\n",
    "assert _mse.shape == ()\n"
   ]
  },
  {
   "cell_type": "markdown",
   "id": "e427788e",
   "metadata": {
    "deletable": false,
    "editable": false,
    "nbgrader": {
     "cell_type": "markdown",
     "checksum": "8c8bed92e7f51374bdb0fdc64b0ddc08",
     "grade": false,
     "grade_id": "cell-1ae302a78835cad3",
     "locked": true,
     "schema_version": 3,
     "solution": false,
     "task": false
    }
   },
   "source": [
    "## Vectorization of the discrete-time forward dynamics (0.5p)\n",
    "\n",
    "For training the neural network, we need to predict the link angles and the angular velocities at the next timestep for a **batch** of data. Although the function `discrete_forward_dynamics` in the `lnn.ipynb` notebook is only formulated for a single datapoint, we can use `jax.vmap` for vectorization. Please implement the `discrete_forward_dynamics_vmapped`, which shall have the following signature:\n",
    "\n",
    "```python\n",
    "th_next_pred_ss, th_d_next_pred_ss, th_dd_ss = discrete_forward_dynamics_vmapped(\n",
    "    mass_matrix_nn_params,\n",
    "    potential_energy_nn_params,\n",
    "    dt_ss,\n",
    "    th_curr_ss,\n",
    "    th_d_curr_ss,\n",
    "    tau_ss,\n",
    ")\n",
    "```\n",
    "where `dt_ss` has the shape (N, ), `th_curr_ss` has the shape (N, 2), `th_d_curr_ss` has the shape (N, 2),\n",
    "`tau_ss` has the shape (N, 2), `th_next_pred_ss` has the shape (N, 2), `th_d_next_pred_ss` has the shape (N, 2)\n",
    "`th_dd_ss` has the shape (N, 2). N is the number of samples in the batch."
   ]
  },
  {
   "cell_type": "code",
   "execution_count": null,
   "id": "df940716",
   "metadata": {
    "deletable": false,
    "editable": false,
    "nbgrader": {
     "cell_type": "code",
     "checksum": "99173761e68b07041925fa2e0c746f89",
     "grade": true,
     "grade_id": "cell-8e5b9740ff4cfa2c",
     "locked": true,
     "points": 0.5,
     "schema_version": 3,
     "solution": false,
     "task": false
    }
   },
   "outputs": [],
   "source": [
    "# DO NOT REMOVE OR MODIFY THIS CELL\n",
    "\n",
    "# import discrete_forward_dynamics_vmapped from lnn_training.ipynb\n",
    "from ipynb.fs.full.lnn_training import discrete_forward_dynamics_vmapped\n",
    "\n",
    "_N = 10\n",
    "_dt_ss = 1e-2 * jnp.ones((_N,))\n",
    "_th_curr_ss = jnp.zeros((_N, 2))\n",
    "_th_curr_ss = _th_curr_ss.at[:, 0].set(jnp.linspace(-jnp.pi, jnp.pi, _N))\n",
    "_th_curr_ss = _th_curr_ss.at[:, 1].set(jnp.linspace(jnp.pi, -jnp.pi, _N))\n",
    "_th_d_curr_ss = jnp.pi * jnp.ones((_N, 2))\n",
    "_tau_ss = jnp.zeros((_N, 2))\n",
    "\n",
    "# neural network params\n",
    "_mass_matrix_nn_params = _states[\"MassMatrixNN\"].params\n",
    "_potential_energy_nn_params = _states[\"PotentialEnergyNN\"].params\n",
    "\n",
    "_th_next_pred_ss, _th_d_next_pred_ss, _th_dd_ss = discrete_forward_dynamics_vmapped(\n",
    "    _mass_matrix_nn_params,\n",
    "    _potential_energy_nn_params,\n",
    "    _dt_ss,\n",
    "    _th_curr_ss,\n",
    "    _th_d_curr_ss,\n",
    "    _tau_ss,\n",
    ")\n",
    "\n",
    "print(\"Computed th_next_pred_ss:\\n\", _th_next_pred_ss)\n",
    "print(\"Computed th_d_next_pred_ss:\\n\", _th_d_next_pred_ss)\n",
    "print(\"Computed th_dd_ss:\\n\", _th_dd_ss)\n",
    "\n",
    "assert _th_next_pred_ss.shape == (_N, 2)\n",
    "assert _th_d_next_pred_ss.shape == (_N, 2)\n",
    "assert _th_dd_ss.shape == (_N, 2)\n"
   ]
  },
  {
   "cell_type": "markdown",
   "id": "1381a637",
   "metadata": {
    "deletable": false,
    "editable": false,
    "nbgrader": {
     "cell_type": "markdown",
     "checksum": "fc4a884f7b86f08500052ce0e50ed282",
     "grade": false,
     "grade_id": "cell-9090cde50e4f247b",
     "locked": true,
     "schema_version": 3,
     "solution": false,
     "task": false
    }
   },
   "source": [
    "## Training and evaluation\n",
    "\n",
    "Implement the execution of one training and evaluation step (i.e. processing of one minibatch) into the `train_step` and `eval_step` functions respectively. The `train_epoch` and the `eval_model` functions are already complete, but it is still worth for you to investigate their purpose and functionality. \n",
    "\n",
    "Below, we give you an overview of the necessary steps involved in one training epoch:\n",
    "\n",
    "- We first randomly shuffle the order of the samples in the training set. Then, we divide the training set into many minibatches (all done in `train_epoch`).\n",
    "\n",
    "- For each batch, we send the inputs through the LNN and evaluate the outputs of the LNN againts the labels for that batch (done in `train_step`).\n",
    "\n",
    "- The MSE loss function called in `loss_fn` will provide us with a scalar loss metric of how well the LNN prediction matches with the target.\n",
    "\n",
    "- In the `train_step`, we trace the gradients of the loss with respect to the neural network parameters backwards through the LNN.\n",
    "\n",
    "- Then (again in `train_step`), `AdamW` will optimize the parameters of both neural networks using the computed gradients and considering the current learning rate. The current learning rate is provided by the learning rate scheduler, which is evaluated at the current step index (`TrainState.step`).\n",
    "\n",
    "- Finally, an epoch is considered to be completed, when all samples of the training set have been processed **exactly** once.\n",
    "\n",
    "**Hint:** to access both the loss and the gradient of the loss with respect to the network parameters, apply the `jax.value_and_grad` on the `loss_fn`. "
   ]
  },
  {
   "cell_type": "markdown",
   "id": "1450fa5a",
   "metadata": {
    "deletable": false,
    "editable": false,
    "nbgrader": {
     "cell_type": "markdown",
     "checksum": "8d4a36de11b58c79686579156796994e",
     "grade": false,
     "grade_id": "cell-4188d90aeca08c59",
     "locked": true,
     "schema_version": 3,
     "solution": false,
     "task": false
    }
   },
   "source": [
    "## Training loop: putting everything together\n",
    "\n",
    "Please implement the full training loop into the function `run_lnn_training` in the `lnn_training.ipynb` notebook. \n",
    "\n",
    "In this training loop, we will repeat `train_epoch` multiple times (i.e. repeat the neural network parameter optimization for multiple epochs). For each epoch, we run `train_epoch` with a newly (randomly) shuffled training set, evaluate the freshly optimized neural network parameters on the validation set and save all data as a history, such that we can later track the training progress and identify the epoch with the lowest loss on the validation set.\n",
    "\n",
    "\n",
    "You will need to implement the following items in `run_lnn_training`: first, you need to initialize the learning rate scheduler. Then, for each epoch of the training loop, you should:\n",
    "\n",
    "1. Split the PRNG key for shuffling the training set for the current epoch.\n",
    "\n",
    "2. Call the `train_epoch` function, which will return the training loss, some metrics on the training set and the freshly optimized training states containing the neural network parameters.\n",
    "\n",
    "3. Call the `eval_model` function, which will return the validation loss and the validation metrics for the current training state."
   ]
  },
  {
   "cell_type": "markdown",
   "id": "39989911",
   "metadata": {
    "deletable": false,
    "editable": false,
    "nbgrader": {
     "cell_type": "markdown",
     "checksum": "e9ce86aac9afb802fad371734153493e",
     "grade": false,
     "grade_id": "cell-b39fec3d11f4e722",
     "locked": true,
     "schema_version": 3,
     "solution": false,
     "task": false
    }
   },
   "source": [
    "## Executing the training loop\n",
    "\n",
    "Now, you can ahead and run the training. We already provide you with a base set of hyperparameters, which in combination with a correct implementation and a suitable dataset should lead to decent performance. However, you are free to tune the hyperparameters yourself further to improve performance.\n",
    "\n",
    "As the training could / should take longer, we advise you to take a ☕ break or to start already with one of the other tasks in the meantime."
   ]
  },
  {
   "cell_type": "code",
   "execution_count": null,
   "id": "3d66e6bc",
   "metadata": {},
   "outputs": [],
   "source": [
    "# training hyperparameters\n",
    "# these default values should already be working decently\n",
    "# if you want to improve performance further, you can try fine-tuning these hyperparameters\n",
    "\n",
    "# how many epochs to train for\n",
    "num_epochs = 250\n",
    "# base learning rate after warmup. Then, cosine decay will decrease the learning rate again\n",
    "base_lr = 7e-4\n",
    "# the learning rate will be linearly increase for `warmup_epochs` before reaching the `base_lr`\n",
    "warmup_epochs = 10\n",
    "# number of datapoints in one batch\n",
    "batch_size = 250\n",
    "# regularization / penalty on the magnitude of the NN weights\n",
    "weight_decay = 0e0"
   ]
  },
  {
   "cell_type": "code",
   "execution_count": null,
   "id": "4e0eb120",
   "metadata": {
    "deletable": false,
    "nbgrader": {
     "cell_type": "code",
     "checksum": "ceb4d62680d53de04c4f451d45a7fee2",
     "grade": false,
     "grade_id": "cell-b6b00c6258dcd124",
     "locked": false,
     "schema_version": 3,
     "solution": true,
     "task": false
    }
   },
   "outputs": [],
   "source": [
    "# import run_lnn_training from lnn_training.ipynb\n",
    "from ipynb.fs.full.lnn_training import run_lnn_training\n",
    "\n",
    "# initialize the PRNG key at seed=0\n",
    "rng = None\n",
    "# YOUR CODE HERE\n",
    "raise NotImplementedError()\n",
    "\n",
    "# split of PRNG keys\n",
    "# the 1st is used for training,\n",
    "# the 2nd to split the dataset\n",
    "# YOUR CODE HERE\n",
    "raise NotImplementedError()\n",
    "\n",
    "# load the dataset\n",
    "train_ds, val_ds = load_datasets(\n",
    "    Path(\"datasets\") / \"dataset_double_pendulum_dynamics.npz\",\n",
    "    dataset_split_rng,\n",
    ")\n",
    "\n",
    "if not AUTOGRADING:\n",
    "    # run the training calling `run_lnn_training`\n",
    "    val_loss_history = []\n",
    "    train_metrics_history = []\n",
    "    val_metrics_history = []\n",
    "    states_history = []\n",
    "    # YOUR CODE HERE\n",
    "    raise NotImplementedError()"
   ]
  },
  {
   "cell_type": "code",
   "execution_count": null,
   "id": "53eb06db",
   "metadata": {
    "deletable": false,
    "editable": false,
    "nbgrader": {
     "cell_type": "code",
     "checksum": "09db20cf1857d0f0640a53290e1bb9b9",
     "grade": false,
     "grade_id": "cell-344cdd065c6225fc",
     "locked": true,
     "schema_version": 3,
     "solution": false,
     "task": false
    }
   },
   "outputs": [],
   "source": [
    "# visualization of the validation loss vs. epochs\n",
    "if not AUTOGRADING:\n",
    "    plot_lnn_training_convergence(\n",
    "        val_loss_history,\n",
    "        train_metrics_history,\n",
    "        val_metrics_history,\n",
    "        show=True,\n",
    "        filepath=str(outputs_dir / \"task_2c-3_lnn_training_convergence.pdf\"),\n",
    "    )"
   ]
  },
  {
   "cell_type": "markdown",
   "id": "1855f63a",
   "metadata": {
    "deletable": false,
    "editable": false,
    "nbgrader": {
     "cell_type": "markdown",
     "checksum": "8b986fbbd2c3b4396ba23eba6b3a7abd",
     "grade": false,
     "grade_id": "cell-226c1d240009383f",
     "locked": true,
     "schema_version": 3,
     "solution": false,
     "task": false
    }
   },
   "source": [
    "After the training loop is complete, we evaluate the performance of the neural network. It is important to emphasize that the best performance on the validation set is not necessarily always achieved during the last epoch of the training (e.g. overfitting, noise etc.). Therefore, we track the validation losses throughout the entire training, which allows us to identify the best epoch. "
   ]
  },
  {
   "cell_type": "code",
   "execution_count": null,
   "id": "7ef99c1d",
   "metadata": {
    "deletable": false,
    "nbgrader": {
     "cell_type": "code",
     "checksum": "0b7a89bba7d0ff456dea275883b2ade3",
     "grade": false,
     "grade_id": "cell-355eb31771ab4317",
     "locked": false,
     "schema_version": 3,
     "solution": true,
     "task": false
    }
   },
   "outputs": [],
   "source": [
    "if not AUTOGRADING:\n",
    "    # extract the best epoch with the lowest validation loss\n",
    "    best_epoch = 0\n",
    "    # YOUR CODE HERE\n",
    "    raise NotImplementedError()\n",
    "    best_val_loss = val_loss_history[best_epoch]\n",
    "    best_val_metrics = val_metrics_history[best_epoch]\n",
    "    best_states = states_history[best_epoch]\n",
    "\n",
    "    print(\n",
    "        \"Found lowest validation loss of\",\n",
    "        best_val_loss,\n",
    "        \"at epoch\",\n",
    "        best_epoch,\n",
    "        \"with metrics\\n\",\n",
    "        best_val_metrics,\n",
    "    )"
   ]
  },
  {
   "cell_type": "markdown",
   "id": "3f7b5742",
   "metadata": {
    "deletable": false,
    "editable": false,
    "nbgrader": {
     "cell_type": "markdown",
     "checksum": "0dabf67072871d1ea7ec6d261a5ee453",
     "grade": false,
     "grade_id": "cell-cecc3c8d3b947b9a",
     "locked": true,
     "schema_version": 3,
     "solution": false,
     "task": false
    }
   },
   "source": [
    "Now, we save the neural network parameters, which are stored in the variable `best_states`, to the path `statedicts/task_2c_lagrangian_nn_params.pkl`."
   ]
  },
  {
   "cell_type": "code",
   "execution_count": null,
   "id": "a8347e69",
   "metadata": {
    "deletable": false,
    "editable": false,
    "nbgrader": {
     "cell_type": "code",
     "checksum": "e076f9d3aeadf7cafba7f5c28eb91d35",
     "grade": false,
     "grade_id": "cell-3690d02e2ab4803f",
     "locked": true,
     "schema_version": 3,
     "solution": false,
     "task": false
    }
   },
   "outputs": [],
   "source": [
    "if not AUTOGRADING:\n",
    "    # folder where to save neural network parameters\n",
    "    statedict_dir = Path(\"statedicts\")\n",
    "    statedict_dir.mkdir(exist_ok=True, parents=True)\n",
    "\n",
    "    # Save the neural network parameters\n",
    "    with open(str(statedict_dir / \"task_2c_lagrangian_nn_params.pkl\"), \"wb\") as f:\n",
    "        nn_params = {\n",
    "            \"MassMatrixNN\": best_states[\"MassMatrixNN\"].params,\n",
    "            \"PotentialEnergyNN\": best_states[\"PotentialEnergyNN\"].params,\n",
    "        }\n",
    "        dill.dump(nn_params, f)"
   ]
  },
  {
   "cell_type": "markdown",
   "id": "a190ca65",
   "metadata": {
    "deletable": false,
    "editable": false,
    "nbgrader": {
     "cell_type": "markdown",
     "checksum": "a9d651c87c5052815a07981b63d7c853",
     "grade": false,
     "grade_id": "cell-553d9922461ce845",
     "locked": true,
     "schema_version": 3,
     "solution": false,
     "task": false
    }
   },
   "source": [
    "## Visualizing the prediction performance\n",
    "\n",
    "We predict with the trained LNN the discrete-time state transitions on the validation set and visualize the result in a polar plot with the link angular velocity $\\dot{\\theta}$ on the radial axis and the color visualizing the absolute value of the link angular acceleration prediction error $| \\hat{\\ddot{\\theta}} - \\ddot{\\theta} |$."
   ]
  },
  {
   "cell_type": "code",
   "execution_count": null,
   "id": "a7274fa2",
   "metadata": {
    "deletable": false,
    "editable": false,
    "nbgrader": {
     "cell_type": "code",
     "checksum": "f8094c9c4adebeb27c5435cce44d1560",
     "grade": false,
     "grade_id": "cell-a71e720527844945",
     "locked": true,
     "schema_version": 3,
     "solution": false,
     "task": false
    }
   },
   "outputs": [],
   "source": [
    "if not AUTOGRADING:\n",
    "    # plot the prediction error of the best model\n",
    "    # Compute the estimated link angles and velocities\n",
    "    th_next_pred, th_d_next_pred, th_dd_pred = discrete_forward_dynamics_vmapped(\n",
    "        best_states[\"MassMatrixNN\"].params,\n",
    "        best_states[\"PotentialEnergyNN\"].params,\n",
    "        val_ds[\"dt_ss\"],\n",
    "        val_ds[\"th_curr_ss\"],\n",
    "        val_ds[\"th_d_curr_ss\"],\n",
    "        val_ds[\"tau_ss\"],\n",
    "    )\n",
    "    preds = {\"th_next_ss\": th_next_pred, \"th_d_next_ss\": th_d_next_pred}\n",
    "\n",
    "    # plot the predictions\n",
    "    plot_link_angular_acceleration_prediction_error(\n",
    "        val_ds,\n",
    "        preds,\n",
    "        filepath=str(\n",
    "            outputs_dir / \"task_2c-3_link_angular_accelerations_prediction_error.pdf\"\n",
    "        ),\n",
    "    )"
   ]
  },
  {
   "cell_type": "code",
   "execution_count": null,
   "id": "c8ebb02a",
   "metadata": {},
   "outputs": [],
   "source": []
  }
 ],
 "metadata": {
  "kernelspec": {
   "display_name": "Python 3 (ipykernel)",
   "language": "python",
   "name": "python3"
  },
  "language_info": {
   "codemirror_mode": {
    "name": "ipython",
    "version": 3
   },
   "file_extension": ".py",
   "mimetype": "text/x-python",
   "name": "python",
   "nbconvert_exporter": "python",
   "pygments_lexer": "ipython3",
   "version": "3.10.9"
  }
 },
 "nbformat": 4,
 "nbformat_minor": 5
}
